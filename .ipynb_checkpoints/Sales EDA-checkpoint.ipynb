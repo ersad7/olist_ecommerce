{
 "cells": [
  {
   "cell_type": "markdown",
   "metadata": {
    "hideCode": false,
    "hidePrompt": false
   },
   "source": [
    "\n",
    "# Sales"
   ]
  },
  {
   "cell_type": "code",
   "execution_count": 1,
   "metadata": {},
   "outputs": [],
   "source": [
    "import pandas as pd\n",
    "import numpy as np\n",
    "import matplotlib.pyplot as plt \n",
    "import plotly.express as px #new high-level plotly visualization  library, that exposes a simple syntax for complex chart\n",
    "import seaborn as sns\n",
    "%matplotlib inline \n",
    "\n",
    "import datetime\n",
    "import warnings\n",
    "warnings.simplefilter(action='ignore', category=FutureWarning)"
   ]
  },
  {
   "cell_type": "code",
   "execution_count": 2,
   "metadata": {},
   "outputs": [],
   "source": [
    "df = pd.read_csv('master.csv')"
   ]
  },
  {
   "cell_type": "code",
   "execution_count": 3,
   "metadata": {},
   "outputs": [],
   "source": [
    "del df['Unnamed: 0']"
   ]
  },
  {
   "cell_type": "code",
   "execution_count": 4,
   "metadata": {},
   "outputs": [
    {
     "data": {
      "text/html": [
       "<div>\n",
       "<style scoped>\n",
       "    .dataframe tbody tr th:only-of-type {\n",
       "        vertical-align: middle;\n",
       "    }\n",
       "\n",
       "    .dataframe tbody tr th {\n",
       "        vertical-align: top;\n",
       "    }\n",
       "\n",
       "    .dataframe thead th {\n",
       "        text-align: right;\n",
       "    }\n",
       "</style>\n",
       "<table border=\"1\" class=\"dataframe\">\n",
       "  <thead>\n",
       "    <tr style=\"text-align: right;\">\n",
       "      <th></th>\n",
       "      <th>order_id</th>\n",
       "      <th>customer_id</th>\n",
       "      <th>order_status</th>\n",
       "      <th>order_purchase_timestamp</th>\n",
       "      <th>order_approved_at</th>\n",
       "      <th>order_delivered_carrier_date</th>\n",
       "      <th>order_delivered_customer_date</th>\n",
       "      <th>order_estimated_delivery_date</th>\n",
       "      <th>order_delivery_time</th>\n",
       "      <th>order_item_id</th>\n",
       "      <th>...</th>\n",
       "      <th>customer_city</th>\n",
       "      <th>customer_state</th>\n",
       "      <th>seller_zip_code_prefix</th>\n",
       "      <th>seller_city</th>\n",
       "      <th>seller_state</th>\n",
       "      <th>product_category_name_english</th>\n",
       "      <th>year</th>\n",
       "      <th>month</th>\n",
       "      <th>month/y</th>\n",
       "      <th>weekday</th>\n",
       "    </tr>\n",
       "  </thead>\n",
       "  <tbody>\n",
       "    <tr>\n",
       "      <th>0</th>\n",
       "      <td>e481f51cbdc54678b7cc49136f2d6af7</td>\n",
       "      <td>9ef432eb6251297304e76186b10a928d</td>\n",
       "      <td>delivered</td>\n",
       "      <td>2017-10-02 10:56:33.000000000</td>\n",
       "      <td>2017-10-02 11:07:15.000000000</td>\n",
       "      <td>2017-10-04 19:55:00.000000000</td>\n",
       "      <td>2017-10-10 21:25:13.000000000</td>\n",
       "      <td>2017-10-18 00:00:00.000000000</td>\n",
       "      <td>8 days 10:28:40.000000000</td>\n",
       "      <td>1</td>\n",
       "      <td>...</td>\n",
       "      <td>sao paulo</td>\n",
       "      <td>SP</td>\n",
       "      <td>9350</td>\n",
       "      <td>maua</td>\n",
       "      <td>SP</td>\n",
       "      <td>housewares</td>\n",
       "      <td>2017</td>\n",
       "      <td>October</td>\n",
       "      <td>Oct2017</td>\n",
       "      <td>Monday</td>\n",
       "    </tr>\n",
       "    <tr>\n",
       "      <th>1</th>\n",
       "      <td>128e10d95713541c87cd1a2e48201934</td>\n",
       "      <td>a20e8105f23924cd00833fd87daa0831</td>\n",
       "      <td>delivered</td>\n",
       "      <td>2017-08-15 18:29:31.000000000</td>\n",
       "      <td>2017-08-15 20:05:16.000000000</td>\n",
       "      <td>2017-08-17 15:28:33.000000000</td>\n",
       "      <td>2017-08-18 14:44:43.000000000</td>\n",
       "      <td>2017-08-28 00:00:00.000000000</td>\n",
       "      <td>2 days 20:15:12.000000000</td>\n",
       "      <td>1</td>\n",
       "      <td>...</td>\n",
       "      <td>sao paulo</td>\n",
       "      <td>SP</td>\n",
       "      <td>9350</td>\n",
       "      <td>maua</td>\n",
       "      <td>SP</td>\n",
       "      <td>housewares</td>\n",
       "      <td>2017</td>\n",
       "      <td>August</td>\n",
       "      <td>Aug2017</td>\n",
       "      <td>Tuesday</td>\n",
       "    </tr>\n",
       "    <tr>\n",
       "      <th>2</th>\n",
       "      <td>0e7e841ddf8f8f2de2bad69267ecfbcf</td>\n",
       "      <td>26c7ac168e1433912a51b924fbd34d34</td>\n",
       "      <td>delivered</td>\n",
       "      <td>2017-08-02 18:24:47.000000000</td>\n",
       "      <td>2017-08-02 18:43:15.000000000</td>\n",
       "      <td>2017-08-04 17:35:43.000000000</td>\n",
       "      <td>2017-08-07 18:30:01.000000000</td>\n",
       "      <td>2017-08-15 00:00:00.000000000</td>\n",
       "      <td>5 days 00:05:14.000000000</td>\n",
       "      <td>1</td>\n",
       "      <td>...</td>\n",
       "      <td>sao paulo</td>\n",
       "      <td>SP</td>\n",
       "      <td>9350</td>\n",
       "      <td>maua</td>\n",
       "      <td>SP</td>\n",
       "      <td>housewares</td>\n",
       "      <td>2017</td>\n",
       "      <td>August</td>\n",
       "      <td>Aug2017</td>\n",
       "      <td>Wednesday</td>\n",
       "    </tr>\n",
       "    <tr>\n",
       "      <th>3</th>\n",
       "      <td>bfc39df4f36c3693ff3b63fcbea9e90a</td>\n",
       "      <td>53904ddbea91e1e92b2b3f1d09a7af86</td>\n",
       "      <td>delivered</td>\n",
       "      <td>2017-10-23 23:26:46.000000000</td>\n",
       "      <td>2017-10-25 02:14:11.000000000</td>\n",
       "      <td>2017-10-27 16:48:46.000000000</td>\n",
       "      <td>2017-11-07 18:04:59.000000000</td>\n",
       "      <td>2017-11-13 00:00:00.000000000</td>\n",
       "      <td>14 days 18:38:13.000000000</td>\n",
       "      <td>1</td>\n",
       "      <td>...</td>\n",
       "      <td>florianopolis</td>\n",
       "      <td>SC</td>\n",
       "      <td>9350</td>\n",
       "      <td>maua</td>\n",
       "      <td>SP</td>\n",
       "      <td>housewares</td>\n",
       "      <td>2017</td>\n",
       "      <td>October</td>\n",
       "      <td>Oct2017</td>\n",
       "      <td>Monday</td>\n",
       "    </tr>\n",
       "    <tr>\n",
       "      <th>4</th>\n",
       "      <td>5f49f31e537f8f1a496454b48edbe34d</td>\n",
       "      <td>a7260a6ccba78544ccfaf43f920b7240</td>\n",
       "      <td>delivered</td>\n",
       "      <td>2017-08-24 11:31:28.000000000</td>\n",
       "      <td>2017-08-24 11:45:25.000000000</td>\n",
       "      <td>2017-08-25 14:17:55.000000000</td>\n",
       "      <td>2017-08-28 20:12:20.000000000</td>\n",
       "      <td>2017-09-14 00:00:00.000000000</td>\n",
       "      <td>4 days 08:40:52.000000000</td>\n",
       "      <td>2</td>\n",
       "      <td>...</td>\n",
       "      <td>sao paulo</td>\n",
       "      <td>SP</td>\n",
       "      <td>9350</td>\n",
       "      <td>maua</td>\n",
       "      <td>SP</td>\n",
       "      <td>housewares</td>\n",
       "      <td>2017</td>\n",
       "      <td>August</td>\n",
       "      <td>Aug2017</td>\n",
       "      <td>Thursday</td>\n",
       "    </tr>\n",
       "  </tbody>\n",
       "</table>\n",
       "<p>5 rows × 43 columns</p>\n",
       "</div>"
      ],
      "text/plain": [
       "                           order_id                       customer_id  \\\n",
       "0  e481f51cbdc54678b7cc49136f2d6af7  9ef432eb6251297304e76186b10a928d   \n",
       "1  128e10d95713541c87cd1a2e48201934  a20e8105f23924cd00833fd87daa0831   \n",
       "2  0e7e841ddf8f8f2de2bad69267ecfbcf  26c7ac168e1433912a51b924fbd34d34   \n",
       "3  bfc39df4f36c3693ff3b63fcbea9e90a  53904ddbea91e1e92b2b3f1d09a7af86   \n",
       "4  5f49f31e537f8f1a496454b48edbe34d  a7260a6ccba78544ccfaf43f920b7240   \n",
       "\n",
       "  order_status       order_purchase_timestamp              order_approved_at  \\\n",
       "0    delivered  2017-10-02 10:56:33.000000000  2017-10-02 11:07:15.000000000   \n",
       "1    delivered  2017-08-15 18:29:31.000000000  2017-08-15 20:05:16.000000000   \n",
       "2    delivered  2017-08-02 18:24:47.000000000  2017-08-02 18:43:15.000000000   \n",
       "3    delivered  2017-10-23 23:26:46.000000000  2017-10-25 02:14:11.000000000   \n",
       "4    delivered  2017-08-24 11:31:28.000000000  2017-08-24 11:45:25.000000000   \n",
       "\n",
       "    order_delivered_carrier_date  order_delivered_customer_date  \\\n",
       "0  2017-10-04 19:55:00.000000000  2017-10-10 21:25:13.000000000   \n",
       "1  2017-08-17 15:28:33.000000000  2017-08-18 14:44:43.000000000   \n",
       "2  2017-08-04 17:35:43.000000000  2017-08-07 18:30:01.000000000   \n",
       "3  2017-10-27 16:48:46.000000000  2017-11-07 18:04:59.000000000   \n",
       "4  2017-08-25 14:17:55.000000000  2017-08-28 20:12:20.000000000   \n",
       "\n",
       "   order_estimated_delivery_date         order_delivery_time  order_item_id  \\\n",
       "0  2017-10-18 00:00:00.000000000   8 days 10:28:40.000000000              1   \n",
       "1  2017-08-28 00:00:00.000000000   2 days 20:15:12.000000000              1   \n",
       "2  2017-08-15 00:00:00.000000000   5 days 00:05:14.000000000              1   \n",
       "3  2017-11-13 00:00:00.000000000  14 days 18:38:13.000000000              1   \n",
       "4  2017-09-14 00:00:00.000000000   4 days 08:40:52.000000000              2   \n",
       "\n",
       "     ...      customer_city customer_state seller_zip_code_prefix  \\\n",
       "0    ...          sao paulo             SP                   9350   \n",
       "1    ...          sao paulo             SP                   9350   \n",
       "2    ...          sao paulo             SP                   9350   \n",
       "3    ...      florianopolis             SC                   9350   \n",
       "4    ...          sao paulo             SP                   9350   \n",
       "\n",
       "   seller_city  seller_state  product_category_name_english  year    month  \\\n",
       "0         maua            SP                     housewares  2017  October   \n",
       "1         maua            SP                     housewares  2017   August   \n",
       "2         maua            SP                     housewares  2017   August   \n",
       "3         maua            SP                     housewares  2017  October   \n",
       "4         maua            SP                     housewares  2017   August   \n",
       "\n",
       "   month/y    weekday  \n",
       "0  Oct2017     Monday  \n",
       "1  Aug2017    Tuesday  \n",
       "2  Aug2017  Wednesday  \n",
       "3  Oct2017     Monday  \n",
       "4  Aug2017   Thursday  \n",
       "\n",
       "[5 rows x 43 columns]"
      ]
     },
     "execution_count": 4,
     "metadata": {},
     "output_type": "execute_result"
    }
   ],
   "source": [
    "df.head()"
   ]
  },
  {
   "cell_type": "code",
   "execution_count": 5,
   "metadata": {},
   "outputs": [],
   "source": [
    "df['value'] = df['price'] + df['freight_value']"
   ]
  },
  {
   "cell_type": "code",
   "execution_count": 6,
   "metadata": {},
   "outputs": [
    {
     "data": {
      "text/plain": [
       "order_id                          object\n",
       "customer_id                       object\n",
       "order_status                      object\n",
       "order_purchase_timestamp          object\n",
       "order_approved_at                 object\n",
       "order_delivered_carrier_date      object\n",
       "order_delivered_customer_date     object\n",
       "order_estimated_delivery_date     object\n",
       "order_delivery_time               object\n",
       "order_item_id                      int64\n",
       "product_id                        object\n",
       "seller_id                         object\n",
       "shipping_limit_date               object\n",
       "price                            float64\n",
       "freight_value                    float64\n",
       "payment_sequential                 int64\n",
       "payment_type                      object\n",
       "payment_installments               int64\n",
       "payment_value                    float64\n",
       "review_id                         object\n",
       "review_score                       int64\n",
       "review_creation_date              object\n",
       "review_answer_timestamp           object\n",
       "product_category_name             object\n",
       "product_name_lenght              float64\n",
       "product_description_lenght       float64\n",
       "product_photos_qty               float64\n",
       "product_weight_g                 float64\n",
       "product_length_cm                float64\n",
       "product_height_cm                float64\n",
       "product_width_cm                 float64\n",
       "customer_unique_id                object\n",
       "customer_zip_code_prefix           int64\n",
       "customer_city                     object\n",
       "customer_state                    object\n",
       "seller_zip_code_prefix             int64\n",
       "seller_city                       object\n",
       "seller_state                      object\n",
       "product_category_name_english     object\n",
       "year                               int64\n",
       "month                             object\n",
       "month/y                           object\n",
       "weekday                           object\n",
       "value                            float64\n",
       "dtype: object"
      ]
     },
     "execution_count": 6,
     "metadata": {},
     "output_type": "execute_result"
    }
   ],
   "source": [
    "df.dtypes"
   ]
  },
  {
   "cell_type": "markdown",
   "metadata": {
    "hideCode": false,
    "hidePrompt": false
   },
   "source": [
    "### Top 20 Products"
   ]
  },
  {
   "cell_type": "markdown",
   "metadata": {},
   "source": [
    "By Value"
   ]
  },
  {
   "cell_type": "code",
   "execution_count": 7,
   "metadata": {
    "scrolled": true
   },
   "outputs": [
    {
     "data": {
      "text/html": [
       "<div>\n",
       "<style scoped>\n",
       "    .dataframe tbody tr th:only-of-type {\n",
       "        vertical-align: middle;\n",
       "    }\n",
       "\n",
       "    .dataframe tbody tr th {\n",
       "        vertical-align: top;\n",
       "    }\n",
       "\n",
       "    .dataframe thead th {\n",
       "        text-align: right;\n",
       "    }\n",
       "</style>\n",
       "<table border=\"1\" class=\"dataframe\">\n",
       "  <thead>\n",
       "    <tr style=\"text-align: right;\">\n",
       "      <th></th>\n",
       "      <th>order_item_id</th>\n",
       "      <th>price</th>\n",
       "      <th>freight_value</th>\n",
       "      <th>payment_sequential</th>\n",
       "      <th>payment_installments</th>\n",
       "      <th>payment_value</th>\n",
       "      <th>review_score</th>\n",
       "      <th>product_name_lenght</th>\n",
       "      <th>product_description_lenght</th>\n",
       "      <th>product_photos_qty</th>\n",
       "      <th>product_weight_g</th>\n",
       "      <th>product_length_cm</th>\n",
       "      <th>product_height_cm</th>\n",
       "      <th>product_width_cm</th>\n",
       "      <th>customer_zip_code_prefix</th>\n",
       "      <th>seller_zip_code_prefix</th>\n",
       "      <th>year</th>\n",
       "      <th>value</th>\n",
       "    </tr>\n",
       "    <tr>\n",
       "      <th>product_category_name_english</th>\n",
       "      <th></th>\n",
       "      <th></th>\n",
       "      <th></th>\n",
       "      <th></th>\n",
       "      <th></th>\n",
       "      <th></th>\n",
       "      <th></th>\n",
       "      <th></th>\n",
       "      <th></th>\n",
       "      <th></th>\n",
       "      <th></th>\n",
       "      <th></th>\n",
       "      <th></th>\n",
       "      <th></th>\n",
       "      <th></th>\n",
       "      <th></th>\n",
       "      <th></th>\n",
       "      <th></th>\n",
       "    </tr>\n",
       "  </thead>\n",
       "  <tbody>\n",
       "    <tr>\n",
       "      <th>health_beauty</th>\n",
       "      <td>8894</td>\n",
       "      <td>1190190.54</td>\n",
       "      <td>168705.99</td>\n",
       "      <td>8943</td>\n",
       "      <td>26703</td>\n",
       "      <td>1421234.27</td>\n",
       "      <td>36685</td>\n",
       "      <td>431438.0</td>\n",
       "      <td>9839485.0</td>\n",
       "      <td>16359.0</td>\n",
       "      <td>9479345.0</td>\n",
       "      <td>209806.0</td>\n",
       "      <td>124607.0</td>\n",
       "      <td>160388.0</td>\n",
       "      <td>305654630</td>\n",
       "      <td>222902679</td>\n",
       "      <td>17756952</td>\n",
       "      <td>1358896.53</td>\n",
       "    </tr>\n",
       "    <tr>\n",
       "      <th>watches_gifts</th>\n",
       "      <td>5698</td>\n",
       "      <td>1167532.28</td>\n",
       "      <td>94765.18</td>\n",
       "      <td>5694</td>\n",
       "      <td>21045</td>\n",
       "      <td>1282121.30</td>\n",
       "      <td>22707</td>\n",
       "      <td>268989.0</td>\n",
       "      <td>3529953.0</td>\n",
       "      <td>13902.0</td>\n",
       "      <td>3290512.0</td>\n",
       "      <td>107868.0</td>\n",
       "      <td>50449.0</td>\n",
       "      <td>84833.0</td>\n",
       "      <td>201042432</td>\n",
       "      <td>100880180</td>\n",
       "      <td>11300693</td>\n",
       "      <td>1262297.46</td>\n",
       "    </tr>\n",
       "    <tr>\n",
       "      <th>sports_leisure</th>\n",
       "      <td>7789</td>\n",
       "      <td>914691.66</td>\n",
       "      <td>152377.19</td>\n",
       "      <td>7845</td>\n",
       "      <td>19088</td>\n",
       "      <td>1148377.32</td>\n",
       "      <td>32022</td>\n",
       "      <td>360834.0</td>\n",
       "      <td>8419320.0</td>\n",
       "      <td>17301.0</td>\n",
       "      <td>13716579.0</td>\n",
       "      <td>240795.0</td>\n",
       "      <td>139341.0</td>\n",
       "      <td>158288.0</td>\n",
       "      <td>273099279</td>\n",
       "      <td>245449659</td>\n",
       "      <td>15545015</td>\n",
       "      <td>1067068.85</td>\n",
       "    </tr>\n",
       "    <tr>\n",
       "      <th>bed_bath_table</th>\n",
       "      <td>9644</td>\n",
       "      <td>889910.68</td>\n",
       "      <td>172098.14</td>\n",
       "      <td>9529</td>\n",
       "      <td>33067</td>\n",
       "      <td>1205996.60</td>\n",
       "      <td>36730</td>\n",
       "      <td>480246.0</td>\n",
       "      <td>4155723.0</td>\n",
       "      <td>14074.0</td>\n",
       "      <td>20479534.0</td>\n",
       "      <td>348059.0</td>\n",
       "      <td>118944.0</td>\n",
       "      <td>291203.0</td>\n",
       "      <td>291237387</td>\n",
       "      <td>182228292</td>\n",
       "      <td>18694355</td>\n",
       "      <td>1062008.82</td>\n",
       "    </tr>\n",
       "    <tr>\n",
       "      <th>computers_accessories</th>\n",
       "      <td>6780</td>\n",
       "      <td>781493.44</td>\n",
       "      <td>126177.00</td>\n",
       "      <td>6770</td>\n",
       "      <td>14700</td>\n",
       "      <td>1048405.44</td>\n",
       "      <td>26777</td>\n",
       "      <td>316910.0</td>\n",
       "      <td>5608027.0</td>\n",
       "      <td>12049.0</td>\n",
       "      <td>6153129.0</td>\n",
       "      <td>159940.0</td>\n",
       "      <td>78270.0</td>\n",
       "      <td>122861.0</td>\n",
       "      <td>239399715</td>\n",
       "      <td>261075551</td>\n",
       "      <td>13445308</td>\n",
       "      <td>907670.44</td>\n",
       "    </tr>\n",
       "    <tr>\n",
       "      <th>furniture_decor</th>\n",
       "      <td>6599</td>\n",
       "      <td>606831.12</td>\n",
       "      <td>137247.00</td>\n",
       "      <td>6575</td>\n",
       "      <td>19314</td>\n",
       "      <td>908700.03</td>\n",
       "      <td>25630</td>\n",
       "      <td>319454.0</td>\n",
       "      <td>4790632.0</td>\n",
       "      <td>16776.0</td>\n",
       "      <td>17992552.0</td>\n",
       "      <td>268744.0</td>\n",
       "      <td>111203.0</td>\n",
       "      <td>177992.0</td>\n",
       "      <td>229728736</td>\n",
       "      <td>160850877</td>\n",
       "      <td>12917969</td>\n",
       "      <td>744078.12</td>\n",
       "    </tr>\n",
       "    <tr>\n",
       "      <th>cool_stuff</th>\n",
       "      <td>3651</td>\n",
       "      <td>617055.97</td>\n",
       "      <td>80344.01</td>\n",
       "      <td>3693</td>\n",
       "      <td>12075</td>\n",
       "      <td>709464.63</td>\n",
       "      <td>15018</td>\n",
       "      <td>173222.0</td>\n",
       "      <td>3215801.0</td>\n",
       "      <td>8208.0</td>\n",
       "      <td>9403064.0</td>\n",
       "      <td>129214.0</td>\n",
       "      <td>82223.0</td>\n",
       "      <td>85985.0</td>\n",
       "      <td>140342923</td>\n",
       "      <td>82942084</td>\n",
       "      <td>7278735</td>\n",
       "      <td>697399.98</td>\n",
       "    </tr>\n",
       "    <tr>\n",
       "      <th>housewares</th>\n",
       "      <td>5993</td>\n",
       "      <td>564576.53</td>\n",
       "      <td>126630.40</td>\n",
       "      <td>6069</td>\n",
       "      <td>17549</td>\n",
       "      <td>777057.23</td>\n",
       "      <td>24269</td>\n",
       "      <td>285288.0</td>\n",
       "      <td>4103663.0</td>\n",
       "      <td>13754.0</td>\n",
       "      <td>19713669.0</td>\n",
       "      <td>191735.0</td>\n",
       "      <td>141053.0</td>\n",
       "      <td>148193.0</td>\n",
       "      <td>191154822</td>\n",
       "      <td>150675828</td>\n",
       "      <td>11871440</td>\n",
       "      <td>691206.93</td>\n",
       "    </tr>\n",
       "    <tr>\n",
       "      <th>auto</th>\n",
       "      <td>3929</td>\n",
       "      <td>549388.47</td>\n",
       "      <td>84741.03</td>\n",
       "      <td>3952</td>\n",
       "      <td>10882</td>\n",
       "      <td>673960.59</td>\n",
       "      <td>15859</td>\n",
       "      <td>204105.0</td>\n",
       "      <td>3447060.0</td>\n",
       "      <td>9912.0</td>\n",
       "      <td>9862410.0</td>\n",
       "      <td>131243.0</td>\n",
       "      <td>61986.0</td>\n",
       "      <td>99622.0</td>\n",
       "      <td>141085957</td>\n",
       "      <td>80459591</td>\n",
       "      <td>7830412</td>\n",
       "      <td>634129.50</td>\n",
       "    </tr>\n",
       "    <tr>\n",
       "      <th>toys</th>\n",
       "      <td>3909</td>\n",
       "      <td>465655.11</td>\n",
       "      <td>73250.27</td>\n",
       "      <td>3934</td>\n",
       "      <td>11118</td>\n",
       "      <td>552400.69</td>\n",
       "      <td>16084</td>\n",
       "      <td>177586.0</td>\n",
       "      <td>2565003.0</td>\n",
       "      <td>10799.0</td>\n",
       "      <td>7353331.0</td>\n",
       "      <td>119534.0</td>\n",
       "      <td>82218.0</td>\n",
       "      <td>95878.0</td>\n",
       "      <td>133602150</td>\n",
       "      <td>90905335</td>\n",
       "      <td>7778925</td>\n",
       "      <td>538905.38</td>\n",
       "    </tr>\n",
       "    <tr>\n",
       "      <th>garden_tools</th>\n",
       "      <td>3510</td>\n",
       "      <td>425247.54</td>\n",
       "      <td>82468.48</td>\n",
       "      <td>3585</td>\n",
       "      <td>10068</td>\n",
       "      <td>569053.23</td>\n",
       "      <td>14343</td>\n",
       "      <td>178553.0</td>\n",
       "      <td>2634998.0</td>\n",
       "      <td>7760.0</td>\n",
       "      <td>10403778.0</td>\n",
       "      <td>106879.0</td>\n",
       "      <td>67161.0</td>\n",
       "      <td>95968.0</td>\n",
       "      <td>128019930</td>\n",
       "      <td>87202143</td>\n",
       "      <td>6978298</td>\n",
       "      <td>507716.02</td>\n",
       "    </tr>\n",
       "    <tr>\n",
       "      <th>baby</th>\n",
       "      <td>2947</td>\n",
       "      <td>398748.96</td>\n",
       "      <td>65341.24</td>\n",
       "      <td>2940</td>\n",
       "      <td>8434</td>\n",
       "      <td>476575.89</td>\n",
       "      <td>11581</td>\n",
       "      <td>136899.0</td>\n",
       "      <td>2597758.0</td>\n",
       "      <td>7002.0</td>\n",
       "      <td>9695401.0</td>\n",
       "      <td>101674.0</td>\n",
       "      <td>57904.0</td>\n",
       "      <td>82879.0</td>\n",
       "      <td>105064386</td>\n",
       "      <td>78182816</td>\n",
       "      <td>5808596</td>\n",
       "      <td>464090.20</td>\n",
       "    </tr>\n",
       "    <tr>\n",
       "      <th>perfumery</th>\n",
       "      <td>3199</td>\n",
       "      <td>381799.22</td>\n",
       "      <td>50545.85</td>\n",
       "      <td>3226</td>\n",
       "      <td>10361</td>\n",
       "      <td>448835.56</td>\n",
       "      <td>13252</td>\n",
       "      <td>142783.0</td>\n",
       "      <td>2294762.0</td>\n",
       "      <td>5083.0</td>\n",
       "      <td>1552172.0</td>\n",
       "      <td>63985.0</td>\n",
       "      <td>41124.0</td>\n",
       "      <td>53833.0</td>\n",
       "      <td>107869974</td>\n",
       "      <td>72229494</td>\n",
       "      <td>6363070</td>\n",
       "      <td>432345.07</td>\n",
       "    </tr>\n",
       "    <tr>\n",
       "      <th>telephony</th>\n",
       "      <td>4218</td>\n",
       "      <td>301425.19</td>\n",
       "      <td>65496.48</td>\n",
       "      <td>4263</td>\n",
       "      <td>9301</td>\n",
       "      <td>385621.37</td>\n",
       "      <td>16699</td>\n",
       "      <td>217959.0</td>\n",
       "      <td>3169271.0</td>\n",
       "      <td>12215.0</td>\n",
       "      <td>1079122.0</td>\n",
       "      <td>76343.0</td>\n",
       "      <td>26074.0</td>\n",
       "      <td>55819.0</td>\n",
       "      <td>166018162</td>\n",
       "      <td>52872796</td>\n",
       "      <td>8425126</td>\n",
       "      <td>366921.67</td>\n",
       "    </tr>\n",
       "    <tr>\n",
       "      <th>office_furniture</th>\n",
       "      <td>1286</td>\n",
       "      <td>213221.76</td>\n",
       "      <td>51954.02</td>\n",
       "      <td>1302</td>\n",
       "      <td>4559</td>\n",
       "      <td>337091.88</td>\n",
       "      <td>4578</td>\n",
       "      <td>57035.0</td>\n",
       "      <td>1476943.0</td>\n",
       "      <td>1581.0</td>\n",
       "      <td>14395493.0</td>\n",
       "      <td>68742.0</td>\n",
       "      <td>61106.0</td>\n",
       "      <td>40112.0</td>\n",
       "      <td>43158175</td>\n",
       "      <td>14832492</td>\n",
       "      <td>2554159</td>\n",
       "      <td>265175.78</td>\n",
       "    </tr>\n",
       "    <tr>\n",
       "      <th>stationery</th>\n",
       "      <td>2332</td>\n",
       "      <td>217288.22</td>\n",
       "      <td>43137.28</td>\n",
       "      <td>2342</td>\n",
       "      <td>6067</td>\n",
       "      <td>273293.68</td>\n",
       "      <td>9717</td>\n",
       "      <td>117117.0</td>\n",
       "      <td>940442.0</td>\n",
       "      <td>6651.0</td>\n",
       "      <td>6574395.0</td>\n",
       "      <td>80039.0</td>\n",
       "      <td>50857.0</td>\n",
       "      <td>58717.0</td>\n",
       "      <td>80676955</td>\n",
       "      <td>43335872</td>\n",
       "      <td>4620314</td>\n",
       "      <td>260425.50</td>\n",
       "    </tr>\n",
       "    <tr>\n",
       "      <th>pet_shop</th>\n",
       "      <td>1736</td>\n",
       "      <td>196210.85</td>\n",
       "      <td>35599.35</td>\n",
       "      <td>1743</td>\n",
       "      <td>4636</td>\n",
       "      <td>250097.20</td>\n",
       "      <td>7220</td>\n",
       "      <td>83499.0</td>\n",
       "      <td>1554150.0</td>\n",
       "      <td>4508.0</td>\n",
       "      <td>5087169.0</td>\n",
       "      <td>57348.0</td>\n",
       "      <td>32405.0</td>\n",
       "      <td>47232.0</td>\n",
       "      <td>58239394</td>\n",
       "      <td>45772309</td>\n",
       "      <td>3442010</td>\n",
       "      <td>231810.20</td>\n",
       "    </tr>\n",
       "    <tr>\n",
       "      <th>computers</th>\n",
       "      <td>180</td>\n",
       "      <td>205214.18</td>\n",
       "      <td>8897.21</td>\n",
       "      <td>188</td>\n",
       "      <td>1116</td>\n",
       "      <td>224158.26</td>\n",
       "      <td>748</td>\n",
       "      <td>10005.0</td>\n",
       "      <td>483733.0</td>\n",
       "      <td>532.0</td>\n",
       "      <td>1219710.0</td>\n",
       "      <td>4369.0</td>\n",
       "      <td>6582.0</td>\n",
       "      <td>7587.0</td>\n",
       "      <td>7458342</td>\n",
       "      <td>6695000</td>\n",
       "      <td>363117</td>\n",
       "      <td>214111.39</td>\n",
       "    </tr>\n",
       "    <tr>\n",
       "      <th>musical_instruments</th>\n",
       "      <td>626</td>\n",
       "      <td>184671.36</td>\n",
       "      <td>17347.01</td>\n",
       "      <td>647</td>\n",
       "      <td>2196</td>\n",
       "      <td>203598.75</td>\n",
       "      <td>2597</td>\n",
       "      <td>32559.0</td>\n",
       "      <td>559313.0</td>\n",
       "      <td>2018.0</td>\n",
       "      <td>2002012.0</td>\n",
       "      <td>24574.0</td>\n",
       "      <td>10242.0</td>\n",
       "      <td>17838.0</td>\n",
       "      <td>22351419</td>\n",
       "      <td>22289616</td>\n",
       "      <td>1256962</td>\n",
       "      <td>202018.37</td>\n",
       "    </tr>\n",
       "    <tr>\n",
       "      <th>small_appliances</th>\n",
       "      <td>624</td>\n",
       "      <td>182405.01</td>\n",
       "      <td>15082.69</td>\n",
       "      <td>635</td>\n",
       "      <td>2234</td>\n",
       "      <td>198847.97</td>\n",
       "      <td>2595</td>\n",
       "      <td>30925.0</td>\n",
       "      <td>699629.0</td>\n",
       "      <td>1463.0</td>\n",
       "      <td>1941654.0</td>\n",
       "      <td>17406.0</td>\n",
       "      <td>14946.0</td>\n",
       "      <td>15783.0</td>\n",
       "      <td>22122348</td>\n",
       "      <td>19655623</td>\n",
       "      <td>1256910</td>\n",
       "      <td>197487.70</td>\n",
       "    </tr>\n",
       "    <tr>\n",
       "      <th>electronics</th>\n",
       "      <td>2556</td>\n",
       "      <td>147466.93</td>\n",
       "      <td>42899.44</td>\n",
       "      <td>2588</td>\n",
       "      <td>4409</td>\n",
       "      <td>205707.62</td>\n",
       "      <td>10373</td>\n",
       "      <td>121356.0</td>\n",
       "      <td>1529329.0</td>\n",
       "      <td>4471.0</td>\n",
       "      <td>1980099.0</td>\n",
       "      <td>59812.0</td>\n",
       "      <td>28678.0</td>\n",
       "      <td>43573.0</td>\n",
       "      <td>95620967</td>\n",
       "      <td>70771506</td>\n",
       "      <td>5126914</td>\n",
       "      <td>190366.37</td>\n",
       "    </tr>\n",
       "    <tr>\n",
       "      <th>fashion_bags_accessories</th>\n",
       "      <td>1889</td>\n",
       "      <td>141993.30</td>\n",
       "      <td>28955.58</td>\n",
       "      <td>1908</td>\n",
       "      <td>4579</td>\n",
       "      <td>179179.57</td>\n",
       "      <td>7751</td>\n",
       "      <td>85603.0</td>\n",
       "      <td>785053.0</td>\n",
       "      <td>7018.0</td>\n",
       "      <td>720284.0</td>\n",
       "      <td>35066.0</td>\n",
       "      <td>15338.0</td>\n",
       "      <td>30222.0</td>\n",
       "      <td>66248049</td>\n",
       "      <td>38859924</td>\n",
       "      <td>3746387</td>\n",
       "      <td>170948.88</td>\n",
       "    </tr>\n",
       "    <tr>\n",
       "      <th>consoles_games</th>\n",
       "      <td>1067</td>\n",
       "      <td>151347.46</td>\n",
       "      <td>18530.79</td>\n",
       "      <td>1076</td>\n",
       "      <td>2767</td>\n",
       "      <td>172565.91</td>\n",
       "      <td>4273</td>\n",
       "      <td>48342.0</td>\n",
       "      <td>748265.0</td>\n",
       "      <td>2736.0</td>\n",
       "      <td>488237.0</td>\n",
       "      <td>21860.0</td>\n",
       "      <td>13309.0</td>\n",
       "      <td>18381.0</td>\n",
       "      <td>35877099</td>\n",
       "      <td>32831054</td>\n",
       "      <td>2126292</td>\n",
       "      <td>169878.25</td>\n",
       "    </tr>\n",
       "    <tr>\n",
       "      <th>luggage_accessories</th>\n",
       "      <td>1026</td>\n",
       "      <td>133577.70</td>\n",
       "      <td>28730.87</td>\n",
       "      <td>1047</td>\n",
       "      <td>3459</td>\n",
       "      <td>165112.40</td>\n",
       "      <td>4417</td>\n",
       "      <td>48358.0</td>\n",
       "      <td>595494.0</td>\n",
       "      <td>2360.0</td>\n",
       "      <td>5896258.0</td>\n",
       "      <td>38276.0</td>\n",
       "      <td>32361.0</td>\n",
       "      <td>34917.0</td>\n",
       "      <td>35913334</td>\n",
       "      <td>30659059</td>\n",
       "      <td>2055786</td>\n",
       "      <td>162308.57</td>\n",
       "    </tr>\n",
       "    <tr>\n",
       "      <th>construction_tools_construction</th>\n",
       "      <td>762</td>\n",
       "      <td>126868.45</td>\n",
       "      <td>16915.23</td>\n",
       "      <td>752</td>\n",
       "      <td>2521</td>\n",
       "      <td>165580.16</td>\n",
       "      <td>3025</td>\n",
       "      <td>37491.0</td>\n",
       "      <td>685790.0</td>\n",
       "      <td>1757.0</td>\n",
       "      <td>2361450.0</td>\n",
       "      <td>20447.0</td>\n",
       "      <td>11723.0</td>\n",
       "      <td>17405.0</td>\n",
       "      <td>24042047</td>\n",
       "      <td>18170392</td>\n",
       "      <td>1499270</td>\n",
       "      <td>143783.68</td>\n",
       "    </tr>\n",
       "    <tr>\n",
       "      <th>home_appliances_2</th>\n",
       "      <td>233</td>\n",
       "      <td>112934.96</td>\n",
       "      <td>10481.57</td>\n",
       "      <td>240</td>\n",
       "      <td>1047</td>\n",
       "      <td>121401.26</td>\n",
       "      <td>962</td>\n",
       "      <td>11174.0</td>\n",
       "      <td>181267.0</td>\n",
       "      <td>602.0</td>\n",
       "      <td>2113031.0</td>\n",
       "      <td>10651.0</td>\n",
       "      <td>7000.0</td>\n",
       "      <td>8860.0</td>\n",
       "      <td>8674796</td>\n",
       "      <td>9400531</td>\n",
       "      <td>470107</td>\n",
       "      <td>123416.53</td>\n",
       "    </tr>\n",
       "    <tr>\n",
       "      <th>home_appliances</th>\n",
       "      <td>764</td>\n",
       "      <td>80010.08</td>\n",
       "      <td>14715.27</td>\n",
       "      <td>775</td>\n",
       "      <td>1487</td>\n",
       "      <td>93694.67</td>\n",
       "      <td>3172</td>\n",
       "      <td>41309.0</td>\n",
       "      <td>395814.0</td>\n",
       "      <td>1448.0</td>\n",
       "      <td>1482964.0</td>\n",
       "      <td>23632.0</td>\n",
       "      <td>11687.0</td>\n",
       "      <td>16953.0</td>\n",
       "      <td>26291778</td>\n",
       "      <td>10793811</td>\n",
       "      <td>1541512</td>\n",
       "      <td>94725.35</td>\n",
       "    </tr>\n",
       "    <tr>\n",
       "      <th>home_construction</th>\n",
       "      <td>475</td>\n",
       "      <td>70878.97</td>\n",
       "      <td>11155.51</td>\n",
       "      <td>482</td>\n",
       "      <td>1591</td>\n",
       "      <td>92559.96</td>\n",
       "      <td>1895</td>\n",
       "      <td>24105.0</td>\n",
       "      <td>377743.0</td>\n",
       "      <td>1659.0</td>\n",
       "      <td>1561968.0</td>\n",
       "      <td>14079.0</td>\n",
       "      <td>12582.0</td>\n",
       "      <td>10610.0</td>\n",
       "      <td>17399456</td>\n",
       "      <td>9315556</td>\n",
       "      <td>944318</td>\n",
       "      <td>82034.48</td>\n",
       "    </tr>\n",
       "    <tr>\n",
       "      <th>furniture_living_room</th>\n",
       "      <td>415</td>\n",
       "      <td>57762.43</td>\n",
       "      <td>14563.14</td>\n",
       "      <td>420</td>\n",
       "      <td>1430</td>\n",
       "      <td>83103.47</td>\n",
       "      <td>1652</td>\n",
       "      <td>16716.0</td>\n",
       "      <td>227511.0</td>\n",
       "      <td>816.0</td>\n",
       "      <td>3229709.0</td>\n",
       "      <td>19235.0</td>\n",
       "      <td>7335.0</td>\n",
       "      <td>20720.0</td>\n",
       "      <td>13296657</td>\n",
       "      <td>12595805</td>\n",
       "      <td>825155</td>\n",
       "      <td>72325.57</td>\n",
       "    </tr>\n",
       "    <tr>\n",
       "      <th>agro_industry_and_commerce</th>\n",
       "      <td>185</td>\n",
       "      <td>64238.68</td>\n",
       "      <td>5114.89</td>\n",
       "      <td>200</td>\n",
       "      <td>599</td>\n",
       "      <td>76339.17</td>\n",
       "      <td>732</td>\n",
       "      <td>8409.0</td>\n",
       "      <td>163505.0</td>\n",
       "      <td>452.0</td>\n",
       "      <td>715530.0</td>\n",
       "      <td>5465.0</td>\n",
       "      <td>4576.0</td>\n",
       "      <td>3871.0</td>\n",
       "      <td>6055110</td>\n",
       "      <td>8418992</td>\n",
       "      <td>367228</td>\n",
       "      <td>69353.57</td>\n",
       "    </tr>\n",
       "    <tr>\n",
       "      <th>...</th>\n",
       "      <td>...</td>\n",
       "      <td>...</td>\n",
       "      <td>...</td>\n",
       "      <td>...</td>\n",
       "      <td>...</td>\n",
       "      <td>...</td>\n",
       "      <td>...</td>\n",
       "      <td>...</td>\n",
       "      <td>...</td>\n",
       "      <td>...</td>\n",
       "      <td>...</td>\n",
       "      <td>...</td>\n",
       "      <td>...</td>\n",
       "      <td>...</td>\n",
       "      <td>...</td>\n",
       "      <td>...</td>\n",
       "      <td>...</td>\n",
       "      <td>...</td>\n",
       "    </tr>\n",
       "    <tr>\n",
       "      <th>market_place</th>\n",
       "      <td>276</td>\n",
       "      <td>25957.14</td>\n",
       "      <td>4867.96</td>\n",
       "      <td>276</td>\n",
       "      <td>747</td>\n",
       "      <td>33659.33</td>\n",
       "      <td>1101</td>\n",
       "      <td>12521.0</td>\n",
       "      <td>257736.0</td>\n",
       "      <td>699.0</td>\n",
       "      <td>320557.0</td>\n",
       "      <td>7206.0</td>\n",
       "      <td>4027.0</td>\n",
       "      <td>5929.0</td>\n",
       "      <td>10799968</td>\n",
       "      <td>7061544</td>\n",
       "      <td>548708</td>\n",
       "      <td>30825.10</td>\n",
       "    </tr>\n",
       "    <tr>\n",
       "      <th>art</th>\n",
       "      <td>196</td>\n",
       "      <td>23374.84</td>\n",
       "      <td>3772.43</td>\n",
       "      <td>199</td>\n",
       "      <td>404</td>\n",
       "      <td>27387.85</td>\n",
       "      <td>792</td>\n",
       "      <td>9344.0</td>\n",
       "      <td>191470.0</td>\n",
       "      <td>381.0</td>\n",
       "      <td>302527.0</td>\n",
       "      <td>9675.0</td>\n",
       "      <td>1562.0</td>\n",
       "      <td>7218.0</td>\n",
       "      <td>6172143</td>\n",
       "      <td>4359165</td>\n",
       "      <td>395493</td>\n",
       "      <td>27147.27</td>\n",
       "    </tr>\n",
       "    <tr>\n",
       "      <th>fashion_shoes</th>\n",
       "      <td>240</td>\n",
       "      <td>22314.43</td>\n",
       "      <td>4530.29</td>\n",
       "      <td>242</td>\n",
       "      <td>717</td>\n",
       "      <td>27674.43</td>\n",
       "      <td>1000</td>\n",
       "      <td>11860.0</td>\n",
       "      <td>104337.0</td>\n",
       "      <td>1215.0</td>\n",
       "      <td>256150.0</td>\n",
       "      <td>6495.0</td>\n",
       "      <td>3810.0</td>\n",
       "      <td>5636.0</td>\n",
       "      <td>9260096</td>\n",
       "      <td>9094290</td>\n",
       "      <td>480113</td>\n",
       "      <td>26844.72</td>\n",
       "    </tr>\n",
       "    <tr>\n",
       "      <th>costruction_tools_garden</th>\n",
       "      <td>200</td>\n",
       "      <td>20388.44</td>\n",
       "      <td>4221.76</td>\n",
       "      <td>190</td>\n",
       "      <td>533</td>\n",
       "      <td>28872.96</td>\n",
       "      <td>795</td>\n",
       "      <td>8879.0</td>\n",
       "      <td>221676.0</td>\n",
       "      <td>418.0</td>\n",
       "      <td>445262.0</td>\n",
       "      <td>5597.0</td>\n",
       "      <td>3375.0</td>\n",
       "      <td>4201.0</td>\n",
       "      <td>6250012</td>\n",
       "      <td>4480354</td>\n",
       "      <td>377305</td>\n",
       "      <td>24610.20</td>\n",
       "    </tr>\n",
       "    <tr>\n",
       "      <th>books_technical</th>\n",
       "      <td>257</td>\n",
       "      <td>18443.42</td>\n",
       "      <td>4136.07</td>\n",
       "      <td>258</td>\n",
       "      <td>530</td>\n",
       "      <td>23018.94</td>\n",
       "      <td>1123</td>\n",
       "      <td>10328.0</td>\n",
       "      <td>342922.0</td>\n",
       "      <td>274.0</td>\n",
       "      <td>263861.0</td>\n",
       "      <td>7148.0</td>\n",
       "      <td>1663.0</td>\n",
       "      <td>4772.0</td>\n",
       "      <td>8878253</td>\n",
       "      <td>2946969</td>\n",
       "      <td>516563</td>\n",
       "      <td>22579.49</td>\n",
       "    </tr>\n",
       "    <tr>\n",
       "      <th>furniture_bedroom</th>\n",
       "      <td>92</td>\n",
       "      <td>16971.51</td>\n",
       "      <td>4020.41</td>\n",
       "      <td>95</td>\n",
       "      <td>276</td>\n",
       "      <td>23264.72</td>\n",
       "      <td>384</td>\n",
       "      <td>4136.0</td>\n",
       "      <td>68504.0</td>\n",
       "      <td>193.0</td>\n",
       "      <td>911525.0</td>\n",
       "      <td>5980.0</td>\n",
       "      <td>2913.0</td>\n",
       "      <td>2882.0</td>\n",
       "      <td>2837180</td>\n",
       "      <td>2982267</td>\n",
       "      <td>185616</td>\n",
       "      <td>20991.92</td>\n",
       "    </tr>\n",
       "    <tr>\n",
       "      <th>drinks</th>\n",
       "      <td>290</td>\n",
       "      <td>16634.28</td>\n",
       "      <td>4312.03</td>\n",
       "      <td>290</td>\n",
       "      <td>495</td>\n",
       "      <td>27240.37</td>\n",
       "      <td>1202</td>\n",
       "      <td>13564.0</td>\n",
       "      <td>316847.0</td>\n",
       "      <td>632.0</td>\n",
       "      <td>252093.0</td>\n",
       "      <td>6377.0</td>\n",
       "      <td>5837.0</td>\n",
       "      <td>5423.0</td>\n",
       "      <td>8203046</td>\n",
       "      <td>5531953</td>\n",
       "      <td>583129</td>\n",
       "      <td>20946.31</td>\n",
       "    </tr>\n",
       "    <tr>\n",
       "      <th>signaling_and_security</th>\n",
       "      <td>139</td>\n",
       "      <td>15243.42</td>\n",
       "      <td>3612.30</td>\n",
       "      <td>141</td>\n",
       "      <td>325</td>\n",
       "      <td>27878.85</td>\n",
       "      <td>571</td>\n",
       "      <td>6947.0</td>\n",
       "      <td>108611.0</td>\n",
       "      <td>335.0</td>\n",
       "      <td>522058.0</td>\n",
       "      <td>4733.0</td>\n",
       "      <td>3819.0</td>\n",
       "      <td>2899.0</td>\n",
       "      <td>4673829</td>\n",
       "      <td>2872594</td>\n",
       "      <td>280467</td>\n",
       "      <td>18855.72</td>\n",
       "    </tr>\n",
       "    <tr>\n",
       "      <th>food_drink</th>\n",
       "      <td>224</td>\n",
       "      <td>13419.45</td>\n",
       "      <td>3732.89</td>\n",
       "      <td>231</td>\n",
       "      <td>430</td>\n",
       "      <td>18746.61</td>\n",
       "      <td>974</td>\n",
       "      <td>9842.0</td>\n",
       "      <td>275784.0</td>\n",
       "      <td>442.0</td>\n",
       "      <td>269359.0</td>\n",
       "      <td>4788.0</td>\n",
       "      <td>3543.0</td>\n",
       "      <td>3661.0</td>\n",
       "      <td>6050633</td>\n",
       "      <td>5396178</td>\n",
       "      <td>449909</td>\n",
       "      <td>17152.34</td>\n",
       "    </tr>\n",
       "    <tr>\n",
       "      <th>costruction_tools_tools</th>\n",
       "      <td>97</td>\n",
       "      <td>14448.35</td>\n",
       "      <td>1918.37</td>\n",
       "      <td>99</td>\n",
       "      <td>295</td>\n",
       "      <td>17813.42</td>\n",
       "      <td>424</td>\n",
       "      <td>4908.0</td>\n",
       "      <td>66987.0</td>\n",
       "      <td>262.0</td>\n",
       "      <td>115451.0</td>\n",
       "      <td>2164.0</td>\n",
       "      <td>1584.0</td>\n",
       "      <td>1655.0</td>\n",
       "      <td>4027945</td>\n",
       "      <td>3382869</td>\n",
       "      <td>195725</td>\n",
       "      <td>16366.72</td>\n",
       "    </tr>\n",
       "    <tr>\n",
       "      <th>fashion_male_clothing</th>\n",
       "      <td>114</td>\n",
       "      <td>9224.93</td>\n",
       "      <td>1875.06</td>\n",
       "      <td>119</td>\n",
       "      <td>297</td>\n",
       "      <td>12585.96</td>\n",
       "      <td>412</td>\n",
       "      <td>4608.0</td>\n",
       "      <td>65043.0</td>\n",
       "      <td>203.0</td>\n",
       "      <td>64875.0</td>\n",
       "      <td>3053.0</td>\n",
       "      <td>1574.0</td>\n",
       "      <td>2459.0</td>\n",
       "      <td>3919965</td>\n",
       "      <td>4815720</td>\n",
       "      <td>225927</td>\n",
       "      <td>11099.99</td>\n",
       "    </tr>\n",
       "    <tr>\n",
       "      <th>fashion_underwear_beach</th>\n",
       "      <td>121</td>\n",
       "      <td>9175.26</td>\n",
       "      <td>1768.86</td>\n",
       "      <td>128</td>\n",
       "      <td>282</td>\n",
       "      <td>11153.04</td>\n",
       "      <td>473</td>\n",
       "      <td>5936.0</td>\n",
       "      <td>90797.0</td>\n",
       "      <td>271.0</td>\n",
       "      <td>33825.0</td>\n",
       "      <td>3628.0</td>\n",
       "      <td>845.0</td>\n",
       "      <td>2274.0</td>\n",
       "      <td>4263767</td>\n",
       "      <td>1460820</td>\n",
       "      <td>244095</td>\n",
       "      <td>10944.12</td>\n",
       "    </tr>\n",
       "    <tr>\n",
       "      <th>christmas_supplies</th>\n",
       "      <td>128</td>\n",
       "      <td>7640.28</td>\n",
       "      <td>2752.40</td>\n",
       "      <td>128</td>\n",
       "      <td>272</td>\n",
       "      <td>11972.21</td>\n",
       "      <td>512</td>\n",
       "      <td>5525.0</td>\n",
       "      <td>70718.0</td>\n",
       "      <td>351.0</td>\n",
       "      <td>271188.0</td>\n",
       "      <td>4135.0</td>\n",
       "      <td>1967.0</td>\n",
       "      <td>3535.0</td>\n",
       "      <td>5282838</td>\n",
       "      <td>3145264</td>\n",
       "      <td>256237</td>\n",
       "      <td>10392.68</td>\n",
       "    </tr>\n",
       "    <tr>\n",
       "      <th>tablets_printing_image</th>\n",
       "      <td>76</td>\n",
       "      <td>6919.71</td>\n",
       "      <td>1151.49</td>\n",
       "      <td>77</td>\n",
       "      <td>245</td>\n",
       "      <td>8337.35</td>\n",
       "      <td>310</td>\n",
       "      <td>4235.0</td>\n",
       "      <td>40422.0</td>\n",
       "      <td>138.0</td>\n",
       "      <td>23290.0</td>\n",
       "      <td>1948.0</td>\n",
       "      <td>742.0</td>\n",
       "      <td>1771.0</td>\n",
       "      <td>2547078</td>\n",
       "      <td>715180</td>\n",
       "      <td>153311</td>\n",
       "      <td>8071.20</td>\n",
       "    </tr>\n",
       "    <tr>\n",
       "      <th>cine_photo</th>\n",
       "      <td>63</td>\n",
       "      <td>6484.27</td>\n",
       "      <td>1118.59</td>\n",
       "      <td>63</td>\n",
       "      <td>135</td>\n",
       "      <td>7844.74</td>\n",
       "      <td>273</td>\n",
       "      <td>3120.0</td>\n",
       "      <td>50140.0</td>\n",
       "      <td>162.0</td>\n",
       "      <td>79132.0</td>\n",
       "      <td>1823.0</td>\n",
       "      <td>779.0</td>\n",
       "      <td>1297.0</td>\n",
       "      <td>2526559</td>\n",
       "      <td>2116812</td>\n",
       "      <td>127126</td>\n",
       "      <td>7602.86</td>\n",
       "    </tr>\n",
       "    <tr>\n",
       "      <th>dvds_blu_ray</th>\n",
       "      <td>57</td>\n",
       "      <td>5809.82</td>\n",
       "      <td>1141.76</td>\n",
       "      <td>59</td>\n",
       "      <td>104</td>\n",
       "      <td>6999.49</td>\n",
       "      <td>229</td>\n",
       "      <td>2623.0</td>\n",
       "      <td>60660.0</td>\n",
       "      <td>90.0</td>\n",
       "      <td>30215.0</td>\n",
       "      <td>1262.0</td>\n",
       "      <td>251.0</td>\n",
       "      <td>884.0</td>\n",
       "      <td>2182263</td>\n",
       "      <td>3179331</td>\n",
       "      <td>114990</td>\n",
       "      <td>6951.58</td>\n",
       "    </tr>\n",
       "    <tr>\n",
       "      <th>music</th>\n",
       "      <td>38</td>\n",
       "      <td>5981.45</td>\n",
       "      <td>678.76</td>\n",
       "      <td>39</td>\n",
       "      <td>102</td>\n",
       "      <td>6662.47</td>\n",
       "      <td>159</td>\n",
       "      <td>1672.0</td>\n",
       "      <td>55527.0</td>\n",
       "      <td>83.0</td>\n",
       "      <td>63748.0</td>\n",
       "      <td>996.0</td>\n",
       "      <td>445.0</td>\n",
       "      <td>661.0</td>\n",
       "      <td>1463279</td>\n",
       "      <td>1075002</td>\n",
       "      <td>74655</td>\n",
       "      <td>6660.21</td>\n",
       "    </tr>\n",
       "    <tr>\n",
       "      <th>furniture_mattress_and_upholstery</th>\n",
       "      <td>38</td>\n",
       "      <td>4368.08</td>\n",
       "      <td>1630.46</td>\n",
       "      <td>40</td>\n",
       "      <td>132</td>\n",
       "      <td>5773.54</td>\n",
       "      <td>145</td>\n",
       "      <td>1635.0</td>\n",
       "      <td>34892.0</td>\n",
       "      <td>52.0</td>\n",
       "      <td>287200.0</td>\n",
       "      <td>2223.0</td>\n",
       "      <td>834.0</td>\n",
       "      <td>2758.0</td>\n",
       "      <td>876761</td>\n",
       "      <td>577407</td>\n",
       "      <td>76666</td>\n",
       "      <td>5998.54</td>\n",
       "    </tr>\n",
       "    <tr>\n",
       "      <th>party_supplies</th>\n",
       "      <td>39</td>\n",
       "      <td>4284.58</td>\n",
       "      <td>758.63</td>\n",
       "      <td>40</td>\n",
       "      <td>80</td>\n",
       "      <td>5348.67</td>\n",
       "      <td>156</td>\n",
       "      <td>1940.0</td>\n",
       "      <td>15695.0</td>\n",
       "      <td>79.0</td>\n",
       "      <td>83500.0</td>\n",
       "      <td>1178.0</td>\n",
       "      <td>630.0</td>\n",
       "      <td>849.0</td>\n",
       "      <td>1355290</td>\n",
       "      <td>1026203</td>\n",
       "      <td>78692</td>\n",
       "      <td>5043.21</td>\n",
       "    </tr>\n",
       "    <tr>\n",
       "      <th>books_imported</th>\n",
       "      <td>55</td>\n",
       "      <td>4099.47</td>\n",
       "      <td>662.85</td>\n",
       "      <td>54</td>\n",
       "      <td>119</td>\n",
       "      <td>5335.44</td>\n",
       "      <td>229</td>\n",
       "      <td>2483.0</td>\n",
       "      <td>35828.0</td>\n",
       "      <td>96.0</td>\n",
       "      <td>33600.0</td>\n",
       "      <td>1637.0</td>\n",
       "      <td>179.0</td>\n",
       "      <td>1174.0</td>\n",
       "      <td>1252581</td>\n",
       "      <td>401931</td>\n",
       "      <td>106941</td>\n",
       "      <td>4762.32</td>\n",
       "    </tr>\n",
       "    <tr>\n",
       "      <th>fashio_female_clothing</th>\n",
       "      <td>38</td>\n",
       "      <td>2403.92</td>\n",
       "      <td>508.76</td>\n",
       "      <td>38</td>\n",
       "      <td>119</td>\n",
       "      <td>3337.65</td>\n",
       "      <td>142</td>\n",
       "      <td>1590.0</td>\n",
       "      <td>24140.0</td>\n",
       "      <td>101.0</td>\n",
       "      <td>22700.0</td>\n",
       "      <td>876.0</td>\n",
       "      <td>424.0</td>\n",
       "      <td>693.0</td>\n",
       "      <td>1098066</td>\n",
       "      <td>635329</td>\n",
       "      <td>76653</td>\n",
       "      <td>2912.68</td>\n",
       "    </tr>\n",
       "    <tr>\n",
       "      <th>fashion_sport</th>\n",
       "      <td>27</td>\n",
       "      <td>1939.91</td>\n",
       "      <td>490.87</td>\n",
       "      <td>26</td>\n",
       "      <td>64</td>\n",
       "      <td>2715.11</td>\n",
       "      <td>112</td>\n",
       "      <td>1140.0</td>\n",
       "      <td>15807.0</td>\n",
       "      <td>59.0</td>\n",
       "      <td>9500.0</td>\n",
       "      <td>624.0</td>\n",
       "      <td>335.0</td>\n",
       "      <td>463.0</td>\n",
       "      <td>1076775</td>\n",
       "      <td>425832</td>\n",
       "      <td>52446</td>\n",
       "      <td>2430.78</td>\n",
       "    </tr>\n",
       "    <tr>\n",
       "      <th>arts_and_craftmanship</th>\n",
       "      <td>21</td>\n",
       "      <td>1742.32</td>\n",
       "      <td>335.91</td>\n",
       "      <td>21</td>\n",
       "      <td>39</td>\n",
       "      <td>2131.00</td>\n",
       "      <td>90</td>\n",
       "      <td>997.0</td>\n",
       "      <td>17817.0</td>\n",
       "      <td>82.0</td>\n",
       "      <td>31860.0</td>\n",
       "      <td>681.0</td>\n",
       "      <td>241.0</td>\n",
       "      <td>479.0</td>\n",
       "      <td>490013</td>\n",
       "      <td>378790</td>\n",
       "      <td>42377</td>\n",
       "      <td>2078.23</td>\n",
       "    </tr>\n",
       "    <tr>\n",
       "      <th>la_cuisine</th>\n",
       "      <td>11</td>\n",
       "      <td>1753.99</td>\n",
       "      <td>295.57</td>\n",
       "      <td>11</td>\n",
       "      <td>52</td>\n",
       "      <td>2016.62</td>\n",
       "      <td>50</td>\n",
       "      <td>577.0</td>\n",
       "      <td>4870.0</td>\n",
       "      <td>12.0</td>\n",
       "      <td>47250.0</td>\n",
       "      <td>818.0</td>\n",
       "      <td>144.0</td>\n",
       "      <td>407.0</td>\n",
       "      <td>548757</td>\n",
       "      <td>910730</td>\n",
       "      <td>22190</td>\n",
       "      <td>2049.56</td>\n",
       "    </tr>\n",
       "    <tr>\n",
       "      <th>diapers_and_hygiene</th>\n",
       "      <td>27</td>\n",
       "      <td>1254.59</td>\n",
       "      <td>418.16</td>\n",
       "      <td>27</td>\n",
       "      <td>59</td>\n",
       "      <td>2141.27</td>\n",
       "      <td>101</td>\n",
       "      <td>1282.0</td>\n",
       "      <td>10927.0</td>\n",
       "      <td>44.0</td>\n",
       "      <td>19150.0</td>\n",
       "      <td>600.0</td>\n",
       "      <td>483.0</td>\n",
       "      <td>513.0</td>\n",
       "      <td>583802</td>\n",
       "      <td>369208</td>\n",
       "      <td>54483</td>\n",
       "      <td>1672.75</td>\n",
       "    </tr>\n",
       "    <tr>\n",
       "      <th>flowers</th>\n",
       "      <td>27</td>\n",
       "      <td>876.24</td>\n",
       "      <td>406.51</td>\n",
       "      <td>27</td>\n",
       "      <td>30</td>\n",
       "      <td>1491.82</td>\n",
       "      <td>119</td>\n",
       "      <td>1379.0</td>\n",
       "      <td>11107.0</td>\n",
       "      <td>30.0</td>\n",
       "      <td>45850.0</td>\n",
       "      <td>540.0</td>\n",
       "      <td>384.0</td>\n",
       "      <td>410.0</td>\n",
       "      <td>908188</td>\n",
       "      <td>442738</td>\n",
       "      <td>54479</td>\n",
       "      <td>1282.75</td>\n",
       "    </tr>\n",
       "    <tr>\n",
       "      <th>home_comfort_2</th>\n",
       "      <td>22</td>\n",
       "      <td>657.07</td>\n",
       "      <td>313.29</td>\n",
       "      <td>23</td>\n",
       "      <td>32</td>\n",
       "      <td>1120.70</td>\n",
       "      <td>83</td>\n",
       "      <td>1041.0</td>\n",
       "      <td>7888.0</td>\n",
       "      <td>23.0</td>\n",
       "      <td>19238.0</td>\n",
       "      <td>1371.0</td>\n",
       "      <td>382.0</td>\n",
       "      <td>607.0</td>\n",
       "      <td>754205</td>\n",
       "      <td>320777</td>\n",
       "      <td>44380</td>\n",
       "      <td>970.36</td>\n",
       "    </tr>\n",
       "    <tr>\n",
       "      <th>cds_dvds_musicals</th>\n",
       "      <td>12</td>\n",
       "      <td>640.00</td>\n",
       "      <td>192.77</td>\n",
       "      <td>12</td>\n",
       "      <td>34</td>\n",
       "      <td>954.99</td>\n",
       "      <td>56</td>\n",
       "      <td>564.0</td>\n",
       "      <td>1404.0</td>\n",
       "      <td>24.0</td>\n",
       "      <td>6600.0</td>\n",
       "      <td>420.0</td>\n",
       "      <td>180.0</td>\n",
       "      <td>300.0</td>\n",
       "      <td>442262</td>\n",
       "      <td>147924</td>\n",
       "      <td>24205</td>\n",
       "      <td>832.77</td>\n",
       "    </tr>\n",
       "    <tr>\n",
       "      <th>fashion_childrens_clothes</th>\n",
       "      <td>6</td>\n",
       "      <td>489.87</td>\n",
       "      <td>78.93</td>\n",
       "      <td>6</td>\n",
       "      <td>11</td>\n",
       "      <td>568.80</td>\n",
       "      <td>26</td>\n",
       "      <td>274.0</td>\n",
       "      <td>2081.0</td>\n",
       "      <td>19.0</td>\n",
       "      <td>1920.0</td>\n",
       "      <td>167.0</td>\n",
       "      <td>87.0</td>\n",
       "      <td>123.0</td>\n",
       "      <td>174970</td>\n",
       "      <td>129789</td>\n",
       "      <td>12103</td>\n",
       "      <td>568.80</td>\n",
       "    </tr>\n",
       "    <tr>\n",
       "      <th>security_and_services</th>\n",
       "      <td>2</td>\n",
       "      <td>283.29</td>\n",
       "      <td>41.22</td>\n",
       "      <td>2</td>\n",
       "      <td>2</td>\n",
       "      <td>324.51</td>\n",
       "      <td>5</td>\n",
       "      <td>103.0</td>\n",
       "      <td>967.0</td>\n",
       "      <td>5.0</td>\n",
       "      <td>1625.0</td>\n",
       "      <td>53.0</td>\n",
       "      <td>57.0</td>\n",
       "      <td>26.0</td>\n",
       "      <td>148880</td>\n",
       "      <td>25730</td>\n",
       "      <td>4034</td>\n",
       "      <td>324.51</td>\n",
       "    </tr>\n",
       "  </tbody>\n",
       "</table>\n",
       "<p>71 rows × 18 columns</p>\n",
       "</div>"
      ],
      "text/plain": [
       "                                   order_item_id       price  freight_value  \\\n",
       "product_category_name_english                                                 \n",
       "health_beauty                               8894  1190190.54      168705.99   \n",
       "watches_gifts                               5698  1167532.28       94765.18   \n",
       "sports_leisure                              7789   914691.66      152377.19   \n",
       "bed_bath_table                              9644   889910.68      172098.14   \n",
       "computers_accessories                       6780   781493.44      126177.00   \n",
       "furniture_decor                             6599   606831.12      137247.00   \n",
       "cool_stuff                                  3651   617055.97       80344.01   \n",
       "housewares                                  5993   564576.53      126630.40   \n",
       "auto                                        3929   549388.47       84741.03   \n",
       "toys                                        3909   465655.11       73250.27   \n",
       "garden_tools                                3510   425247.54       82468.48   \n",
       "baby                                        2947   398748.96       65341.24   \n",
       "perfumery                                   3199   381799.22       50545.85   \n",
       "telephony                                   4218   301425.19       65496.48   \n",
       "office_furniture                            1286   213221.76       51954.02   \n",
       "stationery                                  2332   217288.22       43137.28   \n",
       "pet_shop                                    1736   196210.85       35599.35   \n",
       "computers                                    180   205214.18        8897.21   \n",
       "musical_instruments                          626   184671.36       17347.01   \n",
       "small_appliances                             624   182405.01       15082.69   \n",
       "electronics                                 2556   147466.93       42899.44   \n",
       "fashion_bags_accessories                    1889   141993.30       28955.58   \n",
       "consoles_games                              1067   151347.46       18530.79   \n",
       "luggage_accessories                         1026   133577.70       28730.87   \n",
       "construction_tools_construction              762   126868.45       16915.23   \n",
       "home_appliances_2                            233   112934.96       10481.57   \n",
       "home_appliances                              764    80010.08       14715.27   \n",
       "home_construction                            475    70878.97       11155.51   \n",
       "furniture_living_room                        415    57762.43       14563.14   \n",
       "agro_industry_and_commerce                   185    64238.68        5114.89   \n",
       "...                                          ...         ...            ...   \n",
       "market_place                                 276    25957.14        4867.96   \n",
       "art                                          196    23374.84        3772.43   \n",
       "fashion_shoes                                240    22314.43        4530.29   \n",
       "costruction_tools_garden                     200    20388.44        4221.76   \n",
       "books_technical                              257    18443.42        4136.07   \n",
       "furniture_bedroom                             92    16971.51        4020.41   \n",
       "drinks                                       290    16634.28        4312.03   \n",
       "signaling_and_security                       139    15243.42        3612.30   \n",
       "food_drink                                   224    13419.45        3732.89   \n",
       "costruction_tools_tools                       97    14448.35        1918.37   \n",
       "fashion_male_clothing                        114     9224.93        1875.06   \n",
       "fashion_underwear_beach                      121     9175.26        1768.86   \n",
       "christmas_supplies                           128     7640.28        2752.40   \n",
       "tablets_printing_image                        76     6919.71        1151.49   \n",
       "cine_photo                                    63     6484.27        1118.59   \n",
       "dvds_blu_ray                                  57     5809.82        1141.76   \n",
       "music                                         38     5981.45         678.76   \n",
       "furniture_mattress_and_upholstery             38     4368.08        1630.46   \n",
       "party_supplies                                39     4284.58         758.63   \n",
       "books_imported                                55     4099.47         662.85   \n",
       "fashio_female_clothing                        38     2403.92         508.76   \n",
       "fashion_sport                                 27     1939.91         490.87   \n",
       "arts_and_craftmanship                         21     1742.32         335.91   \n",
       "la_cuisine                                    11     1753.99         295.57   \n",
       "diapers_and_hygiene                           27     1254.59         418.16   \n",
       "flowers                                       27      876.24         406.51   \n",
       "home_comfort_2                                22      657.07         313.29   \n",
       "cds_dvds_musicals                             12      640.00         192.77   \n",
       "fashion_childrens_clothes                      6      489.87          78.93   \n",
       "security_and_services                          2      283.29          41.22   \n",
       "\n",
       "                                   payment_sequential  payment_installments  \\\n",
       "product_category_name_english                                                 \n",
       "health_beauty                                    8943                 26703   \n",
       "watches_gifts                                    5694                 21045   \n",
       "sports_leisure                                   7845                 19088   \n",
       "bed_bath_table                                   9529                 33067   \n",
       "computers_accessories                            6770                 14700   \n",
       "furniture_decor                                  6575                 19314   \n",
       "cool_stuff                                       3693                 12075   \n",
       "housewares                                       6069                 17549   \n",
       "auto                                             3952                 10882   \n",
       "toys                                             3934                 11118   \n",
       "garden_tools                                     3585                 10068   \n",
       "baby                                             2940                  8434   \n",
       "perfumery                                        3226                 10361   \n",
       "telephony                                        4263                  9301   \n",
       "office_furniture                                 1302                  4559   \n",
       "stationery                                       2342                  6067   \n",
       "pet_shop                                         1743                  4636   \n",
       "computers                                         188                  1116   \n",
       "musical_instruments                               647                  2196   \n",
       "small_appliances                                  635                  2234   \n",
       "electronics                                      2588                  4409   \n",
       "fashion_bags_accessories                         1908                  4579   \n",
       "consoles_games                                   1076                  2767   \n",
       "luggage_accessories                              1047                  3459   \n",
       "construction_tools_construction                   752                  2521   \n",
       "home_appliances_2                                 240                  1047   \n",
       "home_appliances                                   775                  1487   \n",
       "home_construction                                 482                  1591   \n",
       "furniture_living_room                             420                  1430   \n",
       "agro_industry_and_commerce                        200                   599   \n",
       "...                                               ...                   ...   \n",
       "market_place                                      276                   747   \n",
       "art                                               199                   404   \n",
       "fashion_shoes                                     242                   717   \n",
       "costruction_tools_garden                          190                   533   \n",
       "books_technical                                   258                   530   \n",
       "furniture_bedroom                                  95                   276   \n",
       "drinks                                            290                   495   \n",
       "signaling_and_security                            141                   325   \n",
       "food_drink                                        231                   430   \n",
       "costruction_tools_tools                            99                   295   \n",
       "fashion_male_clothing                             119                   297   \n",
       "fashion_underwear_beach                           128                   282   \n",
       "christmas_supplies                                128                   272   \n",
       "tablets_printing_image                             77                   245   \n",
       "cine_photo                                         63                   135   \n",
       "dvds_blu_ray                                       59                   104   \n",
       "music                                              39                   102   \n",
       "furniture_mattress_and_upholstery                  40                   132   \n",
       "party_supplies                                     40                    80   \n",
       "books_imported                                     54                   119   \n",
       "fashio_female_clothing                             38                   119   \n",
       "fashion_sport                                      26                    64   \n",
       "arts_and_craftmanship                              21                    39   \n",
       "la_cuisine                                         11                    52   \n",
       "diapers_and_hygiene                                27                    59   \n",
       "flowers                                            27                    30   \n",
       "home_comfort_2                                     23                    32   \n",
       "cds_dvds_musicals                                  12                    34   \n",
       "fashion_childrens_clothes                           6                    11   \n",
       "security_and_services                               2                     2   \n",
       "\n",
       "                                   payment_value  review_score  \\\n",
       "product_category_name_english                                    \n",
       "health_beauty                         1421234.27         36685   \n",
       "watches_gifts                         1282121.30         22707   \n",
       "sports_leisure                        1148377.32         32022   \n",
       "bed_bath_table                        1205996.60         36730   \n",
       "computers_accessories                 1048405.44         26777   \n",
       "furniture_decor                        908700.03         25630   \n",
       "cool_stuff                             709464.63         15018   \n",
       "housewares                             777057.23         24269   \n",
       "auto                                   673960.59         15859   \n",
       "toys                                   552400.69         16084   \n",
       "garden_tools                           569053.23         14343   \n",
       "baby                                   476575.89         11581   \n",
       "perfumery                              448835.56         13252   \n",
       "telephony                              385621.37         16699   \n",
       "office_furniture                       337091.88          4578   \n",
       "stationery                             273293.68          9717   \n",
       "pet_shop                               250097.20          7220   \n",
       "computers                              224158.26           748   \n",
       "musical_instruments                    203598.75          2597   \n",
       "small_appliances                       198847.97          2595   \n",
       "electronics                            205707.62         10373   \n",
       "fashion_bags_accessories               179179.57          7751   \n",
       "consoles_games                         172565.91          4273   \n",
       "luggage_accessories                    165112.40          4417   \n",
       "construction_tools_construction        165580.16          3025   \n",
       "home_appliances_2                      121401.26           962   \n",
       "home_appliances                         93694.67          3172   \n",
       "home_construction                       92559.96          1895   \n",
       "furniture_living_room                   83103.47          1652   \n",
       "agro_industry_and_commerce              76339.17           732   \n",
       "...                                          ...           ...   \n",
       "market_place                            33659.33          1101   \n",
       "art                                     27387.85           792   \n",
       "fashion_shoes                           27674.43          1000   \n",
       "costruction_tools_garden                28872.96           795   \n",
       "books_technical                         23018.94          1123   \n",
       "furniture_bedroom                       23264.72           384   \n",
       "drinks                                  27240.37          1202   \n",
       "signaling_and_security                  27878.85           571   \n",
       "food_drink                              18746.61           974   \n",
       "costruction_tools_tools                 17813.42           424   \n",
       "fashion_male_clothing                   12585.96           412   \n",
       "fashion_underwear_beach                 11153.04           473   \n",
       "christmas_supplies                      11972.21           512   \n",
       "tablets_printing_image                   8337.35           310   \n",
       "cine_photo                               7844.74           273   \n",
       "dvds_blu_ray                             6999.49           229   \n",
       "music                                    6662.47           159   \n",
       "furniture_mattress_and_upholstery        5773.54           145   \n",
       "party_supplies                           5348.67           156   \n",
       "books_imported                           5335.44           229   \n",
       "fashio_female_clothing                   3337.65           142   \n",
       "fashion_sport                            2715.11           112   \n",
       "arts_and_craftmanship                    2131.00            90   \n",
       "la_cuisine                               2016.62            50   \n",
       "diapers_and_hygiene                      2141.27           101   \n",
       "flowers                                  1491.82           119   \n",
       "home_comfort_2                           1120.70            83   \n",
       "cds_dvds_musicals                         954.99            56   \n",
       "fashion_childrens_clothes                 568.80            26   \n",
       "security_and_services                     324.51             5   \n",
       "\n",
       "                                   product_name_lenght  \\\n",
       "product_category_name_english                            \n",
       "health_beauty                                 431438.0   \n",
       "watches_gifts                                 268989.0   \n",
       "sports_leisure                                360834.0   \n",
       "bed_bath_table                                480246.0   \n",
       "computers_accessories                         316910.0   \n",
       "furniture_decor                               319454.0   \n",
       "cool_stuff                                    173222.0   \n",
       "housewares                                    285288.0   \n",
       "auto                                          204105.0   \n",
       "toys                                          177586.0   \n",
       "garden_tools                                  178553.0   \n",
       "baby                                          136899.0   \n",
       "perfumery                                     142783.0   \n",
       "telephony                                     217959.0   \n",
       "office_furniture                               57035.0   \n",
       "stationery                                    117117.0   \n",
       "pet_shop                                       83499.0   \n",
       "computers                                      10005.0   \n",
       "musical_instruments                            32559.0   \n",
       "small_appliances                               30925.0   \n",
       "electronics                                   121356.0   \n",
       "fashion_bags_accessories                       85603.0   \n",
       "consoles_games                                 48342.0   \n",
       "luggage_accessories                            48358.0   \n",
       "construction_tools_construction                37491.0   \n",
       "home_appliances_2                              11174.0   \n",
       "home_appliances                                41309.0   \n",
       "home_construction                              24105.0   \n",
       "furniture_living_room                          16716.0   \n",
       "agro_industry_and_commerce                      8409.0   \n",
       "...                                                ...   \n",
       "market_place                                   12521.0   \n",
       "art                                             9344.0   \n",
       "fashion_shoes                                  11860.0   \n",
       "costruction_tools_garden                        8879.0   \n",
       "books_technical                                10328.0   \n",
       "furniture_bedroom                               4136.0   \n",
       "drinks                                         13564.0   \n",
       "signaling_and_security                          6947.0   \n",
       "food_drink                                      9842.0   \n",
       "costruction_tools_tools                         4908.0   \n",
       "fashion_male_clothing                           4608.0   \n",
       "fashion_underwear_beach                         5936.0   \n",
       "christmas_supplies                              5525.0   \n",
       "tablets_printing_image                          4235.0   \n",
       "cine_photo                                      3120.0   \n",
       "dvds_blu_ray                                    2623.0   \n",
       "music                                           1672.0   \n",
       "furniture_mattress_and_upholstery               1635.0   \n",
       "party_supplies                                  1940.0   \n",
       "books_imported                                  2483.0   \n",
       "fashio_female_clothing                          1590.0   \n",
       "fashion_sport                                   1140.0   \n",
       "arts_and_craftmanship                            997.0   \n",
       "la_cuisine                                       577.0   \n",
       "diapers_and_hygiene                             1282.0   \n",
       "flowers                                         1379.0   \n",
       "home_comfort_2                                  1041.0   \n",
       "cds_dvds_musicals                                564.0   \n",
       "fashion_childrens_clothes                        274.0   \n",
       "security_and_services                            103.0   \n",
       "\n",
       "                                   product_description_lenght  \\\n",
       "product_category_name_english                                   \n",
       "health_beauty                                       9839485.0   \n",
       "watches_gifts                                       3529953.0   \n",
       "sports_leisure                                      8419320.0   \n",
       "bed_bath_table                                      4155723.0   \n",
       "computers_accessories                               5608027.0   \n",
       "furniture_decor                                     4790632.0   \n",
       "cool_stuff                                          3215801.0   \n",
       "housewares                                          4103663.0   \n",
       "auto                                                3447060.0   \n",
       "toys                                                2565003.0   \n",
       "garden_tools                                        2634998.0   \n",
       "baby                                                2597758.0   \n",
       "perfumery                                           2294762.0   \n",
       "telephony                                           3169271.0   \n",
       "office_furniture                                    1476943.0   \n",
       "stationery                                           940442.0   \n",
       "pet_shop                                            1554150.0   \n",
       "computers                                            483733.0   \n",
       "musical_instruments                                  559313.0   \n",
       "small_appliances                                     699629.0   \n",
       "electronics                                         1529329.0   \n",
       "fashion_bags_accessories                             785053.0   \n",
       "consoles_games                                       748265.0   \n",
       "luggage_accessories                                  595494.0   \n",
       "construction_tools_construction                      685790.0   \n",
       "home_appliances_2                                    181267.0   \n",
       "home_appliances                                      395814.0   \n",
       "home_construction                                    377743.0   \n",
       "furniture_living_room                                227511.0   \n",
       "agro_industry_and_commerce                           163505.0   \n",
       "...                                                       ...   \n",
       "market_place                                         257736.0   \n",
       "art                                                  191470.0   \n",
       "fashion_shoes                                        104337.0   \n",
       "costruction_tools_garden                             221676.0   \n",
       "books_technical                                      342922.0   \n",
       "furniture_bedroom                                     68504.0   \n",
       "drinks                                               316847.0   \n",
       "signaling_and_security                               108611.0   \n",
       "food_drink                                           275784.0   \n",
       "costruction_tools_tools                               66987.0   \n",
       "fashion_male_clothing                                 65043.0   \n",
       "fashion_underwear_beach                               90797.0   \n",
       "christmas_supplies                                    70718.0   \n",
       "tablets_printing_image                                40422.0   \n",
       "cine_photo                                            50140.0   \n",
       "dvds_blu_ray                                          60660.0   \n",
       "music                                                 55527.0   \n",
       "furniture_mattress_and_upholstery                     34892.0   \n",
       "party_supplies                                        15695.0   \n",
       "books_imported                                        35828.0   \n",
       "fashio_female_clothing                                24140.0   \n",
       "fashion_sport                                         15807.0   \n",
       "arts_and_craftmanship                                 17817.0   \n",
       "la_cuisine                                             4870.0   \n",
       "diapers_and_hygiene                                   10927.0   \n",
       "flowers                                               11107.0   \n",
       "home_comfort_2                                         7888.0   \n",
       "cds_dvds_musicals                                      1404.0   \n",
       "fashion_childrens_clothes                              2081.0   \n",
       "security_and_services                                   967.0   \n",
       "\n",
       "                                   product_photos_qty  product_weight_g  \\\n",
       "product_category_name_english                                             \n",
       "health_beauty                                 16359.0         9479345.0   \n",
       "watches_gifts                                 13902.0         3290512.0   \n",
       "sports_leisure                                17301.0        13716579.0   \n",
       "bed_bath_table                                14074.0        20479534.0   \n",
       "computers_accessories                         12049.0         6153129.0   \n",
       "furniture_decor                               16776.0        17992552.0   \n",
       "cool_stuff                                     8208.0         9403064.0   \n",
       "housewares                                    13754.0        19713669.0   \n",
       "auto                                           9912.0         9862410.0   \n",
       "toys                                          10799.0         7353331.0   \n",
       "garden_tools                                   7760.0        10403778.0   \n",
       "baby                                           7002.0         9695401.0   \n",
       "perfumery                                      5083.0         1552172.0   \n",
       "telephony                                     12215.0         1079122.0   \n",
       "office_furniture                               1581.0        14395493.0   \n",
       "stationery                                     6651.0         6574395.0   \n",
       "pet_shop                                       4508.0         5087169.0   \n",
       "computers                                       532.0         1219710.0   \n",
       "musical_instruments                            2018.0         2002012.0   \n",
       "small_appliances                               1463.0         1941654.0   \n",
       "electronics                                    4471.0         1980099.0   \n",
       "fashion_bags_accessories                       7018.0          720284.0   \n",
       "consoles_games                                 2736.0          488237.0   \n",
       "luggage_accessories                            2360.0         5896258.0   \n",
       "construction_tools_construction                1757.0         2361450.0   \n",
       "home_appliances_2                               602.0         2113031.0   \n",
       "home_appliances                                1448.0         1482964.0   \n",
       "home_construction                              1659.0         1561968.0   \n",
       "furniture_living_room                           816.0         3229709.0   \n",
       "agro_industry_and_commerce                      452.0          715530.0   \n",
       "...                                               ...               ...   \n",
       "market_place                                    699.0          320557.0   \n",
       "art                                             381.0          302527.0   \n",
       "fashion_shoes                                  1215.0          256150.0   \n",
       "costruction_tools_garden                        418.0          445262.0   \n",
       "books_technical                                 274.0          263861.0   \n",
       "furniture_bedroom                               193.0          911525.0   \n",
       "drinks                                          632.0          252093.0   \n",
       "signaling_and_security                          335.0          522058.0   \n",
       "food_drink                                      442.0          269359.0   \n",
       "costruction_tools_tools                         262.0          115451.0   \n",
       "fashion_male_clothing                           203.0           64875.0   \n",
       "fashion_underwear_beach                         271.0           33825.0   \n",
       "christmas_supplies                              351.0          271188.0   \n",
       "tablets_printing_image                          138.0           23290.0   \n",
       "cine_photo                                      162.0           79132.0   \n",
       "dvds_blu_ray                                     90.0           30215.0   \n",
       "music                                            83.0           63748.0   \n",
       "furniture_mattress_and_upholstery                52.0          287200.0   \n",
       "party_supplies                                   79.0           83500.0   \n",
       "books_imported                                   96.0           33600.0   \n",
       "fashio_female_clothing                          101.0           22700.0   \n",
       "fashion_sport                                    59.0            9500.0   \n",
       "arts_and_craftmanship                            82.0           31860.0   \n",
       "la_cuisine                                       12.0           47250.0   \n",
       "diapers_and_hygiene                              44.0           19150.0   \n",
       "flowers                                          30.0           45850.0   \n",
       "home_comfort_2                                   23.0           19238.0   \n",
       "cds_dvds_musicals                                24.0            6600.0   \n",
       "fashion_childrens_clothes                        19.0            1920.0   \n",
       "security_and_services                             5.0            1625.0   \n",
       "\n",
       "                                   product_length_cm  product_height_cm  \\\n",
       "product_category_name_english                                             \n",
       "health_beauty                               209806.0           124607.0   \n",
       "watches_gifts                               107868.0            50449.0   \n",
       "sports_leisure                              240795.0           139341.0   \n",
       "bed_bath_table                              348059.0           118944.0   \n",
       "computers_accessories                       159940.0            78270.0   \n",
       "furniture_decor                             268744.0           111203.0   \n",
       "cool_stuff                                  129214.0            82223.0   \n",
       "housewares                                  191735.0           141053.0   \n",
       "auto                                        131243.0            61986.0   \n",
       "toys                                        119534.0            82218.0   \n",
       "garden_tools                                106879.0            67161.0   \n",
       "baby                                        101674.0            57904.0   \n",
       "perfumery                                    63985.0            41124.0   \n",
       "telephony                                    76343.0            26074.0   \n",
       "office_furniture                             68742.0            61106.0   \n",
       "stationery                                   80039.0            50857.0   \n",
       "pet_shop                                     57348.0            32405.0   \n",
       "computers                                     4369.0             6582.0   \n",
       "musical_instruments                          24574.0            10242.0   \n",
       "small_appliances                             17406.0            14946.0   \n",
       "electronics                                  59812.0            28678.0   \n",
       "fashion_bags_accessories                     35066.0            15338.0   \n",
       "consoles_games                               21860.0            13309.0   \n",
       "luggage_accessories                          38276.0            32361.0   \n",
       "construction_tools_construction              20447.0            11723.0   \n",
       "home_appliances_2                            10651.0             7000.0   \n",
       "home_appliances                              23632.0            11687.0   \n",
       "home_construction                            14079.0            12582.0   \n",
       "furniture_living_room                        19235.0             7335.0   \n",
       "agro_industry_and_commerce                    5465.0             4576.0   \n",
       "...                                              ...                ...   \n",
       "market_place                                  7206.0             4027.0   \n",
       "art                                           9675.0             1562.0   \n",
       "fashion_shoes                                 6495.0             3810.0   \n",
       "costruction_tools_garden                      5597.0             3375.0   \n",
       "books_technical                               7148.0             1663.0   \n",
       "furniture_bedroom                             5980.0             2913.0   \n",
       "drinks                                        6377.0             5837.0   \n",
       "signaling_and_security                        4733.0             3819.0   \n",
       "food_drink                                    4788.0             3543.0   \n",
       "costruction_tools_tools                       2164.0             1584.0   \n",
       "fashion_male_clothing                         3053.0             1574.0   \n",
       "fashion_underwear_beach                       3628.0              845.0   \n",
       "christmas_supplies                            4135.0             1967.0   \n",
       "tablets_printing_image                        1948.0              742.0   \n",
       "cine_photo                                    1823.0              779.0   \n",
       "dvds_blu_ray                                  1262.0              251.0   \n",
       "music                                          996.0              445.0   \n",
       "furniture_mattress_and_upholstery             2223.0              834.0   \n",
       "party_supplies                                1178.0              630.0   \n",
       "books_imported                                1637.0              179.0   \n",
       "fashio_female_clothing                         876.0              424.0   \n",
       "fashion_sport                                  624.0              335.0   \n",
       "arts_and_craftmanship                          681.0              241.0   \n",
       "la_cuisine                                     818.0              144.0   \n",
       "diapers_and_hygiene                            600.0              483.0   \n",
       "flowers                                        540.0              384.0   \n",
       "home_comfort_2                                1371.0              382.0   \n",
       "cds_dvds_musicals                              420.0              180.0   \n",
       "fashion_childrens_clothes                      167.0               87.0   \n",
       "security_and_services                           53.0               57.0   \n",
       "\n",
       "                                   product_width_cm  customer_zip_code_prefix  \\\n",
       "product_category_name_english                                                   \n",
       "health_beauty                              160388.0                 305654630   \n",
       "watches_gifts                               84833.0                 201042432   \n",
       "sports_leisure                             158288.0                 273099279   \n",
       "bed_bath_table                             291203.0                 291237387   \n",
       "computers_accessories                      122861.0                 239399715   \n",
       "furniture_decor                            177992.0                 229728736   \n",
       "cool_stuff                                  85985.0                 140342923   \n",
       "housewares                                 148193.0                 191154822   \n",
       "auto                                        99622.0                 141085957   \n",
       "toys                                        95878.0                 133602150   \n",
       "garden_tools                                95968.0                 128019930   \n",
       "baby                                        82879.0                 105064386   \n",
       "perfumery                                   53833.0                 107869974   \n",
       "telephony                                   55819.0                 166018162   \n",
       "office_furniture                            40112.0                  43158175   \n",
       "stationery                                  58717.0                  80676955   \n",
       "pet_shop                                    47232.0                  58239394   \n",
       "computers                                    7587.0                   7458342   \n",
       "musical_instruments                         17838.0                  22351419   \n",
       "small_appliances                            15783.0                  22122348   \n",
       "electronics                                 43573.0                  95620967   \n",
       "fashion_bags_accessories                    30222.0                  66248049   \n",
       "consoles_games                              18381.0                  35877099   \n",
       "luggage_accessories                         34917.0                  35913334   \n",
       "construction_tools_construction             17405.0                  24042047   \n",
       "home_appliances_2                            8860.0                   8674796   \n",
       "home_appliances                             16953.0                  26291778   \n",
       "home_construction                           10610.0                  17399456   \n",
       "furniture_living_room                       20720.0                  13296657   \n",
       "agro_industry_and_commerce                   3871.0                   6055110   \n",
       "...                                             ...                       ...   \n",
       "market_place                                 5929.0                  10799968   \n",
       "art                                          7218.0                   6172143   \n",
       "fashion_shoes                                5636.0                   9260096   \n",
       "costruction_tools_garden                     4201.0                   6250012   \n",
       "books_technical                              4772.0                   8878253   \n",
       "furniture_bedroom                            2882.0                   2837180   \n",
       "drinks                                       5423.0                   8203046   \n",
       "signaling_and_security                       2899.0                   4673829   \n",
       "food_drink                                   3661.0                   6050633   \n",
       "costruction_tools_tools                      1655.0                   4027945   \n",
       "fashion_male_clothing                        2459.0                   3919965   \n",
       "fashion_underwear_beach                      2274.0                   4263767   \n",
       "christmas_supplies                           3535.0                   5282838   \n",
       "tablets_printing_image                       1771.0                   2547078   \n",
       "cine_photo                                   1297.0                   2526559   \n",
       "dvds_blu_ray                                  884.0                   2182263   \n",
       "music                                         661.0                   1463279   \n",
       "furniture_mattress_and_upholstery            2758.0                    876761   \n",
       "party_supplies                                849.0                   1355290   \n",
       "books_imported                               1174.0                   1252581   \n",
       "fashio_female_clothing                        693.0                   1098066   \n",
       "fashion_sport                                 463.0                   1076775   \n",
       "arts_and_craftmanship                         479.0                    490013   \n",
       "la_cuisine                                    407.0                    548757   \n",
       "diapers_and_hygiene                           513.0                    583802   \n",
       "flowers                                       410.0                    908188   \n",
       "home_comfort_2                                607.0                    754205   \n",
       "cds_dvds_musicals                             300.0                    442262   \n",
       "fashion_childrens_clothes                     123.0                    174970   \n",
       "security_and_services                          26.0                    148880   \n",
       "\n",
       "                                   seller_zip_code_prefix      year  \\\n",
       "product_category_name_english                                         \n",
       "health_beauty                                   222902679  17756952   \n",
       "watches_gifts                                   100880180  11300693   \n",
       "sports_leisure                                  245449659  15545015   \n",
       "bed_bath_table                                  182228292  18694355   \n",
       "computers_accessories                           261075551  13445308   \n",
       "furniture_decor                                 160850877  12917969   \n",
       "cool_stuff                                       82942084   7278735   \n",
       "housewares                                      150675828  11871440   \n",
       "auto                                             80459591   7830412   \n",
       "toys                                             90905335   7778925   \n",
       "garden_tools                                     87202143   6978298   \n",
       "baby                                             78182816   5808596   \n",
       "perfumery                                        72229494   6363070   \n",
       "telephony                                        52872796   8425126   \n",
       "office_furniture                                 14832492   2554159   \n",
       "stationery                                       43335872   4620314   \n",
       "pet_shop                                         45772309   3442010   \n",
       "computers                                         6695000    363117   \n",
       "musical_instruments                              22289616   1256962   \n",
       "small_appliances                                 19655623   1256910   \n",
       "electronics                                      70771506   5126914   \n",
       "fashion_bags_accessories                         38859924   3746387   \n",
       "consoles_games                                   32831054   2126292   \n",
       "luggage_accessories                              30659059   2055786   \n",
       "construction_tools_construction                  18170392   1499270   \n",
       "home_appliances_2                                 9400531    470107   \n",
       "home_appliances                                  10793811   1541512   \n",
       "home_construction                                 9315556    944318   \n",
       "furniture_living_room                            12595805    825155   \n",
       "agro_industry_and_commerce                        8418992    367228   \n",
       "...                                                   ...       ...   \n",
       "market_place                                      7061544    548708   \n",
       "art                                               4359165    395493   \n",
       "fashion_shoes                                     9094290    480113   \n",
       "costruction_tools_garden                          4480354    377305   \n",
       "books_technical                                   2946969    516563   \n",
       "furniture_bedroom                                 2982267    185616   \n",
       "drinks                                            5531953    583129   \n",
       "signaling_and_security                            2872594    280467   \n",
       "food_drink                                        5396178    449909   \n",
       "costruction_tools_tools                           3382869    195725   \n",
       "fashion_male_clothing                             4815720    225927   \n",
       "fashion_underwear_beach                           1460820    244095   \n",
       "christmas_supplies                                3145264    256237   \n",
       "tablets_printing_image                             715180    153311   \n",
       "cine_photo                                        2116812    127126   \n",
       "dvds_blu_ray                                      3179331    114990   \n",
       "music                                             1075002     74655   \n",
       "furniture_mattress_and_upholstery                  577407     76666   \n",
       "party_supplies                                    1026203     78692   \n",
       "books_imported                                     401931    106941   \n",
       "fashio_female_clothing                             635329     76653   \n",
       "fashion_sport                                      425832     52446   \n",
       "arts_and_craftmanship                              378790     42377   \n",
       "la_cuisine                                         910730     22190   \n",
       "diapers_and_hygiene                                369208     54483   \n",
       "flowers                                            442738     54479   \n",
       "home_comfort_2                                     320777     44380   \n",
       "cds_dvds_musicals                                  147924     24205   \n",
       "fashion_childrens_clothes                          129789     12103   \n",
       "security_and_services                               25730      4034   \n",
       "\n",
       "                                        value  \n",
       "product_category_name_english                  \n",
       "health_beauty                      1358896.53  \n",
       "watches_gifts                      1262297.46  \n",
       "sports_leisure                     1067068.85  \n",
       "bed_bath_table                     1062008.82  \n",
       "computers_accessories               907670.44  \n",
       "furniture_decor                     744078.12  \n",
       "cool_stuff                          697399.98  \n",
       "housewares                          691206.93  \n",
       "auto                                634129.50  \n",
       "toys                                538905.38  \n",
       "garden_tools                        507716.02  \n",
       "baby                                464090.20  \n",
       "perfumery                           432345.07  \n",
       "telephony                           366921.67  \n",
       "office_furniture                    265175.78  \n",
       "stationery                          260425.50  \n",
       "pet_shop                            231810.20  \n",
       "computers                           214111.39  \n",
       "musical_instruments                 202018.37  \n",
       "small_appliances                    197487.70  \n",
       "electronics                         190366.37  \n",
       "fashion_bags_accessories            170948.88  \n",
       "consoles_games                      169878.25  \n",
       "luggage_accessories                 162308.57  \n",
       "construction_tools_construction     143783.68  \n",
       "home_appliances_2                   123416.53  \n",
       "home_appliances                      94725.35  \n",
       "home_construction                    82034.48  \n",
       "furniture_living_room                72325.57  \n",
       "agro_industry_and_commerce           69353.57  \n",
       "...                                       ...  \n",
       "market_place                         30825.10  \n",
       "art                                  27147.27  \n",
       "fashion_shoes                        26844.72  \n",
       "costruction_tools_garden             24610.20  \n",
       "books_technical                      22579.49  \n",
       "furniture_bedroom                    20991.92  \n",
       "drinks                               20946.31  \n",
       "signaling_and_security               18855.72  \n",
       "food_drink                           17152.34  \n",
       "costruction_tools_tools              16366.72  \n",
       "fashion_male_clothing                11099.99  \n",
       "fashion_underwear_beach              10944.12  \n",
       "christmas_supplies                   10392.68  \n",
       "tablets_printing_image                8071.20  \n",
       "cine_photo                            7602.86  \n",
       "dvds_blu_ray                          6951.58  \n",
       "music                                 6660.21  \n",
       "furniture_mattress_and_upholstery     5998.54  \n",
       "party_supplies                        5043.21  \n",
       "books_imported                        4762.32  \n",
       "fashio_female_clothing                2912.68  \n",
       "fashion_sport                         2430.78  \n",
       "arts_and_craftmanship                 2078.23  \n",
       "la_cuisine                            2049.56  \n",
       "diapers_and_hygiene                   1672.75  \n",
       "flowers                               1282.75  \n",
       "home_comfort_2                         970.36  \n",
       "cds_dvds_musicals                      832.77  \n",
       "fashion_childrens_clothes              568.80  \n",
       "security_and_services                  324.51  \n",
       "\n",
       "[71 rows x 18 columns]"
      ]
     },
     "execution_count": 7,
     "metadata": {},
     "output_type": "execute_result"
    }
   ],
   "source": [
    "df.groupby('product_category_name_english').sum().sort_values(by='value',ascending=False)"
   ]
  },
  {
   "cell_type": "code",
   "execution_count": 8,
   "metadata": {},
   "outputs": [
    {
     "data": {
      "text/plain": [
       "product_category_name_english\n",
       "health_beauty            1358896.53\n",
       "watches_gifts            1262297.46\n",
       "sports_leisure           1067068.85\n",
       "bed_bath_table           1062008.82\n",
       "computers_accessories     907670.44\n",
       "furniture_decor           744078.12\n",
       "cool_stuff                697399.98\n",
       "housewares                691206.93\n",
       "auto                      634129.50\n",
       "toys                      538905.38\n",
       "garden_tools              507716.02\n",
       "baby                      464090.20\n",
       "perfumery                 432345.07\n",
       "telephony                 366921.67\n",
       "office_furniture          265175.78\n",
       "stationery                260425.50\n",
       "pet_shop                  231810.20\n",
       "computers                 214111.39\n",
       "musical_instruments       202018.37\n",
       "small_appliances          197487.70\n",
       "Name: value, dtype: float64"
      ]
     },
     "execution_count": 8,
     "metadata": {},
     "output_type": "execute_result"
    }
   ],
   "source": [
    "top_prod_rev = df.groupby('product_category_name_english')['value'].sum().sort_values(ascending=False)[:20]\n",
    "top_prod_rev"
   ]
  },
  {
   "cell_type": "code",
   "execution_count": 9,
   "metadata": {},
   "outputs": [
    {
     "data": {
      "text/plain": [
       "Text(0,0.5,'Total revenue')"
      ]
     },
     "execution_count": 9,
     "metadata": {},
     "output_type": "execute_result"
    },
    {
     "data": {
      "image/png": "[encoded data removed]",
      "text/plain": [
       "<Figure size 432x288 with 1 Axes>"
      ]
     },
     "metadata": {
      "needs_background": "light"
     },
     "output_type": "display_data"
    }
   ],
   "source": [
    "top_prod_rev.plot(kind='bar')\n",
    "plt.title('Top 20 product category having the largest revenue')\n",
    "plt.ylabel('Total revenue')"
   ]
  },
  {
   "cell_type": "markdown",
   "metadata": {},
   "source": [
    "By Sales"
   ]
  },
  {
   "cell_type": "code",
   "execution_count": 10,
   "metadata": {
    "scrolled": true
   },
   "outputs": [
    {
     "data": {
      "text/html": [
       "<div>\n",
       "<style scoped>\n",
       "    .dataframe tbody tr th:only-of-type {\n",
       "        vertical-align: middle;\n",
       "    }\n",
       "\n",
       "    .dataframe tbody tr th {\n",
       "        vertical-align: top;\n",
       "    }\n",
       "\n",
       "    .dataframe thead th {\n",
       "        text-align: right;\n",
       "    }\n",
       "</style>\n",
       "<table border=\"1\" class=\"dataframe\">\n",
       "  <thead>\n",
       "    <tr style=\"text-align: right;\">\n",
       "      <th></th>\n",
       "      <th>order_id</th>\n",
       "      <th>customer_id</th>\n",
       "      <th>order_status</th>\n",
       "      <th>order_purchase_timestamp</th>\n",
       "      <th>order_approved_at</th>\n",
       "      <th>order_delivered_carrier_date</th>\n",
       "      <th>order_delivered_customer_date</th>\n",
       "      <th>order_estimated_delivery_date</th>\n",
       "      <th>order_delivery_time</th>\n",
       "      <th>order_item_id</th>\n",
       "      <th>...</th>\n",
       "      <th>customer_city</th>\n",
       "      <th>customer_state</th>\n",
       "      <th>seller_zip_code_prefix</th>\n",
       "      <th>seller_city</th>\n",
       "      <th>seller_state</th>\n",
       "      <th>year</th>\n",
       "      <th>month</th>\n",
       "      <th>month/y</th>\n",
       "      <th>weekday</th>\n",
       "      <th>value</th>\n",
       "    </tr>\n",
       "    <tr>\n",
       "      <th>product_category_name_english</th>\n",
       "      <th></th>\n",
       "      <th></th>\n",
       "      <th></th>\n",
       "      <th></th>\n",
       "      <th></th>\n",
       "      <th></th>\n",
       "      <th></th>\n",
       "      <th></th>\n",
       "      <th></th>\n",
       "      <th></th>\n",
       "      <th></th>\n",
       "      <th></th>\n",
       "      <th></th>\n",
       "      <th></th>\n",
       "      <th></th>\n",
       "      <th></th>\n",
       "      <th></th>\n",
       "      <th></th>\n",
       "      <th></th>\n",
       "      <th></th>\n",
       "      <th></th>\n",
       "    </tr>\n",
       "  </thead>\n",
       "  <tbody>\n",
       "    <tr>\n",
       "      <th>bed_bath_table</th>\n",
       "      <td>9266</td>\n",
       "      <td>9266</td>\n",
       "      <td>9266</td>\n",
       "      <td>9266</td>\n",
       "      <td>9266</td>\n",
       "      <td>9266</td>\n",
       "      <td>9266</td>\n",
       "      <td>9266</td>\n",
       "      <td>9266</td>\n",
       "      <td>9266</td>\n",
       "      <td>...</td>\n",
       "      <td>9266</td>\n",
       "      <td>9266</td>\n",
       "      <td>9266</td>\n",
       "      <td>9266</td>\n",
       "      <td>9266</td>\n",
       "      <td>9266</td>\n",
       "      <td>9266</td>\n",
       "      <td>9266</td>\n",
       "      <td>9266</td>\n",
       "      <td>9266</td>\n",
       "    </tr>\n",
       "    <tr>\n",
       "      <th>health_beauty</th>\n",
       "      <td>8801</td>\n",
       "      <td>8801</td>\n",
       "      <td>8801</td>\n",
       "      <td>8801</td>\n",
       "      <td>8801</td>\n",
       "      <td>8801</td>\n",
       "      <td>8801</td>\n",
       "      <td>8801</td>\n",
       "      <td>8801</td>\n",
       "      <td>8801</td>\n",
       "      <td>...</td>\n",
       "      <td>8801</td>\n",
       "      <td>8801</td>\n",
       "      <td>8801</td>\n",
       "      <td>8801</td>\n",
       "      <td>8801</td>\n",
       "      <td>8801</td>\n",
       "      <td>8801</td>\n",
       "      <td>8801</td>\n",
       "      <td>8801</td>\n",
       "      <td>8801</td>\n",
       "    </tr>\n",
       "    <tr>\n",
       "      <th>sports_leisure</th>\n",
       "      <td>7705</td>\n",
       "      <td>7705</td>\n",
       "      <td>7705</td>\n",
       "      <td>7705</td>\n",
       "      <td>7705</td>\n",
       "      <td>7705</td>\n",
       "      <td>7705</td>\n",
       "      <td>7705</td>\n",
       "      <td>7705</td>\n",
       "      <td>7705</td>\n",
       "      <td>...</td>\n",
       "      <td>7705</td>\n",
       "      <td>7705</td>\n",
       "      <td>7705</td>\n",
       "      <td>7705</td>\n",
       "      <td>7705</td>\n",
       "      <td>7705</td>\n",
       "      <td>7705</td>\n",
       "      <td>7705</td>\n",
       "      <td>7705</td>\n",
       "      <td>7705</td>\n",
       "    </tr>\n",
       "    <tr>\n",
       "      <th>computers_accessories</th>\n",
       "      <td>6664</td>\n",
       "      <td>6664</td>\n",
       "      <td>6664</td>\n",
       "      <td>6664</td>\n",
       "      <td>6664</td>\n",
       "      <td>6664</td>\n",
       "      <td>6664</td>\n",
       "      <td>6664</td>\n",
       "      <td>6664</td>\n",
       "      <td>6664</td>\n",
       "      <td>...</td>\n",
       "      <td>6664</td>\n",
       "      <td>6664</td>\n",
       "      <td>6664</td>\n",
       "      <td>6664</td>\n",
       "      <td>6664</td>\n",
       "      <td>6664</td>\n",
       "      <td>6664</td>\n",
       "      <td>6664</td>\n",
       "      <td>6664</td>\n",
       "      <td>6664</td>\n",
       "    </tr>\n",
       "    <tr>\n",
       "      <th>furniture_decor</th>\n",
       "      <td>6403</td>\n",
       "      <td>6403</td>\n",
       "      <td>6403</td>\n",
       "      <td>6403</td>\n",
       "      <td>6403</td>\n",
       "      <td>6403</td>\n",
       "      <td>6403</td>\n",
       "      <td>6403</td>\n",
       "      <td>6403</td>\n",
       "      <td>6403</td>\n",
       "      <td>...</td>\n",
       "      <td>6403</td>\n",
       "      <td>6403</td>\n",
       "      <td>6403</td>\n",
       "      <td>6403</td>\n",
       "      <td>6403</td>\n",
       "      <td>6403</td>\n",
       "      <td>6403</td>\n",
       "      <td>6403</td>\n",
       "      <td>6403</td>\n",
       "      <td>6403</td>\n",
       "    </tr>\n",
       "    <tr>\n",
       "      <th>housewares</th>\n",
       "      <td>5884</td>\n",
       "      <td>5884</td>\n",
       "      <td>5884</td>\n",
       "      <td>5884</td>\n",
       "      <td>5884</td>\n",
       "      <td>5884</td>\n",
       "      <td>5884</td>\n",
       "      <td>5884</td>\n",
       "      <td>5884</td>\n",
       "      <td>5884</td>\n",
       "      <td>...</td>\n",
       "      <td>5884</td>\n",
       "      <td>5884</td>\n",
       "      <td>5884</td>\n",
       "      <td>5884</td>\n",
       "      <td>5884</td>\n",
       "      <td>5884</td>\n",
       "      <td>5884</td>\n",
       "      <td>5884</td>\n",
       "      <td>5884</td>\n",
       "      <td>5884</td>\n",
       "    </tr>\n",
       "    <tr>\n",
       "      <th>watches_gifts</th>\n",
       "      <td>5601</td>\n",
       "      <td>5601</td>\n",
       "      <td>5601</td>\n",
       "      <td>5601</td>\n",
       "      <td>5601</td>\n",
       "      <td>5601</td>\n",
       "      <td>5601</td>\n",
       "      <td>5601</td>\n",
       "      <td>5601</td>\n",
       "      <td>5601</td>\n",
       "      <td>...</td>\n",
       "      <td>5601</td>\n",
       "      <td>5601</td>\n",
       "      <td>5601</td>\n",
       "      <td>5601</td>\n",
       "      <td>5601</td>\n",
       "      <td>5601</td>\n",
       "      <td>5601</td>\n",
       "      <td>5601</td>\n",
       "      <td>5601</td>\n",
       "      <td>5601</td>\n",
       "    </tr>\n",
       "    <tr>\n",
       "      <th>telephony</th>\n",
       "      <td>4176</td>\n",
       "      <td>4176</td>\n",
       "      <td>4176</td>\n",
       "      <td>4176</td>\n",
       "      <td>4176</td>\n",
       "      <td>4176</td>\n",
       "      <td>4176</td>\n",
       "      <td>4176</td>\n",
       "      <td>4176</td>\n",
       "      <td>4176</td>\n",
       "      <td>...</td>\n",
       "      <td>4176</td>\n",
       "      <td>4176</td>\n",
       "      <td>4176</td>\n",
       "      <td>4176</td>\n",
       "      <td>4176</td>\n",
       "      <td>4176</td>\n",
       "      <td>4176</td>\n",
       "      <td>4176</td>\n",
       "      <td>4176</td>\n",
       "      <td>4176</td>\n",
       "    </tr>\n",
       "    <tr>\n",
       "      <th>auto</th>\n",
       "      <td>3881</td>\n",
       "      <td>3881</td>\n",
       "      <td>3881</td>\n",
       "      <td>3881</td>\n",
       "      <td>3881</td>\n",
       "      <td>3881</td>\n",
       "      <td>3881</td>\n",
       "      <td>3881</td>\n",
       "      <td>3881</td>\n",
       "      <td>3881</td>\n",
       "      <td>...</td>\n",
       "      <td>3881</td>\n",
       "      <td>3881</td>\n",
       "      <td>3881</td>\n",
       "      <td>3881</td>\n",
       "      <td>3881</td>\n",
       "      <td>3881</td>\n",
       "      <td>3881</td>\n",
       "      <td>3881</td>\n",
       "      <td>3881</td>\n",
       "      <td>3881</td>\n",
       "    </tr>\n",
       "    <tr>\n",
       "      <th>toys</th>\n",
       "      <td>3856</td>\n",
       "      <td>3856</td>\n",
       "      <td>3856</td>\n",
       "      <td>3856</td>\n",
       "      <td>3856</td>\n",
       "      <td>3856</td>\n",
       "      <td>3856</td>\n",
       "      <td>3856</td>\n",
       "      <td>3856</td>\n",
       "      <td>3856</td>\n",
       "      <td>...</td>\n",
       "      <td>3856</td>\n",
       "      <td>3856</td>\n",
       "      <td>3856</td>\n",
       "      <td>3856</td>\n",
       "      <td>3856</td>\n",
       "      <td>3856</td>\n",
       "      <td>3856</td>\n",
       "      <td>3856</td>\n",
       "      <td>3856</td>\n",
       "      <td>3856</td>\n",
       "    </tr>\n",
       "    <tr>\n",
       "      <th>cool_stuff</th>\n",
       "      <td>3608</td>\n",
       "      <td>3608</td>\n",
       "      <td>3608</td>\n",
       "      <td>3608</td>\n",
       "      <td>3608</td>\n",
       "      <td>3608</td>\n",
       "      <td>3608</td>\n",
       "      <td>3608</td>\n",
       "      <td>3608</td>\n",
       "      <td>3608</td>\n",
       "      <td>...</td>\n",
       "      <td>3608</td>\n",
       "      <td>3608</td>\n",
       "      <td>3608</td>\n",
       "      <td>3608</td>\n",
       "      <td>3608</td>\n",
       "      <td>3608</td>\n",
       "      <td>3608</td>\n",
       "      <td>3608</td>\n",
       "      <td>3608</td>\n",
       "      <td>3608</td>\n",
       "    </tr>\n",
       "    <tr>\n",
       "      <th>garden_tools</th>\n",
       "      <td>3459</td>\n",
       "      <td>3459</td>\n",
       "      <td>3459</td>\n",
       "      <td>3459</td>\n",
       "      <td>3459</td>\n",
       "      <td>3459</td>\n",
       "      <td>3459</td>\n",
       "      <td>3459</td>\n",
       "      <td>3459</td>\n",
       "      <td>3459</td>\n",
       "      <td>...</td>\n",
       "      <td>3459</td>\n",
       "      <td>3459</td>\n",
       "      <td>3459</td>\n",
       "      <td>3459</td>\n",
       "      <td>3459</td>\n",
       "      <td>3459</td>\n",
       "      <td>3459</td>\n",
       "      <td>3459</td>\n",
       "      <td>3459</td>\n",
       "      <td>3459</td>\n",
       "    </tr>\n",
       "    <tr>\n",
       "      <th>perfumery</th>\n",
       "      <td>3154</td>\n",
       "      <td>3154</td>\n",
       "      <td>3154</td>\n",
       "      <td>3154</td>\n",
       "      <td>3154</td>\n",
       "      <td>3154</td>\n",
       "      <td>3154</td>\n",
       "      <td>3154</td>\n",
       "      <td>3154</td>\n",
       "      <td>3154</td>\n",
       "      <td>...</td>\n",
       "      <td>3154</td>\n",
       "      <td>3154</td>\n",
       "      <td>3154</td>\n",
       "      <td>3154</td>\n",
       "      <td>3154</td>\n",
       "      <td>3154</td>\n",
       "      <td>3154</td>\n",
       "      <td>3154</td>\n",
       "      <td>3154</td>\n",
       "      <td>3154</td>\n",
       "    </tr>\n",
       "    <tr>\n",
       "      <th>baby</th>\n",
       "      <td>2879</td>\n",
       "      <td>2879</td>\n",
       "      <td>2879</td>\n",
       "      <td>2879</td>\n",
       "      <td>2879</td>\n",
       "      <td>2879</td>\n",
       "      <td>2879</td>\n",
       "      <td>2879</td>\n",
       "      <td>2879</td>\n",
       "      <td>2879</td>\n",
       "      <td>...</td>\n",
       "      <td>2879</td>\n",
       "      <td>2879</td>\n",
       "      <td>2879</td>\n",
       "      <td>2879</td>\n",
       "      <td>2879</td>\n",
       "      <td>2879</td>\n",
       "      <td>2879</td>\n",
       "      <td>2879</td>\n",
       "      <td>2879</td>\n",
       "      <td>2879</td>\n",
       "    </tr>\n",
       "    <tr>\n",
       "      <th>electronics</th>\n",
       "      <td>2541</td>\n",
       "      <td>2541</td>\n",
       "      <td>2541</td>\n",
       "      <td>2541</td>\n",
       "      <td>2541</td>\n",
       "      <td>2541</td>\n",
       "      <td>2541</td>\n",
       "      <td>2541</td>\n",
       "      <td>2541</td>\n",
       "      <td>2541</td>\n",
       "      <td>...</td>\n",
       "      <td>2541</td>\n",
       "      <td>2541</td>\n",
       "      <td>2541</td>\n",
       "      <td>2541</td>\n",
       "      <td>2541</td>\n",
       "      <td>2541</td>\n",
       "      <td>2541</td>\n",
       "      <td>2541</td>\n",
       "      <td>2541</td>\n",
       "      <td>2541</td>\n",
       "    </tr>\n",
       "    <tr>\n",
       "      <th>stationery</th>\n",
       "      <td>2290</td>\n",
       "      <td>2290</td>\n",
       "      <td>2290</td>\n",
       "      <td>2290</td>\n",
       "      <td>2290</td>\n",
       "      <td>2290</td>\n",
       "      <td>2290</td>\n",
       "      <td>2290</td>\n",
       "      <td>2290</td>\n",
       "      <td>2290</td>\n",
       "      <td>...</td>\n",
       "      <td>2290</td>\n",
       "      <td>2290</td>\n",
       "      <td>2290</td>\n",
       "      <td>2290</td>\n",
       "      <td>2290</td>\n",
       "      <td>2290</td>\n",
       "      <td>2290</td>\n",
       "      <td>2290</td>\n",
       "      <td>2290</td>\n",
       "      <td>2290</td>\n",
       "    </tr>\n",
       "    <tr>\n",
       "      <th>fashion_bags_accessories</th>\n",
       "      <td>1857</td>\n",
       "      <td>1857</td>\n",
       "      <td>1857</td>\n",
       "      <td>1857</td>\n",
       "      <td>1857</td>\n",
       "      <td>1857</td>\n",
       "      <td>1857</td>\n",
       "      <td>1857</td>\n",
       "      <td>1857</td>\n",
       "      <td>1857</td>\n",
       "      <td>...</td>\n",
       "      <td>1857</td>\n",
       "      <td>1857</td>\n",
       "      <td>1857</td>\n",
       "      <td>1857</td>\n",
       "      <td>1857</td>\n",
       "      <td>1857</td>\n",
       "      <td>1857</td>\n",
       "      <td>1857</td>\n",
       "      <td>1857</td>\n",
       "      <td>1857</td>\n",
       "    </tr>\n",
       "    <tr>\n",
       "      <th>pet_shop</th>\n",
       "      <td>1706</td>\n",
       "      <td>1706</td>\n",
       "      <td>1706</td>\n",
       "      <td>1706</td>\n",
       "      <td>1706</td>\n",
       "      <td>1706</td>\n",
       "      <td>1706</td>\n",
       "      <td>1706</td>\n",
       "      <td>1706</td>\n",
       "      <td>1706</td>\n",
       "      <td>...</td>\n",
       "      <td>1706</td>\n",
       "      <td>1706</td>\n",
       "      <td>1706</td>\n",
       "      <td>1706</td>\n",
       "      <td>1706</td>\n",
       "      <td>1706</td>\n",
       "      <td>1706</td>\n",
       "      <td>1706</td>\n",
       "      <td>1706</td>\n",
       "      <td>1706</td>\n",
       "    </tr>\n",
       "    <tr>\n",
       "      <th>office_furniture</th>\n",
       "      <td>1266</td>\n",
       "      <td>1266</td>\n",
       "      <td>1266</td>\n",
       "      <td>1266</td>\n",
       "      <td>1266</td>\n",
       "      <td>1266</td>\n",
       "      <td>1266</td>\n",
       "      <td>1266</td>\n",
       "      <td>1266</td>\n",
       "      <td>1266</td>\n",
       "      <td>...</td>\n",
       "      <td>1266</td>\n",
       "      <td>1266</td>\n",
       "      <td>1266</td>\n",
       "      <td>1266</td>\n",
       "      <td>1266</td>\n",
       "      <td>1266</td>\n",
       "      <td>1266</td>\n",
       "      <td>1266</td>\n",
       "      <td>1266</td>\n",
       "      <td>1266</td>\n",
       "    </tr>\n",
       "    <tr>\n",
       "      <th>consoles_games</th>\n",
       "      <td>1054</td>\n",
       "      <td>1054</td>\n",
       "      <td>1054</td>\n",
       "      <td>1054</td>\n",
       "      <td>1054</td>\n",
       "      <td>1054</td>\n",
       "      <td>1054</td>\n",
       "      <td>1054</td>\n",
       "      <td>1054</td>\n",
       "      <td>1054</td>\n",
       "      <td>...</td>\n",
       "      <td>1054</td>\n",
       "      <td>1054</td>\n",
       "      <td>1054</td>\n",
       "      <td>1054</td>\n",
       "      <td>1054</td>\n",
       "      <td>1054</td>\n",
       "      <td>1054</td>\n",
       "      <td>1054</td>\n",
       "      <td>1054</td>\n",
       "      <td>1054</td>\n",
       "    </tr>\n",
       "    <tr>\n",
       "      <th>luggage_accessories</th>\n",
       "      <td>1019</td>\n",
       "      <td>1019</td>\n",
       "      <td>1019</td>\n",
       "      <td>1019</td>\n",
       "      <td>1019</td>\n",
       "      <td>1019</td>\n",
       "      <td>1019</td>\n",
       "      <td>1019</td>\n",
       "      <td>1019</td>\n",
       "      <td>1019</td>\n",
       "      <td>...</td>\n",
       "      <td>1019</td>\n",
       "      <td>1019</td>\n",
       "      <td>1019</td>\n",
       "      <td>1019</td>\n",
       "      <td>1019</td>\n",
       "      <td>1019</td>\n",
       "      <td>1019</td>\n",
       "      <td>1019</td>\n",
       "      <td>1019</td>\n",
       "      <td>1019</td>\n",
       "    </tr>\n",
       "    <tr>\n",
       "      <th>home_appliances</th>\n",
       "      <td>764</td>\n",
       "      <td>764</td>\n",
       "      <td>764</td>\n",
       "      <td>764</td>\n",
       "      <td>764</td>\n",
       "      <td>764</td>\n",
       "      <td>764</td>\n",
       "      <td>764</td>\n",
       "      <td>764</td>\n",
       "      <td>764</td>\n",
       "      <td>...</td>\n",
       "      <td>764</td>\n",
       "      <td>764</td>\n",
       "      <td>764</td>\n",
       "      <td>764</td>\n",
       "      <td>764</td>\n",
       "      <td>764</td>\n",
       "      <td>764</td>\n",
       "      <td>764</td>\n",
       "      <td>764</td>\n",
       "      <td>764</td>\n",
       "    </tr>\n",
       "    <tr>\n",
       "      <th>construction_tools_construction</th>\n",
       "      <td>743</td>\n",
       "      <td>743</td>\n",
       "      <td>743</td>\n",
       "      <td>743</td>\n",
       "      <td>743</td>\n",
       "      <td>743</td>\n",
       "      <td>743</td>\n",
       "      <td>743</td>\n",
       "      <td>743</td>\n",
       "      <td>743</td>\n",
       "      <td>...</td>\n",
       "      <td>743</td>\n",
       "      <td>743</td>\n",
       "      <td>743</td>\n",
       "      <td>743</td>\n",
       "      <td>743</td>\n",
       "      <td>743</td>\n",
       "      <td>743</td>\n",
       "      <td>743</td>\n",
       "      <td>743</td>\n",
       "      <td>743</td>\n",
       "    </tr>\n",
       "    <tr>\n",
       "      <th>small_appliances</th>\n",
       "      <td>623</td>\n",
       "      <td>623</td>\n",
       "      <td>623</td>\n",
       "      <td>623</td>\n",
       "      <td>623</td>\n",
       "      <td>623</td>\n",
       "      <td>623</td>\n",
       "      <td>623</td>\n",
       "      <td>623</td>\n",
       "      <td>623</td>\n",
       "      <td>...</td>\n",
       "      <td>623</td>\n",
       "      <td>623</td>\n",
       "      <td>623</td>\n",
       "      <td>623</td>\n",
       "      <td>623</td>\n",
       "      <td>623</td>\n",
       "      <td>623</td>\n",
       "      <td>623</td>\n",
       "      <td>623</td>\n",
       "      <td>623</td>\n",
       "    </tr>\n",
       "    <tr>\n",
       "      <th>musical_instruments</th>\n",
       "      <td>623</td>\n",
       "      <td>623</td>\n",
       "      <td>623</td>\n",
       "      <td>623</td>\n",
       "      <td>623</td>\n",
       "      <td>623</td>\n",
       "      <td>623</td>\n",
       "      <td>623</td>\n",
       "      <td>623</td>\n",
       "      <td>623</td>\n",
       "      <td>...</td>\n",
       "      <td>623</td>\n",
       "      <td>623</td>\n",
       "      <td>623</td>\n",
       "      <td>623</td>\n",
       "      <td>623</td>\n",
       "      <td>623</td>\n",
       "      <td>623</td>\n",
       "      <td>623</td>\n",
       "      <td>623</td>\n",
       "      <td>623</td>\n",
       "    </tr>\n",
       "    <tr>\n",
       "      <th>books_general_interest</th>\n",
       "      <td>507</td>\n",
       "      <td>507</td>\n",
       "      <td>507</td>\n",
       "      <td>507</td>\n",
       "      <td>507</td>\n",
       "      <td>507</td>\n",
       "      <td>507</td>\n",
       "      <td>507</td>\n",
       "      <td>507</td>\n",
       "      <td>507</td>\n",
       "      <td>...</td>\n",
       "      <td>507</td>\n",
       "      <td>507</td>\n",
       "      <td>507</td>\n",
       "      <td>507</td>\n",
       "      <td>507</td>\n",
       "      <td>507</td>\n",
       "      <td>507</td>\n",
       "      <td>507</td>\n",
       "      <td>507</td>\n",
       "      <td>507</td>\n",
       "    </tr>\n",
       "    <tr>\n",
       "      <th>home_construction</th>\n",
       "      <td>468</td>\n",
       "      <td>468</td>\n",
       "      <td>468</td>\n",
       "      <td>468</td>\n",
       "      <td>468</td>\n",
       "      <td>468</td>\n",
       "      <td>468</td>\n",
       "      <td>468</td>\n",
       "      <td>468</td>\n",
       "      <td>468</td>\n",
       "      <td>...</td>\n",
       "      <td>468</td>\n",
       "      <td>468</td>\n",
       "      <td>468</td>\n",
       "      <td>468</td>\n",
       "      <td>468</td>\n",
       "      <td>468</td>\n",
       "      <td>468</td>\n",
       "      <td>468</td>\n",
       "      <td>468</td>\n",
       "      <td>468</td>\n",
       "    </tr>\n",
       "    <tr>\n",
       "      <th>food</th>\n",
       "      <td>444</td>\n",
       "      <td>444</td>\n",
       "      <td>444</td>\n",
       "      <td>444</td>\n",
       "      <td>444</td>\n",
       "      <td>444</td>\n",
       "      <td>444</td>\n",
       "      <td>444</td>\n",
       "      <td>444</td>\n",
       "      <td>444</td>\n",
       "      <td>...</td>\n",
       "      <td>444</td>\n",
       "      <td>444</td>\n",
       "      <td>444</td>\n",
       "      <td>444</td>\n",
       "      <td>444</td>\n",
       "      <td>444</td>\n",
       "      <td>444</td>\n",
       "      <td>444</td>\n",
       "      <td>444</td>\n",
       "      <td>444</td>\n",
       "    </tr>\n",
       "    <tr>\n",
       "      <th>furniture_living_room</th>\n",
       "      <td>409</td>\n",
       "      <td>409</td>\n",
       "      <td>409</td>\n",
       "      <td>409</td>\n",
       "      <td>409</td>\n",
       "      <td>409</td>\n",
       "      <td>409</td>\n",
       "      <td>409</td>\n",
       "      <td>409</td>\n",
       "      <td>409</td>\n",
       "      <td>...</td>\n",
       "      <td>409</td>\n",
       "      <td>409</td>\n",
       "      <td>409</td>\n",
       "      <td>409</td>\n",
       "      <td>409</td>\n",
       "      <td>409</td>\n",
       "      <td>409</td>\n",
       "      <td>409</td>\n",
       "      <td>409</td>\n",
       "      <td>409</td>\n",
       "    </tr>\n",
       "    <tr>\n",
       "      <th>home_confort</th>\n",
       "      <td>347</td>\n",
       "      <td>347</td>\n",
       "      <td>347</td>\n",
       "      <td>347</td>\n",
       "      <td>347</td>\n",
       "      <td>347</td>\n",
       "      <td>347</td>\n",
       "      <td>347</td>\n",
       "      <td>347</td>\n",
       "      <td>347</td>\n",
       "      <td>...</td>\n",
       "      <td>347</td>\n",
       "      <td>347</td>\n",
       "      <td>347</td>\n",
       "      <td>347</td>\n",
       "      <td>347</td>\n",
       "      <td>347</td>\n",
       "      <td>347</td>\n",
       "      <td>347</td>\n",
       "      <td>347</td>\n",
       "      <td>347</td>\n",
       "    </tr>\n",
       "    <tr>\n",
       "      <th>...</th>\n",
       "      <td>...</td>\n",
       "      <td>...</td>\n",
       "      <td>...</td>\n",
       "      <td>...</td>\n",
       "      <td>...</td>\n",
       "      <td>...</td>\n",
       "      <td>...</td>\n",
       "      <td>...</td>\n",
       "      <td>...</td>\n",
       "      <td>...</td>\n",
       "      <td>...</td>\n",
       "      <td>...</td>\n",
       "      <td>...</td>\n",
       "      <td>...</td>\n",
       "      <td>...</td>\n",
       "      <td>...</td>\n",
       "      <td>...</td>\n",
       "      <td>...</td>\n",
       "      <td>...</td>\n",
       "      <td>...</td>\n",
       "      <td>...</td>\n",
       "    </tr>\n",
       "    <tr>\n",
       "      <th>fixed_telephony</th>\n",
       "      <td>215</td>\n",
       "      <td>215</td>\n",
       "      <td>215</td>\n",
       "      <td>215</td>\n",
       "      <td>215</td>\n",
       "      <td>215</td>\n",
       "      <td>215</td>\n",
       "      <td>215</td>\n",
       "      <td>215</td>\n",
       "      <td>215</td>\n",
       "      <td>...</td>\n",
       "      <td>215</td>\n",
       "      <td>215</td>\n",
       "      <td>215</td>\n",
       "      <td>215</td>\n",
       "      <td>215</td>\n",
       "      <td>215</td>\n",
       "      <td>215</td>\n",
       "      <td>215</td>\n",
       "      <td>215</td>\n",
       "      <td>215</td>\n",
       "    </tr>\n",
       "    <tr>\n",
       "      <th>art</th>\n",
       "      <td>196</td>\n",
       "      <td>196</td>\n",
       "      <td>196</td>\n",
       "      <td>196</td>\n",
       "      <td>196</td>\n",
       "      <td>196</td>\n",
       "      <td>196</td>\n",
       "      <td>196</td>\n",
       "      <td>196</td>\n",
       "      <td>196</td>\n",
       "      <td>...</td>\n",
       "      <td>196</td>\n",
       "      <td>196</td>\n",
       "      <td>196</td>\n",
       "      <td>196</td>\n",
       "      <td>196</td>\n",
       "      <td>196</td>\n",
       "      <td>196</td>\n",
       "      <td>196</td>\n",
       "      <td>196</td>\n",
       "      <td>196</td>\n",
       "    </tr>\n",
       "    <tr>\n",
       "      <th>costruction_tools_garden</th>\n",
       "      <td>187</td>\n",
       "      <td>187</td>\n",
       "      <td>187</td>\n",
       "      <td>187</td>\n",
       "      <td>187</td>\n",
       "      <td>187</td>\n",
       "      <td>187</td>\n",
       "      <td>187</td>\n",
       "      <td>187</td>\n",
       "      <td>187</td>\n",
       "      <td>...</td>\n",
       "      <td>187</td>\n",
       "      <td>187</td>\n",
       "      <td>187</td>\n",
       "      <td>187</td>\n",
       "      <td>187</td>\n",
       "      <td>187</td>\n",
       "      <td>187</td>\n",
       "      <td>187</td>\n",
       "      <td>187</td>\n",
       "      <td>187</td>\n",
       "    </tr>\n",
       "    <tr>\n",
       "      <th>agro_industry_and_commerce</th>\n",
       "      <td>182</td>\n",
       "      <td>182</td>\n",
       "      <td>182</td>\n",
       "      <td>182</td>\n",
       "      <td>182</td>\n",
       "      <td>182</td>\n",
       "      <td>182</td>\n",
       "      <td>182</td>\n",
       "      <td>182</td>\n",
       "      <td>182</td>\n",
       "      <td>...</td>\n",
       "      <td>182</td>\n",
       "      <td>182</td>\n",
       "      <td>182</td>\n",
       "      <td>182</td>\n",
       "      <td>182</td>\n",
       "      <td>182</td>\n",
       "      <td>182</td>\n",
       "      <td>182</td>\n",
       "      <td>182</td>\n",
       "      <td>182</td>\n",
       "    </tr>\n",
       "    <tr>\n",
       "      <th>computers</th>\n",
       "      <td>180</td>\n",
       "      <td>180</td>\n",
       "      <td>180</td>\n",
       "      <td>180</td>\n",
       "      <td>180</td>\n",
       "      <td>180</td>\n",
       "      <td>180</td>\n",
       "      <td>180</td>\n",
       "      <td>180</td>\n",
       "      <td>180</td>\n",
       "      <td>...</td>\n",
       "      <td>180</td>\n",
       "      <td>180</td>\n",
       "      <td>180</td>\n",
       "      <td>180</td>\n",
       "      <td>180</td>\n",
       "      <td>180</td>\n",
       "      <td>180</td>\n",
       "      <td>180</td>\n",
       "      <td>180</td>\n",
       "      <td>180</td>\n",
       "    </tr>\n",
       "    <tr>\n",
       "      <th>construction_tools_safety</th>\n",
       "      <td>159</td>\n",
       "      <td>159</td>\n",
       "      <td>159</td>\n",
       "      <td>159</td>\n",
       "      <td>159</td>\n",
       "      <td>159</td>\n",
       "      <td>159</td>\n",
       "      <td>159</td>\n",
       "      <td>159</td>\n",
       "      <td>159</td>\n",
       "      <td>...</td>\n",
       "      <td>159</td>\n",
       "      <td>159</td>\n",
       "      <td>159</td>\n",
       "      <td>159</td>\n",
       "      <td>159</td>\n",
       "      <td>159</td>\n",
       "      <td>159</td>\n",
       "      <td>159</td>\n",
       "      <td>159</td>\n",
       "      <td>159</td>\n",
       "    </tr>\n",
       "    <tr>\n",
       "      <th>signaling_and_security</th>\n",
       "      <td>139</td>\n",
       "      <td>139</td>\n",
       "      <td>139</td>\n",
       "      <td>139</td>\n",
       "      <td>139</td>\n",
       "      <td>139</td>\n",
       "      <td>139</td>\n",
       "      <td>139</td>\n",
       "      <td>139</td>\n",
       "      <td>139</td>\n",
       "      <td>...</td>\n",
       "      <td>139</td>\n",
       "      <td>139</td>\n",
       "      <td>139</td>\n",
       "      <td>139</td>\n",
       "      <td>139</td>\n",
       "      <td>139</td>\n",
       "      <td>139</td>\n",
       "      <td>139</td>\n",
       "      <td>139</td>\n",
       "      <td>139</td>\n",
       "    </tr>\n",
       "    <tr>\n",
       "      <th>christmas_supplies</th>\n",
       "      <td>127</td>\n",
       "      <td>127</td>\n",
       "      <td>127</td>\n",
       "      <td>127</td>\n",
       "      <td>127</td>\n",
       "      <td>127</td>\n",
       "      <td>127</td>\n",
       "      <td>127</td>\n",
       "      <td>127</td>\n",
       "      <td>127</td>\n",
       "      <td>...</td>\n",
       "      <td>127</td>\n",
       "      <td>127</td>\n",
       "      <td>127</td>\n",
       "      <td>127</td>\n",
       "      <td>127</td>\n",
       "      <td>127</td>\n",
       "      <td>127</td>\n",
       "      <td>127</td>\n",
       "      <td>127</td>\n",
       "      <td>127</td>\n",
       "    </tr>\n",
       "    <tr>\n",
       "      <th>fashion_underwear_beach</th>\n",
       "      <td>121</td>\n",
       "      <td>121</td>\n",
       "      <td>121</td>\n",
       "      <td>121</td>\n",
       "      <td>121</td>\n",
       "      <td>121</td>\n",
       "      <td>121</td>\n",
       "      <td>121</td>\n",
       "      <td>121</td>\n",
       "      <td>121</td>\n",
       "      <td>...</td>\n",
       "      <td>121</td>\n",
       "      <td>121</td>\n",
       "      <td>121</td>\n",
       "      <td>121</td>\n",
       "      <td>121</td>\n",
       "      <td>121</td>\n",
       "      <td>121</td>\n",
       "      <td>121</td>\n",
       "      <td>121</td>\n",
       "      <td>121</td>\n",
       "    </tr>\n",
       "    <tr>\n",
       "      <th>fashion_male_clothing</th>\n",
       "      <td>112</td>\n",
       "      <td>112</td>\n",
       "      <td>112</td>\n",
       "      <td>112</td>\n",
       "      <td>112</td>\n",
       "      <td>112</td>\n",
       "      <td>112</td>\n",
       "      <td>112</td>\n",
       "      <td>112</td>\n",
       "      <td>112</td>\n",
       "      <td>...</td>\n",
       "      <td>112</td>\n",
       "      <td>112</td>\n",
       "      <td>112</td>\n",
       "      <td>112</td>\n",
       "      <td>112</td>\n",
       "      <td>112</td>\n",
       "      <td>112</td>\n",
       "      <td>112</td>\n",
       "      <td>112</td>\n",
       "      <td>112</td>\n",
       "    </tr>\n",
       "    <tr>\n",
       "      <th>costruction_tools_tools</th>\n",
       "      <td>97</td>\n",
       "      <td>97</td>\n",
       "      <td>97</td>\n",
       "      <td>97</td>\n",
       "      <td>97</td>\n",
       "      <td>97</td>\n",
       "      <td>97</td>\n",
       "      <td>97</td>\n",
       "      <td>97</td>\n",
       "      <td>97</td>\n",
       "      <td>...</td>\n",
       "      <td>97</td>\n",
       "      <td>97</td>\n",
       "      <td>97</td>\n",
       "      <td>97</td>\n",
       "      <td>97</td>\n",
       "      <td>97</td>\n",
       "      <td>97</td>\n",
       "      <td>97</td>\n",
       "      <td>97</td>\n",
       "      <td>97</td>\n",
       "    </tr>\n",
       "    <tr>\n",
       "      <th>furniture_bedroom</th>\n",
       "      <td>92</td>\n",
       "      <td>92</td>\n",
       "      <td>92</td>\n",
       "      <td>92</td>\n",
       "      <td>92</td>\n",
       "      <td>92</td>\n",
       "      <td>92</td>\n",
       "      <td>92</td>\n",
       "      <td>92</td>\n",
       "      <td>92</td>\n",
       "      <td>...</td>\n",
       "      <td>92</td>\n",
       "      <td>92</td>\n",
       "      <td>92</td>\n",
       "      <td>92</td>\n",
       "      <td>92</td>\n",
       "      <td>92</td>\n",
       "      <td>92</td>\n",
       "      <td>92</td>\n",
       "      <td>92</td>\n",
       "      <td>92</td>\n",
       "    </tr>\n",
       "    <tr>\n",
       "      <th>tablets_printing_image</th>\n",
       "      <td>76</td>\n",
       "      <td>76</td>\n",
       "      <td>76</td>\n",
       "      <td>76</td>\n",
       "      <td>76</td>\n",
       "      <td>76</td>\n",
       "      <td>76</td>\n",
       "      <td>76</td>\n",
       "      <td>76</td>\n",
       "      <td>76</td>\n",
       "      <td>...</td>\n",
       "      <td>76</td>\n",
       "      <td>76</td>\n",
       "      <td>76</td>\n",
       "      <td>76</td>\n",
       "      <td>76</td>\n",
       "      <td>76</td>\n",
       "      <td>76</td>\n",
       "      <td>76</td>\n",
       "      <td>76</td>\n",
       "      <td>76</td>\n",
       "    </tr>\n",
       "    <tr>\n",
       "      <th>small_appliances_home_oven_and_coffee</th>\n",
       "      <td>75</td>\n",
       "      <td>75</td>\n",
       "      <td>75</td>\n",
       "      <td>75</td>\n",
       "      <td>75</td>\n",
       "      <td>75</td>\n",
       "      <td>75</td>\n",
       "      <td>75</td>\n",
       "      <td>75</td>\n",
       "      <td>75</td>\n",
       "      <td>...</td>\n",
       "      <td>75</td>\n",
       "      <td>75</td>\n",
       "      <td>75</td>\n",
       "      <td>75</td>\n",
       "      <td>75</td>\n",
       "      <td>75</td>\n",
       "      <td>75</td>\n",
       "      <td>75</td>\n",
       "      <td>75</td>\n",
       "      <td>75</td>\n",
       "    </tr>\n",
       "    <tr>\n",
       "      <th>cine_photo</th>\n",
       "      <td>63</td>\n",
       "      <td>63</td>\n",
       "      <td>63</td>\n",
       "      <td>63</td>\n",
       "      <td>63</td>\n",
       "      <td>63</td>\n",
       "      <td>63</td>\n",
       "      <td>63</td>\n",
       "      <td>63</td>\n",
       "      <td>63</td>\n",
       "      <td>...</td>\n",
       "      <td>63</td>\n",
       "      <td>63</td>\n",
       "      <td>63</td>\n",
       "      <td>63</td>\n",
       "      <td>63</td>\n",
       "      <td>63</td>\n",
       "      <td>63</td>\n",
       "      <td>63</td>\n",
       "      <td>63</td>\n",
       "      <td>63</td>\n",
       "    </tr>\n",
       "    <tr>\n",
       "      <th>dvds_blu_ray</th>\n",
       "      <td>57</td>\n",
       "      <td>57</td>\n",
       "      <td>57</td>\n",
       "      <td>57</td>\n",
       "      <td>57</td>\n",
       "      <td>57</td>\n",
       "      <td>57</td>\n",
       "      <td>57</td>\n",
       "      <td>57</td>\n",
       "      <td>57</td>\n",
       "      <td>...</td>\n",
       "      <td>57</td>\n",
       "      <td>57</td>\n",
       "      <td>57</td>\n",
       "      <td>57</td>\n",
       "      <td>57</td>\n",
       "      <td>57</td>\n",
       "      <td>57</td>\n",
       "      <td>57</td>\n",
       "      <td>57</td>\n",
       "      <td>57</td>\n",
       "    </tr>\n",
       "    <tr>\n",
       "      <th>books_imported</th>\n",
       "      <td>53</td>\n",
       "      <td>53</td>\n",
       "      <td>53</td>\n",
       "      <td>53</td>\n",
       "      <td>53</td>\n",
       "      <td>53</td>\n",
       "      <td>53</td>\n",
       "      <td>53</td>\n",
       "      <td>53</td>\n",
       "      <td>53</td>\n",
       "      <td>...</td>\n",
       "      <td>53</td>\n",
       "      <td>53</td>\n",
       "      <td>53</td>\n",
       "      <td>53</td>\n",
       "      <td>53</td>\n",
       "      <td>53</td>\n",
       "      <td>53</td>\n",
       "      <td>53</td>\n",
       "      <td>53</td>\n",
       "      <td>53</td>\n",
       "    </tr>\n",
       "    <tr>\n",
       "      <th>party_supplies</th>\n",
       "      <td>39</td>\n",
       "      <td>39</td>\n",
       "      <td>39</td>\n",
       "      <td>39</td>\n",
       "      <td>39</td>\n",
       "      <td>39</td>\n",
       "      <td>39</td>\n",
       "      <td>39</td>\n",
       "      <td>39</td>\n",
       "      <td>39</td>\n",
       "      <td>...</td>\n",
       "      <td>39</td>\n",
       "      <td>39</td>\n",
       "      <td>39</td>\n",
       "      <td>39</td>\n",
       "      <td>39</td>\n",
       "      <td>39</td>\n",
       "      <td>39</td>\n",
       "      <td>39</td>\n",
       "      <td>39</td>\n",
       "      <td>39</td>\n",
       "    </tr>\n",
       "    <tr>\n",
       "      <th>furniture_mattress_and_upholstery</th>\n",
       "      <td>38</td>\n",
       "      <td>38</td>\n",
       "      <td>38</td>\n",
       "      <td>38</td>\n",
       "      <td>38</td>\n",
       "      <td>38</td>\n",
       "      <td>38</td>\n",
       "      <td>38</td>\n",
       "      <td>38</td>\n",
       "      <td>38</td>\n",
       "      <td>...</td>\n",
       "      <td>38</td>\n",
       "      <td>38</td>\n",
       "      <td>38</td>\n",
       "      <td>38</td>\n",
       "      <td>38</td>\n",
       "      <td>38</td>\n",
       "      <td>38</td>\n",
       "      <td>38</td>\n",
       "      <td>38</td>\n",
       "      <td>38</td>\n",
       "    </tr>\n",
       "    <tr>\n",
       "      <th>fashio_female_clothing</th>\n",
       "      <td>38</td>\n",
       "      <td>38</td>\n",
       "      <td>38</td>\n",
       "      <td>38</td>\n",
       "      <td>38</td>\n",
       "      <td>38</td>\n",
       "      <td>38</td>\n",
       "      <td>38</td>\n",
       "      <td>38</td>\n",
       "      <td>38</td>\n",
       "      <td>...</td>\n",
       "      <td>38</td>\n",
       "      <td>38</td>\n",
       "      <td>38</td>\n",
       "      <td>38</td>\n",
       "      <td>38</td>\n",
       "      <td>38</td>\n",
       "      <td>38</td>\n",
       "      <td>38</td>\n",
       "      <td>38</td>\n",
       "      <td>38</td>\n",
       "    </tr>\n",
       "    <tr>\n",
       "      <th>music</th>\n",
       "      <td>37</td>\n",
       "      <td>37</td>\n",
       "      <td>37</td>\n",
       "      <td>37</td>\n",
       "      <td>37</td>\n",
       "      <td>37</td>\n",
       "      <td>37</td>\n",
       "      <td>37</td>\n",
       "      <td>37</td>\n",
       "      <td>37</td>\n",
       "      <td>...</td>\n",
       "      <td>37</td>\n",
       "      <td>37</td>\n",
       "      <td>37</td>\n",
       "      <td>37</td>\n",
       "      <td>37</td>\n",
       "      <td>37</td>\n",
       "      <td>37</td>\n",
       "      <td>37</td>\n",
       "      <td>37</td>\n",
       "      <td>37</td>\n",
       "    </tr>\n",
       "    <tr>\n",
       "      <th>diapers_and_hygiene</th>\n",
       "      <td>27</td>\n",
       "      <td>27</td>\n",
       "      <td>27</td>\n",
       "      <td>27</td>\n",
       "      <td>27</td>\n",
       "      <td>27</td>\n",
       "      <td>27</td>\n",
       "      <td>27</td>\n",
       "      <td>27</td>\n",
       "      <td>27</td>\n",
       "      <td>...</td>\n",
       "      <td>27</td>\n",
       "      <td>27</td>\n",
       "      <td>27</td>\n",
       "      <td>27</td>\n",
       "      <td>27</td>\n",
       "      <td>27</td>\n",
       "      <td>27</td>\n",
       "      <td>27</td>\n",
       "      <td>27</td>\n",
       "      <td>27</td>\n",
       "    </tr>\n",
       "    <tr>\n",
       "      <th>flowers</th>\n",
       "      <td>27</td>\n",
       "      <td>27</td>\n",
       "      <td>27</td>\n",
       "      <td>27</td>\n",
       "      <td>27</td>\n",
       "      <td>27</td>\n",
       "      <td>27</td>\n",
       "      <td>27</td>\n",
       "      <td>27</td>\n",
       "      <td>27</td>\n",
       "      <td>...</td>\n",
       "      <td>27</td>\n",
       "      <td>27</td>\n",
       "      <td>27</td>\n",
       "      <td>27</td>\n",
       "      <td>27</td>\n",
       "      <td>27</td>\n",
       "      <td>27</td>\n",
       "      <td>27</td>\n",
       "      <td>27</td>\n",
       "      <td>27</td>\n",
       "    </tr>\n",
       "    <tr>\n",
       "      <th>fashion_sport</th>\n",
       "      <td>26</td>\n",
       "      <td>26</td>\n",
       "      <td>26</td>\n",
       "      <td>26</td>\n",
       "      <td>26</td>\n",
       "      <td>26</td>\n",
       "      <td>26</td>\n",
       "      <td>26</td>\n",
       "      <td>26</td>\n",
       "      <td>26</td>\n",
       "      <td>...</td>\n",
       "      <td>26</td>\n",
       "      <td>26</td>\n",
       "      <td>26</td>\n",
       "      <td>26</td>\n",
       "      <td>26</td>\n",
       "      <td>26</td>\n",
       "      <td>26</td>\n",
       "      <td>26</td>\n",
       "      <td>26</td>\n",
       "      <td>26</td>\n",
       "    </tr>\n",
       "    <tr>\n",
       "      <th>home_comfort_2</th>\n",
       "      <td>22</td>\n",
       "      <td>22</td>\n",
       "      <td>22</td>\n",
       "      <td>22</td>\n",
       "      <td>22</td>\n",
       "      <td>22</td>\n",
       "      <td>22</td>\n",
       "      <td>22</td>\n",
       "      <td>22</td>\n",
       "      <td>22</td>\n",
       "      <td>...</td>\n",
       "      <td>22</td>\n",
       "      <td>22</td>\n",
       "      <td>22</td>\n",
       "      <td>22</td>\n",
       "      <td>22</td>\n",
       "      <td>22</td>\n",
       "      <td>22</td>\n",
       "      <td>22</td>\n",
       "      <td>22</td>\n",
       "      <td>22</td>\n",
       "    </tr>\n",
       "    <tr>\n",
       "      <th>arts_and_craftmanship</th>\n",
       "      <td>21</td>\n",
       "      <td>21</td>\n",
       "      <td>21</td>\n",
       "      <td>21</td>\n",
       "      <td>21</td>\n",
       "      <td>21</td>\n",
       "      <td>21</td>\n",
       "      <td>21</td>\n",
       "      <td>21</td>\n",
       "      <td>21</td>\n",
       "      <td>...</td>\n",
       "      <td>21</td>\n",
       "      <td>21</td>\n",
       "      <td>21</td>\n",
       "      <td>21</td>\n",
       "      <td>21</td>\n",
       "      <td>21</td>\n",
       "      <td>21</td>\n",
       "      <td>21</td>\n",
       "      <td>21</td>\n",
       "      <td>21</td>\n",
       "    </tr>\n",
       "    <tr>\n",
       "      <th>cds_dvds_musicals</th>\n",
       "      <td>12</td>\n",
       "      <td>12</td>\n",
       "      <td>12</td>\n",
       "      <td>12</td>\n",
       "      <td>12</td>\n",
       "      <td>12</td>\n",
       "      <td>12</td>\n",
       "      <td>12</td>\n",
       "      <td>12</td>\n",
       "      <td>12</td>\n",
       "      <td>...</td>\n",
       "      <td>12</td>\n",
       "      <td>12</td>\n",
       "      <td>12</td>\n",
       "      <td>12</td>\n",
       "      <td>12</td>\n",
       "      <td>12</td>\n",
       "      <td>12</td>\n",
       "      <td>12</td>\n",
       "      <td>12</td>\n",
       "      <td>12</td>\n",
       "    </tr>\n",
       "    <tr>\n",
       "      <th>la_cuisine</th>\n",
       "      <td>11</td>\n",
       "      <td>11</td>\n",
       "      <td>11</td>\n",
       "      <td>11</td>\n",
       "      <td>11</td>\n",
       "      <td>11</td>\n",
       "      <td>11</td>\n",
       "      <td>11</td>\n",
       "      <td>11</td>\n",
       "      <td>11</td>\n",
       "      <td>...</td>\n",
       "      <td>11</td>\n",
       "      <td>11</td>\n",
       "      <td>11</td>\n",
       "      <td>11</td>\n",
       "      <td>11</td>\n",
       "      <td>11</td>\n",
       "      <td>11</td>\n",
       "      <td>11</td>\n",
       "      <td>11</td>\n",
       "      <td>11</td>\n",
       "    </tr>\n",
       "    <tr>\n",
       "      <th>fashion_childrens_clothes</th>\n",
       "      <td>6</td>\n",
       "      <td>6</td>\n",
       "      <td>6</td>\n",
       "      <td>6</td>\n",
       "      <td>6</td>\n",
       "      <td>6</td>\n",
       "      <td>6</td>\n",
       "      <td>6</td>\n",
       "      <td>6</td>\n",
       "      <td>6</td>\n",
       "      <td>...</td>\n",
       "      <td>6</td>\n",
       "      <td>6</td>\n",
       "      <td>6</td>\n",
       "      <td>6</td>\n",
       "      <td>6</td>\n",
       "      <td>6</td>\n",
       "      <td>6</td>\n",
       "      <td>6</td>\n",
       "      <td>6</td>\n",
       "      <td>6</td>\n",
       "    </tr>\n",
       "    <tr>\n",
       "      <th>security_and_services</th>\n",
       "      <td>2</td>\n",
       "      <td>2</td>\n",
       "      <td>2</td>\n",
       "      <td>2</td>\n",
       "      <td>2</td>\n",
       "      <td>2</td>\n",
       "      <td>2</td>\n",
       "      <td>2</td>\n",
       "      <td>2</td>\n",
       "      <td>2</td>\n",
       "      <td>...</td>\n",
       "      <td>2</td>\n",
       "      <td>2</td>\n",
       "      <td>2</td>\n",
       "      <td>2</td>\n",
       "      <td>2</td>\n",
       "      <td>2</td>\n",
       "      <td>2</td>\n",
       "      <td>2</td>\n",
       "      <td>2</td>\n",
       "      <td>2</td>\n",
       "    </tr>\n",
       "  </tbody>\n",
       "</table>\n",
       "<p>71 rows × 43 columns</p>\n",
       "</div>"
      ],
      "text/plain": [
       "                                       order_id  customer_id  order_status  \\\n",
       "product_category_name_english                                                \n",
       "bed_bath_table                             9266         9266          9266   \n",
       "health_beauty                              8801         8801          8801   \n",
       "sports_leisure                             7705         7705          7705   \n",
       "computers_accessories                      6664         6664          6664   \n",
       "furniture_decor                            6403         6403          6403   \n",
       "housewares                                 5884         5884          5884   \n",
       "watches_gifts                              5601         5601          5601   \n",
       "telephony                                  4176         4176          4176   \n",
       "auto                                       3881         3881          3881   \n",
       "toys                                       3856         3856          3856   \n",
       "cool_stuff                                 3608         3608          3608   \n",
       "garden_tools                               3459         3459          3459   \n",
       "perfumery                                  3154         3154          3154   \n",
       "baby                                       2879         2879          2879   \n",
       "electronics                                2541         2541          2541   \n",
       "stationery                                 2290         2290          2290   \n",
       "fashion_bags_accessories                   1857         1857          1857   \n",
       "pet_shop                                   1706         1706          1706   \n",
       "office_furniture                           1266         1266          1266   \n",
       "consoles_games                             1054         1054          1054   \n",
       "luggage_accessories                        1019         1019          1019   \n",
       "home_appliances                             764          764           764   \n",
       "construction_tools_construction             743          743           743   \n",
       "small_appliances                            623          623           623   \n",
       "musical_instruments                         623          623           623   \n",
       "books_general_interest                      507          507           507   \n",
       "home_construction                           468          468           468   \n",
       "food                                        444          444           444   \n",
       "furniture_living_room                       409          409           409   \n",
       "home_confort                                347          347           347   \n",
       "...                                         ...          ...           ...   \n",
       "fixed_telephony                             215          215           215   \n",
       "art                                         196          196           196   \n",
       "costruction_tools_garden                    187          187           187   \n",
       "agro_industry_and_commerce                  182          182           182   \n",
       "computers                                   180          180           180   \n",
       "construction_tools_safety                   159          159           159   \n",
       "signaling_and_security                      139          139           139   \n",
       "christmas_supplies                          127          127           127   \n",
       "fashion_underwear_beach                     121          121           121   \n",
       "fashion_male_clothing                       112          112           112   \n",
       "costruction_tools_tools                      97           97            97   \n",
       "furniture_bedroom                            92           92            92   \n",
       "tablets_printing_image                       76           76            76   \n",
       "small_appliances_home_oven_and_coffee        75           75            75   \n",
       "cine_photo                                   63           63            63   \n",
       "dvds_blu_ray                                 57           57            57   \n",
       "books_imported                               53           53            53   \n",
       "party_supplies                               39           39            39   \n",
       "furniture_mattress_and_upholstery            38           38            38   \n",
       "fashio_female_clothing                       38           38            38   \n",
       "music                                        37           37            37   \n",
       "diapers_and_hygiene                          27           27            27   \n",
       "flowers                                      27           27            27   \n",
       "fashion_sport                                26           26            26   \n",
       "home_comfort_2                               22           22            22   \n",
       "arts_and_craftmanship                        21           21            21   \n",
       "cds_dvds_musicals                            12           12            12   \n",
       "la_cuisine                                   11           11            11   \n",
       "fashion_childrens_clothes                     6            6             6   \n",
       "security_and_services                         2            2             2   \n",
       "\n",
       "                                       order_purchase_timestamp  \\\n",
       "product_category_name_english                                     \n",
       "bed_bath_table                                             9266   \n",
       "health_beauty                                              8801   \n",
       "sports_leisure                                             7705   \n",
       "computers_accessories                                      6664   \n",
       "furniture_decor                                            6403   \n",
       "housewares                                                 5884   \n",
       "watches_gifts                                              5601   \n",
       "telephony                                                  4176   \n",
       "auto                                                       3881   \n",
       "toys                                                       3856   \n",
       "cool_stuff                                                 3608   \n",
       "garden_tools                                               3459   \n",
       "perfumery                                                  3154   \n",
       "baby                                                       2879   \n",
       "electronics                                                2541   \n",
       "stationery                                                 2290   \n",
       "fashion_bags_accessories                                   1857   \n",
       "pet_shop                                                   1706   \n",
       "office_furniture                                           1266   \n",
       "consoles_games                                             1054   \n",
       "luggage_accessories                                        1019   \n",
       "home_appliances                                             764   \n",
       "construction_tools_construction                             743   \n",
       "small_appliances                                            623   \n",
       "musical_instruments                                         623   \n",
       "books_general_interest                                      507   \n",
       "home_construction                                           468   \n",
       "food                                                        444   \n",
       "furniture_living_room                                       409   \n",
       "home_confort                                                347   \n",
       "...                                                         ...   \n",
       "fixed_telephony                                             215   \n",
       "art                                                         196   \n",
       "costruction_tools_garden                                    187   \n",
       "agro_industry_and_commerce                                  182   \n",
       "computers                                                   180   \n",
       "construction_tools_safety                                   159   \n",
       "signaling_and_security                                      139   \n",
       "christmas_supplies                                          127   \n",
       "fashion_underwear_beach                                     121   \n",
       "fashion_male_clothing                                       112   \n",
       "costruction_tools_tools                                      97   \n",
       "furniture_bedroom                                            92   \n",
       "tablets_printing_image                                       76   \n",
       "small_appliances_home_oven_and_coffee                        75   \n",
       "cine_photo                                                   63   \n",
       "dvds_blu_ray                                                 57   \n",
       "books_imported                                               53   \n",
       "party_supplies                                               39   \n",
       "furniture_mattress_and_upholstery                            38   \n",
       "fashio_female_clothing                                       38   \n",
       "music                                                        37   \n",
       "diapers_and_hygiene                                          27   \n",
       "flowers                                                      27   \n",
       "fashion_sport                                                26   \n",
       "home_comfort_2                                               22   \n",
       "arts_and_craftmanship                                        21   \n",
       "cds_dvds_musicals                                            12   \n",
       "la_cuisine                                                   11   \n",
       "fashion_childrens_clothes                                     6   \n",
       "security_and_services                                         2   \n",
       "\n",
       "                                       order_approved_at  \\\n",
       "product_category_name_english                              \n",
       "bed_bath_table                                      9266   \n",
       "health_beauty                                       8801   \n",
       "sports_leisure                                      7705   \n",
       "computers_accessories                               6664   \n",
       "furniture_decor                                     6403   \n",
       "housewares                                          5884   \n",
       "watches_gifts                                       5601   \n",
       "telephony                                           4176   \n",
       "auto                                                3881   \n",
       "toys                                                3856   \n",
       "cool_stuff                                          3608   \n",
       "garden_tools                                        3459   \n",
       "perfumery                                           3154   \n",
       "baby                                                2879   \n",
       "electronics                                         2541   \n",
       "stationery                                          2290   \n",
       "fashion_bags_accessories                            1857   \n",
       "pet_shop                                            1706   \n",
       "office_furniture                                    1266   \n",
       "consoles_games                                      1054   \n",
       "luggage_accessories                                 1019   \n",
       "home_appliances                                      764   \n",
       "construction_tools_construction                      743   \n",
       "small_appliances                                     623   \n",
       "musical_instruments                                  623   \n",
       "books_general_interest                               507   \n",
       "home_construction                                    468   \n",
       "food                                                 444   \n",
       "furniture_living_room                                409   \n",
       "home_confort                                         347   \n",
       "...                                                  ...   \n",
       "fixed_telephony                                      215   \n",
       "art                                                  196   \n",
       "costruction_tools_garden                             187   \n",
       "agro_industry_and_commerce                           182   \n",
       "computers                                            180   \n",
       "construction_tools_safety                            159   \n",
       "signaling_and_security                               139   \n",
       "christmas_supplies                                   127   \n",
       "fashion_underwear_beach                              121   \n",
       "fashion_male_clothing                                112   \n",
       "costruction_tools_tools                               97   \n",
       "furniture_bedroom                                     92   \n",
       "tablets_printing_image                                76   \n",
       "small_appliances_home_oven_and_coffee                 75   \n",
       "cine_photo                                            63   \n",
       "dvds_blu_ray                                          57   \n",
       "books_imported                                        53   \n",
       "party_supplies                                        39   \n",
       "furniture_mattress_and_upholstery                     38   \n",
       "fashio_female_clothing                                38   \n",
       "music                                                 37   \n",
       "diapers_and_hygiene                                   27   \n",
       "flowers                                               27   \n",
       "fashion_sport                                         26   \n",
       "home_comfort_2                                        22   \n",
       "arts_and_craftmanship                                 21   \n",
       "cds_dvds_musicals                                     12   \n",
       "la_cuisine                                            11   \n",
       "fashion_childrens_clothes                              6   \n",
       "security_and_services                                  2   \n",
       "\n",
       "                                       order_delivered_carrier_date  \\\n",
       "product_category_name_english                                         \n",
       "bed_bath_table                                                 9266   \n",
       "health_beauty                                                  8801   \n",
       "sports_leisure                                                 7705   \n",
       "computers_accessories                                          6664   \n",
       "furniture_decor                                                6403   \n",
       "housewares                                                     5884   \n",
       "watches_gifts                                                  5601   \n",
       "telephony                                                      4176   \n",
       "auto                                                           3881   \n",
       "toys                                                           3856   \n",
       "cool_stuff                                                     3608   \n",
       "garden_tools                                                   3459   \n",
       "perfumery                                                      3154   \n",
       "baby                                                           2879   \n",
       "electronics                                                    2541   \n",
       "stationery                                                     2290   \n",
       "fashion_bags_accessories                                       1857   \n",
       "pet_shop                                                       1706   \n",
       "office_furniture                                               1266   \n",
       "consoles_games                                                 1054   \n",
       "luggage_accessories                                            1019   \n",
       "home_appliances                                                 764   \n",
       "construction_tools_construction                                 743   \n",
       "small_appliances                                                623   \n",
       "musical_instruments                                             623   \n",
       "books_general_interest                                          507   \n",
       "home_construction                                               468   \n",
       "food                                                            444   \n",
       "furniture_living_room                                           409   \n",
       "home_confort                                                    347   \n",
       "...                                                             ...   \n",
       "fixed_telephony                                                 215   \n",
       "art                                                             196   \n",
       "costruction_tools_garden                                        187   \n",
       "agro_industry_and_commerce                                      182   \n",
       "computers                                                       180   \n",
       "construction_tools_safety                                       159   \n",
       "signaling_and_security                                          139   \n",
       "christmas_supplies                                              127   \n",
       "fashion_underwear_beach                                         121   \n",
       "fashion_male_clothing                                           112   \n",
       "costruction_tools_tools                                          97   \n",
       "furniture_bedroom                                                92   \n",
       "tablets_printing_image                                           76   \n",
       "small_appliances_home_oven_and_coffee                            75   \n",
       "cine_photo                                                       63   \n",
       "dvds_blu_ray                                                     57   \n",
       "books_imported                                                   53   \n",
       "party_supplies                                                   39   \n",
       "furniture_mattress_and_upholstery                                38   \n",
       "fashio_female_clothing                                           38   \n",
       "music                                                            37   \n",
       "diapers_and_hygiene                                              27   \n",
       "flowers                                                          27   \n",
       "fashion_sport                                                    26   \n",
       "home_comfort_2                                                   22   \n",
       "arts_and_craftmanship                                            21   \n",
       "cds_dvds_musicals                                                12   \n",
       "la_cuisine                                                       11   \n",
       "fashion_childrens_clothes                                         6   \n",
       "security_and_services                                             2   \n",
       "\n",
       "                                       order_delivered_customer_date  \\\n",
       "product_category_name_english                                          \n",
       "bed_bath_table                                                  9266   \n",
       "health_beauty                                                   8801   \n",
       "sports_leisure                                                  7705   \n",
       "computers_accessories                                           6664   \n",
       "furniture_decor                                                 6403   \n",
       "housewares                                                      5884   \n",
       "watches_gifts                                                   5601   \n",
       "telephony                                                       4176   \n",
       "auto                                                            3881   \n",
       "toys                                                            3856   \n",
       "cool_stuff                                                      3608   \n",
       "garden_tools                                                    3459   \n",
       "perfumery                                                       3154   \n",
       "baby                                                            2879   \n",
       "electronics                                                     2541   \n",
       "stationery                                                      2290   \n",
       "fashion_bags_accessories                                        1857   \n",
       "pet_shop                                                        1706   \n",
       "office_furniture                                                1266   \n",
       "consoles_games                                                  1054   \n",
       "luggage_accessories                                             1019   \n",
       "home_appliances                                                  764   \n",
       "construction_tools_construction                                  743   \n",
       "small_appliances                                                 623   \n",
       "musical_instruments                                              623   \n",
       "books_general_interest                                           507   \n",
       "home_construction                                                468   \n",
       "food                                                             444   \n",
       "furniture_living_room                                            409   \n",
       "home_confort                                                     347   \n",
       "...                                                              ...   \n",
       "fixed_telephony                                                  215   \n",
       "art                                                              196   \n",
       "costruction_tools_garden                                         187   \n",
       "agro_industry_and_commerce                                       182   \n",
       "computers                                                        180   \n",
       "construction_tools_safety                                        159   \n",
       "signaling_and_security                                           139   \n",
       "christmas_supplies                                               127   \n",
       "fashion_underwear_beach                                          121   \n",
       "fashion_male_clothing                                            112   \n",
       "costruction_tools_tools                                           97   \n",
       "furniture_bedroom                                                 92   \n",
       "tablets_printing_image                                            76   \n",
       "small_appliances_home_oven_and_coffee                             75   \n",
       "cine_photo                                                        63   \n",
       "dvds_blu_ray                                                      57   \n",
       "books_imported                                                    53   \n",
       "party_supplies                                                    39   \n",
       "furniture_mattress_and_upholstery                                 38   \n",
       "fashio_female_clothing                                            38   \n",
       "music                                                             37   \n",
       "diapers_and_hygiene                                               27   \n",
       "flowers                                                           27   \n",
       "fashion_sport                                                     26   \n",
       "home_comfort_2                                                    22   \n",
       "arts_and_craftmanship                                             21   \n",
       "cds_dvds_musicals                                                 12   \n",
       "la_cuisine                                                        11   \n",
       "fashion_childrens_clothes                                          6   \n",
       "security_and_services                                              2   \n",
       "\n",
       "                                       order_estimated_delivery_date  \\\n",
       "product_category_name_english                                          \n",
       "bed_bath_table                                                  9266   \n",
       "health_beauty                                                   8801   \n",
       "sports_leisure                                                  7705   \n",
       "computers_accessories                                           6664   \n",
       "furniture_decor                                                 6403   \n",
       "housewares                                                      5884   \n",
       "watches_gifts                                                   5601   \n",
       "telephony                                                       4176   \n",
       "auto                                                            3881   \n",
       "toys                                                            3856   \n",
       "cool_stuff                                                      3608   \n",
       "garden_tools                                                    3459   \n",
       "perfumery                                                       3154   \n",
       "baby                                                            2879   \n",
       "electronics                                                     2541   \n",
       "stationery                                                      2290   \n",
       "fashion_bags_accessories                                        1857   \n",
       "pet_shop                                                        1706   \n",
       "office_furniture                                                1266   \n",
       "consoles_games                                                  1054   \n",
       "luggage_accessories                                             1019   \n",
       "home_appliances                                                  764   \n",
       "construction_tools_construction                                  743   \n",
       "small_appliances                                                 623   \n",
       "musical_instruments                                              623   \n",
       "books_general_interest                                           507   \n",
       "home_construction                                                468   \n",
       "food                                                             444   \n",
       "furniture_living_room                                            409   \n",
       "home_confort                                                     347   \n",
       "...                                                              ...   \n",
       "fixed_telephony                                                  215   \n",
       "art                                                              196   \n",
       "costruction_tools_garden                                         187   \n",
       "agro_industry_and_commerce                                       182   \n",
       "computers                                                        180   \n",
       "construction_tools_safety                                        159   \n",
       "signaling_and_security                                           139   \n",
       "christmas_supplies                                               127   \n",
       "fashion_underwear_beach                                          121   \n",
       "fashion_male_clothing                                            112   \n",
       "costruction_tools_tools                                           97   \n",
       "furniture_bedroom                                                 92   \n",
       "tablets_printing_image                                            76   \n",
       "small_appliances_home_oven_and_coffee                             75   \n",
       "cine_photo                                                        63   \n",
       "dvds_blu_ray                                                      57   \n",
       "books_imported                                                    53   \n",
       "party_supplies                                                    39   \n",
       "furniture_mattress_and_upholstery                                 38   \n",
       "fashio_female_clothing                                            38   \n",
       "music                                                             37   \n",
       "diapers_and_hygiene                                               27   \n",
       "flowers                                                           27   \n",
       "fashion_sport                                                     26   \n",
       "home_comfort_2                                                    22   \n",
       "arts_and_craftmanship                                             21   \n",
       "cds_dvds_musicals                                                 12   \n",
       "la_cuisine                                                        11   \n",
       "fashion_childrens_clothes                                          6   \n",
       "security_and_services                                              2   \n",
       "\n",
       "                                       order_delivery_time  order_item_id  \\\n",
       "product_category_name_english                                               \n",
       "bed_bath_table                                        9266           9266   \n",
       "health_beauty                                         8801           8801   \n",
       "sports_leisure                                        7705           7705   \n",
       "computers_accessories                                 6664           6664   \n",
       "furniture_decor                                       6403           6403   \n",
       "housewares                                            5884           5884   \n",
       "watches_gifts                                         5601           5601   \n",
       "telephony                                             4176           4176   \n",
       "auto                                                  3881           3881   \n",
       "toys                                                  3856           3856   \n",
       "cool_stuff                                            3608           3608   \n",
       "garden_tools                                          3459           3459   \n",
       "perfumery                                             3154           3154   \n",
       "baby                                                  2879           2879   \n",
       "electronics                                           2541           2541   \n",
       "stationery                                            2290           2290   \n",
       "fashion_bags_accessories                              1857           1857   \n",
       "pet_shop                                              1706           1706   \n",
       "office_furniture                                      1266           1266   \n",
       "consoles_games                                        1054           1054   \n",
       "luggage_accessories                                   1019           1019   \n",
       "home_appliances                                        764            764   \n",
       "construction_tools_construction                        743            743   \n",
       "small_appliances                                       623            623   \n",
       "musical_instruments                                    623            623   \n",
       "books_general_interest                                 507            507   \n",
       "home_construction                                      468            468   \n",
       "food                                                   444            444   \n",
       "furniture_living_room                                  409            409   \n",
       "home_confort                                           347            347   \n",
       "...                                                    ...            ...   \n",
       "fixed_telephony                                        215            215   \n",
       "art                                                    196            196   \n",
       "costruction_tools_garden                               187            187   \n",
       "agro_industry_and_commerce                             182            182   \n",
       "computers                                              180            180   \n",
       "construction_tools_safety                              159            159   \n",
       "signaling_and_security                                 139            139   \n",
       "christmas_supplies                                     127            127   \n",
       "fashion_underwear_beach                                121            121   \n",
       "fashion_male_clothing                                  112            112   \n",
       "costruction_tools_tools                                 97             97   \n",
       "furniture_bedroom                                       92             92   \n",
       "tablets_printing_image                                  76             76   \n",
       "small_appliances_home_oven_and_coffee                   75             75   \n",
       "cine_photo                                              63             63   \n",
       "dvds_blu_ray                                            57             57   \n",
       "books_imported                                          53             53   \n",
       "party_supplies                                          39             39   \n",
       "furniture_mattress_and_upholstery                       38             38   \n",
       "fashio_female_clothing                                  38             38   \n",
       "music                                                   37             37   \n",
       "diapers_and_hygiene                                     27             27   \n",
       "flowers                                                 27             27   \n",
       "fashion_sport                                           26             26   \n",
       "home_comfort_2                                          22             22   \n",
       "arts_and_craftmanship                                   21             21   \n",
       "cds_dvds_musicals                                       12             12   \n",
       "la_cuisine                                              11             11   \n",
       "fashion_childrens_clothes                                6              6   \n",
       "security_and_services                                    2              2   \n",
       "\n",
       "                                       ...    customer_city  customer_state  \\\n",
       "product_category_name_english          ...                                    \n",
       "bed_bath_table                         ...             9266            9266   \n",
       "health_beauty                          ...             8801            8801   \n",
       "sports_leisure                         ...             7705            7705   \n",
       "computers_accessories                  ...             6664            6664   \n",
       "furniture_decor                        ...             6403            6403   \n",
       "housewares                             ...             5884            5884   \n",
       "watches_gifts                          ...             5601            5601   \n",
       "telephony                              ...             4176            4176   \n",
       "auto                                   ...             3881            3881   \n",
       "toys                                   ...             3856            3856   \n",
       "cool_stuff                             ...             3608            3608   \n",
       "garden_tools                           ...             3459            3459   \n",
       "perfumery                              ...             3154            3154   \n",
       "baby                                   ...             2879            2879   \n",
       "electronics                            ...             2541            2541   \n",
       "stationery                             ...             2290            2290   \n",
       "fashion_bags_accessories               ...             1857            1857   \n",
       "pet_shop                               ...             1706            1706   \n",
       "office_furniture                       ...             1266            1266   \n",
       "consoles_games                         ...             1054            1054   \n",
       "luggage_accessories                    ...             1019            1019   \n",
       "home_appliances                        ...              764             764   \n",
       "construction_tools_construction        ...              743             743   \n",
       "small_appliances                       ...              623             623   \n",
       "musical_instruments                    ...              623             623   \n",
       "books_general_interest                 ...              507             507   \n",
       "home_construction                      ...              468             468   \n",
       "food                                   ...              444             444   \n",
       "furniture_living_room                  ...              409             409   \n",
       "home_confort                           ...              347             347   \n",
       "...                                    ...              ...             ...   \n",
       "fixed_telephony                        ...              215             215   \n",
       "art                                    ...              196             196   \n",
       "costruction_tools_garden               ...              187             187   \n",
       "agro_industry_and_commerce             ...              182             182   \n",
       "computers                              ...              180             180   \n",
       "construction_tools_safety              ...              159             159   \n",
       "signaling_and_security                 ...              139             139   \n",
       "christmas_supplies                     ...              127             127   \n",
       "fashion_underwear_beach                ...              121             121   \n",
       "fashion_male_clothing                  ...              112             112   \n",
       "costruction_tools_tools                ...               97              97   \n",
       "furniture_bedroom                      ...               92              92   \n",
       "tablets_printing_image                 ...               76              76   \n",
       "small_appliances_home_oven_and_coffee  ...               75              75   \n",
       "cine_photo                             ...               63              63   \n",
       "dvds_blu_ray                           ...               57              57   \n",
       "books_imported                         ...               53              53   \n",
       "party_supplies                         ...               39              39   \n",
       "furniture_mattress_and_upholstery      ...               38              38   \n",
       "fashio_female_clothing                 ...               38              38   \n",
       "music                                  ...               37              37   \n",
       "diapers_and_hygiene                    ...               27              27   \n",
       "flowers                                ...               27              27   \n",
       "fashion_sport                          ...               26              26   \n",
       "home_comfort_2                         ...               22              22   \n",
       "arts_and_craftmanship                  ...               21              21   \n",
       "cds_dvds_musicals                      ...               12              12   \n",
       "la_cuisine                             ...               11              11   \n",
       "fashion_childrens_clothes              ...                6               6   \n",
       "security_and_services                  ...                2               2   \n",
       "\n",
       "                                       seller_zip_code_prefix  seller_city  \\\n",
       "product_category_name_english                                                \n",
       "bed_bath_table                                           9266         9266   \n",
       "health_beauty                                            8801         8801   \n",
       "sports_leisure                                           7705         7705   \n",
       "computers_accessories                                    6664         6664   \n",
       "furniture_decor                                          6403         6403   \n",
       "housewares                                               5884         5884   \n",
       "watches_gifts                                            5601         5601   \n",
       "telephony                                                4176         4176   \n",
       "auto                                                     3881         3881   \n",
       "toys                                                     3856         3856   \n",
       "cool_stuff                                               3608         3608   \n",
       "garden_tools                                             3459         3459   \n",
       "perfumery                                                3154         3154   \n",
       "baby                                                     2879         2879   \n",
       "electronics                                              2541         2541   \n",
       "stationery                                               2290         2290   \n",
       "fashion_bags_accessories                                 1857         1857   \n",
       "pet_shop                                                 1706         1706   \n",
       "office_furniture                                         1266         1266   \n",
       "consoles_games                                           1054         1054   \n",
       "luggage_accessories                                      1019         1019   \n",
       "home_appliances                                           764          764   \n",
       "construction_tools_construction                           743          743   \n",
       "small_appliances                                          623          623   \n",
       "musical_instruments                                       623          623   \n",
       "books_general_interest                                    507          507   \n",
       "home_construction                                         468          468   \n",
       "food                                                      444          444   \n",
       "furniture_living_room                                     409          409   \n",
       "home_confort                                              347          347   \n",
       "...                                                       ...          ...   \n",
       "fixed_telephony                                           215          215   \n",
       "art                                                       196          196   \n",
       "costruction_tools_garden                                  187          187   \n",
       "agro_industry_and_commerce                                182          182   \n",
       "computers                                                 180          180   \n",
       "construction_tools_safety                                 159          159   \n",
       "signaling_and_security                                    139          139   \n",
       "christmas_supplies                                        127          127   \n",
       "fashion_underwear_beach                                   121          121   \n",
       "fashion_male_clothing                                     112          112   \n",
       "costruction_tools_tools                                    97           97   \n",
       "furniture_bedroom                                          92           92   \n",
       "tablets_printing_image                                     76           76   \n",
       "small_appliances_home_oven_and_coffee                      75           75   \n",
       "cine_photo                                                 63           63   \n",
       "dvds_blu_ray                                               57           57   \n",
       "books_imported                                             53           53   \n",
       "party_supplies                                             39           39   \n",
       "furniture_mattress_and_upholstery                          38           38   \n",
       "fashio_female_clothing                                     38           38   \n",
       "music                                                      37           37   \n",
       "diapers_and_hygiene                                        27           27   \n",
       "flowers                                                    27           27   \n",
       "fashion_sport                                              26           26   \n",
       "home_comfort_2                                             22           22   \n",
       "arts_and_craftmanship                                      21           21   \n",
       "cds_dvds_musicals                                          12           12   \n",
       "la_cuisine                                                 11           11   \n",
       "fashion_childrens_clothes                                   6            6   \n",
       "security_and_services                                       2            2   \n",
       "\n",
       "                                       seller_state  year  month  month/y  \\\n",
       "product_category_name_english                                               \n",
       "bed_bath_table                                 9266  9266   9266     9266   \n",
       "health_beauty                                  8801  8801   8801     8801   \n",
       "sports_leisure                                 7705  7705   7705     7705   \n",
       "computers_accessories                          6664  6664   6664     6664   \n",
       "furniture_decor                                6403  6403   6403     6403   \n",
       "housewares                                     5884  5884   5884     5884   \n",
       "watches_gifts                                  5601  5601   5601     5601   \n",
       "telephony                                      4176  4176   4176     4176   \n",
       "auto                                           3881  3881   3881     3881   \n",
       "toys                                           3856  3856   3856     3856   \n",
       "cool_stuff                                     3608  3608   3608     3608   \n",
       "garden_tools                                   3459  3459   3459     3459   \n",
       "perfumery                                      3154  3154   3154     3154   \n",
       "baby                                           2879  2879   2879     2879   \n",
       "electronics                                    2541  2541   2541     2541   \n",
       "stationery                                     2290  2290   2290     2290   \n",
       "fashion_bags_accessories                       1857  1857   1857     1857   \n",
       "pet_shop                                       1706  1706   1706     1706   \n",
       "office_furniture                               1266  1266   1266     1266   \n",
       "consoles_games                                 1054  1054   1054     1054   \n",
       "luggage_accessories                            1019  1019   1019     1019   \n",
       "home_appliances                                 764   764    764      764   \n",
       "construction_tools_construction                 743   743    743      743   \n",
       "small_appliances                                623   623    623      623   \n",
       "musical_instruments                             623   623    623      623   \n",
       "books_general_interest                          507   507    507      507   \n",
       "home_construction                               468   468    468      468   \n",
       "food                                            444   444    444      444   \n",
       "furniture_living_room                           409   409    409      409   \n",
       "home_confort                                    347   347    347      347   \n",
       "...                                             ...   ...    ...      ...   \n",
       "fixed_telephony                                 215   215    215      215   \n",
       "art                                             196   196    196      196   \n",
       "costruction_tools_garden                        187   187    187      187   \n",
       "agro_industry_and_commerce                      182   182    182      182   \n",
       "computers                                       180   180    180      180   \n",
       "construction_tools_safety                       159   159    159      159   \n",
       "signaling_and_security                          139   139    139      139   \n",
       "christmas_supplies                              127   127    127      127   \n",
       "fashion_underwear_beach                         121   121    121      121   \n",
       "fashion_male_clothing                           112   112    112      112   \n",
       "costruction_tools_tools                          97    97     97       97   \n",
       "furniture_bedroom                                92    92     92       92   \n",
       "tablets_printing_image                           76    76     76       76   \n",
       "small_appliances_home_oven_and_coffee            75    75     75       75   \n",
       "cine_photo                                       63    63     63       63   \n",
       "dvds_blu_ray                                     57    57     57       57   \n",
       "books_imported                                   53    53     53       53   \n",
       "party_supplies                                   39    39     39       39   \n",
       "furniture_mattress_and_upholstery                38    38     38       38   \n",
       "fashio_female_clothing                           38    38     38       38   \n",
       "music                                            37    37     37       37   \n",
       "diapers_and_hygiene                              27    27     27       27   \n",
       "flowers                                          27    27     27       27   \n",
       "fashion_sport                                    26    26     26       26   \n",
       "home_comfort_2                                   22    22     22       22   \n",
       "arts_and_craftmanship                            21    21     21       21   \n",
       "cds_dvds_musicals                                12    12     12       12   \n",
       "la_cuisine                                       11    11     11       11   \n",
       "fashion_childrens_clothes                         6     6      6        6   \n",
       "security_and_services                             2     2      2        2   \n",
       "\n",
       "                                       weekday  value  \n",
       "product_category_name_english                          \n",
       "bed_bath_table                            9266   9266  \n",
       "health_beauty                             8801   8801  \n",
       "sports_leisure                            7705   7705  \n",
       "computers_accessories                     6664   6664  \n",
       "furniture_decor                           6403   6403  \n",
       "housewares                                5884   5884  \n",
       "watches_gifts                             5601   5601  \n",
       "telephony                                 4176   4176  \n",
       "auto                                      3881   3881  \n",
       "toys                                      3856   3856  \n",
       "cool_stuff                                3608   3608  \n",
       "garden_tools                              3459   3459  \n",
       "perfumery                                 3154   3154  \n",
       "baby                                      2879   2879  \n",
       "electronics                               2541   2541  \n",
       "stationery                                2290   2290  \n",
       "fashion_bags_accessories                  1857   1857  \n",
       "pet_shop                                  1706   1706  \n",
       "office_furniture                          1266   1266  \n",
       "consoles_games                            1054   1054  \n",
       "luggage_accessories                       1019   1019  \n",
       "home_appliances                            764    764  \n",
       "construction_tools_construction            743    743  \n",
       "small_appliances                           623    623  \n",
       "musical_instruments                        623    623  \n",
       "books_general_interest                     507    507  \n",
       "home_construction                          468    468  \n",
       "food                                       444    444  \n",
       "furniture_living_room                      409    409  \n",
       "home_confort                               347    347  \n",
       "...                                        ...    ...  \n",
       "fixed_telephony                            215    215  \n",
       "art                                        196    196  \n",
       "costruction_tools_garden                   187    187  \n",
       "agro_industry_and_commerce                 182    182  \n",
       "computers                                  180    180  \n",
       "construction_tools_safety                  159    159  \n",
       "signaling_and_security                     139    139  \n",
       "christmas_supplies                         127    127  \n",
       "fashion_underwear_beach                    121    121  \n",
       "fashion_male_clothing                      112    112  \n",
       "costruction_tools_tools                     97     97  \n",
       "furniture_bedroom                           92     92  \n",
       "tablets_printing_image                      76     76  \n",
       "small_appliances_home_oven_and_coffee       75     75  \n",
       "cine_photo                                  63     63  \n",
       "dvds_blu_ray                                57     57  \n",
       "books_imported                              53     53  \n",
       "party_supplies                              39     39  \n",
       "furniture_mattress_and_upholstery           38     38  \n",
       "fashio_female_clothing                      38     38  \n",
       "music                                       37     37  \n",
       "diapers_and_hygiene                         27     27  \n",
       "flowers                                     27     27  \n",
       "fashion_sport                               26     26  \n",
       "home_comfort_2                              22     22  \n",
       "arts_and_craftmanship                       21     21  \n",
       "cds_dvds_musicals                           12     12  \n",
       "la_cuisine                                  11     11  \n",
       "fashion_childrens_clothes                    6      6  \n",
       "security_and_services                        2      2  \n",
       "\n",
       "[71 rows x 43 columns]"
      ]
     },
     "execution_count": 10,
     "metadata": {},
     "output_type": "execute_result"
    }
   ],
   "source": [
    "df.groupby('product_category_name_english').count().sort_values(by='order_id',ascending=False)"
   ]
  },
  {
   "cell_type": "code",
   "execution_count": 11,
   "metadata": {},
   "outputs": [
    {
     "data": {
      "text/plain": [
       "product_category_name_english\n",
       "bed_bath_table              9266\n",
       "health_beauty               8801\n",
       "sports_leisure              7705\n",
       "computers_accessories       6664\n",
       "furniture_decor             6403\n",
       "housewares                  5884\n",
       "watches_gifts               5601\n",
       "telephony                   4176\n",
       "auto                        3881\n",
       "toys                        3856\n",
       "cool_stuff                  3608\n",
       "garden_tools                3459\n",
       "perfumery                   3154\n",
       "baby                        2879\n",
       "electronics                 2541\n",
       "stationery                  2290\n",
       "fashion_bags_accessories    1857\n",
       "pet_shop                    1706\n",
       "office_furniture            1266\n",
       "consoles_games              1054\n",
       "Name: order_id, dtype: int64"
      ]
     },
     "execution_count": 11,
     "metadata": {},
     "output_type": "execute_result"
    }
   ],
   "source": [
    "top_prod_sell = df.groupby('product_category_name_english')['order_id'].count().sort_values(ascending=False)[:20]\n",
    "top_prod_sell"
   ]
  },
  {
   "cell_type": "code",
   "execution_count": 12,
   "metadata": {},
   "outputs": [
    {
     "data": {
      "text/plain": [
       "Text(0,0.5,'Number of sales')"
      ]
     },
     "execution_count": 12,
     "metadata": {},
     "output_type": "execute_result"
    },
    {
     "data": {
      "image/png": "[encoded data removed]",
      "text/plain": [
       "<Figure size 432x288 with 1 Axes>"
      ]
     },
     "metadata": {
      "needs_background": "light"
     },
     "output_type": "display_data"
    }
   ],
   "source": [
    "top_prod_sell.plot(kind='bar')\n",
    "plt.title('Top 20 product category having the largest amount of sales')\n",
    "plt.ylabel('Number of sales')"
   ]
  },
  {
   "cell_type": "markdown",
   "metadata": {},
   "source": [
    "Health_beauty, watch_gift, sport_leisures, bed_bath_table, computers_accessories, cool_stuff, furniture_decor ... are the key product categories of Olist with the largest of both revenue and number of sales"
   ]
  },
  {
   "cell_type": "markdown",
   "metadata": {
    "hideCode": false,
    "hidePrompt": false
   },
   "source": [
    "### Top Citys"
   ]
  },
  {
   "cell_type": "markdown",
   "metadata": {},
   "source": [
    "By Revenue"
   ]
  },
  {
   "cell_type": "code",
   "execution_count": 13,
   "metadata": {},
   "outputs": [
    {
     "data": {
      "text/plain": [
       "customer_city\n",
       "sao paulo         1707580.24\n",
       "rio de janeiro     888174.27\n",
       "belo horizonte     325091.35\n",
       "brasilia           276209.72\n",
       "curitiba           190207.96\n",
       "campinas           169940.88\n",
       "porto alegre       162761.32\n",
       "salvador           159469.95\n",
       "guarulhos          130386.03\n",
       "niteroi            104811.89\n",
       "other cities      8135001.78\n",
       "Name: price, dtype: float64"
      ]
     },
     "execution_count": 13,
     "metadata": {},
     "output_type": "execute_result"
    }
   ],
   "source": [
    "topcity_rev = df.groupby('customer_city')['price'].sum().sort_values(ascending=False)[:10]\n",
    "topcity_rev['other cities'] = df.groupby('customer_city')['price'].sum().sort_values(ascending=False)[10:].sum()\n",
    "topcity_rev"
   ]
  },
  {
   "cell_type": "code",
   "execution_count": 14,
   "metadata": {},
   "outputs": [
    {
     "data": {
      "text/html": [
       "<div>\n",
       "<style scoped>\n",
       "    .dataframe tbody tr th:only-of-type {\n",
       "        vertical-align: middle;\n",
       "    }\n",
       "\n",
       "    .dataframe tbody tr th {\n",
       "        vertical-align: top;\n",
       "    }\n",
       "\n",
       "    .dataframe thead th {\n",
       "        text-align: right;\n",
       "    }\n",
       "</style>\n",
       "<table border=\"1\" class=\"dataframe\">\n",
       "  <thead>\n",
       "    <tr style=\"text-align: right;\">\n",
       "      <th></th>\n",
       "      <th>customer_city</th>\n",
       "      <th>Total Revenue</th>\n",
       "    </tr>\n",
       "  </thead>\n",
       "  <tbody>\n",
       "    <tr>\n",
       "      <th>0</th>\n",
       "      <td>sao paulo</td>\n",
       "      <td>1707580.24</td>\n",
       "    </tr>\n",
       "    <tr>\n",
       "      <th>1</th>\n",
       "      <td>rio de janeiro</td>\n",
       "      <td>888174.27</td>\n",
       "    </tr>\n",
       "    <tr>\n",
       "      <th>2</th>\n",
       "      <td>belo horizonte</td>\n",
       "      <td>325091.35</td>\n",
       "    </tr>\n",
       "    <tr>\n",
       "      <th>3</th>\n",
       "      <td>brasilia</td>\n",
       "      <td>276209.72</td>\n",
       "    </tr>\n",
       "    <tr>\n",
       "      <th>4</th>\n",
       "      <td>curitiba</td>\n",
       "      <td>190207.96</td>\n",
       "    </tr>\n",
       "    <tr>\n",
       "      <th>5</th>\n",
       "      <td>campinas</td>\n",
       "      <td>169940.88</td>\n",
       "    </tr>\n",
       "    <tr>\n",
       "      <th>6</th>\n",
       "      <td>porto alegre</td>\n",
       "      <td>162761.32</td>\n",
       "    </tr>\n",
       "    <tr>\n",
       "      <th>7</th>\n",
       "      <td>salvador</td>\n",
       "      <td>159469.95</td>\n",
       "    </tr>\n",
       "    <tr>\n",
       "      <th>8</th>\n",
       "      <td>guarulhos</td>\n",
       "      <td>130386.03</td>\n",
       "    </tr>\n",
       "    <tr>\n",
       "      <th>9</th>\n",
       "      <td>niteroi</td>\n",
       "      <td>104811.89</td>\n",
       "    </tr>\n",
       "    <tr>\n",
       "      <th>10</th>\n",
       "      <td>other cities</td>\n",
       "      <td>8135001.78</td>\n",
       "    </tr>\n",
       "  </tbody>\n",
       "</table>\n",
       "</div>"
      ],
      "text/plain": [
       "     customer_city  Total Revenue\n",
       "0        sao paulo     1707580.24\n",
       "1   rio de janeiro      888174.27\n",
       "2   belo horizonte      325091.35\n",
       "3         brasilia      276209.72\n",
       "4         curitiba      190207.96\n",
       "5         campinas      169940.88\n",
       "6     porto alegre      162761.32\n",
       "7         salvador      159469.95\n",
       "8        guarulhos      130386.03\n",
       "9          niteroi      104811.89\n",
       "10    other cities     8135001.78"
      ]
     },
     "execution_count": 14,
     "metadata": {},
     "output_type": "execute_result"
    }
   ],
   "source": [
    "topcity_rev_df = pd.DataFrame(data=topcity_rev).rename(columns={'price':'Total Revenue'}).reset_index()\n",
    "topcity_rev_df"
   ]
  },
  {
   "cell_type": "code",
   "execution_count": 15,
   "metadata": {},
   "outputs": [
    {
     "data": {
      "text/plain": [
       "Index(['customer_city', 'Total Revenue'], dtype='object')"
      ]
     },
     "execution_count": 15,
     "metadata": {},
     "output_type": "execute_result"
    }
   ],
   "source": [
    "topcity_rev_df.columns"
   ]
  },
  {
   "cell_type": "code",
   "execution_count": 16,
   "metadata": {},
   "outputs": [
    {
     "data": {
      "text/html": [
       "        <script type=\"text/javascript\">\n",
       "        window.PlotlyConfig = {MathJaxConfig: 'local'};\n",
       "        if (window.MathJax) {MathJax.Hub.Config({SVG: {font: \"STIX-Web\"}});}\n",
       "        if (typeof require !== 'undefined') {\n",
       "        require.undef(\"plotly\");\n",
       "        requirejs.config({\n",
       "            paths: {\n",
       "                'plotly': ['https://cdn.plot.ly/plotly-latest.min']\n",
       "            }\n",
       "        });\n",
       "        require(['plotly'], function(Plotly) {\n",
       "            window._Plotly = Plotly;\n",
       "        });\n",
       "        }\n",
       "        </script>\n",
       "        "
      ]
     },
     "metadata": {},
     "output_type": "display_data"
    },
    {
     "data": {
      "application/vnd.plotly.v1+json": {
       "config": {
        "linkText": "Export to plot.ly",
        "plotlyServerURL": "https://plot.ly",
        "showLink": true
       },
       "data": [
        {
         "labels": [
          "sao paulo",
          "rio de janeiro",
          "belo horizonte",
          "brasilia",
          "curitiba",
          "campinas",
          "porto alegre",
          "salvador",
          "guarulhos",
          "niteroi",
          "other cities"
         ],
         "marker": {
          "colors": [
           "rgba(255, 153, 51, 1.0)",
           "rgba(55, 128, 191, 1.0)",
           "rgba(50, 171, 96, 1.0)",
           "rgba(128, 0, 128, 1.0)",
           "rgba(219, 64, 82, 1.0)",
           "rgba(0, 128, 128, 1.0)",
           "rgba(255, 255, 51, 1.0)",
           "rgba(128, 128, 0, 1.0)",
           "rgba(251, 128, 114, 1.0)",
           "rgba(128, 177, 211, 1.0)",
           "rgba(128, 177, 211, 0.8999999999999999)"
          ]
         },
         "name": "",
         "textposition": "outside",
         "type": "pie",
         "values": [
          1707580.239999801,
          888174.2700000221,
          325091.35000000027,
          276209.71999999747,
          190207.95999999787,
          169940.87999999872,
          162761.3199999987,
          159469.94999999888,
          130386.02999999937,
          104811.88999999997,
          8135001.780000003
         ]
        }
       ],
       "layout": {
        "legend": {
         "bgcolor": "#F5F6F9",
         "font": {
          "color": "#4D5663"
         }
        },
        "paper_bgcolor": "#F5F6F9",
        "plot_bgcolor": "#F5F6F9",
        "title": "Top 10 cities having the largest revenue",
        "titlefont": {
         "color": "#4D5663"
        }
       }
      },
      "text/html": [
       "<div>\n",
       "        \n",
       "        \n",
       "            <div id=\"bef553d7-cb42-45d0-b4dc-c135932129c9\" class=\"plotly-graph-div\" style=\"height:525px; width:100%;\"></div>\n",
       "            <script type=\"text/javascript\">\n",
       "                require([\"plotly\"], function(Plotly) {\n",
       "                    window.PLOTLYENV=window.PLOTLYENV || {};\n",
       "                    window.PLOTLYENV.BASE_URL='https://plot.ly';\n",
       "                    \n",
       "                if (document.getElementById(\"bef553d7-cb42-45d0-b4dc-c135932129c9\")) {\n",
       "                    Plotly.newPlot(\n",
       "                        'bef553d7-cb42-45d0-b4dc-c135932129c9',\n",
       "                        [{\"labels\": [\"sao paulo\", \"rio de janeiro\", \"belo horizonte\", \"brasilia\", \"curitiba\", \"campinas\", \"porto alegre\", \"salvador\", \"guarulhos\", \"niteroi\", \"other cities\"], \"marker\": {\"colors\": [\"rgba(255, 153, 51, 1.0)\", \"rgba(55, 128, 191, 1.0)\", \"rgba(50, 171, 96, 1.0)\", \"rgba(128, 0, 128, 1.0)\", \"rgba(219, 64, 82, 1.0)\", \"rgba(0, 128, 128, 1.0)\", \"rgba(255, 255, 51, 1.0)\", \"rgba(128, 128, 0, 1.0)\", \"rgba(251, 128, 114, 1.0)\", \"rgba(128, 177, 211, 1.0)\", \"rgba(128, 177, 211, 0.8999999999999999)\"]}, \"name\": \"\", \"textposition\": \"outside\", \"type\": \"pie\", \"values\": [1707580.239999801, 888174.2700000221, 325091.35000000027, 276209.71999999747, 190207.95999999787, 169940.87999999872, 162761.3199999987, 159469.94999999888, 130386.02999999937, 104811.88999999997, 8135001.780000003]}],\n",
       "                        {\"legend\": {\"bgcolor\": \"#F5F6F9\", \"font\": {\"color\": \"#4D5663\"}}, \"paper_bgcolor\": \"#F5F6F9\", \"plot_bgcolor\": \"#F5F6F9\", \"title\": \"Top 10 cities having the largest revenue\", \"titlefont\": {\"color\": \"#4D5663\"}},\n",
       "                        {\"showLink\": true, \"linkText\": \"Export to plot.ly\", \"plotlyServerURL\": \"https://plot.ly\", \"responsive\": true}\n",
       "                    ).then(function(){\n",
       "                            \n",
       "var gd = document.getElementById('bef553d7-cb42-45d0-b4dc-c135932129c9');\n",
       "var x = new MutationObserver(function (mutations, observer) {{\n",
       "        var display = window.getComputedStyle(gd).display;\n",
       "        if (!display || display === 'none') {{\n",
       "            console.log([gd, 'removed!']);\n",
       "            Plotly.purge(gd);\n",
       "            observer.disconnect();\n",
       "        }}\n",
       "}});\n",
       "\n",
       "// Listen for the removal of the full notebook cells\n",
       "var notebookContainer = gd.closest('#notebook-container');\n",
       "if (notebookContainer) {{\n",
       "    x.observe(notebookContainer, {childList: true});\n",
       "}}\n",
       "\n",
       "// Listen for the clearing of the current output cell\n",
       "var outputEl = gd.closest('.output');\n",
       "if (outputEl) {{\n",
       "    x.observe(outputEl, {childList: true});\n",
       "}}\n",
       "\n",
       "                        })\n",
       "                };\n",
       "                });\n",
       "            </script>\n",
       "        </div>"
      ]
     },
     "metadata": {},
     "output_type": "display_data"
    }
   ],
   "source": [
    "import cufflinks as cf\n",
    "cf.go_offline()\n",
    "topcity_rev_df.iplot(kind='pie', labels='customer_city', values='Total Revenue',textposition='outside',\n",
    "                     hoverinfo='label+percent', title='Top 10 cities having the largest revenue')"
   ]
  },
  {
   "cell_type": "markdown",
   "metadata": {},
   "source": [
    "By Sales"
   ]
  },
  {
   "cell_type": "code",
   "execution_count": 17,
   "metadata": {},
   "outputs": [
    {
     "data": {
      "text/plain": [
       "sao paulo                15154\n",
       "rio de janeiro            6723\n",
       "belo horizonte            2701\n",
       "brasilia                  2086\n",
       "curitiba                  1495\n",
       "campinas                  1414\n",
       "porto alegre              1352\n",
       "salvador                  1219\n",
       "guarulhos                 1162\n",
       "sao bernardo do campo      909\n",
       "other cities             63026\n",
       "Name: customer_city, dtype: int64"
      ]
     },
     "execution_count": 17,
     "metadata": {},
     "output_type": "execute_result"
    }
   ],
   "source": [
    "topcity_sell = df['customer_city'].value_counts().sort_values(ascending=False)[:10]\n",
    "topcity_sell['other cities'] = df['customer_city'].value_counts().sort_values(ascending=False)[10:].sum()\n",
    "topcity_sell"
   ]
  },
  {
   "cell_type": "code",
   "execution_count": 18,
   "metadata": {},
   "outputs": [
    {
     "data": {
      "text/html": [
       "<div>\n",
       "<style scoped>\n",
       "    .dataframe tbody tr th:only-of-type {\n",
       "        vertical-align: middle;\n",
       "    }\n",
       "\n",
       "    .dataframe tbody tr th {\n",
       "        vertical-align: top;\n",
       "    }\n",
       "\n",
       "    .dataframe thead th {\n",
       "        text-align: right;\n",
       "    }\n",
       "</style>\n",
       "<table border=\"1\" class=\"dataframe\">\n",
       "  <thead>\n",
       "    <tr style=\"text-align: right;\">\n",
       "      <th></th>\n",
       "      <th>index</th>\n",
       "      <th>selling_amount</th>\n",
       "    </tr>\n",
       "  </thead>\n",
       "  <tbody>\n",
       "    <tr>\n",
       "      <th>0</th>\n",
       "      <td>sao paulo</td>\n",
       "      <td>15154</td>\n",
       "    </tr>\n",
       "    <tr>\n",
       "      <th>1</th>\n",
       "      <td>rio de janeiro</td>\n",
       "      <td>6723</td>\n",
       "    </tr>\n",
       "    <tr>\n",
       "      <th>2</th>\n",
       "      <td>belo horizonte</td>\n",
       "      <td>2701</td>\n",
       "    </tr>\n",
       "    <tr>\n",
       "      <th>3</th>\n",
       "      <td>brasilia</td>\n",
       "      <td>2086</td>\n",
       "    </tr>\n",
       "    <tr>\n",
       "      <th>4</th>\n",
       "      <td>curitiba</td>\n",
       "      <td>1495</td>\n",
       "    </tr>\n",
       "    <tr>\n",
       "      <th>5</th>\n",
       "      <td>campinas</td>\n",
       "      <td>1414</td>\n",
       "    </tr>\n",
       "    <tr>\n",
       "      <th>6</th>\n",
       "      <td>porto alegre</td>\n",
       "      <td>1352</td>\n",
       "    </tr>\n",
       "    <tr>\n",
       "      <th>7</th>\n",
       "      <td>salvador</td>\n",
       "      <td>1219</td>\n",
       "    </tr>\n",
       "    <tr>\n",
       "      <th>8</th>\n",
       "      <td>guarulhos</td>\n",
       "      <td>1162</td>\n",
       "    </tr>\n",
       "    <tr>\n",
       "      <th>9</th>\n",
       "      <td>sao bernardo do campo</td>\n",
       "      <td>909</td>\n",
       "    </tr>\n",
       "    <tr>\n",
       "      <th>10</th>\n",
       "      <td>other cities</td>\n",
       "      <td>63026</td>\n",
       "    </tr>\n",
       "  </tbody>\n",
       "</table>\n",
       "</div>"
      ],
      "text/plain": [
       "                    index  selling_amount\n",
       "0               sao paulo           15154\n",
       "1          rio de janeiro            6723\n",
       "2          belo horizonte            2701\n",
       "3                brasilia            2086\n",
       "4                curitiba            1495\n",
       "5                campinas            1414\n",
       "6            porto alegre            1352\n",
       "7                salvador            1219\n",
       "8               guarulhos            1162\n",
       "9   sao bernardo do campo             909\n",
       "10           other cities           63026"
      ]
     },
     "execution_count": 18,
     "metadata": {},
     "output_type": "execute_result"
    }
   ],
   "source": [
    "topcity_sell_df = pd.DataFrame(data=topcity_sell).rename(columns={\"customer_city\": \"selling_amount\"}).reset_index()\n",
    "topcity_sell_df"
   ]
  },
  {
   "cell_type": "code",
   "execution_count": 19,
   "metadata": {},
   "outputs": [
    {
     "data": {
      "text/plain": [
       "Index(['index', 'selling_amount'], dtype='object')"
      ]
     },
     "execution_count": 19,
     "metadata": {},
     "output_type": "execute_result"
    }
   ],
   "source": [
    "topcity_sell_df.columns"
   ]
  },
  {
   "cell_type": "code",
   "execution_count": 20,
   "metadata": {},
   "outputs": [
    {
     "data": {
      "application/vnd.plotly.v1+json": {
       "config": {
        "linkText": "Export to plot.ly",
        "plotlyServerURL": "https://plot.ly",
        "showLink": true
       },
       "data": [
        {
         "labels": [
          "sao paulo",
          "rio de janeiro",
          "belo horizonte",
          "brasilia",
          "curitiba",
          "campinas",
          "porto alegre",
          "salvador",
          "guarulhos",
          "sao bernardo do campo",
          "other cities"
         ],
         "marker": {
          "colors": [
           "rgba(255, 153, 51, 1.0)",
           "rgba(55, 128, 191, 1.0)",
           "rgba(50, 171, 96, 1.0)",
           "rgba(128, 0, 128, 1.0)",
           "rgba(219, 64, 82, 1.0)",
           "rgba(0, 128, 128, 1.0)",
           "rgba(255, 255, 51, 1.0)",
           "rgba(128, 128, 0, 1.0)",
           "rgba(251, 128, 114, 1.0)",
           "rgba(128, 177, 211, 1.0)",
           "rgba(128, 177, 211, 0.8999999999999999)"
          ]
         },
         "name": "",
         "textposition": "outside",
         "type": "pie",
         "values": [
          15154,
          6723,
          2701,
          2086,
          1495,
          1414,
          1352,
          1219,
          1162,
          909,
          63026
         ]
        }
       ],
       "layout": {
        "legend": {
         "bgcolor": "#F5F6F9",
         "font": {
          "color": "#4D5663"
         }
        },
        "paper_bgcolor": "#F5F6F9",
        "plot_bgcolor": "#F5F6F9",
        "title": "Top 10 cities having largest amount of selling",
        "titlefont": {
         "color": "#4D5663"
        }
       }
      },
      "text/html": [
       "<div>\n",
       "        \n",
       "        \n",
       "            <div id=\"7448540c-60d3-4175-b505-9c39bf7a330f\" class=\"plotly-graph-div\" style=\"height:525px; width:100%;\"></div>\n",
       "            <script type=\"text/javascript\">\n",
       "                require([\"plotly\"], function(Plotly) {\n",
       "                    window.PLOTLYENV=window.PLOTLYENV || {};\n",
       "                    window.PLOTLYENV.BASE_URL='https://plot.ly';\n",
       "                    \n",
       "                if (document.getElementById(\"7448540c-60d3-4175-b505-9c39bf7a330f\")) {\n",
       "                    Plotly.newPlot(\n",
       "                        '7448540c-60d3-4175-b505-9c39bf7a330f',\n",
       "                        [{\"labels\": [\"sao paulo\", \"rio de janeiro\", \"belo horizonte\", \"brasilia\", \"curitiba\", \"campinas\", \"porto alegre\", \"salvador\", \"guarulhos\", \"sao bernardo do campo\", \"other cities\"], \"marker\": {\"colors\": [\"rgba(255, 153, 51, 1.0)\", \"rgba(55, 128, 191, 1.0)\", \"rgba(50, 171, 96, 1.0)\", \"rgba(128, 0, 128, 1.0)\", \"rgba(219, 64, 82, 1.0)\", \"rgba(0, 128, 128, 1.0)\", \"rgba(255, 255, 51, 1.0)\", \"rgba(128, 128, 0, 1.0)\", \"rgba(251, 128, 114, 1.0)\", \"rgba(128, 177, 211, 1.0)\", \"rgba(128, 177, 211, 0.8999999999999999)\"]}, \"name\": \"\", \"textposition\": \"outside\", \"type\": \"pie\", \"values\": [15154, 6723, 2701, 2086, 1495, 1414, 1352, 1219, 1162, 909, 63026]}],\n",
       "                        {\"legend\": {\"bgcolor\": \"#F5F6F9\", \"font\": {\"color\": \"#4D5663\"}}, \"paper_bgcolor\": \"#F5F6F9\", \"plot_bgcolor\": \"#F5F6F9\", \"title\": \"Top 10 cities having largest amount of selling\", \"titlefont\": {\"color\": \"#4D5663\"}},\n",
       "                        {\"showLink\": true, \"linkText\": \"Export to plot.ly\", \"plotlyServerURL\": \"https://plot.ly\", \"responsive\": true}\n",
       "                    ).then(function(){\n",
       "                            \n",
       "var gd = document.getElementById('7448540c-60d3-4175-b505-9c39bf7a330f');\n",
       "var x = new MutationObserver(function (mutations, observer) {{\n",
       "        var display = window.getComputedStyle(gd).display;\n",
       "        if (!display || display === 'none') {{\n",
       "            console.log([gd, 'removed!']);\n",
       "            Plotly.purge(gd);\n",
       "            observer.disconnect();\n",
       "        }}\n",
       "}});\n",
       "\n",
       "// Listen for the removal of the full notebook cells\n",
       "var notebookContainer = gd.closest('#notebook-container');\n",
       "if (notebookContainer) {{\n",
       "    x.observe(notebookContainer, {childList: true});\n",
       "}}\n",
       "\n",
       "// Listen for the clearing of the current output cell\n",
       "var outputEl = gd.closest('.output');\n",
       "if (outputEl) {{\n",
       "    x.observe(outputEl, {childList: true});\n",
       "}}\n",
       "\n",
       "                        })\n",
       "                };\n",
       "                });\n",
       "            </script>\n",
       "        </div>"
      ]
     },
     "metadata": {},
     "output_type": "display_data"
    }
   ],
   "source": [
    "topcity_sell_df.iplot(kind='pie', labels='index', values='selling_amount',textposition='outside',\n",
    "                     hoverinfo='label+percent', title='Top 10 cities having largest amount of selling')"
   ]
  },
  {
   "cell_type": "markdown",
   "metadata": {},
   "source": [
    "Sao Paulo is an important market of Olist"
   ]
  },
  {
   "cell_type": "markdown",
   "metadata": {
    "hideCode": false,
    "hidePrompt": false
   },
   "source": [
    "### Top Sellers"
   ]
  },
  {
   "cell_type": "markdown",
   "metadata": {},
   "source": [
    "By Revenue"
   ]
  },
  {
   "cell_type": "code",
   "execution_count": 21,
   "metadata": {
    "hideCode": false,
    "hidePrompt": false
   },
   "outputs": [
    {
     "data": {
      "text/plain": [
       "seller_id\n",
       "0015a82c2db000af6aaaf3ae2ecb0532     2685.00\n",
       "001cca7ae9ae17fb1caed9dfb1094831    20894.54\n",
       "001e6ad469a905060d959994f1b41e4f      250.00\n",
       "002100f778ceb8431b7a1020ff7ab48f     1111.10\n",
       "004c9cd9d87a3c30c522c48c4fc07416    16263.99\n",
       "Name: price, dtype: float64"
      ]
     },
     "execution_count": 21,
     "metadata": {},
     "output_type": "execute_result"
    }
   ],
   "source": [
    "df.groupby(df['seller_id'])['price'].sum()[:5]"
   ]
  },
  {
   "cell_type": "code",
   "execution_count": 22,
   "metadata": {
    "hideCode": false,
    "hidePrompt": false
   },
   "outputs": [],
   "source": [
    "#list of 20 sellers having the largest revenue by groupby \n",
    "df_20sell_rev = df.groupby(df['seller_id'])['price'].sum().sort_values(ascending=False)[:20]"
   ]
  },
  {
   "cell_type": "code",
   "execution_count": 23,
   "metadata": {},
   "outputs": [
    {
     "data": {
      "text/plain": [
       "<Figure size 1152x576 with 0 Axes>"
      ]
     },
     "execution_count": 23,
     "metadata": {},
     "output_type": "execute_result"
    },
    {
     "data": {
      "image/png": "[encoded data removed]",
      "text/plain": [
       "<Figure size 432x288 with 1 Axes>"
      ]
     },
     "metadata": {
      "needs_background": "light"
     },
     "output_type": "display_data"
    },
    {
     "data": {
      "text/plain": [
       "<Figure size 1152x576 with 0 Axes>"
      ]
     },
     "metadata": {},
     "output_type": "display_data"
    }
   ],
   "source": [
    "sns.barplot(y=df_20sell_rev.index,x=df_20sell_rev.values)\n",
    "plt.title('Top 20 sellers have the largest revenue')\n",
    "plt.figure(figsize=(16,8))"
   ]
  },
  {
   "cell_type": "markdown",
   "metadata": {},
   "source": [
    "By Sales"
   ]
  },
  {
   "cell_type": "code",
   "execution_count": 24,
   "metadata": {},
   "outputs": [
    {
     "data": {
      "text/html": [
       "<div>\n",
       "<style scoped>\n",
       "    .dataframe tbody tr th:only-of-type {\n",
       "        vertical-align: middle;\n",
       "    }\n",
       "\n",
       "    .dataframe tbody tr th {\n",
       "        vertical-align: top;\n",
       "    }\n",
       "\n",
       "    .dataframe thead th {\n",
       "        text-align: right;\n",
       "    }\n",
       "</style>\n",
       "<table border=\"1\" class=\"dataframe\">\n",
       "  <thead>\n",
       "    <tr style=\"text-align: right;\">\n",
       "      <th></th>\n",
       "      <th>order_id</th>\n",
       "      <th>customer_id</th>\n",
       "      <th>order_status</th>\n",
       "      <th>order_purchase_timestamp</th>\n",
       "      <th>order_approved_at</th>\n",
       "      <th>order_delivered_carrier_date</th>\n",
       "      <th>order_delivered_customer_date</th>\n",
       "      <th>order_estimated_delivery_date</th>\n",
       "      <th>order_delivery_time</th>\n",
       "      <th>order_item_id</th>\n",
       "      <th>...</th>\n",
       "      <th>customer_state</th>\n",
       "      <th>seller_zip_code_prefix</th>\n",
       "      <th>seller_city</th>\n",
       "      <th>seller_state</th>\n",
       "      <th>product_category_name_english</th>\n",
       "      <th>year</th>\n",
       "      <th>month</th>\n",
       "      <th>month/y</th>\n",
       "      <th>weekday</th>\n",
       "      <th>value</th>\n",
       "    </tr>\n",
       "    <tr>\n",
       "      <th>seller_id</th>\n",
       "      <th></th>\n",
       "      <th></th>\n",
       "      <th></th>\n",
       "      <th></th>\n",
       "      <th></th>\n",
       "      <th></th>\n",
       "      <th></th>\n",
       "      <th></th>\n",
       "      <th></th>\n",
       "      <th></th>\n",
       "      <th></th>\n",
       "      <th></th>\n",
       "      <th></th>\n",
       "      <th></th>\n",
       "      <th></th>\n",
       "      <th></th>\n",
       "      <th></th>\n",
       "      <th></th>\n",
       "      <th></th>\n",
       "      <th></th>\n",
       "      <th></th>\n",
       "    </tr>\n",
       "  </thead>\n",
       "  <tbody>\n",
       "    <tr>\n",
       "      <th>6560211a19b47992c3666cc44a7e94c0</th>\n",
       "      <td>1848</td>\n",
       "      <td>1848</td>\n",
       "      <td>1848</td>\n",
       "      <td>1848</td>\n",
       "      <td>1848</td>\n",
       "      <td>1848</td>\n",
       "      <td>1848</td>\n",
       "      <td>1848</td>\n",
       "      <td>1848</td>\n",
       "      <td>1848</td>\n",
       "      <td>...</td>\n",
       "      <td>1848</td>\n",
       "      <td>1848</td>\n",
       "      <td>1848</td>\n",
       "      <td>1848</td>\n",
       "      <td>1848</td>\n",
       "      <td>1848</td>\n",
       "      <td>1848</td>\n",
       "      <td>1848</td>\n",
       "      <td>1848</td>\n",
       "      <td>1848</td>\n",
       "    </tr>\n",
       "    <tr>\n",
       "      <th>4a3ca9315b744ce9f8e9374361493884</th>\n",
       "      <td>1756</td>\n",
       "      <td>1756</td>\n",
       "      <td>1756</td>\n",
       "      <td>1756</td>\n",
       "      <td>1756</td>\n",
       "      <td>1756</td>\n",
       "      <td>1756</td>\n",
       "      <td>1756</td>\n",
       "      <td>1756</td>\n",
       "      <td>1756</td>\n",
       "      <td>...</td>\n",
       "      <td>1756</td>\n",
       "      <td>1756</td>\n",
       "      <td>1756</td>\n",
       "      <td>1756</td>\n",
       "      <td>1756</td>\n",
       "      <td>1756</td>\n",
       "      <td>1756</td>\n",
       "      <td>1756</td>\n",
       "      <td>1756</td>\n",
       "      <td>1756</td>\n",
       "    </tr>\n",
       "    <tr>\n",
       "      <th>cc419e0650a3c5ba77189a1882b7556a</th>\n",
       "      <td>1705</td>\n",
       "      <td>1705</td>\n",
       "      <td>1705</td>\n",
       "      <td>1705</td>\n",
       "      <td>1705</td>\n",
       "      <td>1705</td>\n",
       "      <td>1705</td>\n",
       "      <td>1705</td>\n",
       "      <td>1705</td>\n",
       "      <td>1705</td>\n",
       "      <td>...</td>\n",
       "      <td>1705</td>\n",
       "      <td>1705</td>\n",
       "      <td>1705</td>\n",
       "      <td>1705</td>\n",
       "      <td>1705</td>\n",
       "      <td>1705</td>\n",
       "      <td>1705</td>\n",
       "      <td>1705</td>\n",
       "      <td>1705</td>\n",
       "      <td>1705</td>\n",
       "    </tr>\n",
       "    <tr>\n",
       "      <th>1f50f920176fa81dab994f9023523100</th>\n",
       "      <td>1382</td>\n",
       "      <td>1382</td>\n",
       "      <td>1382</td>\n",
       "      <td>1382</td>\n",
       "      <td>1382</td>\n",
       "      <td>1382</td>\n",
       "      <td>1382</td>\n",
       "      <td>1382</td>\n",
       "      <td>1382</td>\n",
       "      <td>1382</td>\n",
       "      <td>...</td>\n",
       "      <td>1382</td>\n",
       "      <td>1382</td>\n",
       "      <td>1382</td>\n",
       "      <td>1382</td>\n",
       "      <td>1382</td>\n",
       "      <td>1382</td>\n",
       "      <td>1382</td>\n",
       "      <td>1382</td>\n",
       "      <td>1382</td>\n",
       "      <td>1382</td>\n",
       "    </tr>\n",
       "    <tr>\n",
       "      <th>da8622b14eb17ae2831f4ac5b9dab84a</th>\n",
       "      <td>1298</td>\n",
       "      <td>1298</td>\n",
       "      <td>1298</td>\n",
       "      <td>1298</td>\n",
       "      <td>1298</td>\n",
       "      <td>1298</td>\n",
       "      <td>1298</td>\n",
       "      <td>1298</td>\n",
       "      <td>1298</td>\n",
       "      <td>1298</td>\n",
       "      <td>...</td>\n",
       "      <td>1298</td>\n",
       "      <td>1298</td>\n",
       "      <td>1298</td>\n",
       "      <td>1298</td>\n",
       "      <td>1298</td>\n",
       "      <td>1298</td>\n",
       "      <td>1298</td>\n",
       "      <td>1298</td>\n",
       "      <td>1298</td>\n",
       "      <td>1298</td>\n",
       "    </tr>\n",
       "  </tbody>\n",
       "</table>\n",
       "<p>5 rows × 43 columns</p>\n",
       "</div>"
      ],
      "text/plain": [
       "                                  order_id  customer_id  order_status  \\\n",
       "seller_id                                                               \n",
       "6560211a19b47992c3666cc44a7e94c0      1848         1848          1848   \n",
       "4a3ca9315b744ce9f8e9374361493884      1756         1756          1756   \n",
       "cc419e0650a3c5ba77189a1882b7556a      1705         1705          1705   \n",
       "1f50f920176fa81dab994f9023523100      1382         1382          1382   \n",
       "da8622b14eb17ae2831f4ac5b9dab84a      1298         1298          1298   \n",
       "\n",
       "                                  order_purchase_timestamp  order_approved_at  \\\n",
       "seller_id                                                                       \n",
       "6560211a19b47992c3666cc44a7e94c0                      1848               1848   \n",
       "4a3ca9315b744ce9f8e9374361493884                      1756               1756   \n",
       "cc419e0650a3c5ba77189a1882b7556a                      1705               1705   \n",
       "1f50f920176fa81dab994f9023523100                      1382               1382   \n",
       "da8622b14eb17ae2831f4ac5b9dab84a                      1298               1298   \n",
       "\n",
       "                                  order_delivered_carrier_date  \\\n",
       "seller_id                                                        \n",
       "6560211a19b47992c3666cc44a7e94c0                          1848   \n",
       "4a3ca9315b744ce9f8e9374361493884                          1756   \n",
       "cc419e0650a3c5ba77189a1882b7556a                          1705   \n",
       "1f50f920176fa81dab994f9023523100                          1382   \n",
       "da8622b14eb17ae2831f4ac5b9dab84a                          1298   \n",
       "\n",
       "                                  order_delivered_customer_date  \\\n",
       "seller_id                                                         \n",
       "6560211a19b47992c3666cc44a7e94c0                           1848   \n",
       "4a3ca9315b744ce9f8e9374361493884                           1756   \n",
       "cc419e0650a3c5ba77189a1882b7556a                           1705   \n",
       "1f50f920176fa81dab994f9023523100                           1382   \n",
       "da8622b14eb17ae2831f4ac5b9dab84a                           1298   \n",
       "\n",
       "                                  order_estimated_delivery_date  \\\n",
       "seller_id                                                         \n",
       "6560211a19b47992c3666cc44a7e94c0                           1848   \n",
       "4a3ca9315b744ce9f8e9374361493884                           1756   \n",
       "cc419e0650a3c5ba77189a1882b7556a                           1705   \n",
       "1f50f920176fa81dab994f9023523100                           1382   \n",
       "da8622b14eb17ae2831f4ac5b9dab84a                           1298   \n",
       "\n",
       "                                  order_delivery_time  order_item_id  ...    \\\n",
       "seller_id                                                             ...     \n",
       "6560211a19b47992c3666cc44a7e94c0                 1848           1848  ...     \n",
       "4a3ca9315b744ce9f8e9374361493884                 1756           1756  ...     \n",
       "cc419e0650a3c5ba77189a1882b7556a                 1705           1705  ...     \n",
       "1f50f920176fa81dab994f9023523100                 1382           1382  ...     \n",
       "da8622b14eb17ae2831f4ac5b9dab84a                 1298           1298  ...     \n",
       "\n",
       "                                  customer_state  seller_zip_code_prefix  \\\n",
       "seller_id                                                                  \n",
       "6560211a19b47992c3666cc44a7e94c0            1848                    1848   \n",
       "4a3ca9315b744ce9f8e9374361493884            1756                    1756   \n",
       "cc419e0650a3c5ba77189a1882b7556a            1705                    1705   \n",
       "1f50f920176fa81dab994f9023523100            1382                    1382   \n",
       "da8622b14eb17ae2831f4ac5b9dab84a            1298                    1298   \n",
       "\n",
       "                                  seller_city  seller_state  \\\n",
       "seller_id                                                     \n",
       "6560211a19b47992c3666cc44a7e94c0         1848          1848   \n",
       "4a3ca9315b744ce9f8e9374361493884         1756          1756   \n",
       "cc419e0650a3c5ba77189a1882b7556a         1705          1705   \n",
       "1f50f920176fa81dab994f9023523100         1382          1382   \n",
       "da8622b14eb17ae2831f4ac5b9dab84a         1298          1298   \n",
       "\n",
       "                                  product_category_name_english  year  month  \\\n",
       "seller_id                                                                      \n",
       "6560211a19b47992c3666cc44a7e94c0                           1848  1848   1848   \n",
       "4a3ca9315b744ce9f8e9374361493884                           1756  1756   1756   \n",
       "cc419e0650a3c5ba77189a1882b7556a                           1705  1705   1705   \n",
       "1f50f920176fa81dab994f9023523100                           1382  1382   1382   \n",
       "da8622b14eb17ae2831f4ac5b9dab84a                           1298  1298   1298   \n",
       "\n",
       "                                  month/y  weekday  value  \n",
       "seller_id                                                  \n",
       "6560211a19b47992c3666cc44a7e94c0     1848     1848   1848  \n",
       "4a3ca9315b744ce9f8e9374361493884     1756     1756   1756  \n",
       "cc419e0650a3c5ba77189a1882b7556a     1705     1705   1705  \n",
       "1f50f920176fa81dab994f9023523100     1382     1382   1382  \n",
       "da8622b14eb17ae2831f4ac5b9dab84a     1298     1298   1298  \n",
       "\n",
       "[5 rows x 43 columns]"
      ]
     },
     "execution_count": 24,
     "metadata": {},
     "output_type": "execute_result"
    }
   ],
   "source": [
    "df.groupby(df['seller_id']).count().sort_values(by='order_id',ascending=False)[:5]"
   ]
  },
  {
   "cell_type": "code",
   "execution_count": 25,
   "metadata": {},
   "outputs": [],
   "source": [
    "df_20sell_sell = df.groupby(df['seller_id'])['order_id'].count().sort_values(ascending=False)[:20]"
   ]
  },
  {
   "cell_type": "code",
   "execution_count": 26,
   "metadata": {},
   "outputs": [
    {
     "data": {
      "text/plain": [
       "<Figure size 1152x576 with 0 Axes>"
      ]
     },
     "execution_count": 26,
     "metadata": {},
     "output_type": "execute_result"
    },
    {
     "data": {
      "image/png": "[encoded data removed]",
      "text/plain": [
       "<Figure size 432x288 with 1 Axes>"
      ]
     },
     "metadata": {
      "needs_background": "light"
     },
     "output_type": "display_data"
    },
    {
     "data": {
      "text/plain": [
       "<Figure size 1152x576 with 0 Axes>"
      ]
     },
     "metadata": {},
     "output_type": "display_data"
    }
   ],
   "source": [
    "sns.barplot(y=df_20sell_sell.index,x=df_20sell_sell.values)\n",
    "plt.title('Top 20 sellers have the largest number of selling')\n",
    "plt.figure(figsize=(16,8))"
   ]
  },
  {
   "cell_type": "markdown",
   "metadata": {},
   "source": [
    "Average Customer feedback of top 20 sellers"
   ]
  },
  {
   "cell_type": "code",
   "execution_count": 27,
   "metadata": {},
   "outputs": [
    {
     "data": {
      "text/html": [
       "<div>\n",
       "<style scoped>\n",
       "    .dataframe tbody tr th:only-of-type {\n",
       "        vertical-align: middle;\n",
       "    }\n",
       "\n",
       "    .dataframe tbody tr th {\n",
       "        vertical-align: top;\n",
       "    }\n",
       "\n",
       "    .dataframe thead th {\n",
       "        text-align: right;\n",
       "    }\n",
       "</style>\n",
       "<table border=\"1\" class=\"dataframe\">\n",
       "  <thead>\n",
       "    <tr style=\"text-align: right;\">\n",
       "      <th></th>\n",
       "      <th>order_id</th>\n",
       "      <th>customer_id</th>\n",
       "      <th>order_status</th>\n",
       "      <th>order_purchase_timestamp</th>\n",
       "      <th>order_approved_at</th>\n",
       "      <th>order_delivered_carrier_date</th>\n",
       "      <th>order_delivered_customer_date</th>\n",
       "      <th>order_estimated_delivery_date</th>\n",
       "      <th>order_delivery_time</th>\n",
       "      <th>order_item_id</th>\n",
       "      <th>...</th>\n",
       "      <th>customer_state</th>\n",
       "      <th>seller_zip_code_prefix</th>\n",
       "      <th>seller_city</th>\n",
       "      <th>seller_state</th>\n",
       "      <th>product_category_name_english</th>\n",
       "      <th>year</th>\n",
       "      <th>month</th>\n",
       "      <th>month/y</th>\n",
       "      <th>weekday</th>\n",
       "      <th>value</th>\n",
       "    </tr>\n",
       "  </thead>\n",
       "  <tbody>\n",
       "    <tr>\n",
       "      <th>99</th>\n",
       "      <td>e3447938231fb6ba2fee0231b51eca59</td>\n",
       "      <td>2c3642e1392097fb4af76a76fec16a46</td>\n",
       "      <td>delivered</td>\n",
       "      <td>2018-08-26 11:04:26.000000000</td>\n",
       "      <td>2018-08-26 11:15:29.000000000</td>\n",
       "      <td>2018-08-27 15:52:00.000000000</td>\n",
       "      <td>2018-08-28 21:06:31.000000000</td>\n",
       "      <td>2018-08-30 00:00:00.000000000</td>\n",
       "      <td>2 days 10:02:05.000000000</td>\n",
       "      <td>1</td>\n",
       "      <td>...</td>\n",
       "      <td>SP</td>\n",
       "      <td>4782</td>\n",
       "      <td>sao paulo</td>\n",
       "      <td>SP</td>\n",
       "      <td>housewares</td>\n",
       "      <td>2018</td>\n",
       "      <td>August</td>\n",
       "      <td>Aug2018</td>\n",
       "      <td>Sunday</td>\n",
       "      <td>172.14</td>\n",
       "    </tr>\n",
       "    <tr>\n",
       "      <th>100</th>\n",
       "      <td>7f0cd5312c451eb0b746d9e0617e57f9</td>\n",
       "      <td>d6c5e3efecf1ebb34d1b7665db05de3c</td>\n",
       "      <td>delivered</td>\n",
       "      <td>2018-04-26 14:04:20.000000000</td>\n",
       "      <td>2018-04-27 08:15:15.000000000</td>\n",
       "      <td>2018-04-30 13:52:00.000000000</td>\n",
       "      <td>2018-05-15 18:36:50.000000000</td>\n",
       "      <td>2018-05-24 00:00:00.000000000</td>\n",
       "      <td>19 days 04:32:30.000000000</td>\n",
       "      <td>1</td>\n",
       "      <td>...</td>\n",
       "      <td>PE</td>\n",
       "      <td>4782</td>\n",
       "      <td>sao paulo</td>\n",
       "      <td>SP</td>\n",
       "      <td>housewares</td>\n",
       "      <td>2018</td>\n",
       "      <td>April</td>\n",
       "      <td>Apr2018</td>\n",
       "      <td>Thursday</td>\n",
       "      <td>162.03</td>\n",
       "    </tr>\n",
       "    <tr>\n",
       "      <th>101</th>\n",
       "      <td>d14319b7a9ffe116c1ba706238d3cd27</td>\n",
       "      <td>e93a01a8ad2d943db17fa596e51d93cc</td>\n",
       "      <td>delivered</td>\n",
       "      <td>2018-06-29 10:58:34.000000000</td>\n",
       "      <td>2018-06-30 02:35:17.000000000</td>\n",
       "      <td>2018-07-03 07:18:00.000000000</td>\n",
       "      <td>2018-07-07 11:54:41.000000000</td>\n",
       "      <td>2018-07-23 00:00:00.000000000</td>\n",
       "      <td>8 days 00:56:07.000000000</td>\n",
       "      <td>1</td>\n",
       "      <td>...</td>\n",
       "      <td>MG</td>\n",
       "      <td>4782</td>\n",
       "      <td>sao paulo</td>\n",
       "      <td>SP</td>\n",
       "      <td>housewares</td>\n",
       "      <td>2018</td>\n",
       "      <td>June</td>\n",
       "      <td>Jun2018</td>\n",
       "      <td>Friday</td>\n",
       "      <td>183.92</td>\n",
       "    </tr>\n",
       "    <tr>\n",
       "      <th>102</th>\n",
       "      <td>711446e2cbe250789dc7b3ecdfce793c</td>\n",
       "      <td>61dfb2ae9399454cb12545524d192978</td>\n",
       "      <td>delivered</td>\n",
       "      <td>2018-07-04 21:03:18.000000000</td>\n",
       "      <td>2018-07-05 16:32:23.000000000</td>\n",
       "      <td>2018-07-05 12:04:00.000000000</td>\n",
       "      <td>2018-07-13 17:12:35.000000000</td>\n",
       "      <td>2018-08-06 00:00:00.000000000</td>\n",
       "      <td>8 days 20:09:17.000000000</td>\n",
       "      <td>1</td>\n",
       "      <td>...</td>\n",
       "      <td>RO</td>\n",
       "      <td>4782</td>\n",
       "      <td>sao paulo</td>\n",
       "      <td>SP</td>\n",
       "      <td>housewares</td>\n",
       "      <td>2018</td>\n",
       "      <td>July</td>\n",
       "      <td>Jul2018</td>\n",
       "      <td>Wednesday</td>\n",
       "      <td>187.89</td>\n",
       "    </tr>\n",
       "    <tr>\n",
       "      <th>103</th>\n",
       "      <td>c45686ed86426af3f7be41420b6020ea</td>\n",
       "      <td>667b5b2ec3ffc38456c616b28951e49c</td>\n",
       "      <td>delivered</td>\n",
       "      <td>2018-05-06 21:49:48.000000000</td>\n",
       "      <td>2018-05-08 19:34:56.000000000</td>\n",
       "      <td>2018-05-09 10:13:00.000000000</td>\n",
       "      <td>2018-05-18 16:40:54.000000000</td>\n",
       "      <td>2018-05-29 00:00:00.000000000</td>\n",
       "      <td>11 days 18:51:06.000000000</td>\n",
       "      <td>1</td>\n",
       "      <td>...</td>\n",
       "      <td>SC</td>\n",
       "      <td>4782</td>\n",
       "      <td>sao paulo</td>\n",
       "      <td>SP</td>\n",
       "      <td>housewares</td>\n",
       "      <td>2018</td>\n",
       "      <td>May</td>\n",
       "      <td>May2018</td>\n",
       "      <td>Sunday</td>\n",
       "      <td>162.55</td>\n",
       "    </tr>\n",
       "  </tbody>\n",
       "</table>\n",
       "<p>5 rows × 44 columns</p>\n",
       "</div>"
      ],
      "text/plain": [
       "                             order_id                       customer_id  \\\n",
       "99   e3447938231fb6ba2fee0231b51eca59  2c3642e1392097fb4af76a76fec16a46   \n",
       "100  7f0cd5312c451eb0b746d9e0617e57f9  d6c5e3efecf1ebb34d1b7665db05de3c   \n",
       "101  d14319b7a9ffe116c1ba706238d3cd27  e93a01a8ad2d943db17fa596e51d93cc   \n",
       "102  711446e2cbe250789dc7b3ecdfce793c  61dfb2ae9399454cb12545524d192978   \n",
       "103  c45686ed86426af3f7be41420b6020ea  667b5b2ec3ffc38456c616b28951e49c   \n",
       "\n",
       "    order_status       order_purchase_timestamp  \\\n",
       "99     delivered  2018-08-26 11:04:26.000000000   \n",
       "100    delivered  2018-04-26 14:04:20.000000000   \n",
       "101    delivered  2018-06-29 10:58:34.000000000   \n",
       "102    delivered  2018-07-04 21:03:18.000000000   \n",
       "103    delivered  2018-05-06 21:49:48.000000000   \n",
       "\n",
       "                 order_approved_at   order_delivered_carrier_date  \\\n",
       "99   2018-08-26 11:15:29.000000000  2018-08-27 15:52:00.000000000   \n",
       "100  2018-04-27 08:15:15.000000000  2018-04-30 13:52:00.000000000   \n",
       "101  2018-06-30 02:35:17.000000000  2018-07-03 07:18:00.000000000   \n",
       "102  2018-07-05 16:32:23.000000000  2018-07-05 12:04:00.000000000   \n",
       "103  2018-05-08 19:34:56.000000000  2018-05-09 10:13:00.000000000   \n",
       "\n",
       "     order_delivered_customer_date  order_estimated_delivery_date  \\\n",
       "99   2018-08-28 21:06:31.000000000  2018-08-30 00:00:00.000000000   \n",
       "100  2018-05-15 18:36:50.000000000  2018-05-24 00:00:00.000000000   \n",
       "101  2018-07-07 11:54:41.000000000  2018-07-23 00:00:00.000000000   \n",
       "102  2018-07-13 17:12:35.000000000  2018-08-06 00:00:00.000000000   \n",
       "103  2018-05-18 16:40:54.000000000  2018-05-29 00:00:00.000000000   \n",
       "\n",
       "            order_delivery_time  order_item_id   ...   customer_state  \\\n",
       "99    2 days 10:02:05.000000000              1   ...               SP   \n",
       "100  19 days 04:32:30.000000000              1   ...               PE   \n",
       "101   8 days 00:56:07.000000000              1   ...               MG   \n",
       "102   8 days 20:09:17.000000000              1   ...               RO   \n",
       "103  11 days 18:51:06.000000000              1   ...               SC   \n",
       "\n",
       "    seller_zip_code_prefix seller_city  seller_state  \\\n",
       "99                    4782   sao paulo            SP   \n",
       "100                   4782   sao paulo            SP   \n",
       "101                   4782   sao paulo            SP   \n",
       "102                   4782   sao paulo            SP   \n",
       "103                   4782   sao paulo            SP   \n",
       "\n",
       "     product_category_name_english  year   month  month/y    weekday   value  \n",
       "99                      housewares  2018  August  Aug2018     Sunday  172.14  \n",
       "100                     housewares  2018   April  Apr2018   Thursday  162.03  \n",
       "101                     housewares  2018    June  Jun2018     Friday  183.92  \n",
       "102                     housewares  2018    July  Jul2018  Wednesday  187.89  \n",
       "103                     housewares  2018     May  May2018     Sunday  162.55  \n",
       "\n",
       "[5 rows x 44 columns]"
      ]
     },
     "execution_count": 27,
     "metadata": {},
     "output_type": "execute_result"
    }
   ],
   "source": [
    "df_20sell_review = df[df['seller_id'].isin(df_20sell_sell.index)]\n",
    "df_20sell_review.head()"
   ]
  },
  {
   "cell_type": "code",
   "execution_count": 28,
   "metadata": {},
   "outputs": [
    {
     "data": {
      "text/plain": [
       "seller_id\n",
       "1025f0e2d44d7041d6cf58b6550e0bfa    3.976974\n",
       "1f50f920176fa81dab994f9023523100    4.149783\n",
       "3d871de0142ce09b7081e2b9d1733cb1    4.148079\n",
       "4869f7a5dfa277a7dca6462dcf3b52b2    4.132092\n",
       "4a3ca9315b744ce9f8e9374361493884    3.833144\n",
       "Name: review_score, dtype: float64"
      ]
     },
     "execution_count": 28,
     "metadata": {},
     "output_type": "execute_result"
    }
   ],
   "source": [
    "df_20sell_feedback = df_20sell_review.groupby('seller_id')['review_score'].mean()\n",
    "df_20sell_feedback.head()"
   ]
  },
  {
   "cell_type": "code",
   "execution_count": 29,
   "metadata": {},
   "outputs": [
    {
     "data": {
      "text/plain": [
       "<matplotlib.axes._subplots.AxesSubplot at 0x3929423780>"
      ]
     },
     "execution_count": 29,
     "metadata": {},
     "output_type": "execute_result"
    },
    {
     "data": {
      "image/png": "[encoded data removed]",
      "text/plain": [
       "<Figure size 432x288 with 1 Axes>"
      ]
     },
     "metadata": {
      "needs_background": "light"
     },
     "output_type": "display_data"
    }
   ],
   "source": [
    "df_20sell_feedback.plot(kind='barh', title='Customer feedback of top 20 sellers have the largest number of selling')"
   ]
  },
  {
   "cell_type": "markdown",
   "metadata": {},
   "source": [
    "### For year 2017"
   ]
  },
  {
   "cell_type": "code",
   "execution_count": 31,
   "metadata": {},
   "outputs": [],
   "source": [
    "# 'For year 2017'\n",
    "start_date = '01-01-17'\n",
    "end_date = '31-12-17'\n",
    "\n",
    "start_date =  datetime.datetime.strptime(start_date, '%d-%m-%y').date()\n",
    "end_date =  datetime.datetime.strptime(end_date, '%d-%m-%y').date()"
   ]
  },
  {
   "cell_type": "code",
   "execution_count": 32,
   "metadata": {},
   "outputs": [],
   "source": [
    "# Converting the time related object columns to datetime dtype\n",
    "def convert(db,columns_list):\n",
    "    for column in columns_list:\n",
    "        db[column] = pd.to_datetime(db[column])\n",
    "        \n",
    "cols = ['order_purchase_timestamp','order_approved_at','order_delivered_carrier_date',\n",
    "        'order_delivered_customer_date','order_estimated_delivery_date']\n",
    "\n",
    "convert(df, cols)"
   ]
  },
  {
   "cell_type": "code",
   "execution_count": 33,
   "metadata": {},
   "outputs": [],
   "source": [
    "dff = df.loc[(df['order_purchase_timestamp'].dt.date >= start_date)\n",
    "                    & (df['order_purchase_timestamp'].dt.date <= end_date)]"
   ]
  },
  {
   "cell_type": "code",
   "execution_count": 34,
   "metadata": {},
   "outputs": [
    {
     "data": {
      "text/plain": [
       "order_id                                 object\n",
       "customer_id                              object\n",
       "order_status                             object\n",
       "order_purchase_timestamp         datetime64[ns]\n",
       "order_approved_at                datetime64[ns]\n",
       "order_delivered_carrier_date     datetime64[ns]\n",
       "order_delivered_customer_date    datetime64[ns]\n",
       "order_estimated_delivery_date    datetime64[ns]\n",
       "order_delivery_time                      object\n",
       "order_item_id                             int64\n",
       "product_id                               object\n",
       "seller_id                                object\n",
       "shipping_limit_date                      object\n",
       "price                                   float64\n",
       "freight_value                           float64\n",
       "payment_sequential                        int64\n",
       "payment_type                             object\n",
       "payment_installments                      int64\n",
       "payment_value                           float64\n",
       "review_id                                object\n",
       "review_score                              int64\n",
       "review_creation_date                     object\n",
       "review_answer_timestamp                  object\n",
       "product_category_name                    object\n",
       "product_name_lenght                     float64\n",
       "product_description_lenght              float64\n",
       "product_photos_qty                      float64\n",
       "product_weight_g                        float64\n",
       "product_length_cm                       float64\n",
       "product_height_cm                       float64\n",
       "product_width_cm                        float64\n",
       "customer_unique_id                       object\n",
       "customer_zip_code_prefix                  int64\n",
       "customer_city                            object\n",
       "customer_state                           object\n",
       "seller_zip_code_prefix                    int64\n",
       "seller_city                              object\n",
       "seller_state                             object\n",
       "product_category_name_english            object\n",
       "year                                      int64\n",
       "month                                    object\n",
       "month/y                                  object\n",
       "weekday                                  object\n",
       "value                                   float64\n",
       "dtype: object"
      ]
     },
     "execution_count": 34,
     "metadata": {},
     "output_type": "execute_result"
    }
   ],
   "source": [
    "dff.dtypes"
   ]
  },
  {
   "cell_type": "markdown",
   "metadata": {},
   "source": [
    "#### Top 10 Products in each month (based on revenue)"
   ]
  },
  {
   "cell_type": "code",
   "execution_count": 35,
   "metadata": {},
   "outputs": [],
   "source": [
    "top_prod_rev1 = dff.groupby('product_category_name_english')['price'].sum().sort_values(ascending=False)[:20]"
   ]
  },
  {
   "cell_type": "code",
   "execution_count": 36,
   "metadata": {},
   "outputs": [
    {
     "data": {
      "text/plain": [
       "product_category_name_english\n",
       "watches_gifts            478891.00\n",
       "health_beauty            460130.54\n",
       "bed_bath_table           433583.97\n",
       "sports_leisure           416775.79\n",
       "cool_stuff               382557.31\n",
       "computers_accessories    341141.04\n",
       "toys                     296590.45\n",
       "furniture_decor          276507.28\n",
       "garden_tools             232043.30\n",
       "auto                     217952.26\n",
       "perfumery                206955.13\n",
       "housewares               206294.89\n",
       "computers                153806.79\n",
       "baby                     147429.42\n",
       "telephony                132072.57\n",
       "office_furniture         101927.39\n",
       "small_appliances          99291.08\n",
       "stationery                89224.91\n",
       "consoles_games            86746.82\n",
       "musical_instruments       78516.29\n",
       "Name: price, dtype: float64"
      ]
     },
     "execution_count": 36,
     "metadata": {},
     "output_type": "execute_result"
    }
   ],
   "source": [
    "top_prod_rev1"
   ]
  },
  {
   "cell_type": "code",
   "execution_count": 37,
   "metadata": {},
   "outputs": [
    {
     "data": {
      "text/plain": [
       "array(['watches_gifts', 'health_beauty', 'bed_bath_table',\n",
       "       'sports_leisure', 'cool_stuff', 'computers_accessories', 'toys',\n",
       "       'furniture_decor', 'garden_tools', 'auto'], dtype=object)"
      ]
     },
     "execution_count": 37,
     "metadata": {},
     "output_type": "execute_result"
    }
   ],
   "source": [
    "dff_top10_list1=np.array(top_prod_rev1[:10].index)\n",
    "dff_top10_list1"
   ]
  },
  {
   "cell_type": "code",
   "execution_count": 38,
   "metadata": {},
   "outputs": [],
   "source": [
    "dff_rev_month = dff.groupby([dff['product_category_name_english'],dff['order_purchase_timestamp'].map(lambda x: x.strftime('%m'))])[['price']].sum().unstack(0)"
   ]
  },
  {
   "cell_type": "code",
   "execution_count": 39,
   "metadata": {},
   "outputs": [
    {
     "data": {
      "text/html": [
       "<div>\n",
       "<style scoped>\n",
       "    .dataframe tbody tr th:only-of-type {\n",
       "        vertical-align: middle;\n",
       "    }\n",
       "\n",
       "    .dataframe tbody tr th {\n",
       "        vertical-align: top;\n",
       "    }\n",
       "\n",
       "    .dataframe thead tr th {\n",
       "        text-align: left;\n",
       "    }\n",
       "\n",
       "    .dataframe thead tr:last-of-type th {\n",
       "        text-align: right;\n",
       "    }\n",
       "</style>\n",
       "<table border=\"1\" class=\"dataframe\">\n",
       "  <thead>\n",
       "    <tr>\n",
       "      <th></th>\n",
       "      <th colspan=\"21\" halign=\"left\">price</th>\n",
       "    </tr>\n",
       "    <tr>\n",
       "      <th>product_category_name_english</th>\n",
       "      <th>agro_industry_and_commerce</th>\n",
       "      <th>air_conditioning</th>\n",
       "      <th>art</th>\n",
       "      <th>arts_and_craftmanship</th>\n",
       "      <th>audio</th>\n",
       "      <th>auto</th>\n",
       "      <th>baby</th>\n",
       "      <th>bed_bath_table</th>\n",
       "      <th>books_general_interest</th>\n",
       "      <th>books_imported</th>\n",
       "      <th>...</th>\n",
       "      <th>security_and_services</th>\n",
       "      <th>signaling_and_security</th>\n",
       "      <th>small_appliances</th>\n",
       "      <th>small_appliances_home_oven_and_coffee</th>\n",
       "      <th>sports_leisure</th>\n",
       "      <th>stationery</th>\n",
       "      <th>tablets_printing_image</th>\n",
       "      <th>telephony</th>\n",
       "      <th>toys</th>\n",
       "      <th>watches_gifts</th>\n",
       "    </tr>\n",
       "    <tr>\n",
       "      <th>order_purchase_timestamp</th>\n",
       "      <th></th>\n",
       "      <th></th>\n",
       "      <th></th>\n",
       "      <th></th>\n",
       "      <th></th>\n",
       "      <th></th>\n",
       "      <th></th>\n",
       "      <th></th>\n",
       "      <th></th>\n",
       "      <th></th>\n",
       "      <th></th>\n",
       "      <th></th>\n",
       "      <th></th>\n",
       "      <th></th>\n",
       "      <th></th>\n",
       "      <th></th>\n",
       "      <th></th>\n",
       "      <th></th>\n",
       "      <th></th>\n",
       "      <th></th>\n",
       "      <th></th>\n",
       "    </tr>\n",
       "  </thead>\n",
       "  <tbody>\n",
       "    <tr>\n",
       "      <th>01</th>\n",
       "      <td>43.98</td>\n",
       "      <td>513.80</td>\n",
       "      <td>NaN</td>\n",
       "      <td>NaN</td>\n",
       "      <td>NaN</td>\n",
       "      <td>4395.93</td>\n",
       "      <td>4230.07</td>\n",
       "      <td>3526.16</td>\n",
       "      <td>234.89</td>\n",
       "      <td>NaN</td>\n",
       "      <td>...</td>\n",
       "      <td>183.29</td>\n",
       "      <td>NaN</td>\n",
       "      <td>1660.79</td>\n",
       "      <td>NaN</td>\n",
       "      <td>8082.05</td>\n",
       "      <td>1004.72</td>\n",
       "      <td>NaN</td>\n",
       "      <td>2752.40</td>\n",
       "      <td>4814.09</td>\n",
       "      <td>8086.52</td>\n",
       "    </tr>\n",
       "    <tr>\n",
       "      <th>02</th>\n",
       "      <td>224.84</td>\n",
       "      <td>3095.30</td>\n",
       "      <td>NaN</td>\n",
       "      <td>NaN</td>\n",
       "      <td>163.80</td>\n",
       "      <td>11591.04</td>\n",
       "      <td>2998.48</td>\n",
       "      <td>13773.58</td>\n",
       "      <td>772.71</td>\n",
       "      <td>99.00</td>\n",
       "      <td>...</td>\n",
       "      <td>NaN</td>\n",
       "      <td>NaN</td>\n",
       "      <td>6613.80</td>\n",
       "      <td>NaN</td>\n",
       "      <td>15093.48</td>\n",
       "      <td>2341.40</td>\n",
       "      <td>792.00</td>\n",
       "      <td>6041.46</td>\n",
       "      <td>9101.94</td>\n",
       "      <td>11582.25</td>\n",
       "    </tr>\n",
       "    <tr>\n",
       "      <th>03</th>\n",
       "      <td>81.99</td>\n",
       "      <td>4043.91</td>\n",
       "      <td>223.25</td>\n",
       "      <td>NaN</td>\n",
       "      <td>990.77</td>\n",
       "      <td>12890.20</td>\n",
       "      <td>3713.09</td>\n",
       "      <td>22457.59</td>\n",
       "      <td>2039.76</td>\n",
       "      <td>NaN</td>\n",
       "      <td>...</td>\n",
       "      <td>NaN</td>\n",
       "      <td>75.00</td>\n",
       "      <td>11171.06</td>\n",
       "      <td>NaN</td>\n",
       "      <td>25068.15</td>\n",
       "      <td>5902.62</td>\n",
       "      <td>495.00</td>\n",
       "      <td>7659.44</td>\n",
       "      <td>12282.87</td>\n",
       "      <td>26605.38</td>\n",
       "    </tr>\n",
       "    <tr>\n",
       "      <th>04</th>\n",
       "      <td>NaN</td>\n",
       "      <td>2383.43</td>\n",
       "      <td>119.90</td>\n",
       "      <td>NaN</td>\n",
       "      <td>762.40</td>\n",
       "      <td>13593.24</td>\n",
       "      <td>3825.45</td>\n",
       "      <td>21473.03</td>\n",
       "      <td>923.38</td>\n",
       "      <td>19.99</td>\n",
       "      <td>...</td>\n",
       "      <td>NaN</td>\n",
       "      <td>128.06</td>\n",
       "      <td>23084.98</td>\n",
       "      <td>NaN</td>\n",
       "      <td>23074.20</td>\n",
       "      <td>4606.34</td>\n",
       "      <td>914.88</td>\n",
       "      <td>6810.97</td>\n",
       "      <td>12111.25</td>\n",
       "      <td>23257.59</td>\n",
       "    </tr>\n",
       "    <tr>\n",
       "      <th>05</th>\n",
       "      <td>1579.94</td>\n",
       "      <td>927.77</td>\n",
       "      <td>6967.65</td>\n",
       "      <td>NaN</td>\n",
       "      <td>2081.18</td>\n",
       "      <td>16224.28</td>\n",
       "      <td>9624.92</td>\n",
       "      <td>30622.28</td>\n",
       "      <td>1706.57</td>\n",
       "      <td>NaN</td>\n",
       "      <td>...</td>\n",
       "      <td>NaN</td>\n",
       "      <td>294.85</td>\n",
       "      <td>4972.45</td>\n",
       "      <td>NaN</td>\n",
       "      <td>32981.58</td>\n",
       "      <td>5827.28</td>\n",
       "      <td>1415.98</td>\n",
       "      <td>8618.55</td>\n",
       "      <td>22055.46</td>\n",
       "      <td>36137.20</td>\n",
       "    </tr>\n",
       "  </tbody>\n",
       "</table>\n",
       "<p>5 rows × 71 columns</p>\n",
       "</div>"
      ],
      "text/plain": [
       "                                                   price                   \\\n",
       "product_category_name_english agro_industry_and_commerce air_conditioning   \n",
       "order_purchase_timestamp                                                    \n",
       "01                                                 43.98           513.80   \n",
       "02                                                224.84          3095.30   \n",
       "03                                                 81.99          4043.91   \n",
       "04                                                   NaN          2383.43   \n",
       "05                                               1579.94           927.77   \n",
       "\n",
       "                                                                       \\\n",
       "product_category_name_english      art arts_and_craftmanship    audio   \n",
       "order_purchase_timestamp                                                \n",
       "01                                 NaN                   NaN      NaN   \n",
       "02                                 NaN                   NaN   163.80   \n",
       "03                              223.25                   NaN   990.77   \n",
       "04                              119.90                   NaN   762.40   \n",
       "05                             6967.65                   NaN  2081.18   \n",
       "\n",
       "                                                                 \\\n",
       "product_category_name_english      auto     baby bed_bath_table   \n",
       "order_purchase_timestamp                                          \n",
       "01                              4395.93  4230.07        3526.16   \n",
       "02                             11591.04  2998.48       13773.58   \n",
       "03                             12890.20  3713.09       22457.59   \n",
       "04                             13593.24  3825.45       21473.03   \n",
       "05                             16224.28  9624.92       30622.28   \n",
       "\n",
       "                                                                     \\\n",
       "product_category_name_english books_general_interest books_imported   \n",
       "order_purchase_timestamp                                              \n",
       "01                                            234.89            NaN   \n",
       "02                                            772.71          99.00   \n",
       "03                                           2039.76            NaN   \n",
       "04                                            923.38          19.99   \n",
       "05                                           1706.57            NaN   \n",
       "\n",
       "                                   ...                             \\\n",
       "product_category_name_english      ...      security_and_services   \n",
       "order_purchase_timestamp           ...                              \n",
       "01                                 ...                     183.29   \n",
       "02                                 ...                        NaN   \n",
       "03                                 ...                        NaN   \n",
       "04                                 ...                        NaN   \n",
       "05                                 ...                        NaN   \n",
       "\n",
       "                                                                       \\\n",
       "product_category_name_english signaling_and_security small_appliances   \n",
       "order_purchase_timestamp                                                \n",
       "01                                               NaN          1660.79   \n",
       "02                                               NaN          6613.80   \n",
       "03                                             75.00         11171.06   \n",
       "04                                            128.06         23084.98   \n",
       "05                                            294.85          4972.45   \n",
       "\n",
       "                                                                     \\\n",
       "product_category_name_english small_appliances_home_oven_and_coffee   \n",
       "order_purchase_timestamp                                              \n",
       "01                                                              NaN   \n",
       "02                                                              NaN   \n",
       "03                                                              NaN   \n",
       "04                                                              NaN   \n",
       "05                                                              NaN   \n",
       "\n",
       "                                                         \\\n",
       "product_category_name_english sports_leisure stationery   \n",
       "order_purchase_timestamp                                  \n",
       "01                                   8082.05    1004.72   \n",
       "02                                  15093.48    2341.40   \n",
       "03                                  25068.15    5902.62   \n",
       "04                                  23074.20    4606.34   \n",
       "05                                  32981.58    5827.28   \n",
       "\n",
       "                                                                          \\\n",
       "product_category_name_english tablets_printing_image telephony      toys   \n",
       "order_purchase_timestamp                                                   \n",
       "01                                               NaN   2752.40   4814.09   \n",
       "02                                            792.00   6041.46   9101.94   \n",
       "03                                            495.00   7659.44  12282.87   \n",
       "04                                            914.88   6810.97  12111.25   \n",
       "05                                           1415.98   8618.55  22055.46   \n",
       "\n",
       "                                             \n",
       "product_category_name_english watches_gifts  \n",
       "order_purchase_timestamp                     \n",
       "01                                  8086.52  \n",
       "02                                 11582.25  \n",
       "03                                 26605.38  \n",
       "04                                 23257.59  \n",
       "05                                 36137.20  \n",
       "\n",
       "[5 rows x 71 columns]"
      ]
     },
     "execution_count": 39,
     "metadata": {},
     "output_type": "execute_result"
    }
   ],
   "source": [
    "dff_rev_month.head()"
   ]
  },
  {
   "cell_type": "code",
   "execution_count": 40,
   "metadata": {},
   "outputs": [],
   "source": [
    "dff_rev_month.columns = dff_rev_month.columns.droplevel(0)"
   ]
  },
  {
   "cell_type": "code",
   "execution_count": 41,
   "metadata": {},
   "outputs": [
    {
     "data": {
      "text/plain": [
       "order_purchase_timestamp  product_category_name_english\n",
       "01                        watches_gifts                     8086.52\n",
       "                          health_beauty                    12377.62\n",
       "                          bed_bath_table                    3526.16\n",
       "                          sports_leisure                    8082.05\n",
       "                          cool_stuff                        6676.70\n",
       "                          computers_accessories             3261.92\n",
       "                          toys                              4814.09\n",
       "                          furniture_decor                  10796.17\n",
       "                          garden_tools                      7040.97\n",
       "                          auto                              4395.93\n",
       "02                        watches_gifts                    11582.25\n",
       "                          health_beauty                    22026.20\n",
       "                          bed_bath_table                   13773.58\n",
       "                          sports_leisure                   15093.48\n",
       "                          cool_stuff                       13018.73\n",
       "                          computers_accessories            11482.50\n",
       "                          toys                              9101.94\n",
       "                          furniture_decor                  17987.63\n",
       "                          garden_tools                     12060.31\n",
       "                          auto                             11591.04\n",
       "03                        watches_gifts                    26605.38\n",
       "                          health_beauty                    25081.59\n",
       "                          bed_bath_table                   22457.59\n",
       "                          sports_leisure                   25068.15\n",
       "                          cool_stuff                       20916.11\n",
       "                          computers_accessories            26155.89\n",
       "                          toys                             12282.87\n",
       "                          furniture_decor                  20447.07\n",
       "                          garden_tools                     20756.20\n",
       "                          auto                             12890.20\n",
       "                                                             ...   \n",
       "10                        watches_gifts                    64161.74\n",
       "                          health_beauty                    40753.57\n",
       "                          bed_bath_table                   38098.48\n",
       "                          sports_leisure                   46670.11\n",
       "                          cool_stuff                       42769.47\n",
       "                          computers_accessories            35686.20\n",
       "                          toys                             33656.77\n",
       "                          furniture_decor                  22767.40\n",
       "                          garden_tools                     20664.61\n",
       "                          auto                             19726.40\n",
       "11                        watches_gifts                    93667.35\n",
       "                          health_beauty                    75278.15\n",
       "                          bed_bath_table                   75180.46\n",
       "                          sports_leisure                   60830.26\n",
       "                          cool_stuff                       54423.99\n",
       "                          computers_accessories            58486.70\n",
       "                          toys                             61548.04\n",
       "                          furniture_decor                  48822.95\n",
       "                          garden_tools                     37614.46\n",
       "                          auto                             33019.16\n",
       "12                        watches_gifts                    69986.68\n",
       "                          health_beauty                    58708.62\n",
       "                          bed_bath_table                   43556.82\n",
       "                          sports_leisure                   55062.98\n",
       "                          cool_stuff                       38068.96\n",
       "                          computers_accessories            34046.21\n",
       "                          toys                             55300.15\n",
       "                          furniture_decor                  27690.96\n",
       "                          garden_tools                     22460.68\n",
       "                          auto                             36988.12\n",
       "Length: 120, dtype: float64"
      ]
     },
     "execution_count": 41,
     "metadata": {},
     "output_type": "execute_result"
    }
   ],
   "source": [
    "df_top10_rev_month=dff_rev_month[dff_top10_list1].stack(level=0)\n",
    "df_top10_rev_month"
   ]
  },
  {
   "cell_type": "code",
   "execution_count": 42,
   "metadata": {},
   "outputs": [
    {
     "data": {
      "application/vnd.plotly.v1+json": {
       "config": {
        "plotlyServerURL": "https://plot.ly"
       },
       "data": [
        {
         "hoverlabel": {
          "namelength": 0
         },
         "hovertemplate": "color=watches_gifts<br>x=%{x}<br>y=%{y}",
         "legendgroup": "watches_gifts",
         "line": {
          "color": "#636efa",
          "dash": "solid"
         },
         "mode": "lines",
         "name": "watches_gifts",
         "showlegend": true,
         "type": "scatter",
         "x": [
          "01",
          "02",
          "03",
          "04",
          "05",
          "06",
          "07",
          "08",
          "09",
          "10",
          "11",
          "12"
         ],
         "xaxis": "x",
         "y": [
          8086.52,
          11582.249999999998,
          26605.380000000016,
          23257.590000000007,
          36137.200000000026,
          28627.730000000025,
          35877.18000000003,
          35675.66000000006,
          45225.72000000007,
          64161.740000000034,
          93667.34999999986,
          69986.68000000008
         ],
         "yaxis": "y"
        },
        {
         "hoverlabel": {
          "namelength": 0
         },
         "hovertemplate": "color=health_beauty<br>x=%{x}<br>y=%{y}",
         "legendgroup": "health_beauty",
         "line": {
          "color": "#EF553B",
          "dash": "solid"
         },
         "mode": "lines",
         "name": "health_beauty",
         "showlegend": true,
         "type": "scatter",
         "x": [
          "01",
          "02",
          "03",
          "04",
          "05",
          "06",
          "07",
          "08",
          "09",
          "10",
          "11",
          "12"
         ],
         "xaxis": "x",
         "y": [
          12377.619999999986,
          22026.2,
          25081.590000000015,
          21869.940000000002,
          44290.82000000014,
          30101.72000000006,
          32966.93000000005,
          48003.9000000001,
          48671.48000000014,
          40753.5700000001,
          75278.1500000001,
          58708.62000000011
         ],
         "yaxis": "y"
        },
        {
         "hoverlabel": {
          "namelength": 0
         },
         "hovertemplate": "color=bed_bath_table<br>x=%{x}<br>y=%{y}",
         "legendgroup": "bed_bath_table",
         "line": {
          "color": "#00cc96",
          "dash": "solid"
         },
         "mode": "lines",
         "name": "bed_bath_table",
         "showlegend": true,
         "type": "scatter",
         "x": [
          "01",
          "02",
          "03",
          "04",
          "05",
          "06",
          "07",
          "08",
          "09",
          "10",
          "11",
          "12"
         ],
         "xaxis": "x",
         "y": [
          3526.16,
          13773.579999999976,
          22457.590000000047,
          21473.03,
          30622.280000000126,
          32566.080000000115,
          55538.340000000106,
          50941.840000000084,
          45849.310000000136,
          38098.480000000105,
          75180.46000000015,
          43556.82000000018
         ],
         "yaxis": "y"
        },
        {
         "hoverlabel": {
          "namelength": 0
         },
         "hovertemplate": "color=sports_leisure<br>x=%{x}<br>y=%{y}",
         "legendgroup": "sports_leisure",
         "line": {
          "color": "#ab63fa",
          "dash": "solid"
         },
         "mode": "lines",
         "name": "sports_leisure",
         "showlegend": true,
         "type": "scatter",
         "x": [
          "01",
          "02",
          "03",
          "04",
          "05",
          "06",
          "07",
          "08",
          "09",
          "10",
          "11",
          "12"
         ],
         "xaxis": "x",
         "y": [
          8082.049999999994,
          15093.479999999987,
          25068.150000000016,
          23074.200000000048,
          32981.580000000045,
          31483.600000000057,
          34889.20000000021,
          37729.40000000017,
          45810.780000000195,
          46670.110000000124,
          60830.26000000023,
          55062.980000000185
         ],
         "yaxis": "y"
        },
        {
         "hoverlabel": {
          "namelength": 0
         },
         "hovertemplate": "color=cool_stuff<br>x=%{x}<br>y=%{y}",
         "legendgroup": "cool_stuff",
         "line": {
          "color": "#FFA15A",
          "dash": "solid"
         },
         "mode": "lines",
         "name": "cool_stuff",
         "showlegend": true,
         "type": "scatter",
         "x": [
          "01",
          "02",
          "03",
          "04",
          "05",
          "06",
          "07",
          "08",
          "09",
          "10",
          "11",
          "12"
         ],
         "xaxis": "x",
         "y": [
          6676.7,
          13018.729999999989,
          20916.109999999986,
          21632.279999999984,
          32410.030000000075,
          37955.960000000036,
          36897.280000000064,
          40464.94000000007,
          37322.860000000044,
          42769.47000000008,
          54423.99000000008,
          38068.9600000001
         ],
         "yaxis": "y"
        },
        {
         "hoverlabel": {
          "namelength": 0
         },
         "hovertemplate": "color=computers_accessories<br>x=%{x}<br>y=%{y}",
         "legendgroup": "computers_accessories",
         "line": {
          "color": "#19d3f3",
          "dash": "solid"
         },
         "mode": "lines",
         "name": "computers_accessories",
         "showlegend": true,
         "type": "scatter",
         "x": [
          "01",
          "02",
          "03",
          "04",
          "05",
          "06",
          "07",
          "08",
          "09",
          "10",
          "11",
          "12"
         ],
         "xaxis": "x",
         "y": [
          3261.92,
          11482.499999999998,
          26155.88999999999,
          19499.529999999995,
          36547.60000000002,
          32545.910000000018,
          30661.040000000037,
          28256.330000000027,
          24511.21000000002,
          35686.20000000005,
          58486.70000000005,
          34046.21000000009
         ],
         "yaxis": "y"
        },
        {
         "hoverlabel": {
          "namelength": 0
         },
         "hovertemplate": "color=toys<br>x=%{x}<br>y=%{y}",
         "legendgroup": "toys",
         "line": {
          "color": "#FF6692",
          "dash": "solid"
         },
         "mode": "lines",
         "name": "toys",
         "showlegend": true,
         "type": "scatter",
         "x": [
          "01",
          "02",
          "03",
          "04",
          "05",
          "06",
          "07",
          "08",
          "09",
          "10",
          "11",
          "12"
         ],
         "xaxis": "x",
         "y": [
          4814.0899999999965,
          9101.939999999991,
          12282.86999999998,
          12111.249999999982,
          22055.46000000004,
          15075.54999999997,
          23900.100000000028,
          17134.21999999998,
          29610.01000000007,
          33656.77000000009,
          61548.04000000026,
          55300.15000000026
         ],
         "yaxis": "y"
        },
        {
         "hoverlabel": {
          "namelength": 0
         },
         "hovertemplate": "color=furniture_decor<br>x=%{x}<br>y=%{y}",
         "legendgroup": "furniture_decor",
         "line": {
          "color": "#B6E880",
          "dash": "solid"
         },
         "mode": "lines",
         "name": "furniture_decor",
         "showlegend": true,
         "type": "scatter",
         "x": [
          "01",
          "02",
          "03",
          "04",
          "05",
          "06",
          "07",
          "08",
          "09",
          "10",
          "11",
          "12"
         ],
         "xaxis": "x",
         "y": [
          10796.169999999982,
          17987.629999999965,
          20447.07,
          17178.619999999977,
          20901.989999999987,
          13810.509999999975,
          20228.379999999997,
          29372.960000000054,
          26502.64000000005,
          22767.40000000005,
          48822.95000000025,
          27690.96000000008
         ],
         "yaxis": "y"
        },
        {
         "hoverlabel": {
          "namelength": 0
         },
         "hovertemplate": "color=garden_tools<br>x=%{x}<br>y=%{y}",
         "legendgroup": "garden_tools",
         "line": {
          "color": "#FF97FF",
          "dash": "solid"
         },
         "mode": "lines",
         "name": "garden_tools",
         "showlegend": true,
         "type": "scatter",
         "x": [
          "01",
          "02",
          "03",
          "04",
          "05",
          "06",
          "07",
          "08",
          "09",
          "10",
          "11",
          "12"
         ],
         "xaxis": "x",
         "y": [
          7040.969999999999,
          12060.309999999996,
          20756.199999999997,
          18010.34999999999,
          19545.640000000003,
          14871.349999999986,
          18178.51999999999,
          21651.37999999999,
          19188.829999999965,
          20664.609999999982,
          37614.46000000006,
          22460.679999999997
         ],
         "yaxis": "y"
        },
        {
         "hoverlabel": {
          "namelength": 0
         },
         "hovertemplate": "color=auto<br>x=%{x}<br>y=%{y}",
         "legendgroup": "auto",
         "line": {
          "color": "#FECB52",
          "dash": "solid"
         },
         "mode": "lines",
         "name": "auto",
         "showlegend": true,
         "type": "scatter",
         "x": [
          "01",
          "02",
          "03",
          "04",
          "05",
          "06",
          "07",
          "08",
          "09",
          "10",
          "11",
          "12"
         ],
         "xaxis": "x",
         "y": [
          4395.929999999999,
          11591.039999999992,
          12890.199999999995,
          13593.239999999994,
          16224.27999999999,
          29828.380000000016,
          13137.87999999999,
          14822.48999999998,
          11735.139999999989,
          19726.399999999983,
          33019.16000000003,
          36988.120000000024
         ],
         "yaxis": "y"
        }
       ],
       "layout": {
        "legend": {
         "title": {
          "text": "Product category"
         },
         "tracegroupgap": 0
        },
        "margin": {
         "t": 60
        },
        "template": {
         "data": {
          "bar": [
           {
            "error_x": {
             "color": "#2a3f5f"
            },
            "error_y": {
             "color": "#2a3f5f"
            },
            "marker": {
             "line": {
              "color": "#E5ECF6",
              "width": 0.5
             }
            },
            "type": "bar"
           }
          ],
          "barpolar": [
           {
            "marker": {
             "line": {
              "color": "#E5ECF6",
              "width": 0.5
             }
            },
            "type": "barpolar"
           }
          ],
          "carpet": [
           {
            "aaxis": {
             "endlinecolor": "#2a3f5f",
             "gridcolor": "white",
             "linecolor": "white",
             "minorgridcolor": "white",
             "startlinecolor": "#2a3f5f"
            },
            "baxis": {
             "endlinecolor": "#2a3f5f",
             "gridcolor": "white",
             "linecolor": "white",
             "minorgridcolor": "white",
             "startlinecolor": "#2a3f5f"
            },
            "type": "carpet"
           }
          ],
          "choropleth": [
           {
            "colorbar": {
             "outlinewidth": 0,
             "ticks": ""
            },
            "type": "choropleth"
           }
          ],
          "contour": [
           {
            "colorbar": {
             "outlinewidth": 0,
             "ticks": ""
            },
            "colorscale": [
             [
              0,
              "#0d0887"
             ],
             [
              0.1111111111111111,
              "#46039f"
             ],
             [
              0.2222222222222222,
              "#7201a8"
             ],
             [
              0.3333333333333333,
              "#9c179e"
             ],
             [
              0.4444444444444444,
              "#bd3786"
             ],
             [
              0.5555555555555556,
              "#d8576b"
             ],
             [
              0.6666666666666666,
              "#ed7953"
             ],
             [
              0.7777777777777778,
              "#fb9f3a"
             ],
             [
              0.8888888888888888,
              "#fdca26"
             ],
             [
              1,
              "#f0f921"
             ]
            ],
            "type": "contour"
           }
          ],
          "contourcarpet": [
           {
            "colorbar": {
             "outlinewidth": 0,
             "ticks": ""
            },
            "type": "contourcarpet"
           }
          ],
          "heatmap": [
           {
            "colorbar": {
             "outlinewidth": 0,
             "ticks": ""
            },
            "colorscale": [
             [
              0,
              "#0d0887"
             ],
             [
              0.1111111111111111,
              "#46039f"
             ],
             [
              0.2222222222222222,
              "#7201a8"
             ],
             [
              0.3333333333333333,
              "#9c179e"
             ],
             [
              0.4444444444444444,
              "#bd3786"
             ],
             [
              0.5555555555555556,
              "#d8576b"
             ],
             [
              0.6666666666666666,
              "#ed7953"
             ],
             [
              0.7777777777777778,
              "#fb9f3a"
             ],
             [
              0.8888888888888888,
              "#fdca26"
             ],
             [
              1,
              "#f0f921"
             ]
            ],
            "type": "heatmap"
           }
          ],
          "heatmapgl": [
           {
            "colorbar": {
             "outlinewidth": 0,
             "ticks": ""
            },
            "colorscale": [
             [
              0,
              "#0d0887"
             ],
             [
              0.1111111111111111,
              "#46039f"
             ],
             [
              0.2222222222222222,
              "#7201a8"
             ],
             [
              0.3333333333333333,
              "#9c179e"
             ],
             [
              0.4444444444444444,
              "#bd3786"
             ],
             [
              0.5555555555555556,
              "#d8576b"
             ],
             [
              0.6666666666666666,
              "#ed7953"
             ],
             [
              0.7777777777777778,
              "#fb9f3a"
             ],
             [
              0.8888888888888888,
              "#fdca26"
             ],
             [
              1,
              "#f0f921"
             ]
            ],
            "type": "heatmapgl"
           }
          ],
          "histogram": [
           {
            "marker": {
             "colorbar": {
              "outlinewidth": 0,
              "ticks": ""
             }
            },
            "type": "histogram"
           }
          ],
          "histogram2d": [
           {
            "colorbar": {
             "outlinewidth": 0,
             "ticks": ""
            },
            "colorscale": [
             [
              0,
              "#0d0887"
             ],
             [
              0.1111111111111111,
              "#46039f"
             ],
             [
              0.2222222222222222,
              "#7201a8"
             ],
             [
              0.3333333333333333,
              "#9c179e"
             ],
             [
              0.4444444444444444,
              "#bd3786"
             ],
             [
              0.5555555555555556,
              "#d8576b"
             ],
             [
              0.6666666666666666,
              "#ed7953"
             ],
             [
              0.7777777777777778,
              "#fb9f3a"
             ],
             [
              0.8888888888888888,
              "#fdca26"
             ],
             [
              1,
              "#f0f921"
             ]
            ],
            "type": "histogram2d"
           }
          ],
          "histogram2dcontour": [
           {
            "colorbar": {
             "outlinewidth": 0,
             "ticks": ""
            },
            "colorscale": [
             [
              0,
              "#0d0887"
             ],
             [
              0.1111111111111111,
              "#46039f"
             ],
             [
              0.2222222222222222,
              "#7201a8"
             ],
             [
              0.3333333333333333,
              "#9c179e"
             ],
             [
              0.4444444444444444,
              "#bd3786"
             ],
             [
              0.5555555555555556,
              "#d8576b"
             ],
             [
              0.6666666666666666,
              "#ed7953"
             ],
             [
              0.7777777777777778,
              "#fb9f3a"
             ],
             [
              0.8888888888888888,
              "#fdca26"
             ],
             [
              1,
              "#f0f921"
             ]
            ],
            "type": "histogram2dcontour"
           }
          ],
          "mesh3d": [
           {
            "colorbar": {
             "outlinewidth": 0,
             "ticks": ""
            },
            "type": "mesh3d"
           }
          ],
          "parcoords": [
           {
            "line": {
             "colorbar": {
              "outlinewidth": 0,
              "ticks": ""
             }
            },
            "type": "parcoords"
           }
          ],
          "pie": [
           {
            "automargin": true,
            "type": "pie"
           }
          ],
          "scatter": [
           {
            "marker": {
             "colorbar": {
              "outlinewidth": 0,
              "ticks": ""
             }
            },
            "type": "scatter"
           }
          ],
          "scatter3d": [
           {
            "line": {
             "colorbar": {
              "outlinewidth": 0,
              "ticks": ""
             }
            },
            "marker": {
             "colorbar": {
              "outlinewidth": 0,
              "ticks": ""
             }
            },
            "type": "scatter3d"
           }
          ],
          "scattercarpet": [
           {
            "marker": {
             "colorbar": {
              "outlinewidth": 0,
              "ticks": ""
             }
            },
            "type": "scattercarpet"
           }
          ],
          "scattergeo": [
           {
            "marker": {
             "colorbar": {
              "outlinewidth": 0,
              "ticks": ""
             }
            },
            "type": "scattergeo"
           }
          ],
          "scattergl": [
           {
            "marker": {
             "colorbar": {
              "outlinewidth": 0,
              "ticks": ""
             }
            },
            "type": "scattergl"
           }
          ],
          "scattermapbox": [
           {
            "marker": {
             "colorbar": {
              "outlinewidth": 0,
              "ticks": ""
             }
            },
            "type": "scattermapbox"
           }
          ],
          "scatterpolar": [
           {
            "marker": {
             "colorbar": {
              "outlinewidth": 0,
              "ticks": ""
             }
            },
            "type": "scatterpolar"
           }
          ],
          "scatterpolargl": [
           {
            "marker": {
             "colorbar": {
              "outlinewidth": 0,
              "ticks": ""
             }
            },
            "type": "scatterpolargl"
           }
          ],
          "scatterternary": [
           {
            "marker": {
             "colorbar": {
              "outlinewidth": 0,
              "ticks": ""
             }
            },
            "type": "scatterternary"
           }
          ],
          "surface": [
           {
            "colorbar": {
             "outlinewidth": 0,
             "ticks": ""
            },
            "colorscale": [
             [
              0,
              "#0d0887"
             ],
             [
              0.1111111111111111,
              "#46039f"
             ],
             [
              0.2222222222222222,
              "#7201a8"
             ],
             [
              0.3333333333333333,
              "#9c179e"
             ],
             [
              0.4444444444444444,
              "#bd3786"
             ],
             [
              0.5555555555555556,
              "#d8576b"
             ],
             [
              0.6666666666666666,
              "#ed7953"
             ],
             [
              0.7777777777777778,
              "#fb9f3a"
             ],
             [
              0.8888888888888888,
              "#fdca26"
             ],
             [
              1,
              "#f0f921"
             ]
            ],
            "type": "surface"
           }
          ],
          "table": [
           {
            "cells": {
             "fill": {
              "color": "#EBF0F8"
             },
             "line": {
              "color": "white"
             }
            },
            "header": {
             "fill": {
              "color": "#C8D4E3"
             },
             "line": {
              "color": "white"
             }
            },
            "type": "table"
           }
          ]
         },
         "layout": {
          "annotationdefaults": {
           "arrowcolor": "#2a3f5f",
           "arrowhead": 0,
           "arrowwidth": 1
          },
          "coloraxis": {
           "colorbar": {
            "outlinewidth": 0,
            "ticks": ""
           }
          },
          "colorscale": {
           "diverging": [
            [
             0,
             "#8e0152"
            ],
            [
             0.1,
             "#c51b7d"
            ],
            [
             0.2,
             "#de77ae"
            ],
            [
             0.3,
             "#f1b6da"
            ],
            [
             0.4,
             "#fde0ef"
            ],
            [
             0.5,
             "#f7f7f7"
            ],
            [
             0.6,
             "#e6f5d0"
            ],
            [
             0.7,
             "#b8e186"
            ],
            [
             0.8,
             "#7fbc41"
            ],
            [
             0.9,
             "#4d9221"
            ],
            [
             1,
             "#276419"
            ]
           ],
           "sequential": [
            [
             0,
             "#0d0887"
            ],
            [
             0.1111111111111111,
             "#46039f"
            ],
            [
             0.2222222222222222,
             "#7201a8"
            ],
            [
             0.3333333333333333,
             "#9c179e"
            ],
            [
             0.4444444444444444,
             "#bd3786"
            ],
            [
             0.5555555555555556,
             "#d8576b"
            ],
            [
             0.6666666666666666,
             "#ed7953"
            ],
            [
             0.7777777777777778,
             "#fb9f3a"
            ],
            [
             0.8888888888888888,
             "#fdca26"
            ],
            [
             1,
             "#f0f921"
            ]
           ],
           "sequentialminus": [
            [
             0,
             "#0d0887"
            ],
            [
             0.1111111111111111,
             "#46039f"
            ],
            [
             0.2222222222222222,
             "#7201a8"
            ],
            [
             0.3333333333333333,
             "#9c179e"
            ],
            [
             0.4444444444444444,
             "#bd3786"
            ],
            [
             0.5555555555555556,
             "#d8576b"
            ],
            [
             0.6666666666666666,
             "#ed7953"
            ],
            [
             0.7777777777777778,
             "#fb9f3a"
            ],
            [
             0.8888888888888888,
             "#fdca26"
            ],
            [
             1,
             "#f0f921"
            ]
           ]
          },
          "colorway": [
           "#636efa",
           "#EF553B",
           "#00cc96",
           "#ab63fa",
           "#FFA15A",
           "#19d3f3",
           "#FF6692",
           "#B6E880",
           "#FF97FF",
           "#FECB52"
          ],
          "font": {
           "color": "#2a3f5f"
          },
          "geo": {
           "bgcolor": "white",
           "lakecolor": "white",
           "landcolor": "#E5ECF6",
           "showlakes": true,
           "showland": true,
           "subunitcolor": "white"
          },
          "hoverlabel": {
           "align": "left"
          },
          "hovermode": "closest",
          "mapbox": {
           "style": "light"
          },
          "paper_bgcolor": "white",
          "plot_bgcolor": "#E5ECF6",
          "polar": {
           "angularaxis": {
            "gridcolor": "white",
            "linecolor": "white",
            "ticks": ""
           },
           "bgcolor": "#E5ECF6",
           "radialaxis": {
            "gridcolor": "white",
            "linecolor": "white",
            "ticks": ""
           }
          },
          "scene": {
           "xaxis": {
            "backgroundcolor": "#E5ECF6",
            "gridcolor": "white",
            "gridwidth": 2,
            "linecolor": "white",
            "showbackground": true,
            "ticks": "",
            "zerolinecolor": "white"
           },
           "yaxis": {
            "backgroundcolor": "#E5ECF6",
            "gridcolor": "white",
            "gridwidth": 2,
            "linecolor": "white",
            "showbackground": true,
            "ticks": "",
            "zerolinecolor": "white"
           },
           "zaxis": {
            "backgroundcolor": "#E5ECF6",
            "gridcolor": "white",
            "gridwidth": 2,
            "linecolor": "white",
            "showbackground": true,
            "ticks": "",
            "zerolinecolor": "white"
           }
          },
          "shapedefaults": {
           "line": {
            "color": "#2a3f5f"
           }
          },
          "ternary": {
           "aaxis": {
            "gridcolor": "white",
            "linecolor": "white",
            "ticks": ""
           },
           "baxis": {
            "gridcolor": "white",
            "linecolor": "white",
            "ticks": ""
           },
           "bgcolor": "#E5ECF6",
           "caxis": {
            "gridcolor": "white",
            "linecolor": "white",
            "ticks": ""
           }
          },
          "title": {
           "x": 0.05
          },
          "xaxis": {
           "automargin": true,
           "gridcolor": "white",
           "linecolor": "white",
           "ticks": "",
           "title": {
            "standoff": 15
           },
           "zerolinecolor": "white",
           "zerolinewidth": 2
          },
          "yaxis": {
           "automargin": true,
           "gridcolor": "white",
           "linecolor": "white",
           "ticks": "",
           "title": {
            "standoff": 15
           },
           "zerolinecolor": "white",
           "zerolinewidth": 2
          }
         }
        },
        "title": {
         "text": "Top 10 product category having the largest Revenue in each month"
        },
        "xaxis": {
         "anchor": "y",
         "domain": [
          0,
          1
         ],
         "title": {
          "text": "Month"
         }
        },
        "yaxis": {
         "anchor": "x",
         "domain": [
          0,
          1
         ],
         "title": {
          "text": "Total Revenue"
         }
        }
       }
      },
      "text/html": [
       "<div>\n",
       "        \n",
       "        \n",
       "            <div id=\"5788abfe-9368-4cf7-8694-2b03f47df4b2\" class=\"plotly-graph-div\" style=\"height:525px; width:100%;\"></div>\n",
       "            <script type=\"text/javascript\">\n",
       "                require([\"plotly\"], function(Plotly) {\n",
       "                    window.PLOTLYENV=window.PLOTLYENV || {};\n",
       "                    \n",
       "                if (document.getElementById(\"5788abfe-9368-4cf7-8694-2b03f47df4b2\")) {\n",
       "                    Plotly.newPlot(\n",
       "                        '5788abfe-9368-4cf7-8694-2b03f47df4b2',\n",
       "                        [{\"hoverlabel\": {\"namelength\": 0}, \"hovertemplate\": \"color=watches_gifts<br>x=%{x}<br>y=%{y}\", \"legendgroup\": \"watches_gifts\", \"line\": {\"color\": \"#636efa\", \"dash\": \"solid\"}, \"mode\": \"lines\", \"name\": \"watches_gifts\", \"showlegend\": true, \"type\": \"scatter\", \"x\": [\"01\", \"02\", \"03\", \"04\", \"05\", \"06\", \"07\", \"08\", \"09\", \"10\", \"11\", \"12\"], \"xaxis\": \"x\", \"y\": [8086.52, 11582.249999999998, 26605.380000000016, 23257.590000000007, 36137.200000000026, 28627.730000000025, 35877.18000000003, 35675.66000000006, 45225.72000000007, 64161.740000000034, 93667.34999999986, 69986.68000000008], \"yaxis\": \"y\"}, {\"hoverlabel\": {\"namelength\": 0}, \"hovertemplate\": \"color=health_beauty<br>x=%{x}<br>y=%{y}\", \"legendgroup\": \"health_beauty\", \"line\": {\"color\": \"#EF553B\", \"dash\": \"solid\"}, \"mode\": \"lines\", \"name\": \"health_beauty\", \"showlegend\": true, \"type\": \"scatter\", \"x\": [\"01\", \"02\", \"03\", \"04\", \"05\", \"06\", \"07\", \"08\", \"09\", \"10\", \"11\", \"12\"], \"xaxis\": \"x\", \"y\": [12377.619999999986, 22026.2, 25081.590000000015, 21869.940000000002, 44290.82000000014, 30101.72000000006, 32966.93000000005, 48003.9000000001, 48671.48000000014, 40753.5700000001, 75278.1500000001, 58708.62000000011], \"yaxis\": \"y\"}, {\"hoverlabel\": {\"namelength\": 0}, \"hovertemplate\": \"color=bed_bath_table<br>x=%{x}<br>y=%{y}\", \"legendgroup\": \"bed_bath_table\", \"line\": {\"color\": \"#00cc96\", \"dash\": \"solid\"}, \"mode\": \"lines\", \"name\": \"bed_bath_table\", \"showlegend\": true, \"type\": \"scatter\", \"x\": [\"01\", \"02\", \"03\", \"04\", \"05\", \"06\", \"07\", \"08\", \"09\", \"10\", \"11\", \"12\"], \"xaxis\": \"x\", \"y\": [3526.16, 13773.579999999976, 22457.590000000047, 21473.03, 30622.280000000126, 32566.080000000115, 55538.340000000106, 50941.840000000084, 45849.310000000136, 38098.480000000105, 75180.46000000015, 43556.82000000018], \"yaxis\": \"y\"}, {\"hoverlabel\": {\"namelength\": 0}, \"hovertemplate\": \"color=sports_leisure<br>x=%{x}<br>y=%{y}\", \"legendgroup\": \"sports_leisure\", \"line\": {\"color\": \"#ab63fa\", \"dash\": \"solid\"}, \"mode\": \"lines\", \"name\": \"sports_leisure\", \"showlegend\": true, \"type\": \"scatter\", \"x\": [\"01\", \"02\", \"03\", \"04\", \"05\", \"06\", \"07\", \"08\", \"09\", \"10\", \"11\", \"12\"], \"xaxis\": \"x\", \"y\": [8082.049999999994, 15093.479999999987, 25068.150000000016, 23074.200000000048, 32981.580000000045, 31483.600000000057, 34889.20000000021, 37729.40000000017, 45810.780000000195, 46670.110000000124, 60830.26000000023, 55062.980000000185], \"yaxis\": \"y\"}, {\"hoverlabel\": {\"namelength\": 0}, \"hovertemplate\": \"color=cool_stuff<br>x=%{x}<br>y=%{y}\", \"legendgroup\": \"cool_stuff\", \"line\": {\"color\": \"#FFA15A\", \"dash\": \"solid\"}, \"mode\": \"lines\", \"name\": \"cool_stuff\", \"showlegend\": true, \"type\": \"scatter\", \"x\": [\"01\", \"02\", \"03\", \"04\", \"05\", \"06\", \"07\", \"08\", \"09\", \"10\", \"11\", \"12\"], \"xaxis\": \"x\", \"y\": [6676.7, 13018.729999999989, 20916.109999999986, 21632.279999999984, 32410.030000000075, 37955.960000000036, 36897.280000000064, 40464.94000000007, 37322.860000000044, 42769.47000000008, 54423.99000000008, 38068.9600000001], \"yaxis\": \"y\"}, {\"hoverlabel\": {\"namelength\": 0}, \"hovertemplate\": \"color=computers_accessories<br>x=%{x}<br>y=%{y}\", \"legendgroup\": \"computers_accessories\", \"line\": {\"color\": \"#19d3f3\", \"dash\": \"solid\"}, \"mode\": \"lines\", \"name\": \"computers_accessories\", \"showlegend\": true, \"type\": \"scatter\", \"x\": [\"01\", \"02\", \"03\", \"04\", \"05\", \"06\", \"07\", \"08\", \"09\", \"10\", \"11\", \"12\"], \"xaxis\": \"x\", \"y\": [3261.92, 11482.499999999998, 26155.88999999999, 19499.529999999995, 36547.60000000002, 32545.910000000018, 30661.040000000037, 28256.330000000027, 24511.21000000002, 35686.20000000005, 58486.70000000005, 34046.21000000009], \"yaxis\": \"y\"}, {\"hoverlabel\": {\"namelength\": 0}, \"hovertemplate\": \"color=toys<br>x=%{x}<br>y=%{y}\", \"legendgroup\": \"toys\", \"line\": {\"color\": \"#FF6692\", \"dash\": \"solid\"}, \"mode\": \"lines\", \"name\": \"toys\", \"showlegend\": true, \"type\": \"scatter\", \"x\": [\"01\", \"02\", \"03\", \"04\", \"05\", \"06\", \"07\", \"08\", \"09\", \"10\", \"11\", \"12\"], \"xaxis\": \"x\", \"y\": [4814.0899999999965, 9101.939999999991, 12282.86999999998, 12111.249999999982, 22055.46000000004, 15075.54999999997, 23900.100000000028, 17134.21999999998, 29610.01000000007, 33656.77000000009, 61548.04000000026, 55300.15000000026], \"yaxis\": \"y\"}, {\"hoverlabel\": {\"namelength\": 0}, \"hovertemplate\": \"color=furniture_decor<br>x=%{x}<br>y=%{y}\", \"legendgroup\": \"furniture_decor\", \"line\": {\"color\": \"#B6E880\", \"dash\": \"solid\"}, \"mode\": \"lines\", \"name\": \"furniture_decor\", \"showlegend\": true, \"type\": \"scatter\", \"x\": [\"01\", \"02\", \"03\", \"04\", \"05\", \"06\", \"07\", \"08\", \"09\", \"10\", \"11\", \"12\"], \"xaxis\": \"x\", \"y\": [10796.169999999982, 17987.629999999965, 20447.07, 17178.619999999977, 20901.989999999987, 13810.509999999975, 20228.379999999997, 29372.960000000054, 26502.64000000005, 22767.40000000005, 48822.95000000025, 27690.96000000008], \"yaxis\": \"y\"}, {\"hoverlabel\": {\"namelength\": 0}, \"hovertemplate\": \"color=garden_tools<br>x=%{x}<br>y=%{y}\", \"legendgroup\": \"garden_tools\", \"line\": {\"color\": \"#FF97FF\", \"dash\": \"solid\"}, \"mode\": \"lines\", \"name\": \"garden_tools\", \"showlegend\": true, \"type\": \"scatter\", \"x\": [\"01\", \"02\", \"03\", \"04\", \"05\", \"06\", \"07\", \"08\", \"09\", \"10\", \"11\", \"12\"], \"xaxis\": \"x\", \"y\": [7040.969999999999, 12060.309999999996, 20756.199999999997, 18010.34999999999, 19545.640000000003, 14871.349999999986, 18178.51999999999, 21651.37999999999, 19188.829999999965, 20664.609999999982, 37614.46000000006, 22460.679999999997], \"yaxis\": \"y\"}, {\"hoverlabel\": {\"namelength\": 0}, \"hovertemplate\": \"color=auto<br>x=%{x}<br>y=%{y}\", \"legendgroup\": \"auto\", \"line\": {\"color\": \"#FECB52\", \"dash\": \"solid\"}, \"mode\": \"lines\", \"name\": \"auto\", \"showlegend\": true, \"type\": \"scatter\", \"x\": [\"01\", \"02\", \"03\", \"04\", \"05\", \"06\", \"07\", \"08\", \"09\", \"10\", \"11\", \"12\"], \"xaxis\": \"x\", \"y\": [4395.929999999999, 11591.039999999992, 12890.199999999995, 13593.239999999994, 16224.27999999999, 29828.380000000016, 13137.87999999999, 14822.48999999998, 11735.139999999989, 19726.399999999983, 33019.16000000003, 36988.120000000024], \"yaxis\": \"y\"}],\n",
       "                        {\"legend\": {\"title\": {\"text\": \"Product category\"}, \"tracegroupgap\": 0}, \"margin\": {\"t\": 60}, \"template\": {\"data\": {\"bar\": [{\"error_x\": {\"color\": \"#2a3f5f\"}, \"error_y\": {\"color\": \"#2a3f5f\"}, \"marker\": {\"line\": {\"color\": \"#E5ECF6\", \"width\": 0.5}}, \"type\": \"bar\"}], \"barpolar\": [{\"marker\": {\"line\": {\"color\": \"#E5ECF6\", \"width\": 0.5}}, \"type\": \"barpolar\"}], \"carpet\": [{\"aaxis\": {\"endlinecolor\": \"#2a3f5f\", \"gridcolor\": \"white\", \"linecolor\": \"white\", \"minorgridcolor\": \"white\", \"startlinecolor\": \"#2a3f5f\"}, \"baxis\": {\"endlinecolor\": \"#2a3f5f\", \"gridcolor\": \"white\", \"linecolor\": \"white\", \"minorgridcolor\": \"white\", \"startlinecolor\": \"#2a3f5f\"}, \"type\": \"carpet\"}], \"choropleth\": [{\"colorbar\": {\"outlinewidth\": 0, \"ticks\": \"\"}, \"type\": \"choropleth\"}], \"contour\": [{\"colorbar\": {\"outlinewidth\": 0, \"ticks\": \"\"}, \"colorscale\": [[0.0, \"#0d0887\"], [0.1111111111111111, \"#46039f\"], [0.2222222222222222, \"#7201a8\"], [0.3333333333333333, \"#9c179e\"], [0.4444444444444444, \"#bd3786\"], [0.5555555555555556, \"#d8576b\"], [0.6666666666666666, \"#ed7953\"], [0.7777777777777778, \"#fb9f3a\"], [0.8888888888888888, \"#fdca26\"], [1.0, \"#f0f921\"]], \"type\": \"contour\"}], \"contourcarpet\": [{\"colorbar\": {\"outlinewidth\": 0, \"ticks\": \"\"}, \"type\": \"contourcarpet\"}], \"heatmap\": [{\"colorbar\": {\"outlinewidth\": 0, \"ticks\": \"\"}, \"colorscale\": [[0.0, \"#0d0887\"], [0.1111111111111111, \"#46039f\"], [0.2222222222222222, \"#7201a8\"], [0.3333333333333333, \"#9c179e\"], [0.4444444444444444, \"#bd3786\"], [0.5555555555555556, \"#d8576b\"], [0.6666666666666666, \"#ed7953\"], [0.7777777777777778, \"#fb9f3a\"], [0.8888888888888888, \"#fdca26\"], [1.0, \"#f0f921\"]], \"type\": \"heatmap\"}], \"heatmapgl\": [{\"colorbar\": {\"outlinewidth\": 0, \"ticks\": \"\"}, \"colorscale\": [[0.0, \"#0d0887\"], [0.1111111111111111, \"#46039f\"], [0.2222222222222222, \"#7201a8\"], [0.3333333333333333, \"#9c179e\"], [0.4444444444444444, \"#bd3786\"], [0.5555555555555556, \"#d8576b\"], [0.6666666666666666, \"#ed7953\"], [0.7777777777777778, \"#fb9f3a\"], [0.8888888888888888, \"#fdca26\"], [1.0, \"#f0f921\"]], \"type\": \"heatmapgl\"}], \"histogram\": [{\"marker\": {\"colorbar\": {\"outlinewidth\": 0, \"ticks\": \"\"}}, \"type\": \"histogram\"}], \"histogram2d\": [{\"colorbar\": {\"outlinewidth\": 0, \"ticks\": \"\"}, \"colorscale\": [[0.0, \"#0d0887\"], [0.1111111111111111, \"#46039f\"], [0.2222222222222222, \"#7201a8\"], [0.3333333333333333, \"#9c179e\"], [0.4444444444444444, \"#bd3786\"], [0.5555555555555556, \"#d8576b\"], [0.6666666666666666, \"#ed7953\"], [0.7777777777777778, \"#fb9f3a\"], [0.8888888888888888, \"#fdca26\"], [1.0, \"#f0f921\"]], \"type\": \"histogram2d\"}], \"histogram2dcontour\": [{\"colorbar\": {\"outlinewidth\": 0, \"ticks\": \"\"}, \"colorscale\": [[0.0, \"#0d0887\"], [0.1111111111111111, \"#46039f\"], [0.2222222222222222, \"#7201a8\"], [0.3333333333333333, \"#9c179e\"], [0.4444444444444444, \"#bd3786\"], [0.5555555555555556, \"#d8576b\"], [0.6666666666666666, \"#ed7953\"], [0.7777777777777778, \"#fb9f3a\"], [0.8888888888888888, \"#fdca26\"], [1.0, \"#f0f921\"]], \"type\": \"histogram2dcontour\"}], \"mesh3d\": [{\"colorbar\": {\"outlinewidth\": 0, \"ticks\": \"\"}, \"type\": \"mesh3d\"}], \"parcoords\": [{\"line\": {\"colorbar\": {\"outlinewidth\": 0, \"ticks\": \"\"}}, \"type\": \"parcoords\"}], \"pie\": [{\"automargin\": true, \"type\": \"pie\"}], \"scatter\": [{\"marker\": {\"colorbar\": {\"outlinewidth\": 0, \"ticks\": \"\"}}, \"type\": \"scatter\"}], \"scatter3d\": [{\"line\": {\"colorbar\": {\"outlinewidth\": 0, \"ticks\": \"\"}}, \"marker\": {\"colorbar\": {\"outlinewidth\": 0, \"ticks\": \"\"}}, \"type\": \"scatter3d\"}], \"scattercarpet\": [{\"marker\": {\"colorbar\": {\"outlinewidth\": 0, \"ticks\": \"\"}}, \"type\": \"scattercarpet\"}], \"scattergeo\": [{\"marker\": {\"colorbar\": {\"outlinewidth\": 0, \"ticks\": \"\"}}, \"type\": \"scattergeo\"}], \"scattergl\": [{\"marker\": {\"colorbar\": {\"outlinewidth\": 0, \"ticks\": \"\"}}, \"type\": \"scattergl\"}], \"scattermapbox\": [{\"marker\": {\"colorbar\": {\"outlinewidth\": 0, \"ticks\": \"\"}}, \"type\": \"scattermapbox\"}], \"scatterpolar\": [{\"marker\": {\"colorbar\": {\"outlinewidth\": 0, \"ticks\": \"\"}}, \"type\": \"scatterpolar\"}], \"scatterpolargl\": [{\"marker\": {\"colorbar\": {\"outlinewidth\": 0, \"ticks\": \"\"}}, \"type\": \"scatterpolargl\"}], \"scatterternary\": [{\"marker\": {\"colorbar\": {\"outlinewidth\": 0, \"ticks\": \"\"}}, \"type\": \"scatterternary\"}], \"surface\": [{\"colorbar\": {\"outlinewidth\": 0, \"ticks\": \"\"}, \"colorscale\": [[0.0, \"#0d0887\"], [0.1111111111111111, \"#46039f\"], [0.2222222222222222, \"#7201a8\"], [0.3333333333333333, \"#9c179e\"], [0.4444444444444444, \"#bd3786\"], [0.5555555555555556, \"#d8576b\"], [0.6666666666666666, \"#ed7953\"], [0.7777777777777778, \"#fb9f3a\"], [0.8888888888888888, \"#fdca26\"], [1.0, \"#f0f921\"]], \"type\": \"surface\"}], \"table\": [{\"cells\": {\"fill\": {\"color\": \"#EBF0F8\"}, \"line\": {\"color\": \"white\"}}, \"header\": {\"fill\": {\"color\": \"#C8D4E3\"}, \"line\": {\"color\": \"white\"}}, \"type\": \"table\"}]}, \"layout\": {\"annotationdefaults\": {\"arrowcolor\": \"#2a3f5f\", \"arrowhead\": 0, \"arrowwidth\": 1}, \"coloraxis\": {\"colorbar\": {\"outlinewidth\": 0, \"ticks\": \"\"}}, \"colorscale\": {\"diverging\": [[0, \"#8e0152\"], [0.1, \"#c51b7d\"], [0.2, \"#de77ae\"], [0.3, \"#f1b6da\"], [0.4, \"#fde0ef\"], [0.5, \"#f7f7f7\"], [0.6, \"#e6f5d0\"], [0.7, \"#b8e186\"], [0.8, \"#7fbc41\"], [0.9, \"#4d9221\"], [1, \"#276419\"]], \"sequential\": [[0.0, \"#0d0887\"], [0.1111111111111111, \"#46039f\"], [0.2222222222222222, \"#7201a8\"], [0.3333333333333333, \"#9c179e\"], [0.4444444444444444, \"#bd3786\"], [0.5555555555555556, \"#d8576b\"], [0.6666666666666666, \"#ed7953\"], [0.7777777777777778, \"#fb9f3a\"], [0.8888888888888888, \"#fdca26\"], [1.0, \"#f0f921\"]], \"sequentialminus\": [[0.0, \"#0d0887\"], [0.1111111111111111, \"#46039f\"], [0.2222222222222222, \"#7201a8\"], [0.3333333333333333, \"#9c179e\"], [0.4444444444444444, \"#bd3786\"], [0.5555555555555556, \"#d8576b\"], [0.6666666666666666, \"#ed7953\"], [0.7777777777777778, \"#fb9f3a\"], [0.8888888888888888, \"#fdca26\"], [1.0, \"#f0f921\"]]}, \"colorway\": [\"#636efa\", \"#EF553B\", \"#00cc96\", \"#ab63fa\", \"#FFA15A\", \"#19d3f3\", \"#FF6692\", \"#B6E880\", \"#FF97FF\", \"#FECB52\"], \"font\": {\"color\": \"#2a3f5f\"}, \"geo\": {\"bgcolor\": \"white\", \"lakecolor\": \"white\", \"landcolor\": \"#E5ECF6\", \"showlakes\": true, \"showland\": true, \"subunitcolor\": \"white\"}, \"hoverlabel\": {\"align\": \"left\"}, \"hovermode\": \"closest\", \"mapbox\": {\"style\": \"light\"}, \"paper_bgcolor\": \"white\", \"plot_bgcolor\": \"#E5ECF6\", \"polar\": {\"angularaxis\": {\"gridcolor\": \"white\", \"linecolor\": \"white\", \"ticks\": \"\"}, \"bgcolor\": \"#E5ECF6\", \"radialaxis\": {\"gridcolor\": \"white\", \"linecolor\": \"white\", \"ticks\": \"\"}}, \"scene\": {\"xaxis\": {\"backgroundcolor\": \"#E5ECF6\", \"gridcolor\": \"white\", \"gridwidth\": 2, \"linecolor\": \"white\", \"showbackground\": true, \"ticks\": \"\", \"zerolinecolor\": \"white\"}, \"yaxis\": {\"backgroundcolor\": \"#E5ECF6\", \"gridcolor\": \"white\", \"gridwidth\": 2, \"linecolor\": \"white\", \"showbackground\": true, \"ticks\": \"\", \"zerolinecolor\": \"white\"}, \"zaxis\": {\"backgroundcolor\": \"#E5ECF6\", \"gridcolor\": \"white\", \"gridwidth\": 2, \"linecolor\": \"white\", \"showbackground\": true, \"ticks\": \"\", \"zerolinecolor\": \"white\"}}, \"shapedefaults\": {\"line\": {\"color\": \"#2a3f5f\"}}, \"ternary\": {\"aaxis\": {\"gridcolor\": \"white\", \"linecolor\": \"white\", \"ticks\": \"\"}, \"baxis\": {\"gridcolor\": \"white\", \"linecolor\": \"white\", \"ticks\": \"\"}, \"bgcolor\": \"#E5ECF6\", \"caxis\": {\"gridcolor\": \"white\", \"linecolor\": \"white\", \"ticks\": \"\"}}, \"title\": {\"x\": 0.05}, \"xaxis\": {\"automargin\": true, \"gridcolor\": \"white\", \"linecolor\": \"white\", \"ticks\": \"\", \"title\": {\"standoff\": 15}, \"zerolinecolor\": \"white\", \"zerolinewidth\": 2}, \"yaxis\": {\"automargin\": true, \"gridcolor\": \"white\", \"linecolor\": \"white\", \"ticks\": \"\", \"title\": {\"standoff\": 15}, \"zerolinecolor\": \"white\", \"zerolinewidth\": 2}}}, \"title\": {\"text\": \"Top 10 product category having the largest Revenue in each month\"}, \"xaxis\": {\"anchor\": \"y\", \"domain\": [0.0, 1.0], \"title\": {\"text\": \"Month\"}}, \"yaxis\": {\"anchor\": \"x\", \"domain\": [0.0, 1.0], \"title\": {\"text\": \"Total Revenue\"}}},\n",
       "                        {\"responsive\": true}\n",
       "                    ).then(function(){\n",
       "                            \n",
       "var gd = document.getElementById('5788abfe-9368-4cf7-8694-2b03f47df4b2');\n",
       "var x = new MutationObserver(function (mutations, observer) {{\n",
       "        var display = window.getComputedStyle(gd).display;\n",
       "        if (!display || display === 'none') {{\n",
       "            console.log([gd, 'removed!']);\n",
       "            Plotly.purge(gd);\n",
       "            observer.disconnect();\n",
       "        }}\n",
       "}});\n",
       "\n",
       "// Listen for the removal of the full notebook cells\n",
       "var notebookContainer = gd.closest('#notebook-container');\n",
       "if (notebookContainer) {{\n",
       "    x.observe(notebookContainer, {childList: true});\n",
       "}}\n",
       "\n",
       "// Listen for the clearing of the current output cell\n",
       "var outputEl = gd.closest('.output');\n",
       "if (outputEl) {{\n",
       "    x.observe(outputEl, {childList: true});\n",
       "}}\n",
       "\n",
       "                        })\n",
       "                };\n",
       "                });\n",
       "            </script>\n",
       "        </div>"
      ]
     },
     "metadata": {},
     "output_type": "display_data"
    },
    {
     "data": {
      "text/plain": [
       "<Figure size 1152x720 with 0 Axes>"
      ]
     },
     "metadata": {},
     "output_type": "display_data"
    }
   ],
   "source": [
    "indexs=df_top10_rev_month.index.get_level_values(0)\n",
    "colors=np.array(df_top10_rev_month.index.get_level_values(1))\n",
    "plt.figure(figsize=(16,10))\n",
    "\n",
    "#Using plotly express library to create interactively multiple line charts of top 10 product categories in each month\n",
    "fig=px.line(df_top10_rev_month,x=indexs,y=df_top10_rev_month.values,color=colors)\n",
    "\n",
    "#Using fig.update_layout to make visualization more details and clearly\n",
    "fig.update_layout(xaxis_title='Month',\n",
    "                  yaxis_title='Total Revenue',\n",
    "                  title_text='Top 10 product category having the largest Revenue in each month',\n",
    "                  legend_title_text='Product category',\n",
    "                 )\n",
    "fig.show()"
   ]
  },
  {
   "cell_type": "markdown",
   "metadata": {},
   "source": [
    "#### Top 10 Products in each month (based on selling)"
   ]
  },
  {
   "cell_type": "code",
   "execution_count": 43,
   "metadata": {},
   "outputs": [],
   "source": [
    "top_prod_sell1 = dff.groupby('product_category_name_english')['order_id'].count().sort_values(ascending=False)[:20]"
   ]
  },
  {
   "cell_type": "code",
   "execution_count": 44,
   "metadata": {},
   "outputs": [
    {
     "data": {
      "text/plain": [
       "product_category_name_english\n",
       "bed_bath_table           4427\n",
       "sports_leisure           3637\n",
       "health_beauty            3380\n",
       "furniture_decor          3181\n",
       "computers_accessories    2608\n",
       "housewares               2454\n",
       "toys                     2433\n",
       "cool_stuff               2193\n",
       "watches_gifts            2115\n",
       "telephony                2022\n",
       "Name: order_id, dtype: int64"
      ]
     },
     "execution_count": 44,
     "metadata": {},
     "output_type": "execute_result"
    }
   ],
   "source": [
    "top_prod_sell1[:10]"
   ]
  },
  {
   "cell_type": "code",
   "execution_count": 45,
   "metadata": {},
   "outputs": [
    {
     "data": {
      "text/plain": [
       "array(['bed_bath_table', 'sports_leisure', 'health_beauty',\n",
       "       'furniture_decor', 'computers_accessories', 'housewares', 'toys',\n",
       "       'cool_stuff', 'watches_gifts', 'telephony'], dtype=object)"
      ]
     },
     "execution_count": 45,
     "metadata": {},
     "output_type": "execute_result"
    }
   ],
   "source": [
    "dff_top10_list=np.array(top_prod_sell1[:10].index)\n",
    "dff_top10_list"
   ]
  },
  {
   "cell_type": "code",
   "execution_count": 46,
   "metadata": {},
   "outputs": [],
   "source": [
    "dff_sell_month = dff.groupby([dff['product_category_name_english'],dff['order_purchase_timestamp'].map(lambda x: x.strftime('%m'))])[['order_id']].count().unstack(0)"
   ]
  },
  {
   "cell_type": "code",
   "execution_count": 47,
   "metadata": {},
   "outputs": [
    {
     "data": {
      "text/html": [
       "<div>\n",
       "<style scoped>\n",
       "    .dataframe tbody tr th:only-of-type {\n",
       "        vertical-align: middle;\n",
       "    }\n",
       "\n",
       "    .dataframe tbody tr th {\n",
       "        vertical-align: top;\n",
       "    }\n",
       "\n",
       "    .dataframe thead tr th {\n",
       "        text-align: left;\n",
       "    }\n",
       "\n",
       "    .dataframe thead tr:last-of-type th {\n",
       "        text-align: right;\n",
       "    }\n",
       "</style>\n",
       "<table border=\"1\" class=\"dataframe\">\n",
       "  <thead>\n",
       "    <tr>\n",
       "      <th></th>\n",
       "      <th colspan=\"21\" halign=\"left\">order_id</th>\n",
       "    </tr>\n",
       "    <tr>\n",
       "      <th>product_category_name_english</th>\n",
       "      <th>agro_industry_and_commerce</th>\n",
       "      <th>air_conditioning</th>\n",
       "      <th>art</th>\n",
       "      <th>arts_and_craftmanship</th>\n",
       "      <th>audio</th>\n",
       "      <th>auto</th>\n",
       "      <th>baby</th>\n",
       "      <th>bed_bath_table</th>\n",
       "      <th>books_general_interest</th>\n",
       "      <th>books_imported</th>\n",
       "      <th>...</th>\n",
       "      <th>security_and_services</th>\n",
       "      <th>signaling_and_security</th>\n",
       "      <th>small_appliances</th>\n",
       "      <th>small_appliances_home_oven_and_coffee</th>\n",
       "      <th>sports_leisure</th>\n",
       "      <th>stationery</th>\n",
       "      <th>tablets_printing_image</th>\n",
       "      <th>telephony</th>\n",
       "      <th>toys</th>\n",
       "      <th>watches_gifts</th>\n",
       "    </tr>\n",
       "    <tr>\n",
       "      <th>order_purchase_timestamp</th>\n",
       "      <th></th>\n",
       "      <th></th>\n",
       "      <th></th>\n",
       "      <th></th>\n",
       "      <th></th>\n",
       "      <th></th>\n",
       "      <th></th>\n",
       "      <th></th>\n",
       "      <th></th>\n",
       "      <th></th>\n",
       "      <th></th>\n",
       "      <th></th>\n",
       "      <th></th>\n",
       "      <th></th>\n",
       "      <th></th>\n",
       "      <th></th>\n",
       "      <th></th>\n",
       "      <th></th>\n",
       "      <th></th>\n",
       "      <th></th>\n",
       "      <th></th>\n",
       "    </tr>\n",
       "  </thead>\n",
       "  <tbody>\n",
       "    <tr>\n",
       "      <th>01</th>\n",
       "      <td>2.0</td>\n",
       "      <td>3.0</td>\n",
       "      <td>NaN</td>\n",
       "      <td>NaN</td>\n",
       "      <td>NaN</td>\n",
       "      <td>30.0</td>\n",
       "      <td>31.0</td>\n",
       "      <td>42.0</td>\n",
       "      <td>2.0</td>\n",
       "      <td>NaN</td>\n",
       "      <td>...</td>\n",
       "      <td>1.0</td>\n",
       "      <td>NaN</td>\n",
       "      <td>6.0</td>\n",
       "      <td>NaN</td>\n",
       "      <td>61.0</td>\n",
       "      <td>7.0</td>\n",
       "      <td>NaN</td>\n",
       "      <td>21.0</td>\n",
       "      <td>43.0</td>\n",
       "      <td>11.0</td>\n",
       "    </tr>\n",
       "    <tr>\n",
       "      <th>02</th>\n",
       "      <td>7.0</td>\n",
       "      <td>12.0</td>\n",
       "      <td>NaN</td>\n",
       "      <td>NaN</td>\n",
       "      <td>5.0</td>\n",
       "      <td>77.0</td>\n",
       "      <td>33.0</td>\n",
       "      <td>143.0</td>\n",
       "      <td>8.0</td>\n",
       "      <td>1.0</td>\n",
       "      <td>...</td>\n",
       "      <td>NaN</td>\n",
       "      <td>NaN</td>\n",
       "      <td>24.0</td>\n",
       "      <td>NaN</td>\n",
       "      <td>138.0</td>\n",
       "      <td>19.0</td>\n",
       "      <td>8.0</td>\n",
       "      <td>99.0</td>\n",
       "      <td>61.0</td>\n",
       "      <td>35.0</td>\n",
       "    </tr>\n",
       "    <tr>\n",
       "      <th>03</th>\n",
       "      <td>2.0</td>\n",
       "      <td>16.0</td>\n",
       "      <td>5.0</td>\n",
       "      <td>NaN</td>\n",
       "      <td>12.0</td>\n",
       "      <td>76.0</td>\n",
       "      <td>43.0</td>\n",
       "      <td>247.0</td>\n",
       "      <td>20.0</td>\n",
       "      <td>NaN</td>\n",
       "      <td>...</td>\n",
       "      <td>NaN</td>\n",
       "      <td>1.0</td>\n",
       "      <td>31.0</td>\n",
       "      <td>NaN</td>\n",
       "      <td>170.0</td>\n",
       "      <td>56.0</td>\n",
       "      <td>5.0</td>\n",
       "      <td>159.0</td>\n",
       "      <td>100.0</td>\n",
       "      <td>76.0</td>\n",
       "    </tr>\n",
       "    <tr>\n",
       "      <th>04</th>\n",
       "      <td>NaN</td>\n",
       "      <td>14.0</td>\n",
       "      <td>1.0</td>\n",
       "      <td>NaN</td>\n",
       "      <td>9.0</td>\n",
       "      <td>80.0</td>\n",
       "      <td>48.0</td>\n",
       "      <td>231.0</td>\n",
       "      <td>12.0</td>\n",
       "      <td>1.0</td>\n",
       "      <td>...</td>\n",
       "      <td>NaN</td>\n",
       "      <td>3.0</td>\n",
       "      <td>20.0</td>\n",
       "      <td>NaN</td>\n",
       "      <td>198.0</td>\n",
       "      <td>36.0</td>\n",
       "      <td>9.0</td>\n",
       "      <td>139.0</td>\n",
       "      <td>102.0</td>\n",
       "      <td>90.0</td>\n",
       "    </tr>\n",
       "    <tr>\n",
       "      <th>05</th>\n",
       "      <td>4.0</td>\n",
       "      <td>7.0</td>\n",
       "      <td>8.0</td>\n",
       "      <td>NaN</td>\n",
       "      <td>17.0</td>\n",
       "      <td>106.0</td>\n",
       "      <td>102.0</td>\n",
       "      <td>324.0</td>\n",
       "      <td>19.0</td>\n",
       "      <td>NaN</td>\n",
       "      <td>...</td>\n",
       "      <td>NaN</td>\n",
       "      <td>3.0</td>\n",
       "      <td>16.0</td>\n",
       "      <td>NaN</td>\n",
       "      <td>265.0</td>\n",
       "      <td>62.0</td>\n",
       "      <td>6.0</td>\n",
       "      <td>204.0</td>\n",
       "      <td>194.0</td>\n",
       "      <td>124.0</td>\n",
       "    </tr>\n",
       "  </tbody>\n",
       "</table>\n",
       "<p>5 rows × 71 columns</p>\n",
       "</div>"
      ],
      "text/plain": [
       "                                                order_id                   \\\n",
       "product_category_name_english agro_industry_and_commerce air_conditioning   \n",
       "order_purchase_timestamp                                                    \n",
       "01                                                   2.0              3.0   \n",
       "02                                                   7.0             12.0   \n",
       "03                                                   2.0             16.0   \n",
       "04                                                   NaN             14.0   \n",
       "05                                                   4.0              7.0   \n",
       "\n",
       "                                                                              \\\n",
       "product_category_name_english  art arts_and_craftmanship audio   auto   baby   \n",
       "order_purchase_timestamp                                                       \n",
       "01                             NaN                   NaN   NaN   30.0   31.0   \n",
       "02                             NaN                   NaN   5.0   77.0   33.0   \n",
       "03                             5.0                   NaN  12.0   76.0   43.0   \n",
       "04                             1.0                   NaN   9.0   80.0   48.0   \n",
       "05                             8.0                   NaN  17.0  106.0  102.0   \n",
       "\n",
       "                                                                     \\\n",
       "product_category_name_english bed_bath_table books_general_interest   \n",
       "order_purchase_timestamp                                              \n",
       "01                                      42.0                    2.0   \n",
       "02                                     143.0                    8.0   \n",
       "03                                     247.0                   20.0   \n",
       "04                                     231.0                   12.0   \n",
       "05                                     324.0                   19.0   \n",
       "\n",
       "                                                  ...       \\\n",
       "product_category_name_english books_imported      ...        \n",
       "order_purchase_timestamp                          ...        \n",
       "01                                       NaN      ...        \n",
       "02                                       1.0      ...        \n",
       "03                                       NaN      ...        \n",
       "04                                       1.0      ...        \n",
       "05                                       NaN      ...        \n",
       "\n",
       "                                                                            \\\n",
       "product_category_name_english security_and_services signaling_and_security   \n",
       "order_purchase_timestamp                                                     \n",
       "01                                              1.0                    NaN   \n",
       "02                                              NaN                    NaN   \n",
       "03                                              NaN                    1.0   \n",
       "04                                              NaN                    3.0   \n",
       "05                                              NaN                    3.0   \n",
       "\n",
       "                                                \\\n",
       "product_category_name_english small_appliances   \n",
       "order_purchase_timestamp                         \n",
       "01                                         6.0   \n",
       "02                                        24.0   \n",
       "03                                        31.0   \n",
       "04                                        20.0   \n",
       "05                                        16.0   \n",
       "\n",
       "                                                                     \\\n",
       "product_category_name_english small_appliances_home_oven_and_coffee   \n",
       "order_purchase_timestamp                                              \n",
       "01                                                              NaN   \n",
       "02                                                              NaN   \n",
       "03                                                              NaN   \n",
       "04                                                              NaN   \n",
       "05                                                              NaN   \n",
       "\n",
       "                                                         \\\n",
       "product_category_name_english sports_leisure stationery   \n",
       "order_purchase_timestamp                                  \n",
       "01                                      61.0        7.0   \n",
       "02                                     138.0       19.0   \n",
       "03                                     170.0       56.0   \n",
       "04                                     198.0       36.0   \n",
       "05                                     265.0       62.0   \n",
       "\n",
       "                                                                       \\\n",
       "product_category_name_english tablets_printing_image telephony   toys   \n",
       "order_purchase_timestamp                                                \n",
       "01                                               NaN      21.0   43.0   \n",
       "02                                               8.0      99.0   61.0   \n",
       "03                                               5.0     159.0  100.0   \n",
       "04                                               9.0     139.0  102.0   \n",
       "05                                               6.0     204.0  194.0   \n",
       "\n",
       "                                             \n",
       "product_category_name_english watches_gifts  \n",
       "order_purchase_timestamp                     \n",
       "01                                     11.0  \n",
       "02                                     35.0  \n",
       "03                                     76.0  \n",
       "04                                     90.0  \n",
       "05                                    124.0  \n",
       "\n",
       "[5 rows x 71 columns]"
      ]
     },
     "execution_count": 47,
     "metadata": {},
     "output_type": "execute_result"
    }
   ],
   "source": [
    "dff_sell_month.head()"
   ]
  },
  {
   "cell_type": "code",
   "execution_count": 48,
   "metadata": {},
   "outputs": [],
   "source": [
    "dff_sell_month.columns = dff_sell_month.columns.droplevel(0)"
   ]
  },
  {
   "cell_type": "code",
   "execution_count": 49,
   "metadata": {},
   "outputs": [
    {
     "data": {
      "text/plain": [
       "Index(['agro_industry_and_commerce', 'air_conditioning', 'art',\n",
       "       'arts_and_craftmanship', 'audio', 'auto', 'baby', 'bed_bath_table',\n",
       "       'books_general_interest', 'books_imported', 'books_technical',\n",
       "       'cds_dvds_musicals', 'christmas_supplies', 'cine_photo', 'computers',\n",
       "       'computers_accessories', 'consoles_games',\n",
       "       'construction_tools_construction', 'construction_tools_lights',\n",
       "       'construction_tools_safety', 'cool_stuff', 'costruction_tools_garden',\n",
       "       'costruction_tools_tools', 'diapers_and_hygiene', 'drinks',\n",
       "       'dvds_blu_ray', 'electronics', 'fashio_female_clothing',\n",
       "       'fashion_bags_accessories', 'fashion_childrens_clothes',\n",
       "       'fashion_male_clothing', 'fashion_shoes', 'fashion_sport',\n",
       "       'fashion_underwear_beach', 'fixed_telephony', 'flowers', 'food',\n",
       "       'food_drink', 'furniture_bedroom', 'furniture_decor',\n",
       "       'furniture_living_room', 'furniture_mattress_and_upholstery',\n",
       "       'garden_tools', 'health_beauty', 'home_appliances', 'home_appliances_2',\n",
       "       'home_comfort_2', 'home_confort', 'home_construction', 'housewares',\n",
       "       'industry_commerce_and_business',\n",
       "       'kitchen_dining_laundry_garden_furniture', 'la_cuisine',\n",
       "       'luggage_accessories', 'market_place', 'music', 'musical_instruments',\n",
       "       'office_furniture', 'party_supplies', 'perfumery', 'pet_shop',\n",
       "       'security_and_services', 'signaling_and_security', 'small_appliances',\n",
       "       'small_appliances_home_oven_and_coffee', 'sports_leisure', 'stationery',\n",
       "       'tablets_printing_image', 'telephony', 'toys', 'watches_gifts'],\n",
       "      dtype='object', name='product_category_name_english')"
      ]
     },
     "execution_count": 49,
     "metadata": {},
     "output_type": "execute_result"
    }
   ],
   "source": [
    "dff_sell_month.columns"
   ]
  },
  {
   "cell_type": "code",
   "execution_count": 50,
   "metadata": {},
   "outputs": [
    {
     "data": {
      "text/plain": [
       "Index(['01', '02', '03', '04', '05', '06', '07', '08', '09', '10', '11', '12'], dtype='object', name='order_purchase_timestamp')"
      ]
     },
     "execution_count": 50,
     "metadata": {},
     "output_type": "execute_result"
    }
   ],
   "source": [
    "dff_sell_month.index"
   ]
  },
  {
   "cell_type": "code",
   "execution_count": 51,
   "metadata": {},
   "outputs": [
    {
     "data": {
      "text/plain": [
       "order_purchase_timestamp  product_category_name_english\n",
       "01                        bed_bath_table                    42.0\n",
       "                          sports_leisure                    61.0\n",
       "                          health_beauty                     82.0\n",
       "                          furniture_decor                  136.0\n",
       "                          computers_accessories             24.0\n",
       "                          housewares                        21.0\n",
       "                          toys                              43.0\n",
       "                          cool_stuff                        32.0\n",
       "                          watches_gifts                     11.0\n",
       "                          telephony                         21.0\n",
       "02                        bed_bath_table                   143.0\n",
       "                          sports_leisure                   138.0\n",
       "                          health_beauty                    155.0\n",
       "                          furniture_decor                  216.0\n",
       "                          computers_accessories             97.0\n",
       "                          housewares                        68.0\n",
       "                          toys                              61.0\n",
       "                          cool_stuff                        66.0\n",
       "                          watches_gifts                     35.0\n",
       "                          telephony                         99.0\n",
       "03                        bed_bath_table                   247.0\n",
       "                          sports_leisure                   170.0\n",
       "                          health_beauty                    193.0\n",
       "                          furniture_decor                  265.0\n",
       "                          computers_accessories            150.0\n",
       "                          housewares                       178.0\n",
       "                          toys                             100.0\n",
       "                          cool_stuff                       121.0\n",
       "                          watches_gifts                     76.0\n",
       "                          telephony                        159.0\n",
       "                                                           ...  \n",
       "10                        bed_bath_table                   434.0\n",
       "                          sports_leisure                   424.0\n",
       "                          health_beauty                    332.0\n",
       "                          furniture_decor                  270.0\n",
       "                          computers_accessories            264.0\n",
       "                          housewares                       191.0\n",
       "                          toys                             277.0\n",
       "                          cool_stuff                       243.0\n",
       "                          watches_gifts                    286.0\n",
       "                          telephony                        228.0\n",
       "11                        bed_bath_table                   807.0\n",
       "                          sports_leisure                   555.0\n",
       "                          health_beauty                    530.0\n",
       "                          furniture_decor                  546.0\n",
       "                          computers_accessories            442.0\n",
       "                          housewares                       353.0\n",
       "                          toys                             450.0\n",
       "                          cool_stuff                       287.0\n",
       "                          watches_gifts                    429.0\n",
       "                          telephony                        348.0\n",
       "12                        bed_bath_table                   471.0\n",
       "                          sports_leisure                   440.0\n",
       "                          health_beauty                    429.0\n",
       "                          furniture_decor                  314.0\n",
       "                          computers_accessories            250.0\n",
       "                          housewares                       249.0\n",
       "                          toys                             420.0\n",
       "                          cool_stuff                       233.0\n",
       "                          watches_gifts                    345.0\n",
       "                          telephony                        244.0\n",
       "Length: 120, dtype: float64"
      ]
     },
     "execution_count": 51,
     "metadata": {},
     "output_type": "execute_result"
    }
   ],
   "source": [
    "df_top10_sell_month=dff_sell_month[dff_top10_list].stack(level=0)\n",
    "df_top10_sell_month"
   ]
  },
  {
   "cell_type": "code",
   "execution_count": 52,
   "metadata": {},
   "outputs": [
    {
     "data": {
      "application/vnd.plotly.v1+json": {
       "config": {
        "plotlyServerURL": "https://plot.ly"
       },
       "data": [
        {
         "hoverlabel": {
          "namelength": 0
         },
         "hovertemplate": "color=bed_bath_table<br>x=%{x}<br>y=%{y}",
         "legendgroup": "bed_bath_table",
         "line": {
          "color": "#636efa",
          "dash": "solid"
         },
         "mode": "lines",
         "name": "bed_bath_table",
         "showlegend": true,
         "type": "scatter",
         "x": [
          "01",
          "02",
          "03",
          "04",
          "05",
          "06",
          "07",
          "08",
          "09",
          "10",
          "11",
          "12"
         ],
         "xaxis": "x",
         "y": [
          42,
          143,
          247,
          231,
          324,
          333,
          501,
          439,
          455,
          434,
          807,
          471
         ],
         "yaxis": "y"
        },
        {
         "hoverlabel": {
          "namelength": 0
         },
         "hovertemplate": "color=sports_leisure<br>x=%{x}<br>y=%{y}",
         "legendgroup": "sports_leisure",
         "line": {
          "color": "#EF553B",
          "dash": "solid"
         },
         "mode": "lines",
         "name": "sports_leisure",
         "showlegend": true,
         "type": "scatter",
         "x": [
          "01",
          "02",
          "03",
          "04",
          "05",
          "06",
          "07",
          "08",
          "09",
          "10",
          "11",
          "12"
         ],
         "xaxis": "x",
         "y": [
          61,
          138,
          170,
          198,
          265,
          250,
          337,
          383,
          416,
          424,
          555,
          440
         ],
         "yaxis": "y"
        },
        {
         "hoverlabel": {
          "namelength": 0
         },
         "hovertemplate": "color=health_beauty<br>x=%{x}<br>y=%{y}",
         "legendgroup": "health_beauty",
         "line": {
          "color": "#00cc96",
          "dash": "solid"
         },
         "mode": "lines",
         "name": "health_beauty",
         "showlegend": true,
         "type": "scatter",
         "x": [
          "01",
          "02",
          "03",
          "04",
          "05",
          "06",
          "07",
          "08",
          "09",
          "10",
          "11",
          "12"
         ],
         "xaxis": "x",
         "y": [
          82,
          155,
          193,
          176,
          267,
          238,
          277,
          342,
          359,
          332,
          530,
          429
         ],
         "yaxis": "y"
        },
        {
         "hoverlabel": {
          "namelength": 0
         },
         "hovertemplate": "color=furniture_decor<br>x=%{x}<br>y=%{y}",
         "legendgroup": "furniture_decor",
         "line": {
          "color": "#ab63fa",
          "dash": "solid"
         },
         "mode": "lines",
         "name": "furniture_decor",
         "showlegend": true,
         "type": "scatter",
         "x": [
          "01",
          "02",
          "03",
          "04",
          "05",
          "06",
          "07",
          "08",
          "09",
          "10",
          "11",
          "12"
         ],
         "xaxis": "x",
         "y": [
          136,
          216,
          265,
          169,
          233,
          179,
          251,
          328,
          274,
          270,
          546,
          314
         ],
         "yaxis": "y"
        },
        {
         "hoverlabel": {
          "namelength": 0
         },
         "hovertemplate": "color=computers_accessories<br>x=%{x}<br>y=%{y}",
         "legendgroup": "computers_accessories",
         "line": {
          "color": "#FFA15A",
          "dash": "solid"
         },
         "mode": "lines",
         "name": "computers_accessories",
         "showlegend": true,
         "type": "scatter",
         "x": [
          "01",
          "02",
          "03",
          "04",
          "05",
          "06",
          "07",
          "08",
          "09",
          "10",
          "11",
          "12"
         ],
         "xaxis": "x",
         "y": [
          24,
          97,
          150,
          120,
          259,
          219,
          271,
          296,
          216,
          264,
          442,
          250
         ],
         "yaxis": "y"
        },
        {
         "hoverlabel": {
          "namelength": 0
         },
         "hovertemplate": "color=housewares<br>x=%{x}<br>y=%{y}",
         "legendgroup": "housewares",
         "line": {
          "color": "#19d3f3",
          "dash": "solid"
         },
         "mode": "lines",
         "name": "housewares",
         "showlegend": true,
         "type": "scatter",
         "x": [
          "01",
          "02",
          "03",
          "04",
          "05",
          "06",
          "07",
          "08",
          "09",
          "10",
          "11",
          "12"
         ],
         "xaxis": "x",
         "y": [
          21,
          68,
          178,
          144,
          264,
          289,
          225,
          249,
          223,
          191,
          353,
          249
         ],
         "yaxis": "y"
        },
        {
         "hoverlabel": {
          "namelength": 0
         },
         "hovertemplate": "color=toys<br>x=%{x}<br>y=%{y}",
         "legendgroup": "toys",
         "line": {
          "color": "#FF6692",
          "dash": "solid"
         },
         "mode": "lines",
         "name": "toys",
         "showlegend": true,
         "type": "scatter",
         "x": [
          "01",
          "02",
          "03",
          "04",
          "05",
          "06",
          "07",
          "08",
          "09",
          "10",
          "11",
          "12"
         ],
         "xaxis": "x",
         "y": [
          43,
          61,
          100,
          102,
          194,
          152,
          199,
          165,
          270,
          277,
          450,
          420
         ],
         "yaxis": "y"
        },
        {
         "hoverlabel": {
          "namelength": 0
         },
         "hovertemplate": "color=cool_stuff<br>x=%{x}<br>y=%{y}",
         "legendgroup": "cool_stuff",
         "line": {
          "color": "#B6E880",
          "dash": "solid"
         },
         "mode": "lines",
         "name": "cool_stuff",
         "showlegend": true,
         "type": "scatter",
         "x": [
          "01",
          "02",
          "03",
          "04",
          "05",
          "06",
          "07",
          "08",
          "09",
          "10",
          "11",
          "12"
         ],
         "xaxis": "x",
         "y": [
          32,
          66,
          121,
          119,
          236,
          197,
          221,
          239,
          199,
          243,
          287,
          233
         ],
         "yaxis": "y"
        },
        {
         "hoverlabel": {
          "namelength": 0
         },
         "hovertemplate": "color=watches_gifts<br>x=%{x}<br>y=%{y}",
         "legendgroup": "watches_gifts",
         "line": {
          "color": "#FF97FF",
          "dash": "solid"
         },
         "mode": "lines",
         "name": "watches_gifts",
         "showlegend": true,
         "type": "scatter",
         "x": [
          "01",
          "02",
          "03",
          "04",
          "05",
          "06",
          "07",
          "08",
          "09",
          "10",
          "11",
          "12"
         ],
         "xaxis": "x",
         "y": [
          11,
          35,
          76,
          90,
          124,
          118,
          155,
          194,
          252,
          286,
          429,
          345
         ],
         "yaxis": "y"
        },
        {
         "hoverlabel": {
          "namelength": 0
         },
         "hovertemplate": "color=telephony<br>x=%{x}<br>y=%{y}",
         "legendgroup": "telephony",
         "line": {
          "color": "#FECB52",
          "dash": "solid"
         },
         "mode": "lines",
         "name": "telephony",
         "showlegend": true,
         "type": "scatter",
         "x": [
          "01",
          "02",
          "03",
          "04",
          "05",
          "06",
          "07",
          "08",
          "09",
          "10",
          "11",
          "12"
         ],
         "xaxis": "x",
         "y": [
          21,
          99,
          159,
          139,
          204,
          150,
          135,
          131,
          164,
          228,
          348,
          244
         ],
         "yaxis": "y"
        }
       ],
       "layout": {
        "legend": {
         "title": {
          "text": "Product category"
         },
         "tracegroupgap": 0
        },
        "margin": {
         "t": 60
        },
        "template": {
         "data": {
          "bar": [
           {
            "error_x": {
             "color": "#2a3f5f"
            },
            "error_y": {
             "color": "#2a3f5f"
            },
            "marker": {
             "line": {
              "color": "#E5ECF6",
              "width": 0.5
             }
            },
            "type": "bar"
           }
          ],
          "barpolar": [
           {
            "marker": {
             "line": {
              "color": "#E5ECF6",
              "width": 0.5
             }
            },
            "type": "barpolar"
           }
          ],
          "carpet": [
           {
            "aaxis": {
             "endlinecolor": "#2a3f5f",
             "gridcolor": "white",
             "linecolor": "white",
             "minorgridcolor": "white",
             "startlinecolor": "#2a3f5f"
            },
            "baxis": {
             "endlinecolor": "#2a3f5f",
             "gridcolor": "white",
             "linecolor": "white",
             "minorgridcolor": "white",
             "startlinecolor": "#2a3f5f"
            },
            "type": "carpet"
           }
          ],
          "choropleth": [
           {
            "colorbar": {
             "outlinewidth": 0,
             "ticks": ""
            },
            "type": "choropleth"
           }
          ],
          "contour": [
           {
            "colorbar": {
             "outlinewidth": 0,
             "ticks": ""
            },
            "colorscale": [
             [
              0,
              "#0d0887"
             ],
             [
              0.1111111111111111,
              "#46039f"
             ],
             [
              0.2222222222222222,
              "#7201a8"
             ],
             [
              0.3333333333333333,
              "#9c179e"
             ],
             [
              0.4444444444444444,
              "#bd3786"
             ],
             [
              0.5555555555555556,
              "#d8576b"
             ],
             [
              0.6666666666666666,
              "#ed7953"
             ],
             [
              0.7777777777777778,
              "#fb9f3a"
             ],
             [
              0.8888888888888888,
              "#fdca26"
             ],
             [
              1,
              "#f0f921"
             ]
            ],
            "type": "contour"
           }
          ],
          "contourcarpet": [
           {
            "colorbar": {
             "outlinewidth": 0,
             "ticks": ""
            },
            "type": "contourcarpet"
           }
          ],
          "heatmap": [
           {
            "colorbar": {
             "outlinewidth": 0,
             "ticks": ""
            },
            "colorscale": [
             [
              0,
              "#0d0887"
             ],
             [
              0.1111111111111111,
              "#46039f"
             ],
             [
              0.2222222222222222,
              "#7201a8"
             ],
             [
              0.3333333333333333,
              "#9c179e"
             ],
             [
              0.4444444444444444,
              "#bd3786"
             ],
             [
              0.5555555555555556,
              "#d8576b"
             ],
             [
              0.6666666666666666,
              "#ed7953"
             ],
             [
              0.7777777777777778,
              "#fb9f3a"
             ],
             [
              0.8888888888888888,
              "#fdca26"
             ],
             [
              1,
              "#f0f921"
             ]
            ],
            "type": "heatmap"
           }
          ],
          "heatmapgl": [
           {
            "colorbar": {
             "outlinewidth": 0,
             "ticks": ""
            },
            "colorscale": [
             [
              0,
              "#0d0887"
             ],
             [
              0.1111111111111111,
              "#46039f"
             ],
             [
              0.2222222222222222,
              "#7201a8"
             ],
             [
              0.3333333333333333,
              "#9c179e"
             ],
             [
              0.4444444444444444,
              "#bd3786"
             ],
             [
              0.5555555555555556,
              "#d8576b"
             ],
             [
              0.6666666666666666,
              "#ed7953"
             ],
             [
              0.7777777777777778,
              "#fb9f3a"
             ],
             [
              0.8888888888888888,
              "#fdca26"
             ],
             [
              1,
              "#f0f921"
             ]
            ],
            "type": "heatmapgl"
           }
          ],
          "histogram": [
           {
            "marker": {
             "colorbar": {
              "outlinewidth": 0,
              "ticks": ""
             }
            },
            "type": "histogram"
           }
          ],
          "histogram2d": [
           {
            "colorbar": {
             "outlinewidth": 0,
             "ticks": ""
            },
            "colorscale": [
             [
              0,
              "#0d0887"
             ],
             [
              0.1111111111111111,
              "#46039f"
             ],
             [
              0.2222222222222222,
              "#7201a8"
             ],
             [
              0.3333333333333333,
              "#9c179e"
             ],
             [
              0.4444444444444444,
              "#bd3786"
             ],
             [
              0.5555555555555556,
              "#d8576b"
             ],
             [
              0.6666666666666666,
              "#ed7953"
             ],
             [
              0.7777777777777778,
              "#fb9f3a"
             ],
             [
              0.8888888888888888,
              "#fdca26"
             ],
             [
              1,
              "#f0f921"
             ]
            ],
            "type": "histogram2d"
           }
          ],
          "histogram2dcontour": [
           {
            "colorbar": {
             "outlinewidth": 0,
             "ticks": ""
            },
            "colorscale": [
             [
              0,
              "#0d0887"
             ],
             [
              0.1111111111111111,
              "#46039f"
             ],
             [
              0.2222222222222222,
              "#7201a8"
             ],
             [
              0.3333333333333333,
              "#9c179e"
             ],
             [
              0.4444444444444444,
              "#bd3786"
             ],
             [
              0.5555555555555556,
              "#d8576b"
             ],
             [
              0.6666666666666666,
              "#ed7953"
             ],
             [
              0.7777777777777778,
              "#fb9f3a"
             ],
             [
              0.8888888888888888,
              "#fdca26"
             ],
             [
              1,
              "#f0f921"
             ]
            ],
            "type": "histogram2dcontour"
           }
          ],
          "mesh3d": [
           {
            "colorbar": {
             "outlinewidth": 0,
             "ticks": ""
            },
            "type": "mesh3d"
           }
          ],
          "parcoords": [
           {
            "line": {
             "colorbar": {
              "outlinewidth": 0,
              "ticks": ""
             }
            },
            "type": "parcoords"
           }
          ],
          "pie": [
           {
            "automargin": true,
            "type": "pie"
           }
          ],
          "scatter": [
           {
            "marker": {
             "colorbar": {
              "outlinewidth": 0,
              "ticks": ""
             }
            },
            "type": "scatter"
           }
          ],
          "scatter3d": [
           {
            "line": {
             "colorbar": {
              "outlinewidth": 0,
              "ticks": ""
             }
            },
            "marker": {
             "colorbar": {
              "outlinewidth": 0,
              "ticks": ""
             }
            },
            "type": "scatter3d"
           }
          ],
          "scattercarpet": [
           {
            "marker": {
             "colorbar": {
              "outlinewidth": 0,
              "ticks": ""
             }
            },
            "type": "scattercarpet"
           }
          ],
          "scattergeo": [
           {
            "marker": {
             "colorbar": {
              "outlinewidth": 0,
              "ticks": ""
             }
            },
            "type": "scattergeo"
           }
          ],
          "scattergl": [
           {
            "marker": {
             "colorbar": {
              "outlinewidth": 0,
              "ticks": ""
             }
            },
            "type": "scattergl"
           }
          ],
          "scattermapbox": [
           {
            "marker": {
             "colorbar": {
              "outlinewidth": 0,
              "ticks": ""
             }
            },
            "type": "scattermapbox"
           }
          ],
          "scatterpolar": [
           {
            "marker": {
             "colorbar": {
              "outlinewidth": 0,
              "ticks": ""
             }
            },
            "type": "scatterpolar"
           }
          ],
          "scatterpolargl": [
           {
            "marker": {
             "colorbar": {
              "outlinewidth": 0,
              "ticks": ""
             }
            },
            "type": "scatterpolargl"
           }
          ],
          "scatterternary": [
           {
            "marker": {
             "colorbar": {
              "outlinewidth": 0,
              "ticks": ""
             }
            },
            "type": "scatterternary"
           }
          ],
          "surface": [
           {
            "colorbar": {
             "outlinewidth": 0,
             "ticks": ""
            },
            "colorscale": [
             [
              0,
              "#0d0887"
             ],
             [
              0.1111111111111111,
              "#46039f"
             ],
             [
              0.2222222222222222,
              "#7201a8"
             ],
             [
              0.3333333333333333,
              "#9c179e"
             ],
             [
              0.4444444444444444,
              "#bd3786"
             ],
             [
              0.5555555555555556,
              "#d8576b"
             ],
             [
              0.6666666666666666,
              "#ed7953"
             ],
             [
              0.7777777777777778,
              "#fb9f3a"
             ],
             [
              0.8888888888888888,
              "#fdca26"
             ],
             [
              1,
              "#f0f921"
             ]
            ],
            "type": "surface"
           }
          ],
          "table": [
           {
            "cells": {
             "fill": {
              "color": "#EBF0F8"
             },
             "line": {
              "color": "white"
             }
            },
            "header": {
             "fill": {
              "color": "#C8D4E3"
             },
             "line": {
              "color": "white"
             }
            },
            "type": "table"
           }
          ]
         },
         "layout": {
          "annotationdefaults": {
           "arrowcolor": "#2a3f5f",
           "arrowhead": 0,
           "arrowwidth": 1
          },
          "coloraxis": {
           "colorbar": {
            "outlinewidth": 0,
            "ticks": ""
           }
          },
          "colorscale": {
           "diverging": [
            [
             0,
             "#8e0152"
            ],
            [
             0.1,
             "#c51b7d"
            ],
            [
             0.2,
             "#de77ae"
            ],
            [
             0.3,
             "#f1b6da"
            ],
            [
             0.4,
             "#fde0ef"
            ],
            [
             0.5,
             "#f7f7f7"
            ],
            [
             0.6,
             "#e6f5d0"
            ],
            [
             0.7,
             "#b8e186"
            ],
            [
             0.8,
             "#7fbc41"
            ],
            [
             0.9,
             "#4d9221"
            ],
            [
             1,
             "#276419"
            ]
           ],
           "sequential": [
            [
             0,
             "#0d0887"
            ],
            [
             0.1111111111111111,
             "#46039f"
            ],
            [
             0.2222222222222222,
             "#7201a8"
            ],
            [
             0.3333333333333333,
             "#9c179e"
            ],
            [
             0.4444444444444444,
             "#bd3786"
            ],
            [
             0.5555555555555556,
             "#d8576b"
            ],
            [
             0.6666666666666666,
             "#ed7953"
            ],
            [
             0.7777777777777778,
             "#fb9f3a"
            ],
            [
             0.8888888888888888,
             "#fdca26"
            ],
            [
             1,
             "#f0f921"
            ]
           ],
           "sequentialminus": [
            [
             0,
             "#0d0887"
            ],
            [
             0.1111111111111111,
             "#46039f"
            ],
            [
             0.2222222222222222,
             "#7201a8"
            ],
            [
             0.3333333333333333,
             "#9c179e"
            ],
            [
             0.4444444444444444,
             "#bd3786"
            ],
            [
             0.5555555555555556,
             "#d8576b"
            ],
            [
             0.6666666666666666,
             "#ed7953"
            ],
            [
             0.7777777777777778,
             "#fb9f3a"
            ],
            [
             0.8888888888888888,
             "#fdca26"
            ],
            [
             1,
             "#f0f921"
            ]
           ]
          },
          "colorway": [
           "#636efa",
           "#EF553B",
           "#00cc96",
           "#ab63fa",
           "#FFA15A",
           "#19d3f3",
           "#FF6692",
           "#B6E880",
           "#FF97FF",
           "#FECB52"
          ],
          "font": {
           "color": "#2a3f5f"
          },
          "geo": {
           "bgcolor": "white",
           "lakecolor": "white",
           "landcolor": "#E5ECF6",
           "showlakes": true,
           "showland": true,
           "subunitcolor": "white"
          },
          "hoverlabel": {
           "align": "left"
          },
          "hovermode": "closest",
          "mapbox": {
           "style": "light"
          },
          "paper_bgcolor": "white",
          "plot_bgcolor": "#E5ECF6",
          "polar": {
           "angularaxis": {
            "gridcolor": "white",
            "linecolor": "white",
            "ticks": ""
           },
           "bgcolor": "#E5ECF6",
           "radialaxis": {
            "gridcolor": "white",
            "linecolor": "white",
            "ticks": ""
           }
          },
          "scene": {
           "xaxis": {
            "backgroundcolor": "#E5ECF6",
            "gridcolor": "white",
            "gridwidth": 2,
            "linecolor": "white",
            "showbackground": true,
            "ticks": "",
            "zerolinecolor": "white"
           },
           "yaxis": {
            "backgroundcolor": "#E5ECF6",
            "gridcolor": "white",
            "gridwidth": 2,
            "linecolor": "white",
            "showbackground": true,
            "ticks": "",
            "zerolinecolor": "white"
           },
           "zaxis": {
            "backgroundcolor": "#E5ECF6",
            "gridcolor": "white",
            "gridwidth": 2,
            "linecolor": "white",
            "showbackground": true,
            "ticks": "",
            "zerolinecolor": "white"
           }
          },
          "shapedefaults": {
           "line": {
            "color": "#2a3f5f"
           }
          },
          "ternary": {
           "aaxis": {
            "gridcolor": "white",
            "linecolor": "white",
            "ticks": ""
           },
           "baxis": {
            "gridcolor": "white",
            "linecolor": "white",
            "ticks": ""
           },
           "bgcolor": "#E5ECF6",
           "caxis": {
            "gridcolor": "white",
            "linecolor": "white",
            "ticks": ""
           }
          },
          "title": {
           "x": 0.05
          },
          "xaxis": {
           "automargin": true,
           "gridcolor": "white",
           "linecolor": "white",
           "ticks": "",
           "title": {
            "standoff": 15
           },
           "zerolinecolor": "white",
           "zerolinewidth": 2
          },
          "yaxis": {
           "automargin": true,
           "gridcolor": "white",
           "linecolor": "white",
           "ticks": "",
           "title": {
            "standoff": 15
           },
           "zerolinecolor": "white",
           "zerolinewidth": 2
          }
         }
        },
        "title": {
         "text": "Top 10 product category having the largest amount of selling in each month"
        },
        "xaxis": {
         "anchor": "y",
         "domain": [
          0,
          1
         ],
         "title": {
          "text": "Month"
         }
        },
        "yaxis": {
         "anchor": "x",
         "domain": [
          0,
          1
         ],
         "title": {
          "text": "number of selling"
         }
        }
       }
      },
      "text/html": [
       "<div>\n",
       "        \n",
       "        \n",
       "            <div id=\"c02d62d4-6e24-44b4-a247-effb863ef8dd\" class=\"plotly-graph-div\" style=\"height:525px; width:100%;\"></div>\n",
       "            <script type=\"text/javascript\">\n",
       "                require([\"plotly\"], function(Plotly) {\n",
       "                    window.PLOTLYENV=window.PLOTLYENV || {};\n",
       "                    \n",
       "                if (document.getElementById(\"c02d62d4-6e24-44b4-a247-effb863ef8dd\")) {\n",
       "                    Plotly.newPlot(\n",
       "                        'c02d62d4-6e24-44b4-a247-effb863ef8dd',\n",
       "                        [{\"hoverlabel\": {\"namelength\": 0}, \"hovertemplate\": \"color=bed_bath_table<br>x=%{x}<br>y=%{y}\", \"legendgroup\": \"bed_bath_table\", \"line\": {\"color\": \"#636efa\", \"dash\": \"solid\"}, \"mode\": \"lines\", \"name\": \"bed_bath_table\", \"showlegend\": true, \"type\": \"scatter\", \"x\": [\"01\", \"02\", \"03\", \"04\", \"05\", \"06\", \"07\", \"08\", \"09\", \"10\", \"11\", \"12\"], \"xaxis\": \"x\", \"y\": [42.0, 143.0, 247.0, 231.0, 324.0, 333.0, 501.0, 439.0, 455.0, 434.0, 807.0, 471.0], \"yaxis\": \"y\"}, {\"hoverlabel\": {\"namelength\": 0}, \"hovertemplate\": \"color=sports_leisure<br>x=%{x}<br>y=%{y}\", \"legendgroup\": \"sports_leisure\", \"line\": {\"color\": \"#EF553B\", \"dash\": \"solid\"}, \"mode\": \"lines\", \"name\": \"sports_leisure\", \"showlegend\": true, \"type\": \"scatter\", \"x\": [\"01\", \"02\", \"03\", \"04\", \"05\", \"06\", \"07\", \"08\", \"09\", \"10\", \"11\", \"12\"], \"xaxis\": \"x\", \"y\": [61.0, 138.0, 170.0, 198.0, 265.0, 250.0, 337.0, 383.0, 416.0, 424.0, 555.0, 440.0], \"yaxis\": \"y\"}, {\"hoverlabel\": {\"namelength\": 0}, \"hovertemplate\": \"color=health_beauty<br>x=%{x}<br>y=%{y}\", \"legendgroup\": \"health_beauty\", \"line\": {\"color\": \"#00cc96\", \"dash\": \"solid\"}, \"mode\": \"lines\", \"name\": \"health_beauty\", \"showlegend\": true, \"type\": \"scatter\", \"x\": [\"01\", \"02\", \"03\", \"04\", \"05\", \"06\", \"07\", \"08\", \"09\", \"10\", \"11\", \"12\"], \"xaxis\": \"x\", \"y\": [82.0, 155.0, 193.0, 176.0, 267.0, 238.0, 277.0, 342.0, 359.0, 332.0, 530.0, 429.0], \"yaxis\": \"y\"}, {\"hoverlabel\": {\"namelength\": 0}, \"hovertemplate\": \"color=furniture_decor<br>x=%{x}<br>y=%{y}\", \"legendgroup\": \"furniture_decor\", \"line\": {\"color\": \"#ab63fa\", \"dash\": \"solid\"}, \"mode\": \"lines\", \"name\": \"furniture_decor\", \"showlegend\": true, \"type\": \"scatter\", \"x\": [\"01\", \"02\", \"03\", \"04\", \"05\", \"06\", \"07\", \"08\", \"09\", \"10\", \"11\", \"12\"], \"xaxis\": \"x\", \"y\": [136.0, 216.0, 265.0, 169.0, 233.0, 179.0, 251.0, 328.0, 274.0, 270.0, 546.0, 314.0], \"yaxis\": \"y\"}, {\"hoverlabel\": {\"namelength\": 0}, \"hovertemplate\": \"color=computers_accessories<br>x=%{x}<br>y=%{y}\", \"legendgroup\": \"computers_accessories\", \"line\": {\"color\": \"#FFA15A\", \"dash\": \"solid\"}, \"mode\": \"lines\", \"name\": \"computers_accessories\", \"showlegend\": true, \"type\": \"scatter\", \"x\": [\"01\", \"02\", \"03\", \"04\", \"05\", \"06\", \"07\", \"08\", \"09\", \"10\", \"11\", \"12\"], \"xaxis\": \"x\", \"y\": [24.0, 97.0, 150.0, 120.0, 259.0, 219.0, 271.0, 296.0, 216.0, 264.0, 442.0, 250.0], \"yaxis\": \"y\"}, {\"hoverlabel\": {\"namelength\": 0}, \"hovertemplate\": \"color=housewares<br>x=%{x}<br>y=%{y}\", \"legendgroup\": \"housewares\", \"line\": {\"color\": \"#19d3f3\", \"dash\": \"solid\"}, \"mode\": \"lines\", \"name\": \"housewares\", \"showlegend\": true, \"type\": \"scatter\", \"x\": [\"01\", \"02\", \"03\", \"04\", \"05\", \"06\", \"07\", \"08\", \"09\", \"10\", \"11\", \"12\"], \"xaxis\": \"x\", \"y\": [21.0, 68.0, 178.0, 144.0, 264.0, 289.0, 225.0, 249.0, 223.0, 191.0, 353.0, 249.0], \"yaxis\": \"y\"}, {\"hoverlabel\": {\"namelength\": 0}, \"hovertemplate\": \"color=toys<br>x=%{x}<br>y=%{y}\", \"legendgroup\": \"toys\", \"line\": {\"color\": \"#FF6692\", \"dash\": \"solid\"}, \"mode\": \"lines\", \"name\": \"toys\", \"showlegend\": true, \"type\": \"scatter\", \"x\": [\"01\", \"02\", \"03\", \"04\", \"05\", \"06\", \"07\", \"08\", \"09\", \"10\", \"11\", \"12\"], \"xaxis\": \"x\", \"y\": [43.0, 61.0, 100.0, 102.0, 194.0, 152.0, 199.0, 165.0, 270.0, 277.0, 450.0, 420.0], \"yaxis\": \"y\"}, {\"hoverlabel\": {\"namelength\": 0}, \"hovertemplate\": \"color=cool_stuff<br>x=%{x}<br>y=%{y}\", \"legendgroup\": \"cool_stuff\", \"line\": {\"color\": \"#B6E880\", \"dash\": \"solid\"}, \"mode\": \"lines\", \"name\": \"cool_stuff\", \"showlegend\": true, \"type\": \"scatter\", \"x\": [\"01\", \"02\", \"03\", \"04\", \"05\", \"06\", \"07\", \"08\", \"09\", \"10\", \"11\", \"12\"], \"xaxis\": \"x\", \"y\": [32.0, 66.0, 121.0, 119.0, 236.0, 197.0, 221.0, 239.0, 199.0, 243.0, 287.0, 233.0], \"yaxis\": \"y\"}, {\"hoverlabel\": {\"namelength\": 0}, \"hovertemplate\": \"color=watches_gifts<br>x=%{x}<br>y=%{y}\", \"legendgroup\": \"watches_gifts\", \"line\": {\"color\": \"#FF97FF\", \"dash\": \"solid\"}, \"mode\": \"lines\", \"name\": \"watches_gifts\", \"showlegend\": true, \"type\": \"scatter\", \"x\": [\"01\", \"02\", \"03\", \"04\", \"05\", \"06\", \"07\", \"08\", \"09\", \"10\", \"11\", \"12\"], \"xaxis\": \"x\", \"y\": [11.0, 35.0, 76.0, 90.0, 124.0, 118.0, 155.0, 194.0, 252.0, 286.0, 429.0, 345.0], \"yaxis\": \"y\"}, {\"hoverlabel\": {\"namelength\": 0}, \"hovertemplate\": \"color=telephony<br>x=%{x}<br>y=%{y}\", \"legendgroup\": \"telephony\", \"line\": {\"color\": \"#FECB52\", \"dash\": \"solid\"}, \"mode\": \"lines\", \"name\": \"telephony\", \"showlegend\": true, \"type\": \"scatter\", \"x\": [\"01\", \"02\", \"03\", \"04\", \"05\", \"06\", \"07\", \"08\", \"09\", \"10\", \"11\", \"12\"], \"xaxis\": \"x\", \"y\": [21.0, 99.0, 159.0, 139.0, 204.0, 150.0, 135.0, 131.0, 164.0, 228.0, 348.0, 244.0], \"yaxis\": \"y\"}],\n",
       "                        {\"legend\": {\"title\": {\"text\": \"Product category\"}, \"tracegroupgap\": 0}, \"margin\": {\"t\": 60}, \"template\": {\"data\": {\"bar\": [{\"error_x\": {\"color\": \"#2a3f5f\"}, \"error_y\": {\"color\": \"#2a3f5f\"}, \"marker\": {\"line\": {\"color\": \"#E5ECF6\", \"width\": 0.5}}, \"type\": \"bar\"}], \"barpolar\": [{\"marker\": {\"line\": {\"color\": \"#E5ECF6\", \"width\": 0.5}}, \"type\": \"barpolar\"}], \"carpet\": [{\"aaxis\": {\"endlinecolor\": \"#2a3f5f\", \"gridcolor\": \"white\", \"linecolor\": \"white\", \"minorgridcolor\": \"white\", \"startlinecolor\": \"#2a3f5f\"}, \"baxis\": {\"endlinecolor\": \"#2a3f5f\", \"gridcolor\": \"white\", \"linecolor\": \"white\", \"minorgridcolor\": \"white\", \"startlinecolor\": \"#2a3f5f\"}, \"type\": \"carpet\"}], \"choropleth\": [{\"colorbar\": {\"outlinewidth\": 0, \"ticks\": \"\"}, \"type\": \"choropleth\"}], \"contour\": [{\"colorbar\": {\"outlinewidth\": 0, \"ticks\": \"\"}, \"colorscale\": [[0.0, \"#0d0887\"], [0.1111111111111111, \"#46039f\"], [0.2222222222222222, \"#7201a8\"], [0.3333333333333333, \"#9c179e\"], [0.4444444444444444, \"#bd3786\"], [0.5555555555555556, \"#d8576b\"], [0.6666666666666666, \"#ed7953\"], [0.7777777777777778, \"#fb9f3a\"], [0.8888888888888888, \"#fdca26\"], [1.0, \"#f0f921\"]], \"type\": \"contour\"}], \"contourcarpet\": [{\"colorbar\": {\"outlinewidth\": 0, \"ticks\": \"\"}, \"type\": \"contourcarpet\"}], \"heatmap\": [{\"colorbar\": {\"outlinewidth\": 0, \"ticks\": \"\"}, \"colorscale\": [[0.0, \"#0d0887\"], [0.1111111111111111, \"#46039f\"], [0.2222222222222222, \"#7201a8\"], [0.3333333333333333, \"#9c179e\"], [0.4444444444444444, \"#bd3786\"], [0.5555555555555556, \"#d8576b\"], [0.6666666666666666, \"#ed7953\"], [0.7777777777777778, \"#fb9f3a\"], [0.8888888888888888, \"#fdca26\"], [1.0, \"#f0f921\"]], \"type\": \"heatmap\"}], \"heatmapgl\": [{\"colorbar\": {\"outlinewidth\": 0, \"ticks\": \"\"}, \"colorscale\": [[0.0, \"#0d0887\"], [0.1111111111111111, \"#46039f\"], [0.2222222222222222, \"#7201a8\"], [0.3333333333333333, \"#9c179e\"], [0.4444444444444444, \"#bd3786\"], [0.5555555555555556, \"#d8576b\"], [0.6666666666666666, \"#ed7953\"], [0.7777777777777778, \"#fb9f3a\"], [0.8888888888888888, \"#fdca26\"], [1.0, \"#f0f921\"]], \"type\": \"heatmapgl\"}], \"histogram\": [{\"marker\": {\"colorbar\": {\"outlinewidth\": 0, \"ticks\": \"\"}}, \"type\": \"histogram\"}], \"histogram2d\": [{\"colorbar\": {\"outlinewidth\": 0, \"ticks\": \"\"}, \"colorscale\": [[0.0, \"#0d0887\"], [0.1111111111111111, \"#46039f\"], [0.2222222222222222, \"#7201a8\"], [0.3333333333333333, \"#9c179e\"], [0.4444444444444444, \"#bd3786\"], [0.5555555555555556, \"#d8576b\"], [0.6666666666666666, \"#ed7953\"], [0.7777777777777778, \"#fb9f3a\"], [0.8888888888888888, \"#fdca26\"], [1.0, \"#f0f921\"]], \"type\": \"histogram2d\"}], \"histogram2dcontour\": [{\"colorbar\": {\"outlinewidth\": 0, \"ticks\": \"\"}, \"colorscale\": [[0.0, \"#0d0887\"], [0.1111111111111111, \"#46039f\"], [0.2222222222222222, \"#7201a8\"], [0.3333333333333333, \"#9c179e\"], [0.4444444444444444, \"#bd3786\"], [0.5555555555555556, \"#d8576b\"], [0.6666666666666666, \"#ed7953\"], [0.7777777777777778, \"#fb9f3a\"], [0.8888888888888888, \"#fdca26\"], [1.0, \"#f0f921\"]], \"type\": \"histogram2dcontour\"}], \"mesh3d\": [{\"colorbar\": {\"outlinewidth\": 0, \"ticks\": \"\"}, \"type\": \"mesh3d\"}], \"parcoords\": [{\"line\": {\"colorbar\": {\"outlinewidth\": 0, \"ticks\": \"\"}}, \"type\": \"parcoords\"}], \"pie\": [{\"automargin\": true, \"type\": \"pie\"}], \"scatter\": [{\"marker\": {\"colorbar\": {\"outlinewidth\": 0, \"ticks\": \"\"}}, \"type\": \"scatter\"}], \"scatter3d\": [{\"line\": {\"colorbar\": {\"outlinewidth\": 0, \"ticks\": \"\"}}, \"marker\": {\"colorbar\": {\"outlinewidth\": 0, \"ticks\": \"\"}}, \"type\": \"scatter3d\"}], \"scattercarpet\": [{\"marker\": {\"colorbar\": {\"outlinewidth\": 0, \"ticks\": \"\"}}, \"type\": \"scattercarpet\"}], \"scattergeo\": [{\"marker\": {\"colorbar\": {\"outlinewidth\": 0, \"ticks\": \"\"}}, \"type\": \"scattergeo\"}], \"scattergl\": [{\"marker\": {\"colorbar\": {\"outlinewidth\": 0, \"ticks\": \"\"}}, \"type\": \"scattergl\"}], \"scattermapbox\": [{\"marker\": {\"colorbar\": {\"outlinewidth\": 0, \"ticks\": \"\"}}, \"type\": \"scattermapbox\"}], \"scatterpolar\": [{\"marker\": {\"colorbar\": {\"outlinewidth\": 0, \"ticks\": \"\"}}, \"type\": \"scatterpolar\"}], \"scatterpolargl\": [{\"marker\": {\"colorbar\": {\"outlinewidth\": 0, \"ticks\": \"\"}}, \"type\": \"scatterpolargl\"}], \"scatterternary\": [{\"marker\": {\"colorbar\": {\"outlinewidth\": 0, \"ticks\": \"\"}}, \"type\": \"scatterternary\"}], \"surface\": [{\"colorbar\": {\"outlinewidth\": 0, \"ticks\": \"\"}, \"colorscale\": [[0.0, \"#0d0887\"], [0.1111111111111111, \"#46039f\"], [0.2222222222222222, \"#7201a8\"], [0.3333333333333333, \"#9c179e\"], [0.4444444444444444, \"#bd3786\"], [0.5555555555555556, \"#d8576b\"], [0.6666666666666666, \"#ed7953\"], [0.7777777777777778, \"#fb9f3a\"], [0.8888888888888888, \"#fdca26\"], [1.0, \"#f0f921\"]], \"type\": \"surface\"}], \"table\": [{\"cells\": {\"fill\": {\"color\": \"#EBF0F8\"}, \"line\": {\"color\": \"white\"}}, \"header\": {\"fill\": {\"color\": \"#C8D4E3\"}, \"line\": {\"color\": \"white\"}}, \"type\": \"table\"}]}, \"layout\": {\"annotationdefaults\": {\"arrowcolor\": \"#2a3f5f\", \"arrowhead\": 0, \"arrowwidth\": 1}, \"coloraxis\": {\"colorbar\": {\"outlinewidth\": 0, \"ticks\": \"\"}}, \"colorscale\": {\"diverging\": [[0, \"#8e0152\"], [0.1, \"#c51b7d\"], [0.2, \"#de77ae\"], [0.3, \"#f1b6da\"], [0.4, \"#fde0ef\"], [0.5, \"#f7f7f7\"], [0.6, \"#e6f5d0\"], [0.7, \"#b8e186\"], [0.8, \"#7fbc41\"], [0.9, \"#4d9221\"], [1, \"#276419\"]], \"sequential\": [[0.0, \"#0d0887\"], [0.1111111111111111, \"#46039f\"], [0.2222222222222222, \"#7201a8\"], [0.3333333333333333, \"#9c179e\"], [0.4444444444444444, \"#bd3786\"], [0.5555555555555556, \"#d8576b\"], [0.6666666666666666, \"#ed7953\"], [0.7777777777777778, \"#fb9f3a\"], [0.8888888888888888, \"#fdca26\"], [1.0, \"#f0f921\"]], \"sequentialminus\": [[0.0, \"#0d0887\"], [0.1111111111111111, \"#46039f\"], [0.2222222222222222, \"#7201a8\"], [0.3333333333333333, \"#9c179e\"], [0.4444444444444444, \"#bd3786\"], [0.5555555555555556, \"#d8576b\"], [0.6666666666666666, \"#ed7953\"], [0.7777777777777778, \"#fb9f3a\"], [0.8888888888888888, \"#fdca26\"], [1.0, \"#f0f921\"]]}, \"colorway\": [\"#636efa\", \"#EF553B\", \"#00cc96\", \"#ab63fa\", \"#FFA15A\", \"#19d3f3\", \"#FF6692\", \"#B6E880\", \"#FF97FF\", \"#FECB52\"], \"font\": {\"color\": \"#2a3f5f\"}, \"geo\": {\"bgcolor\": \"white\", \"lakecolor\": \"white\", \"landcolor\": \"#E5ECF6\", \"showlakes\": true, \"showland\": true, \"subunitcolor\": \"white\"}, \"hoverlabel\": {\"align\": \"left\"}, \"hovermode\": \"closest\", \"mapbox\": {\"style\": \"light\"}, \"paper_bgcolor\": \"white\", \"plot_bgcolor\": \"#E5ECF6\", \"polar\": {\"angularaxis\": {\"gridcolor\": \"white\", \"linecolor\": \"white\", \"ticks\": \"\"}, \"bgcolor\": \"#E5ECF6\", \"radialaxis\": {\"gridcolor\": \"white\", \"linecolor\": \"white\", \"ticks\": \"\"}}, \"scene\": {\"xaxis\": {\"backgroundcolor\": \"#E5ECF6\", \"gridcolor\": \"white\", \"gridwidth\": 2, \"linecolor\": \"white\", \"showbackground\": true, \"ticks\": \"\", \"zerolinecolor\": \"white\"}, \"yaxis\": {\"backgroundcolor\": \"#E5ECF6\", \"gridcolor\": \"white\", \"gridwidth\": 2, \"linecolor\": \"white\", \"showbackground\": true, \"ticks\": \"\", \"zerolinecolor\": \"white\"}, \"zaxis\": {\"backgroundcolor\": \"#E5ECF6\", \"gridcolor\": \"white\", \"gridwidth\": 2, \"linecolor\": \"white\", \"showbackground\": true, \"ticks\": \"\", \"zerolinecolor\": \"white\"}}, \"shapedefaults\": {\"line\": {\"color\": \"#2a3f5f\"}}, \"ternary\": {\"aaxis\": {\"gridcolor\": \"white\", \"linecolor\": \"white\", \"ticks\": \"\"}, \"baxis\": {\"gridcolor\": \"white\", \"linecolor\": \"white\", \"ticks\": \"\"}, \"bgcolor\": \"#E5ECF6\", \"caxis\": {\"gridcolor\": \"white\", \"linecolor\": \"white\", \"ticks\": \"\"}}, \"title\": {\"x\": 0.05}, \"xaxis\": {\"automargin\": true, \"gridcolor\": \"white\", \"linecolor\": \"white\", \"ticks\": \"\", \"title\": {\"standoff\": 15}, \"zerolinecolor\": \"white\", \"zerolinewidth\": 2}, \"yaxis\": {\"automargin\": true, \"gridcolor\": \"white\", \"linecolor\": \"white\", \"ticks\": \"\", \"title\": {\"standoff\": 15}, \"zerolinecolor\": \"white\", \"zerolinewidth\": 2}}}, \"title\": {\"text\": \"Top 10 product category having the largest amount of selling in each month\"}, \"xaxis\": {\"anchor\": \"y\", \"domain\": [0.0, 1.0], \"title\": {\"text\": \"Month\"}}, \"yaxis\": {\"anchor\": \"x\", \"domain\": [0.0, 1.0], \"title\": {\"text\": \"number of selling\"}}},\n",
       "                        {\"responsive\": true}\n",
       "                    ).then(function(){\n",
       "                            \n",
       "var gd = document.getElementById('c02d62d4-6e24-44b4-a247-effb863ef8dd');\n",
       "var x = new MutationObserver(function (mutations, observer) {{\n",
       "        var display = window.getComputedStyle(gd).display;\n",
       "        if (!display || display === 'none') {{\n",
       "            console.log([gd, 'removed!']);\n",
       "            Plotly.purge(gd);\n",
       "            observer.disconnect();\n",
       "        }}\n",
       "}});\n",
       "\n",
       "// Listen for the removal of the full notebook cells\n",
       "var notebookContainer = gd.closest('#notebook-container');\n",
       "if (notebookContainer) {{\n",
       "    x.observe(notebookContainer, {childList: true});\n",
       "}}\n",
       "\n",
       "// Listen for the clearing of the current output cell\n",
       "var outputEl = gd.closest('.output');\n",
       "if (outputEl) {{\n",
       "    x.observe(outputEl, {childList: true});\n",
       "}}\n",
       "\n",
       "                        })\n",
       "                };\n",
       "                });\n",
       "            </script>\n",
       "        </div>"
      ]
     },
     "metadata": {},
     "output_type": "display_data"
    },
    {
     "data": {
      "text/plain": [
       "<Figure size 1152x720 with 0 Axes>"
      ]
     },
     "metadata": {},
     "output_type": "display_data"
    }
   ],
   "source": [
    "indexs=df_top10_sell_month.index.get_level_values(0)\n",
    "colors=np.array(df_top10_sell_month.index.get_level_values(1))\n",
    "plt.figure(figsize=(16,10))\n",
    "\n",
    "#Using plotly express library to create interactively multiple line charts of top 10 product categories having the largest number of selling in each month\n",
    "fig=px.line(df_top10_sell_month,x=indexs,y=df_top10_sell_month.values,color=colors)\n",
    "\n",
    "#Using fig.update_layout to make visualization more details and clearly\n",
    "fig.update_layout(xaxis_title='Month',\n",
    "                  yaxis_title='number of selling',\n",
    "                  title_text='Top 10 product category having the largest amount of selling in each month',\n",
    "                  legend_title_text='Product category',\n",
    "                 )\n",
    "fig.show()"
   ]
  },
  {
   "cell_type": "markdown",
   "metadata": {},
   "source": [
    "#### Top product categories in January,2017"
   ]
  },
  {
   "cell_type": "code",
   "execution_count": 53,
   "metadata": {},
   "outputs": [],
   "source": [
    "dff_rev_monthly = dff.groupby([dff['product_category_name_english'],dff['order_purchase_timestamp'].map(lambda x: x.strftime('%B,%Y'))])[['price']].sum().unstack()"
   ]
  },
  {
   "cell_type": "code",
   "execution_count": 54,
   "metadata": {},
   "outputs": [],
   "source": [
    "dff_rev_monthly.columns = dff_rev_monthly.columns.droplevel(0)"
   ]
  },
  {
   "cell_type": "code",
   "execution_count": 55,
   "metadata": {},
   "outputs": [
    {
     "data": {
      "text/html": [
       "<div>\n",
       "<style scoped>\n",
       "    .dataframe tbody tr th:only-of-type {\n",
       "        vertical-align: middle;\n",
       "    }\n",
       "\n",
       "    .dataframe tbody tr th {\n",
       "        vertical-align: top;\n",
       "    }\n",
       "\n",
       "    .dataframe thead th {\n",
       "        text-align: right;\n",
       "    }\n",
       "</style>\n",
       "<table border=\"1\" class=\"dataframe\">\n",
       "  <thead>\n",
       "    <tr style=\"text-align: right;\">\n",
       "      <th>order_purchase_timestamp</th>\n",
       "      <th>April,2017</th>\n",
       "      <th>August,2017</th>\n",
       "      <th>December,2017</th>\n",
       "      <th>February,2017</th>\n",
       "      <th>January,2017</th>\n",
       "      <th>July,2017</th>\n",
       "      <th>June,2017</th>\n",
       "      <th>March,2017</th>\n",
       "      <th>May,2017</th>\n",
       "      <th>November,2017</th>\n",
       "      <th>October,2017</th>\n",
       "      <th>September,2017</th>\n",
       "    </tr>\n",
       "    <tr>\n",
       "      <th>product_category_name_english</th>\n",
       "      <th></th>\n",
       "      <th></th>\n",
       "      <th></th>\n",
       "      <th></th>\n",
       "      <th></th>\n",
       "      <th></th>\n",
       "      <th></th>\n",
       "      <th></th>\n",
       "      <th></th>\n",
       "      <th></th>\n",
       "      <th></th>\n",
       "      <th></th>\n",
       "    </tr>\n",
       "  </thead>\n",
       "  <tbody>\n",
       "    <tr>\n",
       "      <th>agro_industry_and_commerce</th>\n",
       "      <td>NaN</td>\n",
       "      <td>22.00</td>\n",
       "      <td>4760.80</td>\n",
       "      <td>224.84</td>\n",
       "      <td>43.98</td>\n",
       "      <td>1180.00</td>\n",
       "      <td>1390.00</td>\n",
       "      <td>81.99</td>\n",
       "      <td>1579.94</td>\n",
       "      <td>8588.99</td>\n",
       "      <td>3350.28</td>\n",
       "      <td>1595.99</td>\n",
       "    </tr>\n",
       "    <tr>\n",
       "      <th>air_conditioning</th>\n",
       "      <td>2383.43</td>\n",
       "      <td>2784.33</td>\n",
       "      <td>668.80</td>\n",
       "      <td>3095.30</td>\n",
       "      <td>513.80</td>\n",
       "      <td>1396.10</td>\n",
       "      <td>1673.28</td>\n",
       "      <td>4043.91</td>\n",
       "      <td>927.77</td>\n",
       "      <td>3038.73</td>\n",
       "      <td>1719.16</td>\n",
       "      <td>1731.05</td>\n",
       "    </tr>\n",
       "    <tr>\n",
       "      <th>art</th>\n",
       "      <td>119.90</td>\n",
       "      <td>244.70</td>\n",
       "      <td>109.90</td>\n",
       "      <td>NaN</td>\n",
       "      <td>NaN</td>\n",
       "      <td>386.75</td>\n",
       "      <td>237.20</td>\n",
       "      <td>223.25</td>\n",
       "      <td>6967.65</td>\n",
       "      <td>75.00</td>\n",
       "      <td>349.05</td>\n",
       "      <td>388.54</td>\n",
       "    </tr>\n",
       "    <tr>\n",
       "      <th>arts_and_craftmanship</th>\n",
       "      <td>NaN</td>\n",
       "      <td>NaN</td>\n",
       "      <td>NaN</td>\n",
       "      <td>NaN</td>\n",
       "      <td>NaN</td>\n",
       "      <td>129.90</td>\n",
       "      <td>NaN</td>\n",
       "      <td>NaN</td>\n",
       "      <td>NaN</td>\n",
       "      <td>NaN</td>\n",
       "      <td>NaN</td>\n",
       "      <td>NaN</td>\n",
       "    </tr>\n",
       "    <tr>\n",
       "      <th>audio</th>\n",
       "      <td>762.40</td>\n",
       "      <td>1050.70</td>\n",
       "      <td>2686.93</td>\n",
       "      <td>163.80</td>\n",
       "      <td>NaN</td>\n",
       "      <td>771.69</td>\n",
       "      <td>1671.00</td>\n",
       "      <td>990.77</td>\n",
       "      <td>2081.18</td>\n",
       "      <td>3477.25</td>\n",
       "      <td>2348.48</td>\n",
       "      <td>1042.59</td>\n",
       "    </tr>\n",
       "  </tbody>\n",
       "</table>\n",
       "</div>"
      ],
      "text/plain": [
       "order_purchase_timestamp       April,2017  August,2017  December,2017  \\\n",
       "product_category_name_english                                           \n",
       "agro_industry_and_commerce            NaN        22.00        4760.80   \n",
       "air_conditioning                  2383.43      2784.33         668.80   \n",
       "art                                119.90       244.70         109.90   \n",
       "arts_and_craftmanship                 NaN          NaN            NaN   \n",
       "audio                              762.40      1050.70        2686.93   \n",
       "\n",
       "order_purchase_timestamp       February,2017  January,2017  July,2017  \\\n",
       "product_category_name_english                                           \n",
       "agro_industry_and_commerce            224.84         43.98    1180.00   \n",
       "air_conditioning                     3095.30        513.80    1396.10   \n",
       "art                                      NaN           NaN     386.75   \n",
       "arts_and_craftmanship                    NaN           NaN     129.90   \n",
       "audio                                 163.80           NaN     771.69   \n",
       "\n",
       "order_purchase_timestamp       June,2017  March,2017  May,2017  November,2017  \\\n",
       "product_category_name_english                                                   \n",
       "agro_industry_and_commerce       1390.00       81.99   1579.94        8588.99   \n",
       "air_conditioning                 1673.28     4043.91    927.77        3038.73   \n",
       "art                               237.20      223.25   6967.65          75.00   \n",
       "arts_and_craftmanship                NaN         NaN       NaN            NaN   \n",
       "audio                            1671.00      990.77   2081.18        3477.25   \n",
       "\n",
       "order_purchase_timestamp       October,2017  September,2017  \n",
       "product_category_name_english                                \n",
       "agro_industry_and_commerce          3350.28         1595.99  \n",
       "air_conditioning                    1719.16         1731.05  \n",
       "art                                  349.05          388.54  \n",
       "arts_and_craftmanship                   NaN             NaN  \n",
       "audio                               2348.48         1042.59  "
      ]
     },
     "execution_count": 55,
     "metadata": {},
     "output_type": "execute_result"
    }
   ],
   "source": [
    "dff_rev_monthly.head()"
   ]
  },
  {
   "cell_type": "code",
   "execution_count": 56,
   "metadata": {},
   "outputs": [],
   "source": [
    "dff_rev_jan = dff_rev_monthly['January,2017'].sort_values(ascending=False)[:10].reset_index()\n",
    "dff_rev_apr = dff_rev_monthly['April,2017'].sort_values(ascending=False)[:10].reset_index()\n",
    "dff_rev_aug = dff_rev_monthly['August,2017'].sort_values(ascending=False)[:10].reset_index()\n",
    "dff_rev_dec = dff_rev_monthly['December,2017'].sort_values(ascending=False)[:10].reset_index()"
   ]
  },
  {
   "cell_type": "code",
   "execution_count": 57,
   "metadata": {},
   "outputs": [
    {
     "data": {
      "text/plain": [
       "Index(['product_category_name_english', 'January,2017'], dtype='object')"
      ]
     },
     "execution_count": 57,
     "metadata": {},
     "output_type": "execute_result"
    }
   ],
   "source": [
    "dff_rev_jan.columns"
   ]
  },
  {
   "cell_type": "code",
   "execution_count": 58,
   "metadata": {},
   "outputs": [
    {
     "data": {
      "application/vnd.plotly.v1+json": {
       "config": {
        "plotlyServerURL": "https://plot.ly"
       },
       "data": [
        {
         "alignmentgroup": "True",
         "hoverlabel": {
          "namelength": 0
         },
         "hovertemplate": "product_category_name_english=%{x}<br>January,2017=%{y}",
         "legendgroup": "",
         "marker": {
          "color": "#636efa"
         },
         "name": "",
         "offsetgroup": "",
         "orientation": "v",
         "showlegend": false,
         "textposition": "auto",
         "type": "bar",
         "x": [
          "health_beauty",
          "furniture_decor",
          "watches_gifts",
          "sports_leisure",
          "garden_tools",
          "cool_stuff",
          "consoles_games",
          "perfumery",
          "toys",
          "auto"
         ],
         "xaxis": "x",
         "y": [
          12377.619999999986,
          10796.169999999982,
          8086.52,
          8082.049999999994,
          7040.969999999999,
          6676.7,
          5791.210000000001,
          5008.099999999999,
          4814.0899999999965,
          4395.929999999999
         ],
         "yaxis": "y"
        }
       ],
       "layout": {
        "barmode": "relative",
        "legend": {
         "tracegroupgap": 0
        },
        "template": {
         "data": {
          "bar": [
           {
            "error_x": {
             "color": "#2a3f5f"
            },
            "error_y": {
             "color": "#2a3f5f"
            },
            "marker": {
             "line": {
              "color": "#E5ECF6",
              "width": 0.5
             }
            },
            "type": "bar"
           }
          ],
          "barpolar": [
           {
            "marker": {
             "line": {
              "color": "#E5ECF6",
              "width": 0.5
             }
            },
            "type": "barpolar"
           }
          ],
          "carpet": [
           {
            "aaxis": {
             "endlinecolor": "#2a3f5f",
             "gridcolor": "white",
             "linecolor": "white",
             "minorgridcolor": "white",
             "startlinecolor": "#2a3f5f"
            },
            "baxis": {
             "endlinecolor": "#2a3f5f",
             "gridcolor": "white",
             "linecolor": "white",
             "minorgridcolor": "white",
             "startlinecolor": "#2a3f5f"
            },
            "type": "carpet"
           }
          ],
          "choropleth": [
           {
            "colorbar": {
             "outlinewidth": 0,
             "ticks": ""
            },
            "type": "choropleth"
           }
          ],
          "contour": [
           {
            "colorbar": {
             "outlinewidth": 0,
             "ticks": ""
            },
            "colorscale": [
             [
              0,
              "#0d0887"
             ],
             [
              0.1111111111111111,
              "#46039f"
             ],
             [
              0.2222222222222222,
              "#7201a8"
             ],
             [
              0.3333333333333333,
              "#9c179e"
             ],
             [
              0.4444444444444444,
              "#bd3786"
             ],
             [
              0.5555555555555556,
              "#d8576b"
             ],
             [
              0.6666666666666666,
              "#ed7953"
             ],
             [
              0.7777777777777778,
              "#fb9f3a"
             ],
             [
              0.8888888888888888,
              "#fdca26"
             ],
             [
              1,
              "#f0f921"
             ]
            ],
            "type": "contour"
           }
          ],
          "contourcarpet": [
           {
            "colorbar": {
             "outlinewidth": 0,
             "ticks": ""
            },
            "type": "contourcarpet"
           }
          ],
          "heatmap": [
           {
            "colorbar": {
             "outlinewidth": 0,
             "ticks": ""
            },
            "colorscale": [
             [
              0,
              "#0d0887"
             ],
             [
              0.1111111111111111,
              "#46039f"
             ],
             [
              0.2222222222222222,
              "#7201a8"
             ],
             [
              0.3333333333333333,
              "#9c179e"
             ],
             [
              0.4444444444444444,
              "#bd3786"
             ],
             [
              0.5555555555555556,
              "#d8576b"
             ],
             [
              0.6666666666666666,
              "#ed7953"
             ],
             [
              0.7777777777777778,
              "#fb9f3a"
             ],
             [
              0.8888888888888888,
              "#fdca26"
             ],
             [
              1,
              "#f0f921"
             ]
            ],
            "type": "heatmap"
           }
          ],
          "heatmapgl": [
           {
            "colorbar": {
             "outlinewidth": 0,
             "ticks": ""
            },
            "colorscale": [
             [
              0,
              "#0d0887"
             ],
             [
              0.1111111111111111,
              "#46039f"
             ],
             [
              0.2222222222222222,
              "#7201a8"
             ],
             [
              0.3333333333333333,
              "#9c179e"
             ],
             [
              0.4444444444444444,
              "#bd3786"
             ],
             [
              0.5555555555555556,
              "#d8576b"
             ],
             [
              0.6666666666666666,
              "#ed7953"
             ],
             [
              0.7777777777777778,
              "#fb9f3a"
             ],
             [
              0.8888888888888888,
              "#fdca26"
             ],
             [
              1,
              "#f0f921"
             ]
            ],
            "type": "heatmapgl"
           }
          ],
          "histogram": [
           {
            "marker": {
             "colorbar": {
              "outlinewidth": 0,
              "ticks": ""
             }
            },
            "type": "histogram"
           }
          ],
          "histogram2d": [
           {
            "colorbar": {
             "outlinewidth": 0,
             "ticks": ""
            },
            "colorscale": [
             [
              0,
              "#0d0887"
             ],
             [
              0.1111111111111111,
              "#46039f"
             ],
             [
              0.2222222222222222,
              "#7201a8"
             ],
             [
              0.3333333333333333,
              "#9c179e"
             ],
             [
              0.4444444444444444,
              "#bd3786"
             ],
             [
              0.5555555555555556,
              "#d8576b"
             ],
             [
              0.6666666666666666,
              "#ed7953"
             ],
             [
              0.7777777777777778,
              "#fb9f3a"
             ],
             [
              0.8888888888888888,
              "#fdca26"
             ],
             [
              1,
              "#f0f921"
             ]
            ],
            "type": "histogram2d"
           }
          ],
          "histogram2dcontour": [
           {
            "colorbar": {
             "outlinewidth": 0,
             "ticks": ""
            },
            "colorscale": [
             [
              0,
              "#0d0887"
             ],
             [
              0.1111111111111111,
              "#46039f"
             ],
             [
              0.2222222222222222,
              "#7201a8"
             ],
             [
              0.3333333333333333,
              "#9c179e"
             ],
             [
              0.4444444444444444,
              "#bd3786"
             ],
             [
              0.5555555555555556,
              "#d8576b"
             ],
             [
              0.6666666666666666,
              "#ed7953"
             ],
             [
              0.7777777777777778,
              "#fb9f3a"
             ],
             [
              0.8888888888888888,
              "#fdca26"
             ],
             [
              1,
              "#f0f921"
             ]
            ],
            "type": "histogram2dcontour"
           }
          ],
          "mesh3d": [
           {
            "colorbar": {
             "outlinewidth": 0,
             "ticks": ""
            },
            "type": "mesh3d"
           }
          ],
          "parcoords": [
           {
            "line": {
             "colorbar": {
              "outlinewidth": 0,
              "ticks": ""
             }
            },
            "type": "parcoords"
           }
          ],
          "pie": [
           {
            "automargin": true,
            "type": "pie"
           }
          ],
          "scatter": [
           {
            "marker": {
             "colorbar": {
              "outlinewidth": 0,
              "ticks": ""
             }
            },
            "type": "scatter"
           }
          ],
          "scatter3d": [
           {
            "line": {
             "colorbar": {
              "outlinewidth": 0,
              "ticks": ""
             }
            },
            "marker": {
             "colorbar": {
              "outlinewidth": 0,
              "ticks": ""
             }
            },
            "type": "scatter3d"
           }
          ],
          "scattercarpet": [
           {
            "marker": {
             "colorbar": {
              "outlinewidth": 0,
              "ticks": ""
             }
            },
            "type": "scattercarpet"
           }
          ],
          "scattergeo": [
           {
            "marker": {
             "colorbar": {
              "outlinewidth": 0,
              "ticks": ""
             }
            },
            "type": "scattergeo"
           }
          ],
          "scattergl": [
           {
            "marker": {
             "colorbar": {
              "outlinewidth": 0,
              "ticks": ""
             }
            },
            "type": "scattergl"
           }
          ],
          "scattermapbox": [
           {
            "marker": {
             "colorbar": {
              "outlinewidth": 0,
              "ticks": ""
             }
            },
            "type": "scattermapbox"
           }
          ],
          "scatterpolar": [
           {
            "marker": {
             "colorbar": {
              "outlinewidth": 0,
              "ticks": ""
             }
            },
            "type": "scatterpolar"
           }
          ],
          "scatterpolargl": [
           {
            "marker": {
             "colorbar": {
              "outlinewidth": 0,
              "ticks": ""
             }
            },
            "type": "scatterpolargl"
           }
          ],
          "scatterternary": [
           {
            "marker": {
             "colorbar": {
              "outlinewidth": 0,
              "ticks": ""
             }
            },
            "type": "scatterternary"
           }
          ],
          "surface": [
           {
            "colorbar": {
             "outlinewidth": 0,
             "ticks": ""
            },
            "colorscale": [
             [
              0,
              "#0d0887"
             ],
             [
              0.1111111111111111,
              "#46039f"
             ],
             [
              0.2222222222222222,
              "#7201a8"
             ],
             [
              0.3333333333333333,
              "#9c179e"
             ],
             [
              0.4444444444444444,
              "#bd3786"
             ],
             [
              0.5555555555555556,
              "#d8576b"
             ],
             [
              0.6666666666666666,
              "#ed7953"
             ],
             [
              0.7777777777777778,
              "#fb9f3a"
             ],
             [
              0.8888888888888888,
              "#fdca26"
             ],
             [
              1,
              "#f0f921"
             ]
            ],
            "type": "surface"
           }
          ],
          "table": [
           {
            "cells": {
             "fill": {
              "color": "#EBF0F8"
             },
             "line": {
              "color": "white"
             }
            },
            "header": {
             "fill": {
              "color": "#C8D4E3"
             },
             "line": {
              "color": "white"
             }
            },
            "type": "table"
           }
          ]
         },
         "layout": {
          "annotationdefaults": {
           "arrowcolor": "#2a3f5f",
           "arrowhead": 0,
           "arrowwidth": 1
          },
          "coloraxis": {
           "colorbar": {
            "outlinewidth": 0,
            "ticks": ""
           }
          },
          "colorscale": {
           "diverging": [
            [
             0,
             "#8e0152"
            ],
            [
             0.1,
             "#c51b7d"
            ],
            [
             0.2,
             "#de77ae"
            ],
            [
             0.3,
             "#f1b6da"
            ],
            [
             0.4,
             "#fde0ef"
            ],
            [
             0.5,
             "#f7f7f7"
            ],
            [
             0.6,
             "#e6f5d0"
            ],
            [
             0.7,
             "#b8e186"
            ],
            [
             0.8,
             "#7fbc41"
            ],
            [
             0.9,
             "#4d9221"
            ],
            [
             1,
             "#276419"
            ]
           ],
           "sequential": [
            [
             0,
             "#0d0887"
            ],
            [
             0.1111111111111111,
             "#46039f"
            ],
            [
             0.2222222222222222,
             "#7201a8"
            ],
            [
             0.3333333333333333,
             "#9c179e"
            ],
            [
             0.4444444444444444,
             "#bd3786"
            ],
            [
             0.5555555555555556,
             "#d8576b"
            ],
            [
             0.6666666666666666,
             "#ed7953"
            ],
            [
             0.7777777777777778,
             "#fb9f3a"
            ],
            [
             0.8888888888888888,
             "#fdca26"
            ],
            [
             1,
             "#f0f921"
            ]
           ],
           "sequentialminus": [
            [
             0,
             "#0d0887"
            ],
            [
             0.1111111111111111,
             "#46039f"
            ],
            [
             0.2222222222222222,
             "#7201a8"
            ],
            [
             0.3333333333333333,
             "#9c179e"
            ],
            [
             0.4444444444444444,
             "#bd3786"
            ],
            [
             0.5555555555555556,
             "#d8576b"
            ],
            [
             0.6666666666666666,
             "#ed7953"
            ],
            [
             0.7777777777777778,
             "#fb9f3a"
            ],
            [
             0.8888888888888888,
             "#fdca26"
            ],
            [
             1,
             "#f0f921"
            ]
           ]
          },
          "colorway": [
           "#636efa",
           "#EF553B",
           "#00cc96",
           "#ab63fa",
           "#FFA15A",
           "#19d3f3",
           "#FF6692",
           "#B6E880",
           "#FF97FF",
           "#FECB52"
          ],
          "font": {
           "color": "#2a3f5f"
          },
          "geo": {
           "bgcolor": "white",
           "lakecolor": "white",
           "landcolor": "#E5ECF6",
           "showlakes": true,
           "showland": true,
           "subunitcolor": "white"
          },
          "hoverlabel": {
           "align": "left"
          },
          "hovermode": "closest",
          "mapbox": {
           "style": "light"
          },
          "paper_bgcolor": "white",
          "plot_bgcolor": "#E5ECF6",
          "polar": {
           "angularaxis": {
            "gridcolor": "white",
            "linecolor": "white",
            "ticks": ""
           },
           "bgcolor": "#E5ECF6",
           "radialaxis": {
            "gridcolor": "white",
            "linecolor": "white",
            "ticks": ""
           }
          },
          "scene": {
           "xaxis": {
            "backgroundcolor": "#E5ECF6",
            "gridcolor": "white",
            "gridwidth": 2,
            "linecolor": "white",
            "showbackground": true,
            "ticks": "",
            "zerolinecolor": "white"
           },
           "yaxis": {
            "backgroundcolor": "#E5ECF6",
            "gridcolor": "white",
            "gridwidth": 2,
            "linecolor": "white",
            "showbackground": true,
            "ticks": "",
            "zerolinecolor": "white"
           },
           "zaxis": {
            "backgroundcolor": "#E5ECF6",
            "gridcolor": "white",
            "gridwidth": 2,
            "linecolor": "white",
            "showbackground": true,
            "ticks": "",
            "zerolinecolor": "white"
           }
          },
          "shapedefaults": {
           "line": {
            "color": "#2a3f5f"
           }
          },
          "ternary": {
           "aaxis": {
            "gridcolor": "white",
            "linecolor": "white",
            "ticks": ""
           },
           "baxis": {
            "gridcolor": "white",
            "linecolor": "white",
            "ticks": ""
           },
           "bgcolor": "#E5ECF6",
           "caxis": {
            "gridcolor": "white",
            "linecolor": "white",
            "ticks": ""
           }
          },
          "title": {
           "x": 0.05
          },
          "xaxis": {
           "automargin": true,
           "gridcolor": "white",
           "linecolor": "white",
           "ticks": "",
           "title": {
            "standoff": 15
           },
           "zerolinecolor": "white",
           "zerolinewidth": 2
          },
          "yaxis": {
           "automargin": true,
           "gridcolor": "white",
           "linecolor": "white",
           "ticks": "",
           "title": {
            "standoff": 15
           },
           "zerolinecolor": "white",
           "zerolinewidth": 2
          }
         }
        },
        "title": {
         "text": "Top product categories in January,2017"
        },
        "xaxis": {
         "anchor": "y",
         "domain": [
          0,
          1
         ],
         "title": {
          "text": "product_category_name_english"
         }
        },
        "yaxis": {
         "anchor": "x",
         "domain": [
          0,
          1
         ],
         "title": {
          "text": "January,2017"
         }
        }
       }
      },
      "text/html": [
       "<div>\n",
       "        \n",
       "        \n",
       "            <div id=\"5d3e26bf-a167-4b07-bf38-6ba35d7cb41d\" class=\"plotly-graph-div\" style=\"height:525px; width:100%;\"></div>\n",
       "            <script type=\"text/javascript\">\n",
       "                require([\"plotly\"], function(Plotly) {\n",
       "                    window.PLOTLYENV=window.PLOTLYENV || {};\n",
       "                    \n",
       "                if (document.getElementById(\"5d3e26bf-a167-4b07-bf38-6ba35d7cb41d\")) {\n",
       "                    Plotly.newPlot(\n",
       "                        '5d3e26bf-a167-4b07-bf38-6ba35d7cb41d',\n",
       "                        [{\"alignmentgroup\": \"True\", \"hoverlabel\": {\"namelength\": 0}, \"hovertemplate\": \"product_category_name_english=%{x}<br>January,2017=%{y}\", \"legendgroup\": \"\", \"marker\": {\"color\": \"#636efa\"}, \"name\": \"\", \"offsetgroup\": \"\", \"orientation\": \"v\", \"showlegend\": false, \"textposition\": \"auto\", \"type\": \"bar\", \"x\": [\"health_beauty\", \"furniture_decor\", \"watches_gifts\", \"sports_leisure\", \"garden_tools\", \"cool_stuff\", \"consoles_games\", \"perfumery\", \"toys\", \"auto\"], \"xaxis\": \"x\", \"y\": [12377.619999999986, 10796.169999999982, 8086.52, 8082.049999999994, 7040.969999999999, 6676.7, 5791.210000000001, 5008.099999999999, 4814.0899999999965, 4395.929999999999], \"yaxis\": \"y\"}],\n",
       "                        {\"barmode\": \"relative\", \"legend\": {\"tracegroupgap\": 0}, \"template\": {\"data\": {\"bar\": [{\"error_x\": {\"color\": \"#2a3f5f\"}, \"error_y\": {\"color\": \"#2a3f5f\"}, \"marker\": {\"line\": {\"color\": \"#E5ECF6\", \"width\": 0.5}}, \"type\": \"bar\"}], \"barpolar\": [{\"marker\": {\"line\": {\"color\": \"#E5ECF6\", \"width\": 0.5}}, \"type\": \"barpolar\"}], \"carpet\": [{\"aaxis\": {\"endlinecolor\": \"#2a3f5f\", \"gridcolor\": \"white\", \"linecolor\": \"white\", \"minorgridcolor\": \"white\", \"startlinecolor\": \"#2a3f5f\"}, \"baxis\": {\"endlinecolor\": \"#2a3f5f\", \"gridcolor\": \"white\", \"linecolor\": \"white\", \"minorgridcolor\": \"white\", \"startlinecolor\": \"#2a3f5f\"}, \"type\": \"carpet\"}], \"choropleth\": [{\"colorbar\": {\"outlinewidth\": 0, \"ticks\": \"\"}, \"type\": \"choropleth\"}], \"contour\": [{\"colorbar\": {\"outlinewidth\": 0, \"ticks\": \"\"}, \"colorscale\": [[0.0, \"#0d0887\"], [0.1111111111111111, \"#46039f\"], [0.2222222222222222, \"#7201a8\"], [0.3333333333333333, \"#9c179e\"], [0.4444444444444444, \"#bd3786\"], [0.5555555555555556, \"#d8576b\"], [0.6666666666666666, \"#ed7953\"], [0.7777777777777778, \"#fb9f3a\"], [0.8888888888888888, \"#fdca26\"], [1.0, \"#f0f921\"]], \"type\": \"contour\"}], \"contourcarpet\": [{\"colorbar\": {\"outlinewidth\": 0, \"ticks\": \"\"}, \"type\": \"contourcarpet\"}], \"heatmap\": [{\"colorbar\": {\"outlinewidth\": 0, \"ticks\": \"\"}, \"colorscale\": [[0.0, \"#0d0887\"], [0.1111111111111111, \"#46039f\"], [0.2222222222222222, \"#7201a8\"], [0.3333333333333333, \"#9c179e\"], [0.4444444444444444, \"#bd3786\"], [0.5555555555555556, \"#d8576b\"], [0.6666666666666666, \"#ed7953\"], [0.7777777777777778, \"#fb9f3a\"], [0.8888888888888888, \"#fdca26\"], [1.0, \"#f0f921\"]], \"type\": \"heatmap\"}], \"heatmapgl\": [{\"colorbar\": {\"outlinewidth\": 0, \"ticks\": \"\"}, \"colorscale\": [[0.0, \"#0d0887\"], [0.1111111111111111, \"#46039f\"], [0.2222222222222222, \"#7201a8\"], [0.3333333333333333, \"#9c179e\"], [0.4444444444444444, \"#bd3786\"], [0.5555555555555556, \"#d8576b\"], [0.6666666666666666, \"#ed7953\"], [0.7777777777777778, \"#fb9f3a\"], [0.8888888888888888, \"#fdca26\"], [1.0, \"#f0f921\"]], \"type\": \"heatmapgl\"}], \"histogram\": [{\"marker\": {\"colorbar\": {\"outlinewidth\": 0, \"ticks\": \"\"}}, \"type\": \"histogram\"}], \"histogram2d\": [{\"colorbar\": {\"outlinewidth\": 0, \"ticks\": \"\"}, \"colorscale\": [[0.0, \"#0d0887\"], [0.1111111111111111, \"#46039f\"], [0.2222222222222222, \"#7201a8\"], [0.3333333333333333, \"#9c179e\"], [0.4444444444444444, \"#bd3786\"], [0.5555555555555556, \"#d8576b\"], [0.6666666666666666, \"#ed7953\"], [0.7777777777777778, \"#fb9f3a\"], [0.8888888888888888, \"#fdca26\"], [1.0, \"#f0f921\"]], \"type\": \"histogram2d\"}], \"histogram2dcontour\": [{\"colorbar\": {\"outlinewidth\": 0, \"ticks\": \"\"}, \"colorscale\": [[0.0, \"#0d0887\"], [0.1111111111111111, \"#46039f\"], [0.2222222222222222, \"#7201a8\"], [0.3333333333333333, \"#9c179e\"], [0.4444444444444444, \"#bd3786\"], [0.5555555555555556, \"#d8576b\"], [0.6666666666666666, \"#ed7953\"], [0.7777777777777778, \"#fb9f3a\"], [0.8888888888888888, \"#fdca26\"], [1.0, \"#f0f921\"]], \"type\": \"histogram2dcontour\"}], \"mesh3d\": [{\"colorbar\": {\"outlinewidth\": 0, \"ticks\": \"\"}, \"type\": \"mesh3d\"}], \"parcoords\": [{\"line\": {\"colorbar\": {\"outlinewidth\": 0, \"ticks\": \"\"}}, \"type\": \"parcoords\"}], \"pie\": [{\"automargin\": true, \"type\": \"pie\"}], \"scatter\": [{\"marker\": {\"colorbar\": {\"outlinewidth\": 0, \"ticks\": \"\"}}, \"type\": \"scatter\"}], \"scatter3d\": [{\"line\": {\"colorbar\": {\"outlinewidth\": 0, \"ticks\": \"\"}}, \"marker\": {\"colorbar\": {\"outlinewidth\": 0, \"ticks\": \"\"}}, \"type\": \"scatter3d\"}], \"scattercarpet\": [{\"marker\": {\"colorbar\": {\"outlinewidth\": 0, \"ticks\": \"\"}}, \"type\": \"scattercarpet\"}], \"scattergeo\": [{\"marker\": {\"colorbar\": {\"outlinewidth\": 0, \"ticks\": \"\"}}, \"type\": \"scattergeo\"}], \"scattergl\": [{\"marker\": {\"colorbar\": {\"outlinewidth\": 0, \"ticks\": \"\"}}, \"type\": \"scattergl\"}], \"scattermapbox\": [{\"marker\": {\"colorbar\": {\"outlinewidth\": 0, \"ticks\": \"\"}}, \"type\": \"scattermapbox\"}], \"scatterpolar\": [{\"marker\": {\"colorbar\": {\"outlinewidth\": 0, \"ticks\": \"\"}}, \"type\": \"scatterpolar\"}], \"scatterpolargl\": [{\"marker\": {\"colorbar\": {\"outlinewidth\": 0, \"ticks\": \"\"}}, \"type\": \"scatterpolargl\"}], \"scatterternary\": [{\"marker\": {\"colorbar\": {\"outlinewidth\": 0, \"ticks\": \"\"}}, \"type\": \"scatterternary\"}], \"surface\": [{\"colorbar\": {\"outlinewidth\": 0, \"ticks\": \"\"}, \"colorscale\": [[0.0, \"#0d0887\"], [0.1111111111111111, \"#46039f\"], [0.2222222222222222, \"#7201a8\"], [0.3333333333333333, \"#9c179e\"], [0.4444444444444444, \"#bd3786\"], [0.5555555555555556, \"#d8576b\"], [0.6666666666666666, \"#ed7953\"], [0.7777777777777778, \"#fb9f3a\"], [0.8888888888888888, \"#fdca26\"], [1.0, \"#f0f921\"]], \"type\": \"surface\"}], \"table\": [{\"cells\": {\"fill\": {\"color\": \"#EBF0F8\"}, \"line\": {\"color\": \"white\"}}, \"header\": {\"fill\": {\"color\": \"#C8D4E3\"}, \"line\": {\"color\": \"white\"}}, \"type\": \"table\"}]}, \"layout\": {\"annotationdefaults\": {\"arrowcolor\": \"#2a3f5f\", \"arrowhead\": 0, \"arrowwidth\": 1}, \"coloraxis\": {\"colorbar\": {\"outlinewidth\": 0, \"ticks\": \"\"}}, \"colorscale\": {\"diverging\": [[0, \"#8e0152\"], [0.1, \"#c51b7d\"], [0.2, \"#de77ae\"], [0.3, \"#f1b6da\"], [0.4, \"#fde0ef\"], [0.5, \"#f7f7f7\"], [0.6, \"#e6f5d0\"], [0.7, \"#b8e186\"], [0.8, \"#7fbc41\"], [0.9, \"#4d9221\"], [1, \"#276419\"]], \"sequential\": [[0.0, \"#0d0887\"], [0.1111111111111111, \"#46039f\"], [0.2222222222222222, \"#7201a8\"], [0.3333333333333333, \"#9c179e\"], [0.4444444444444444, \"#bd3786\"], [0.5555555555555556, \"#d8576b\"], [0.6666666666666666, \"#ed7953\"], [0.7777777777777778, \"#fb9f3a\"], [0.8888888888888888, \"#fdca26\"], [1.0, \"#f0f921\"]], \"sequentialminus\": [[0.0, \"#0d0887\"], [0.1111111111111111, \"#46039f\"], [0.2222222222222222, \"#7201a8\"], [0.3333333333333333, \"#9c179e\"], [0.4444444444444444, \"#bd3786\"], [0.5555555555555556, \"#d8576b\"], [0.6666666666666666, \"#ed7953\"], [0.7777777777777778, \"#fb9f3a\"], [0.8888888888888888, \"#fdca26\"], [1.0, \"#f0f921\"]]}, \"colorway\": [\"#636efa\", \"#EF553B\", \"#00cc96\", \"#ab63fa\", \"#FFA15A\", \"#19d3f3\", \"#FF6692\", \"#B6E880\", \"#FF97FF\", \"#FECB52\"], \"font\": {\"color\": \"#2a3f5f\"}, \"geo\": {\"bgcolor\": \"white\", \"lakecolor\": \"white\", \"landcolor\": \"#E5ECF6\", \"showlakes\": true, \"showland\": true, \"subunitcolor\": \"white\"}, \"hoverlabel\": {\"align\": \"left\"}, \"hovermode\": \"closest\", \"mapbox\": {\"style\": \"light\"}, \"paper_bgcolor\": \"white\", \"plot_bgcolor\": \"#E5ECF6\", \"polar\": {\"angularaxis\": {\"gridcolor\": \"white\", \"linecolor\": \"white\", \"ticks\": \"\"}, \"bgcolor\": \"#E5ECF6\", \"radialaxis\": {\"gridcolor\": \"white\", \"linecolor\": \"white\", \"ticks\": \"\"}}, \"scene\": {\"xaxis\": {\"backgroundcolor\": \"#E5ECF6\", \"gridcolor\": \"white\", \"gridwidth\": 2, \"linecolor\": \"white\", \"showbackground\": true, \"ticks\": \"\", \"zerolinecolor\": \"white\"}, \"yaxis\": {\"backgroundcolor\": \"#E5ECF6\", \"gridcolor\": \"white\", \"gridwidth\": 2, \"linecolor\": \"white\", \"showbackground\": true, \"ticks\": \"\", \"zerolinecolor\": \"white\"}, \"zaxis\": {\"backgroundcolor\": \"#E5ECF6\", \"gridcolor\": \"white\", \"gridwidth\": 2, \"linecolor\": \"white\", \"showbackground\": true, \"ticks\": \"\", \"zerolinecolor\": \"white\"}}, \"shapedefaults\": {\"line\": {\"color\": \"#2a3f5f\"}}, \"ternary\": {\"aaxis\": {\"gridcolor\": \"white\", \"linecolor\": \"white\", \"ticks\": \"\"}, \"baxis\": {\"gridcolor\": \"white\", \"linecolor\": \"white\", \"ticks\": \"\"}, \"bgcolor\": \"#E5ECF6\", \"caxis\": {\"gridcolor\": \"white\", \"linecolor\": \"white\", \"ticks\": \"\"}}, \"title\": {\"x\": 0.05}, \"xaxis\": {\"automargin\": true, \"gridcolor\": \"white\", \"linecolor\": \"white\", \"ticks\": \"\", \"title\": {\"standoff\": 15}, \"zerolinecolor\": \"white\", \"zerolinewidth\": 2}, \"yaxis\": {\"automargin\": true, \"gridcolor\": \"white\", \"linecolor\": \"white\", \"ticks\": \"\", \"title\": {\"standoff\": 15}, \"zerolinecolor\": \"white\", \"zerolinewidth\": 2}}}, \"title\": {\"text\": \"Top product categories in January,2017\"}, \"xaxis\": {\"anchor\": \"y\", \"domain\": [0.0, 1.0], \"title\": {\"text\": \"product_category_name_english\"}}, \"yaxis\": {\"anchor\": \"x\", \"domain\": [0.0, 1.0], \"title\": {\"text\": \"January,2017\"}}},\n",
       "                        {\"responsive\": true}\n",
       "                    ).then(function(){\n",
       "                            \n",
       "var gd = document.getElementById('5d3e26bf-a167-4b07-bf38-6ba35d7cb41d');\n",
       "var x = new MutationObserver(function (mutations, observer) {{\n",
       "        var display = window.getComputedStyle(gd).display;\n",
       "        if (!display || display === 'none') {{\n",
       "            console.log([gd, 'removed!']);\n",
       "            Plotly.purge(gd);\n",
       "            observer.disconnect();\n",
       "        }}\n",
       "}});\n",
       "\n",
       "// Listen for the removal of the full notebook cells\n",
       "var notebookContainer = gd.closest('#notebook-container');\n",
       "if (notebookContainer) {{\n",
       "    x.observe(notebookContainer, {childList: true});\n",
       "}}\n",
       "\n",
       "// Listen for the clearing of the current output cell\n",
       "var outputEl = gd.closest('.output');\n",
       "if (outputEl) {{\n",
       "    x.observe(outputEl, {childList: true});\n",
       "}}\n",
       "\n",
       "                        })\n",
       "                };\n",
       "                });\n",
       "            </script>\n",
       "        </div>"
      ]
     },
     "metadata": {},
     "output_type": "display_data"
    }
   ],
   "source": [
    "px.bar(dff_rev_jan, x='product_category_name_english', y='January,2017', title= 'Top product categories in January,2017')"
   ]
  }
 ],
 "metadata": {
  "hide_code_all_hidden": false,
  "kernelspec": {
   "display_name": "Python 3",
   "language": "python",
   "name": "python3"
  },
  "language_info": {
   "codemirror_mode": {
    "name": "ipython",
    "version": 3
   },
   "file_extension": ".py",
   "mimetype": "text/x-python",
   "name": "python",
   "nbconvert_exporter": "python",
   "pygments_lexer": "ipython3",
   "version": "3.7.0"
  }
 },
 "nbformat": 4,
 "nbformat_minor": 2
}
